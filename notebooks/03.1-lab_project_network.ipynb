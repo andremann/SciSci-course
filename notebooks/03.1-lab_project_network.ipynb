{
 "cells": [
  {
   "cell_type": "code",
   "execution_count": 1,
   "metadata": {},
   "outputs": [],
   "source": [
    "import numpy as np\n",
    "import pandas as pd\n",
    "pd.set_option('display.max_columns', None)\n",
    "pd.set_option('display.max_colwidth', 50)\n",
    "\n",
    "# import networkx as nx\n",
    "# from networkx.algorithms import bipartite\n",
    "import igraph as ig\n",
    "\n",
    "import pycountry_convert\n",
    "\n",
    "import matplotlib.pyplot as plt"
   ]
  },
  {
   "attachments": {},
   "cell_type": "markdown",
   "metadata": {},
   "source": [
    "# Data preparation"
   ]
  },
  {
   "cell_type": "code",
   "execution_count": 4,
   "metadata": {},
   "outputs": [
    {
     "data": {
      "text/html": [
       "<div>\n",
       "<style scoped>\n",
       "    .dataframe tbody tr th:only-of-type {\n",
       "        vertical-align: middle;\n",
       "    }\n",
       "\n",
       "    .dataframe tbody tr th {\n",
       "        vertical-align: top;\n",
       "    }\n",
       "\n",
       "    .dataframe thead th {\n",
       "        text-align: right;\n",
       "    }\n",
       "</style>\n",
       "<table border=\"1\" class=\"dataframe\">\n",
       "  <thead>\n",
       "    <tr style=\"text-align: right;\">\n",
       "      <th></th>\n",
       "      <th>id</th>\n",
       "      <th>acronym</th>\n",
       "      <th>status</th>\n",
       "      <th>title</th>\n",
       "      <th>startDate</th>\n",
       "      <th>endDate</th>\n",
       "      <th>totalCost</th>\n",
       "      <th>ecMaxContribution</th>\n",
       "      <th>legalBasis</th>\n",
       "      <th>topics</th>\n",
       "      <th>ecSignatureDate</th>\n",
       "      <th>frameworkProgramme</th>\n",
       "      <th>masterCall</th>\n",
       "      <th>subCall</th>\n",
       "      <th>fundingScheme</th>\n",
       "      <th>nature</th>\n",
       "      <th>objective</th>\n",
       "      <th>contentUpdateDate</th>\n",
       "      <th>rcn</th>\n",
       "      <th>grantDoi</th>\n",
       "    </tr>\n",
       "  </thead>\n",
       "  <tbody>\n",
       "    <tr>\n",
       "      <th>0</th>\n",
       "      <td>101095387</td>\n",
       "      <td>AISym4MED</td>\n",
       "      <td>SIGNED</td>\n",
       "      <td>Synthetic and scalable data platform for medic...</td>\n",
       "      <td>2022-12-01</td>\n",
       "      <td>2026-11-30</td>\n",
       "      <td>6341765</td>\n",
       "      <td>6341765</td>\n",
       "      <td>HORIZON.2.1</td>\n",
       "      <td>HORIZON-HLTH-2022-IND-13-02</td>\n",
       "      <td>2022-11-22</td>\n",
       "      <td>HORIZON</td>\n",
       "      <td>HORIZON-HLTH-2022-IND-13</td>\n",
       "      <td>HORIZON-HLTH-2022-IND-13</td>\n",
       "      <td>RIA</td>\n",
       "      <td>NaN</td>\n",
       "      <td>AISym4Med aims at developing a platform that w...</td>\n",
       "      <td>2022-12-30 17:42:45</td>\n",
       "      <td>244110</td>\n",
       "      <td>10.3030/101095387</td>\n",
       "    </tr>\n",
       "    <tr>\n",
       "      <th>1</th>\n",
       "      <td>101062897</td>\n",
       "      <td>IMPROVE</td>\n",
       "      <td>SIGNED</td>\n",
       "      <td>IMaging PROstate cancer using ViscoElastic bio...</td>\n",
       "      <td>2023-09-01</td>\n",
       "      <td>2025-08-31</td>\n",
       "      <td>0</td>\n",
       "      <td>181152,96</td>\n",
       "      <td>HORIZON.1.2</td>\n",
       "      <td>HORIZON-MSCA-2021-PF-01-01</td>\n",
       "      <td>2022-06-30</td>\n",
       "      <td>HORIZON</td>\n",
       "      <td>HORIZON-MSCA-2021-PF-01</td>\n",
       "      <td>HORIZON-MSCA-2021-PF-01</td>\n",
       "      <td>MSCA-PF</td>\n",
       "      <td>NaN</td>\n",
       "      <td>IMPROVE aims to demonstrate the potentiality o...</td>\n",
       "      <td>2022-08-26 02:24:17</td>\n",
       "      <td>240147</td>\n",
       "      <td>10.3030/101062897</td>\n",
       "    </tr>\n",
       "    <tr>\n",
       "      <th>2</th>\n",
       "      <td>101044731</td>\n",
       "      <td>SAINTBARTH</td>\n",
       "      <td>SIGNED</td>\n",
       "      <td>Slavery, Abolition and Archipelagic Connection...</td>\n",
       "      <td>2024-01-01</td>\n",
       "      <td>2028-12-31</td>\n",
       "      <td>1992925</td>\n",
       "      <td>1992925</td>\n",
       "      <td>HORIZON.1.1</td>\n",
       "      <td>ERC-2021-COG</td>\n",
       "      <td>2022-07-11</td>\n",
       "      <td>HORIZON</td>\n",
       "      <td>ERC-2021-COG</td>\n",
       "      <td>ERC-2021-COG</td>\n",
       "      <td>HORIZON-AG</td>\n",
       "      <td>NaN</td>\n",
       "      <td>Surveys and datasets of the trans-Atlantic sla...</td>\n",
       "      <td>2022-08-26 14:59:15</td>\n",
       "      <td>240177</td>\n",
       "      <td>10.3030/101044731</td>\n",
       "    </tr>\n",
       "    <tr>\n",
       "      <th>3</th>\n",
       "      <td>101065876</td>\n",
       "      <td>TEMP-MOMO</td>\n",
       "      <td>SIGNED</td>\n",
       "      <td>Drivers of spatiotemporal variation in tempera...</td>\n",
       "      <td>2022-09-01</td>\n",
       "      <td>2024-08-31</td>\n",
       "      <td>0</td>\n",
       "      <td>195914,88</td>\n",
       "      <td>HORIZON.1.2</td>\n",
       "      <td>HORIZON-MSCA-2021-PF-01-01</td>\n",
       "      <td>2022-07-13</td>\n",
       "      <td>HORIZON</td>\n",
       "      <td>HORIZON-MSCA-2021-PF-01</td>\n",
       "      <td>HORIZON-MSCA-2021-PF-01</td>\n",
       "      <td>HORIZON-AG-UN</td>\n",
       "      <td>NaN</td>\n",
       "      <td>Europe emerges as a major climate warming hots...</td>\n",
       "      <td>2022-08-26 15:30:46</td>\n",
       "      <td>240278</td>\n",
       "      <td>10.3030/101065876</td>\n",
       "    </tr>\n",
       "    <tr>\n",
       "      <th>4</th>\n",
       "      <td>101057389</td>\n",
       "      <td>CINDERELLA</td>\n",
       "      <td>SIGNED</td>\n",
       "      <td>Clinical Validation of an AI-based approach to...</td>\n",
       "      <td>2022-06-01</td>\n",
       "      <td>2026-05-31</td>\n",
       "      <td>5379050</td>\n",
       "      <td>5378299</td>\n",
       "      <td>HORIZON.2.1</td>\n",
       "      <td>HORIZON-HLTH-2021-DISEASE-04-04</td>\n",
       "      <td>2022-05-23</td>\n",
       "      <td>HORIZON</td>\n",
       "      <td>HORIZON-HLTH-2021-DISEASE-04</td>\n",
       "      <td>HORIZON-HLTH-2021-DISEASE-04</td>\n",
       "      <td>RIA</td>\n",
       "      <td>NaN</td>\n",
       "      <td>Breast cancer is the most commonly diagnosed c...</td>\n",
       "      <td>2022-09-04 13:43:33</td>\n",
       "      <td>241461</td>\n",
       "      <td>10.3030/101057389</td>\n",
       "    </tr>\n",
       "  </tbody>\n",
       "</table>\n",
       "</div>"
      ],
      "text/plain": [
       "          id     acronym  status  \\\n",
       "0  101095387   AISym4MED  SIGNED   \n",
       "1  101062897     IMPROVE  SIGNED   \n",
       "2  101044731  SAINTBARTH  SIGNED   \n",
       "3  101065876   TEMP-MOMO  SIGNED   \n",
       "4  101057389  CINDERELLA  SIGNED   \n",
       "\n",
       "                                               title   startDate     endDate  \\\n",
       "0  Synthetic and scalable data platform for medic...  2022-12-01  2026-11-30   \n",
       "1  IMaging PROstate cancer using ViscoElastic bio...  2023-09-01  2025-08-31   \n",
       "2  Slavery, Abolition and Archipelagic Connection...  2024-01-01  2028-12-31   \n",
       "3  Drivers of spatiotemporal variation in tempera...  2022-09-01  2024-08-31   \n",
       "4  Clinical Validation of an AI-based approach to...  2022-06-01  2026-05-31   \n",
       "\n",
       "  totalCost ecMaxContribution   legalBasis                           topics  \\\n",
       "0   6341765           6341765  HORIZON.2.1      HORIZON-HLTH-2022-IND-13-02   \n",
       "1         0         181152,96  HORIZON.1.2       HORIZON-MSCA-2021-PF-01-01   \n",
       "2   1992925           1992925  HORIZON.1.1                     ERC-2021-COG   \n",
       "3         0         195914,88  HORIZON.1.2       HORIZON-MSCA-2021-PF-01-01   \n",
       "4   5379050           5378299  HORIZON.2.1  HORIZON-HLTH-2021-DISEASE-04-04   \n",
       "\n",
       "  ecSignatureDate frameworkProgramme                    masterCall  \\\n",
       "0      2022-11-22            HORIZON      HORIZON-HLTH-2022-IND-13   \n",
       "1      2022-06-30            HORIZON       HORIZON-MSCA-2021-PF-01   \n",
       "2      2022-07-11            HORIZON                  ERC-2021-COG   \n",
       "3      2022-07-13            HORIZON       HORIZON-MSCA-2021-PF-01   \n",
       "4      2022-05-23            HORIZON  HORIZON-HLTH-2021-DISEASE-04   \n",
       "\n",
       "                        subCall  fundingScheme  nature  \\\n",
       "0      HORIZON-HLTH-2022-IND-13            RIA     NaN   \n",
       "1       HORIZON-MSCA-2021-PF-01        MSCA-PF     NaN   \n",
       "2                  ERC-2021-COG     HORIZON-AG     NaN   \n",
       "3       HORIZON-MSCA-2021-PF-01  HORIZON-AG-UN     NaN   \n",
       "4  HORIZON-HLTH-2021-DISEASE-04            RIA     NaN   \n",
       "\n",
       "                                           objective    contentUpdateDate  \\\n",
       "0  AISym4Med aims at developing a platform that w...  2022-12-30 17:42:45   \n",
       "1  IMPROVE aims to demonstrate the potentiality o...  2022-08-26 02:24:17   \n",
       "2  Surveys and datasets of the trans-Atlantic sla...  2022-08-26 14:59:15   \n",
       "3  Europe emerges as a major climate warming hots...  2022-08-26 15:30:46   \n",
       "4  Breast cancer is the most commonly diagnosed c...  2022-09-04 13:43:33   \n",
       "\n",
       "      rcn           grantDoi  \n",
       "0  244110  10.3030/101095387  \n",
       "1  240147  10.3030/101062897  \n",
       "2  240177  10.3030/101044731  \n",
       "3  240278  10.3030/101065876  \n",
       "4  241461  10.3030/101057389  "
      ]
     },
     "execution_count": 4,
     "metadata": {},
     "output_type": "execute_result"
    }
   ],
   "source": [
    "projects = pd.read_csv('../data/raw/cordis-HORIZONprojects-csv/csv/project.csv', delimiter=';')\n",
    "projects.head()"
   ]
  },
  {
   "cell_type": "code",
   "execution_count": 5,
   "metadata": {},
   "outputs": [
    {
     "data": {
      "text/html": [
       "<div>\n",
       "<style scoped>\n",
       "    .dataframe tbody tr th:only-of-type {\n",
       "        vertical-align: middle;\n",
       "    }\n",
       "\n",
       "    .dataframe tbody tr th {\n",
       "        vertical-align: top;\n",
       "    }\n",
       "\n",
       "    .dataframe thead th {\n",
       "        text-align: right;\n",
       "    }\n",
       "</style>\n",
       "<table border=\"1\" class=\"dataframe\">\n",
       "  <thead>\n",
       "    <tr style=\"text-align: right;\">\n",
       "      <th></th>\n",
       "      <th>projectID</th>\n",
       "      <th>projectAcronym</th>\n",
       "      <th>organisationID</th>\n",
       "      <th>vatNumber</th>\n",
       "      <th>name</th>\n",
       "      <th>shortName</th>\n",
       "      <th>SME</th>\n",
       "      <th>activityType</th>\n",
       "      <th>street</th>\n",
       "      <th>postCode</th>\n",
       "      <th>city</th>\n",
       "      <th>country</th>\n",
       "      <th>nutsCode</th>\n",
       "      <th>geolocation</th>\n",
       "      <th>organizationURL</th>\n",
       "      <th>contactForm</th>\n",
       "      <th>contentUpdateDate</th>\n",
       "      <th>rcn</th>\n",
       "      <th>order</th>\n",
       "      <th>role</th>\n",
       "      <th>ecContribution</th>\n",
       "      <th>netEcContribution</th>\n",
       "      <th>totalCost</th>\n",
       "      <th>endOfParticipation</th>\n",
       "      <th>active</th>\n",
       "    </tr>\n",
       "  </thead>\n",
       "  <tbody>\n",
       "    <tr>\n",
       "      <th>0</th>\n",
       "      <td>101095387</td>\n",
       "      <td>AISym4MED</td>\n",
       "      <td>908114874</td>\n",
       "      <td>BE0692797754</td>\n",
       "      <td>ZABALA BRUSSELS</td>\n",
       "      <td>ZABALA BRUSSELS</td>\n",
       "      <td>True</td>\n",
       "      <td>PRC</td>\n",
       "      <td>RUE BELLIARD 20</td>\n",
       "      <td>1040</td>\n",
       "      <td>BRUXELLES</td>\n",
       "      <td>BE</td>\n",
       "      <td>NaN</td>\n",
       "      <td>50.840092,4.3814743</td>\n",
       "      <td>NaN</td>\n",
       "      <td>https://ec.europa.eu/info/funding-tenders/oppo...</td>\n",
       "      <td>2022-12-30 17:42:45</td>\n",
       "      <td>1954294</td>\n",
       "      <td>5</td>\n",
       "      <td>participant</td>\n",
       "      <td>464375.0</td>\n",
       "      <td>464375.0</td>\n",
       "      <td>464375</td>\n",
       "      <td>False</td>\n",
       "      <td>NaN</td>\n",
       "    </tr>\n",
       "    <tr>\n",
       "      <th>1</th>\n",
       "      <td>101095387</td>\n",
       "      <td>AISym4MED</td>\n",
       "      <td>900973055</td>\n",
       "      <td>FI29362646</td>\n",
       "      <td>SAIDOT OY</td>\n",
       "      <td>SAIDOT</td>\n",
       "      <td>True</td>\n",
       "      <td>PRC</td>\n",
       "      <td>TEKNIIKANTIE 2</td>\n",
       "      <td>02150</td>\n",
       "      <td>Espoo</td>\n",
       "      <td>FI</td>\n",
       "      <td>NaN</td>\n",
       "      <td>60.1668875,24.7488936</td>\n",
       "      <td>NaN</td>\n",
       "      <td>https://ec.europa.eu/info/funding-tenders/oppo...</td>\n",
       "      <td>2022-12-30 17:42:45</td>\n",
       "      <td>1965161</td>\n",
       "      <td>11</td>\n",
       "      <td>participant</td>\n",
       "      <td>548750.0</td>\n",
       "      <td>548750.0</td>\n",
       "      <td>548750</td>\n",
       "      <td>False</td>\n",
       "      <td>NaN</td>\n",
       "    </tr>\n",
       "    <tr>\n",
       "      <th>2</th>\n",
       "      <td>101095387</td>\n",
       "      <td>AISym4MED</td>\n",
       "      <td>991228063</td>\n",
       "      <td>BE0890217005</td>\n",
       "      <td>TIME.LEX</td>\n",
       "      <td>time.lex</td>\n",
       "      <td>True</td>\n",
       "      <td>PRC</td>\n",
       "      <td>JOSEPH STEVENSSTRAAT 7</td>\n",
       "      <td>1000</td>\n",
       "      <td>BRUSSEL</td>\n",
       "      <td>BE</td>\n",
       "      <td>NaN</td>\n",
       "      <td>50.8413225,4.3524748</td>\n",
       "      <td>NaN</td>\n",
       "      <td>https://ec.europa.eu/info/funding-tenders/oppo...</td>\n",
       "      <td>2022-12-30 17:42:45</td>\n",
       "      <td>2349568</td>\n",
       "      <td>7</td>\n",
       "      <td>participant</td>\n",
       "      <td>417187.5</td>\n",
       "      <td>417187.5</td>\n",
       "      <td>417187,5</td>\n",
       "      <td>False</td>\n",
       "      <td>NaN</td>\n",
       "    </tr>\n",
       "    <tr>\n",
       "      <th>3</th>\n",
       "      <td>101095387</td>\n",
       "      <td>AISym4MED</td>\n",
       "      <td>999993468</td>\n",
       "      <td>GB649926678</td>\n",
       "      <td>IMPERIAL COLLEGE OF SCIENCE TECHNOLOGY AND MED...</td>\n",
       "      <td>Imperial</td>\n",
       "      <td>False</td>\n",
       "      <td>HES</td>\n",
       "      <td>SOUTH KENSINGTON CAMPUS EXHIBITION ROAD</td>\n",
       "      <td>SW7 2AZ</td>\n",
       "      <td>LONDON</td>\n",
       "      <td>UK</td>\n",
       "      <td>NaN</td>\n",
       "      <td>51.5073219,-0.1276473</td>\n",
       "      <td>http://www.imperial.ac.uk</td>\n",
       "      <td>https://ec.europa.eu/info/funding-tenders/oppo...</td>\n",
       "      <td>2022-12-30 17:42:45</td>\n",
       "      <td>1905566</td>\n",
       "      <td>14</td>\n",
       "      <td>associatedPartner</td>\n",
       "      <td>NaN</td>\n",
       "      <td>0.0</td>\n",
       "      <td>NaN</td>\n",
       "      <td>False</td>\n",
       "      <td>NaN</td>\n",
       "    </tr>\n",
       "    <tr>\n",
       "      <th>4</th>\n",
       "      <td>101095387</td>\n",
       "      <td>AISym4MED</td>\n",
       "      <td>974142483</td>\n",
       "      <td>ESA50086412</td>\n",
       "      <td>INSTRUMENTACION Y COMPONENTES SA</td>\n",
       "      <td>NaN</td>\n",
       "      <td>False</td>\n",
       "      <td>PRC</td>\n",
       "      <td>CALLE ALAUN 8 PLA ZA</td>\n",
       "      <td>50197</td>\n",
       "      <td>ZARAGOZA</td>\n",
       "      <td>ES</td>\n",
       "      <td>NaN</td>\n",
       "      <td>41.6410997,-0.9956188</td>\n",
       "      <td>www.inycom.es</td>\n",
       "      <td>https://ec.europa.eu/info/funding-tenders/oppo...</td>\n",
       "      <td>2022-12-30 17:42:45</td>\n",
       "      <td>2054577</td>\n",
       "      <td>2</td>\n",
       "      <td>participant</td>\n",
       "      <td>1205000.0</td>\n",
       "      <td>1205000.0</td>\n",
       "      <td>1205000</td>\n",
       "      <td>False</td>\n",
       "      <td>NaN</td>\n",
       "    </tr>\n",
       "  </tbody>\n",
       "</table>\n",
       "</div>"
      ],
      "text/plain": [
       "   projectID projectAcronym  organisationID     vatNumber  \\\n",
       "0  101095387      AISym4MED       908114874  BE0692797754   \n",
       "1  101095387      AISym4MED       900973055    FI29362646   \n",
       "2  101095387      AISym4MED       991228063  BE0890217005   \n",
       "3  101095387      AISym4MED       999993468   GB649926678   \n",
       "4  101095387      AISym4MED       974142483   ESA50086412   \n",
       "\n",
       "                                                name        shortName    SME  \\\n",
       "0                                    ZABALA BRUSSELS  ZABALA BRUSSELS   True   \n",
       "1                                          SAIDOT OY           SAIDOT   True   \n",
       "2                                           TIME.LEX         time.lex   True   \n",
       "3  IMPERIAL COLLEGE OF SCIENCE TECHNOLOGY AND MED...         Imperial  False   \n",
       "4                   INSTRUMENTACION Y COMPONENTES SA              NaN  False   \n",
       "\n",
       "  activityType                                   street postCode       city  \\\n",
       "0          PRC                          RUE BELLIARD 20     1040  BRUXELLES   \n",
       "1          PRC                           TEKNIIKANTIE 2    02150      Espoo   \n",
       "2          PRC                   JOSEPH STEVENSSTRAAT 7     1000    BRUSSEL   \n",
       "3          HES  SOUTH KENSINGTON CAMPUS EXHIBITION ROAD  SW7 2AZ     LONDON   \n",
       "4          PRC                     CALLE ALAUN 8 PLA ZA    50197   ZARAGOZA   \n",
       "\n",
       "  country  nutsCode            geolocation            organizationURL  \\\n",
       "0      BE       NaN    50.840092,4.3814743                        NaN   \n",
       "1      FI       NaN  60.1668875,24.7488936                        NaN   \n",
       "2      BE       NaN   50.8413225,4.3524748                        NaN   \n",
       "3      UK       NaN  51.5073219,-0.1276473  http://www.imperial.ac.uk   \n",
       "4      ES       NaN  41.6410997,-0.9956188              www.inycom.es   \n",
       "\n",
       "                                         contactForm    contentUpdateDate  \\\n",
       "0  https://ec.europa.eu/info/funding-tenders/oppo...  2022-12-30 17:42:45   \n",
       "1  https://ec.europa.eu/info/funding-tenders/oppo...  2022-12-30 17:42:45   \n",
       "2  https://ec.europa.eu/info/funding-tenders/oppo...  2022-12-30 17:42:45   \n",
       "3  https://ec.europa.eu/info/funding-tenders/oppo...  2022-12-30 17:42:45   \n",
       "4  https://ec.europa.eu/info/funding-tenders/oppo...  2022-12-30 17:42:45   \n",
       "\n",
       "       rcn  order               role  ecContribution  netEcContribution  \\\n",
       "0  1954294      5        participant        464375.0           464375.0   \n",
       "1  1965161     11        participant        548750.0           548750.0   \n",
       "2  2349568      7        participant        417187.5           417187.5   \n",
       "3  1905566     14  associatedPartner             NaN                0.0   \n",
       "4  2054577      2        participant       1205000.0          1205000.0   \n",
       "\n",
       "  totalCost  endOfParticipation  active  \n",
       "0    464375               False     NaN  \n",
       "1    548750               False     NaN  \n",
       "2  417187,5               False     NaN  \n",
       "3       NaN               False     NaN  \n",
       "4   1205000               False     NaN  "
      ]
     },
     "execution_count": 5,
     "metadata": {},
     "output_type": "execute_result"
    }
   ],
   "source": [
    "organisations = pd.read_csv('../data/raw/cordis-HORIZONprojects-csv/csv/organization.csv', delimiter=';')\n",
    "organisations.head()"
   ]
  },
  {
   "attachments": {},
   "cell_type": "markdown",
   "metadata": {},
   "source": [
    "# Data analysis"
   ]
  },
  {
   "cell_type": "code",
   "execution_count": 17,
   "metadata": {},
   "outputs": [
    {
     "data": {
      "text/plain": [
       "Index(['projectID', 'projectAcronym', 'organisationID', 'vatNumber', 'name',\n",
       "       'shortName', 'SME', 'activityType', 'street', 'postCode', 'city',\n",
       "       'country', 'nutsCode', 'geolocation', 'organizationURL', 'contactForm',\n",
       "       'contentUpdateDate', 'rcn', 'order', 'role', 'ecContribution',\n",
       "       'netEcContribution', 'totalCost', 'endOfParticipation', 'active'],\n",
       "      dtype='object')"
      ]
     },
     "execution_count": 17,
     "metadata": {},
     "output_type": "execute_result"
    }
   ],
   "source": [
    "organisations.columns"
   ]
  },
  {
   "cell_type": "code",
   "execution_count": 26,
   "metadata": {},
   "outputs": [
    {
     "data": {
      "text/plain": [
       "organisationID\n",
       "999997930    385\n",
       "999984059    238\n",
       "999991722    215\n",
       "999979500    188\n",
       "999991334    178\n",
       "            ... \n",
       "909600041      1\n",
       "909604794      1\n",
       "909606734      1\n",
       "909617986      1\n",
       "936473600      1\n",
       "Name: projectID, Length: 14393, dtype: int64"
      ]
     },
     "execution_count": 26,
     "metadata": {},
     "output_type": "execute_result"
    }
   ],
   "source": [
    "organisations.groupby('organisationID')['projectID'].count().sort_values(ascending=False)"
   ]
  },
  {
   "cell_type": "code",
   "execution_count": 46,
   "metadata": {},
   "outputs": [
    {
     "data": {
      "text/plain": [
       "array([[908114874, 'ZABALA BRUSSELS', 101095387, 'AISym4MED'],\n",
       "       [900973055, 'SAIDOT OY', 101095387, 'AISym4MED'],\n",
       "       [991228063, 'TIME.LEX', 101095387, 'AISym4MED'],\n",
       "       ...,\n",
       "       [999990946, 'KUNGLIGA TEKNISKA HOEGSKOLAN', 101045453, 'fitsCAN'],\n",
       "       [999522921, 'REGION STOCKHOLM', 101045453, 'fitsCAN'],\n",
       "       [969818320,\n",
       "        'NATIONAL SCIENCE CENTER KHARKOV INSTITUTE OF PHYSICS AND TECHNOLOGY',\n",
       "        101072693, 'UAinEuratom21']], dtype=object)"
      ]
     },
     "execution_count": 46,
     "metadata": {},
     "output_type": "execute_result"
    }
   ],
   "source": [
    "organisations[['organisationID', 'name', 'projectID', 'projectAcronym']].values"
   ]
  },
  {
   "cell_type": "code",
   "execution_count": 51,
   "metadata": {},
   "outputs": [],
   "source": [
    "G = ig.Graph.TupleList(\n",
    "      edges=organisations[['organisationID', 'projectID']].values,\n",
    "      directed=False\n",
    "      )"
   ]
  },
  {
   "cell_type": "code",
   "execution_count": 52,
   "metadata": {},
   "outputs": [
    {
     "data": {
      "text/plain": [
       "True"
      ]
     },
     "execution_count": 52,
     "metadata": {},
     "output_type": "execute_result"
    }
   ],
   "source": [
    "is_bipartite, types = G.is_bipartite(return_types = True)\n",
    "is_bipartite"
   ]
  },
  {
   "cell_type": "code",
   "execution_count": 53,
   "metadata": {},
   "outputs": [
    {
     "data": {
      "text/plain": [
       "False"
      ]
     },
     "execution_count": 53,
     "metadata": {},
     "output_type": "execute_result"
    }
   ],
   "source": [
    "types[0]"
   ]
  },
  {
   "cell_type": "code",
   "execution_count": 55,
   "metadata": {},
   "outputs": [
    {
     "data": {
      "text/plain": [
       "igraph.Vertex(<igraph.Graph object at 0x1429d6040>, 0, {'name': 908114874})"
      ]
     },
     "execution_count": 55,
     "metadata": {},
     "output_type": "execute_result"
    }
   ],
   "source": [
    "G.vs[0]"
   ]
  },
  {
   "cell_type": "code",
   "execution_count": 56,
   "metadata": {},
   "outputs": [],
   "source": [
    "G_org_projection = G.bipartite_projection(types=types, which=False)"
   ]
  },
  {
   "cell_type": "code",
   "execution_count": 57,
   "metadata": {},
   "outputs": [
    {
     "data": {
      "text/plain": [
       "'IGRAPH UNW- 14393 347142 -- \\n+ attr: name (v), weight (e)'"
      ]
     },
     "execution_count": 57,
     "metadata": {},
     "output_type": "execute_result"
    }
   ],
   "source": [
    "G_org_projection.summary()"
   ]
  },
  {
   "cell_type": "code",
   "execution_count": 58,
   "metadata": {},
   "outputs": [
    {
     "data": {
      "text/plain": [
       "False"
      ]
     },
     "execution_count": 58,
     "metadata": {},
     "output_type": "execute_result"
    }
   ],
   "source": [
    "G_org_projection.is_connected()"
   ]
  },
  {
   "cell_type": "code",
   "execution_count": 62,
   "metadata": {},
   "outputs": [],
   "source": [
    "components = G_org_projection.connected_components()"
   ]
  },
  {
   "cell_type": "code",
   "execution_count": 64,
   "metadata": {},
   "outputs": [],
   "source": [
    "H = G_org_projection.connected_components().giant()"
   ]
  },
  {
   "cell_type": "code",
   "execution_count": 65,
   "metadata": {},
   "outputs": [
    {
     "data": {
      "text/plain": [
       "'IGRAPH UNW- 14028 347103 -- \\n+ attr: name (v), weight (e)'"
      ]
     },
     "execution_count": 65,
     "metadata": {},
     "output_type": "execute_result"
    }
   ],
   "source": [
    "H.summary()"
   ]
  },
  {
   "cell_type": "code",
   "execution_count": 66,
   "metadata": {},
   "outputs": [
    {
     "data": {
      "text/plain": [
       "69.60059538576036"
      ]
     },
     "execution_count": 66,
     "metadata": {},
     "output_type": "execute_result"
    }
   ],
   "source": [
    "H.vcount() / G.vcount() * 100"
   ]
  },
  {
   "cell_type": "code",
   "execution_count": 67,
   "metadata": {},
   "outputs": [
    {
     "data": {
      "text/plain": [
       "igraph.Vertex(<igraph.Graph object at 0x1429d6040>, 0, {'name': 908114874})"
      ]
     },
     "execution_count": 67,
     "metadata": {},
     "output_type": "execute_result"
    }
   ],
   "source": [
    "G.vs[0]"
   ]
  },
  {
   "cell_type": "code",
   "execution_count": null,
   "metadata": {},
   "outputs": [],
   "source": []
  }
 ],
 "metadata": {
  "kernelspec": {
   "display_name": "Python 3",
   "language": "python",
   "name": "python3"
  },
  "language_info": {
   "codemirror_mode": {
    "name": "ipython",
    "version": 3
   },
   "file_extension": ".py",
   "mimetype": "text/x-python",
   "name": "python",
   "nbconvert_exporter": "python",
   "pygments_lexer": "ipython3",
   "version": "3.9.12"
  }
 },
 "nbformat": 4,
 "nbformat_minor": 2
}
