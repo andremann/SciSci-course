{
 "cells": [
  {
   "cell_type": "code",
   "execution_count": null,
   "metadata": {},
   "outputs": [],
   "source": [
    "import numpy as np\n",
    "import pandas as pd\n",
    "\n",
    "import igraph as ig\n",
    "\n",
    "import matplotlib.pyplot as plt\n",
    "plt.rcParams['figure.figsize'] = [10, 10]"
   ]
  },
  {
   "attachments": {},
   "cell_type": "markdown",
   "metadata": {},
   "source": [
    "# Data preparation"
   ]
  },
  {
   "attachments": {},
   "cell_type": "markdown",
   "metadata": {},
   "source": [
    "Let's load the data. Pick one of the `cordis` datasets; you should have some folders under `data/raw`. Go check them."
   ]
  },
  {
   "cell_type": "code",
   "execution_count": null,
   "metadata": {},
   "outputs": [],
   "source": [
    "projects = pd.read_csv('../data/raw/cordis-HORIZONprojects-csv/csv/project.csv', delimiter=';')\n",
    "projects.head()"
   ]
  },
  {
   "cell_type": "code",
   "execution_count": null,
   "metadata": {},
   "outputs": [],
   "source": [
    "organisations = pd.read_csv('../data/raw/cordis-HORIZONprojects-csv/csv/organization.csv', delimiter=';')\n",
    "organisations.head()"
   ]
  },
  {
   "attachments": {},
   "cell_type": "markdown",
   "metadata": {},
   "source": [
    "# Data analysis"
   ]
  },
  {
   "cell_type": "code",
   "execution_count": null,
   "metadata": {},
   "outputs": [],
   "source": [
    "organisations.columns"
   ]
  },
  {
   "cell_type": "code",
   "execution_count": null,
   "metadata": {},
   "outputs": [],
   "source": [
    "organisations.groupby('organisationID')['projectID'].count().sort_values(ascending=False)\n",
    "# Same as organisations.organisationID.value_counts()"
   ]
  },
  {
   "attachments": {},
   "cell_type": "markdown",
   "metadata": {},
   "source": [
    "Let's check for null values in relevant columns"
   ]
  },
  {
   "cell_type": "code",
   "execution_count": null,
   "metadata": {},
   "outputs": [],
   "source": [
    "organisations[['organisationID', 'name', 'projectID', 'projectAcronym']].isna().sum()"
   ]
  },
  {
   "cell_type": "code",
   "execution_count": null,
   "metadata": {},
   "outputs": [],
   "source": [
    "organisations[['organisationID', 'name', 'projectID', 'projectAcronym']].describe(include='all')"
   ]
  },
  {
   "attachments": {},
   "cell_type": "markdown",
   "metadata": {},
   "source": [
    "Why are there `NaN` values in the report above? (Hint: check the manual of `describe`.)"
   ]
  },
  {
   "attachments": {},
   "cell_type": "markdown",
   "metadata": {},
   "source": [
    "**Task:** Which are the top-10 organisations with more projects?"
   ]
  },
  {
   "cell_type": "code",
   "execution_count": null,
   "metadata": {},
   "outputs": [],
   "source": []
  },
  {
   "attachments": {},
   "cell_type": "markdown",
   "metadata": {},
   "source": [
    "**Task:** Which are the top-10 funded organisations? (aggregate over `ecContribution`)"
   ]
  },
  {
   "cell_type": "code",
   "execution_count": null,
   "metadata": {},
   "outputs": [],
   "source": []
  },
  {
   "attachments": {},
   "cell_type": "markdown",
   "metadata": {},
   "source": [
    "**Task:** can you do both in one shot using the `agg()` function? Check the manual."
   ]
  },
  {
   "cell_type": "code",
   "execution_count": null,
   "metadata": {},
   "outputs": [],
   "source": []
  },
  {
   "attachments": {},
   "cell_type": "markdown",
   "metadata": {},
   "source": [
    "## Building a network"
   ]
  },
  {
   "attachments": {},
   "cell_type": "markdown",
   "metadata": {},
   "source": [
    "First, let's find the relevant columns we can use for contructing the network"
   ]
  },
  {
   "cell_type": "code",
   "execution_count": null,
   "metadata": {},
   "outputs": [],
   "source": [
    "organisations[['organisationID', 'name', 'country', 'projectID', 'projectAcronym']].values"
   ]
  },
  {
   "attachments": {},
   "cell_type": "markdown",
   "metadata": {},
   "source": [
    "First, let's try using the organisation name and the project acronym"
   ]
  },
  {
   "cell_type": "code",
   "execution_count": null,
   "metadata": {},
   "outputs": [],
   "source": [
    "G = ig.Graph.TupleList(\n",
    "      edges=organisations[['name', 'projectAcronym']].values,\n",
    "      directed=False\n",
    "      )"
   ]
  },
  {
   "cell_type": "code",
   "execution_count": null,
   "metadata": {},
   "outputs": [],
   "source": [
    "is_bipartite, types = G.is_bipartite(return_types = True)\n",
    "is_bipartite"
   ]
  },
  {
   "attachments": {},
   "cell_type": "markdown",
   "metadata": {},
   "source": [
    "Why is it not bipartite?"
   ]
  },
  {
   "attachments": {},
   "cell_type": "markdown",
   "metadata": {},
   "source": [
    "Maybe it is better to use both the ids for organisation and a projects"
   ]
  },
  {
   "cell_type": "code",
   "execution_count": null,
   "metadata": {},
   "outputs": [],
   "source": [
    "G = ig.Graph.TupleList(\n",
    "      edges=organisations[['organisationID', 'projectID']].values,\n",
    "      directed=False,\n",
    "      vertex_name_attr='id',\n",
    "      )"
   ]
  },
  {
   "attachments": {},
   "cell_type": "markdown",
   "metadata": {},
   "source": [
    "Is it ok now?"
   ]
  },
  {
   "cell_type": "code",
   "execution_count": null,
   "metadata": {},
   "outputs": [],
   "source": [
    "is_bipartite, types = G.is_bipartite(return_types = True)\n",
    "is_bipartite"
   ]
  },
  {
   "attachments": {},
   "cell_type": "markdown",
   "metadata": {},
   "source": [
    "Ok, not let us prepare for the projection. Check node types."
   ]
  },
  {
   "cell_type": "code",
   "execution_count": null,
   "metadata": {},
   "outputs": [],
   "source": [
    "G.vs[0]"
   ]
  },
  {
   "attachments": {},
   "cell_type": "markdown",
   "metadata": {},
   "source": [
    "We know from above that this is an organisation."
   ]
  },
  {
   "cell_type": "code",
   "execution_count": null,
   "metadata": {},
   "outputs": [],
   "source": [
    "types[0]"
   ]
  },
  {
   "attachments": {},
   "cell_type": "markdown",
   "metadata": {},
   "source": [
    "Ok, organisation are typed as `False`. This defines our projection."
   ]
  },
  {
   "cell_type": "code",
   "execution_count": null,
   "metadata": {},
   "outputs": [],
   "source": [
    "G_org_projection = G.bipartite_projection(types=types, which=False)"
   ]
  },
  {
   "attachments": {},
   "cell_type": "markdown",
   "metadata": {},
   "source": [
    "Since ids cannot be read easily, we can add a vertex attribute with organisations names"
   ]
  },
  {
   "cell_type": "code",
   "execution_count": null,
   "metadata": {},
   "outputs": [],
   "source": [
    "org_names = pd.DataFrame(G_org_projection.vs['id'], columns=['id'])\n",
    "org_names = pd.merge(org_names, organisations[['organisationID', 'name']].drop_duplicates(), \n",
    "         left_on='id', \n",
    "         right_on='organisationID', \n",
    "         how='left')\n",
    "org_names"
   ]
  },
  {
   "cell_type": "code",
   "execution_count": null,
   "metadata": {},
   "outputs": [],
   "source": [
    "G_org_projection.vs['name'] = org_names['name']\n"
   ]
  },
  {
   "cell_type": "code",
   "execution_count": null,
   "metadata": {},
   "outputs": [],
   "source": [
    "list(G_org_projection.vs)"
   ]
  },
  {
   "attachments": {},
   "cell_type": "markdown",
   "metadata": {},
   "source": [
    "Let's check that the organisation name assignment went correctly"
   ]
  },
  {
   "cell_type": "code",
   "execution_count": null,
   "metadata": {},
   "outputs": [],
   "source": [
    "organisations[organisations.organisationID == 999687821]"
   ]
  },
  {
   "attachments": {},
   "cell_type": "markdown",
   "metadata": {},
   "source": [
    "OK, all good."
   ]
  },
  {
   "attachments": {},
   "cell_type": "markdown",
   "metadata": {},
   "source": [
    "Is the network connected?"
   ]
  },
  {
   "cell_type": "code",
   "execution_count": null,
   "metadata": {},
   "outputs": [],
   "source": [
    "G_org_projection.is_connected()"
   ]
  },
  {
   "attachments": {},
   "cell_type": "markdown",
   "metadata": {},
   "source": [
    "Analyse the connected components"
   ]
  },
  {
   "cell_type": "code",
   "execution_count": null,
   "metadata": {},
   "outputs": [],
   "source": [
    "components = G_org_projection.connected_components()"
   ]
  },
  {
   "attachments": {},
   "cell_type": "markdown",
   "metadata": {},
   "source": [
    "How many of them?"
   ]
  },
  {
   "cell_type": "code",
   "execution_count": null,
   "metadata": {},
   "outputs": [],
   "source": []
  },
  {
   "cell_type": "code",
   "execution_count": null,
   "metadata": {},
   "outputs": [],
   "source": [
    "components[0]"
   ]
  },
  {
   "cell_type": "code",
   "execution_count": null,
   "metadata": {},
   "outputs": [],
   "source": [
    "components[1]"
   ]
  },
  {
   "attachments": {},
   "cell_type": "markdown",
   "metadata": {},
   "source": [
    "Let's check the obvious: is the node in another component also in the giant component?"
   ]
  },
  {
   "cell_type": "code",
   "execution_count": null,
   "metadata": {},
   "outputs": [],
   "source": []
  },
  {
   "attachments": {},
   "cell_type": "markdown",
   "metadata": {},
   "source": [
    "Let's understand why this node is alone."
   ]
  },
  {
   "cell_type": "code",
   "execution_count": null,
   "metadata": {},
   "outputs": [],
   "source": [
    "G_org_projection.vs[30]"
   ]
  },
  {
   "attachments": {},
   "cell_type": "markdown",
   "metadata": {},
   "source": [
    "Find the node in the main dataframe"
   ]
  },
  {
   "cell_type": "code",
   "execution_count": null,
   "metadata": {},
   "outputs": [],
   "source": []
  },
  {
   "attachments": {},
   "cell_type": "markdown",
   "metadata": {},
   "source": [
    "Check out the project record here https://cordis.europa.eu/project/id/190173745"
   ]
  },
  {
   "attachments": {},
   "cell_type": "markdown",
   "metadata": {},
   "source": [
    "Now, let's check the giant component"
   ]
  },
  {
   "cell_type": "code",
   "execution_count": null,
   "metadata": {},
   "outputs": [],
   "source": [
    "H = G_org_projection.connected_components().giant()"
   ]
  },
  {
   "cell_type": "code",
   "execution_count": null,
   "metadata": {},
   "outputs": [],
   "source": [
    "H.summary()"
   ]
  },
  {
   "attachments": {},
   "cell_type": "markdown",
   "metadata": {},
   "source": [
    "What is the percentage of nodes involved in the giant component?"
   ]
  },
  {
   "cell_type": "code",
   "execution_count": null,
   "metadata": {},
   "outputs": [],
   "source": []
  },
  {
   "cell_type": "code",
   "execution_count": null,
   "metadata": {},
   "outputs": [],
   "source": [
    "path_lengths = G_org_projection.path_length_hist()\n",
    "print(path_lengths)"
   ]
  },
  {
   "attachments": {},
   "cell_type": "markdown",
   "metadata": {},
   "source": [
    "Let's focus on a single node"
   ]
  },
  {
   "cell_type": "code",
   "execution_count": null,
   "metadata": {},
   "outputs": [],
   "source": [
    "G_org_projection.neighborhood(1)"
   ]
  },
  {
   "cell_type": "code",
   "execution_count": null,
   "metadata": {},
   "outputs": [],
   "source": [
    "H = G_org_projection.induced_subgraph(G_org_projection.neighborhood(1))\n",
    "H.summary()"
   ]
  },
  {
   "cell_type": "code",
   "execution_count": null,
   "metadata": {},
   "outputs": [],
   "source": [
    "H.vs['color'] = 'grey'\n",
    "H.vs[0]['color'] = 'red'\n",
    "fig, ax = plt.subplots()\n",
    "ig.plot(H, target=ax, vertex_label=H.vs['name'])"
   ]
  },
  {
   "attachments": {},
   "cell_type": "markdown",
   "metadata": {},
   "source": [
    "What is its clustering coefficient?"
   ]
  },
  {
   "cell_type": "code",
   "execution_count": null,
   "metadata": {},
   "outputs": [],
   "source": []
  },
  {
   "attachments": {},
   "cell_type": "markdown",
   "metadata": {},
   "source": [
    "Let's compute the same for the whole network"
   ]
  },
  {
   "cell_type": "code",
   "execution_count": null,
   "metadata": {},
   "outputs": [],
   "source": []
  },
  {
   "attachments": {},
   "cell_type": "markdown",
   "metadata": {},
   "source": [
    "Let's calculate the degree for all the nodes"
   ]
  },
  {
   "cell_type": "code",
   "execution_count": null,
   "metadata": {},
   "outputs": [],
   "source": [
    "G_org_projection.vs['degree'] = G_org_projection.degree()"
   ]
  },
  {
   "cell_type": "code",
   "execution_count": null,
   "metadata": {},
   "outputs": [],
   "source": [
    "plt.hist(G_org_projection.vs['degree'], 50)\n",
    "plt.yscale('log')\n",
    "plt.xscale('log')"
   ]
  },
  {
   "cell_type": "code",
   "execution_count": null,
   "metadata": {},
   "outputs": [],
   "source": [
    "highest_degree = sorted(G_org_projection.vs, key=lambda v: v['degree'], reverse=True)"
   ]
  },
  {
   "cell_type": "code",
   "execution_count": null,
   "metadata": {},
   "outputs": [],
   "source": [
    "highest_degree[:5]"
   ]
  },
  {
   "cell_type": "code",
   "execution_count": null,
   "metadata": {},
   "outputs": [],
   "source": [
    "organisations[organisations.organisationID == 999984059].head()"
   ]
  },
  {
   "attachments": {},
   "cell_type": "markdown",
   "metadata": {},
   "source": [
    "**Task:** now build the network using country codes (Hint: beware of empty country codes!)"
   ]
  },
  {
   "cell_type": "code",
   "execution_count": null,
   "metadata": {},
   "outputs": [],
   "source": [
    "G = ig.Graph.TupleList(\n",
    "      edges=organisations[organisations.country.notna()][['country', 'projectID']].values,\n",
    "      directed=False,\n",
    "      vertex_name_attr='id'\n",
    "      )"
   ]
  },
  {
   "cell_type": "code",
   "execution_count": null,
   "metadata": {},
   "outputs": [],
   "source": [
    "is_bipartite, types = G.is_bipartite(return_types = True)\n",
    "is_bipartite"
   ]
  },
  {
   "cell_type": "code",
   "execution_count": null,
   "metadata": {},
   "outputs": [],
   "source": [
    "G.vs[0]"
   ]
  },
  {
   "cell_type": "code",
   "execution_count": null,
   "metadata": {},
   "outputs": [],
   "source": [
    "types[0]"
   ]
  },
  {
   "cell_type": "code",
   "execution_count": null,
   "metadata": {},
   "outputs": [],
   "source": [
    "G_country_projection = G.bipartite_projection(types=types, which=False)"
   ]
  },
  {
   "cell_type": "code",
   "execution_count": null,
   "metadata": {},
   "outputs": [],
   "source": [
    "G_country_projection.vs['degree'] = G_country_projection.degree()"
   ]
  },
  {
   "cell_type": "code",
   "execution_count": null,
   "metadata": {},
   "outputs": [],
   "source": [
    "list(G_country_projection.vs)"
   ]
  },
  {
   "cell_type": "code",
   "execution_count": null,
   "metadata": {},
   "outputs": [],
   "source": [
    "fig, ax = plt.subplots()\n",
    "ig.plot(G_country_projection, target=ax, vertex_label=G_country_projection.vs['id'])"
   ]
  },
  {
   "attachments": {},
   "cell_type": "markdown",
   "metadata": {},
   "source": [
    "# Preparing data for VOSviewer (for the next lesson)"
   ]
  },
  {
   "attachments": {},
   "cell_type": "markdown",
   "metadata": {},
   "source": [
    "It is possible to export data for VOSviewer to read.\n",
    "It just needs two files, a `map` and a `network` with information about nodes and links.\n",
    "\n",
    "More details available in the documentation, https://app.vosviewer.com/docs/file-types/map-and-network-file-type"
   ]
  },
  {
   "cell_type": "code",
   "execution_count": null,
   "metadata": {},
   "outputs": [],
   "source": [
    "nodes_df = pd.DataFrame.from_dict({attr: G_org_projection.vs[attr] for attr in G_org_projection.vs.attributes()})\n",
    "nodes_df['label'] = nodes_df['name']\n",
    "nodes_df = nodes_df.sort_values('id')\n",
    "nodes_df[['id', 'label']].to_csv('../data/processed/map_vosviewer_orgs.txt', sep='\\t', index=False)\n",
    "\n",
    "\n",
    "edge_df = pd.DataFrame([(G_org_projection.vs[e.source]['id'], G_org_projection.vs[e.target]['id'], e['weight']) for e in G_org_projection.es],\n",
    "                       columns=['source', 'target', 'weight'])\n",
    "edge_df = edge_df.sort_values(['source', 'target'])\n",
    "edge_df.to_csv('../data/processed/network_vosviewer_orgs.txt', sep='\\t', index=False, header=False)"
   ]
  },
  {
   "cell_type": "code",
   "execution_count": null,
   "metadata": {},
   "outputs": [],
   "source": [
    "nodes_df = pd.DataFrame.from_dict({attr: G_country_projection.vs[attr] for attr in G_country_projection.vs.attributes()})\n",
    "nodes_df['label'] = nodes_df['id']\n",
    "nodes_df = nodes_df.sort_values('id')\n",
    "nodes_df[['id', 'label']].to_csv('../data/processed/map_vosviewer_countries.txt', sep='\\t', index=False)\n",
    "\n",
    "\n",
    "edge_df = pd.DataFrame([(G_country_projection.vs[e.source]['id'], G_country_projection.vs[e.target]['id']) for e in G_country_projection.es],\n",
    "                       columns=['source', 'target'])\n",
    "edge_df = edge_df.sort_values(['source', 'target'])\n",
    "edge_df.to_csv('../data/processed/network_vosviewer_countries.txt', sep='\\t', index=False, header=False)"
   ]
  },
  {
   "attachments": {},
   "cell_type": "markdown",
   "metadata": {},
   "source": [
    "Let's also repeat everything to filter just italian organisations"
   ]
  },
  {
   "cell_type": "code",
   "execution_count": null,
   "metadata": {},
   "outputs": [],
   "source": [
    "G = ig.Graph.TupleList(\n",
    "      edges=organisations[organisations.country == 'IT'][['organisationID', 'projectID']].values,\n",
    "      directed=False,\n",
    "      vertex_name_attr='id',\n",
    "      )\n",
    "\n",
    "is_bipartite, types = G.is_bipartite(return_types = True)\n",
    "\n",
    "G_org_projection = G.bipartite_projection(types=types, which=False)\n",
    "\n",
    "org_names = pd.DataFrame(G_org_projection.vs['id'], columns=['id'])\n",
    "org_names = pd.merge(org_names, organisations[['organisationID', 'name']].drop_duplicates(), \n",
    "         left_on='id', \n",
    "         right_on='organisationID', \n",
    "         how='left')\n",
    "org_names\n",
    "\n",
    "G_org_projection.vs['name'] = org_names['name']\n",
    "\n",
    "nodes_df = pd.DataFrame.from_dict({attr: G_org_projection.vs[attr] for attr in G_org_projection.vs.attributes()})\n",
    "nodes_df['label'] = nodes_df['name']\n",
    "nodes_df = nodes_df.sort_values('id')\n",
    "nodes_df[['id', 'label']].to_csv('../data/processed/map_vosviewer_orgs_filtered.txt', sep='\\t', index=False)\n",
    "\n",
    "\n",
    "edge_df = pd.DataFrame([(G_org_projection.vs[e.source]['id'], G_org_projection.vs[e.target]['id'], e['weight']) for e in G_org_projection.es],\n",
    "                       columns=['source', 'target', 'weight'])\n",
    "edge_df = edge_df.sort_values(['source', 'target'])\n",
    "edge_df.to_csv('../data/processed/network_vosviewer_orgs_filtered.txt', sep='\\t', index=False, header=False)"
   ]
  },
  {
   "cell_type": "code",
   "execution_count": null,
   "metadata": {},
   "outputs": [],
   "source": []
  }
 ],
 "metadata": {
  "kernelspec": {
   "display_name": "Python 3",
   "language": "python",
   "name": "python3"
  },
  "language_info": {
   "codemirror_mode": {
    "name": "ipython",
    "version": 3
   },
   "file_extension": ".py",
   "mimetype": "text/x-python",
   "name": "python",
   "nbconvert_exporter": "python",
   "pygments_lexer": "ipython3",
   "version": "3.9.12"
  }
 },
 "nbformat": 4,
 "nbformat_minor": 2
}
