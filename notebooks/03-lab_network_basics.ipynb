{
 "cells": [
  {
   "attachments": {},
   "cell_type": "markdown",
   "metadata": {},
   "source": [
    "# Day 3 - Network basics"
   ]
  },
  {
   "attachments": {},
   "cell_type": "markdown",
   "metadata": {},
   "source": [
    "## Import libraries"
   ]
  },
  {
   "cell_type": "code",
   "execution_count": 111,
   "metadata": {},
   "outputs": [],
   "source": [
    "import pandas as pd\n",
    "import csv\n",
    "import glob\n",
    "import igraph as ig"
   ]
  },
  {
   "attachments": {},
   "cell_type": "markdown",
   "metadata": {},
   "source": [
    "## Import datasets"
   ]
  },
  {
   "cell_type": "code",
   "execution_count": 112,
   "metadata": {},
   "outputs": [],
   "source": [
    "files = sorted(glob.glob('../data/raw/savedrecs_*.txt'))\n",
    "publications_df = pd.concat(pd.read_csv(f, sep='\\t', quoting=csv.QUOTE_NONE, \n",
    "                                        usecols=range(68), index_col='UT') for f in files)\n",
    "publications_df = publications_df.sort_index()"
   ]
  },
  {
   "cell_type": "code",
   "execution_count": 113,
   "metadata": {},
   "outputs": [
    {
     "data": {
      "text/html": [
       "<div>\n",
       "<style scoped>\n",
       "    .dataframe tbody tr th:only-of-type {\n",
       "        vertical-align: middle;\n",
       "    }\n",
       "\n",
       "    .dataframe tbody tr th {\n",
       "        vertical-align: top;\n",
       "    }\n",
       "\n",
       "    .dataframe thead th {\n",
       "        text-align: right;\n",
       "    }\n",
       "</style>\n",
       "<table border=\"1\" class=\"dataframe\">\n",
       "  <thead>\n",
       "    <tr style=\"text-align: right;\">\n",
       "      <th></th>\n",
       "      <th>PT</th>\n",
       "      <th>AU</th>\n",
       "      <th>BA</th>\n",
       "      <th>BE</th>\n",
       "      <th>GP</th>\n",
       "      <th>AF</th>\n",
       "      <th>BF</th>\n",
       "      <th>CA</th>\n",
       "      <th>TI</th>\n",
       "      <th>SO</th>\n",
       "      <th>...</th>\n",
       "      <th>EY</th>\n",
       "      <th>PG</th>\n",
       "      <th>WC</th>\n",
       "      <th>SC</th>\n",
       "      <th>GA</th>\n",
       "      <th>PM</th>\n",
       "      <th>OA</th>\n",
       "      <th>HC</th>\n",
       "      <th>HP</th>\n",
       "      <th>DA</th>\n",
       "    </tr>\n",
       "    <tr>\n",
       "      <th>UT</th>\n",
       "      <th></th>\n",
       "      <th></th>\n",
       "      <th></th>\n",
       "      <th></th>\n",
       "      <th></th>\n",
       "      <th></th>\n",
       "      <th></th>\n",
       "      <th></th>\n",
       "      <th></th>\n",
       "      <th></th>\n",
       "      <th></th>\n",
       "      <th></th>\n",
       "      <th></th>\n",
       "      <th></th>\n",
       "      <th></th>\n",
       "      <th></th>\n",
       "      <th></th>\n",
       "      <th></th>\n",
       "      <th></th>\n",
       "      <th></th>\n",
       "      <th></th>\n",
       "    </tr>\n",
       "  </thead>\n",
       "  <tbody>\n",
       "    <tr>\n",
       "      <th>WOS:000084372900003</th>\n",
       "      <td>J</td>\n",
       "      <td>Osaer, S; Goossens, B; Eysker, M; Geerts, S</td>\n",
       "      <td>NaN</td>\n",
       "      <td>NaN</td>\n",
       "      <td>NaN</td>\n",
       "      <td>Osaer, S; Goossens, B; Eysker, M; Geerts, S</td>\n",
       "      <td>NaN</td>\n",
       "      <td>NaN</td>\n",
       "      <td>The effects of prophylactic anthelmintic treat...</td>\n",
       "      <td>ACTA TROPICA</td>\n",
       "      <td>...</td>\n",
       "      <td>NaN</td>\n",
       "      <td>12</td>\n",
       "      <td>Parasitology; Tropical Medicine</td>\n",
       "      <td>Parasitology; Tropical Medicine</td>\n",
       "      <td>267RJ</td>\n",
       "      <td>10643903.0</td>\n",
       "      <td>NaN</td>\n",
       "      <td>NaN</td>\n",
       "      <td>NaN</td>\n",
       "      <td>2019-04-02</td>\n",
       "    </tr>\n",
       "    <tr>\n",
       "      <th>WOS:000085634000001</th>\n",
       "      <td>J</td>\n",
       "      <td>Aventin, L; Matthys, F</td>\n",
       "      <td>NaN</td>\n",
       "      <td>NaN</td>\n",
       "      <td>NaN</td>\n",
       "      <td>Aventin, L; Matthys, F</td>\n",
       "      <td>NaN</td>\n",
       "      <td>NaN</td>\n",
       "      <td>Editorial: Do we negotiate human health ?</td>\n",
       "      <td>TROPICAL MEDICINE &amp; INTERNATIONAL HEALTH</td>\n",
       "      <td>...</td>\n",
       "      <td>NaN</td>\n",
       "      <td>2</td>\n",
       "      <td>Public, Environmental &amp; Occupational Health; T...</td>\n",
       "      <td>Public, Environmental &amp; Occupational Health; T...</td>\n",
       "      <td>289QT</td>\n",
       "      <td>10672198.0</td>\n",
       "      <td>NaN</td>\n",
       "      <td>NaN</td>\n",
       "      <td>NaN</td>\n",
       "      <td>2019-04-02</td>\n",
       "    </tr>\n",
       "    <tr>\n",
       "      <th>WOS:000085825800025</th>\n",
       "      <td>J</td>\n",
       "      <td>Yersin, C; Bovet, P; Merien, F; Clement, J; La...</td>\n",
       "      <td>NaN</td>\n",
       "      <td>NaN</td>\n",
       "      <td>NaN</td>\n",
       "      <td>Yersin, C; Bovet, P; Merien, F; Clement, J; La...</td>\n",
       "      <td>NaN</td>\n",
       "      <td>NaN</td>\n",
       "      <td>Pulmonary haemorrhage as a predominant cause o...</td>\n",
       "      <td>TRANSACTIONS OF THE ROYAL SOCIETY OF TROPICAL ...</td>\n",
       "      <td>...</td>\n",
       "      <td>NaN</td>\n",
       "      <td>6</td>\n",
       "      <td>Public, Environmental &amp; Occupational Health; T...</td>\n",
       "      <td>Public, Environmental &amp; Occupational Health; T...</td>\n",
       "      <td>292ZH</td>\n",
       "      <td>10748905.0</td>\n",
       "      <td>NaN</td>\n",
       "      <td>NaN</td>\n",
       "      <td>NaN</td>\n",
       "      <td>2019-04-02</td>\n",
       "    </tr>\n",
       "    <tr>\n",
       "      <th>WOS:000085825800030</th>\n",
       "      <td>J</td>\n",
       "      <td>De Clercq, D; Vercruysse, J; Verle, P; Niasse,...</td>\n",
       "      <td>NaN</td>\n",
       "      <td>NaN</td>\n",
       "      <td>NaN</td>\n",
       "      <td>De Clercq, D; Vercruysse, J; Verle, P; Niasse,...</td>\n",
       "      <td>NaN</td>\n",
       "      <td>NaN</td>\n",
       "      <td>Efficacy of artesunate against Schistosoma man...</td>\n",
       "      <td>TRANSACTIONS OF THE ROYAL SOCIETY OF TROPICAL ...</td>\n",
       "      <td>...</td>\n",
       "      <td>NaN</td>\n",
       "      <td>2</td>\n",
       "      <td>Public, Environmental &amp; Occupational Health; T...</td>\n",
       "      <td>Public, Environmental &amp; Occupational Health; T...</td>\n",
       "      <td>292ZH</td>\n",
       "      <td>10748910.0</td>\n",
       "      <td>NaN</td>\n",
       "      <td>NaN</td>\n",
       "      <td>NaN</td>\n",
       "      <td>2019-04-02</td>\n",
       "    </tr>\n",
       "    <tr>\n",
       "      <th>WOS:000086145500003</th>\n",
       "      <td>J</td>\n",
       "      <td>Boelaert, JR; Taramelli, D</td>\n",
       "      <td>NaN</td>\n",
       "      <td>NaN</td>\n",
       "      <td>NaN</td>\n",
       "      <td>Boelaert, JR; Taramelli, D</td>\n",
       "      <td>NaN</td>\n",
       "      <td>NaN</td>\n",
       "      <td>Untitled</td>\n",
       "      <td>AMERICAN JOURNAL OF TROPICAL MEDICINE AND HYGIENE</td>\n",
       "      <td>...</td>\n",
       "      <td>NaN</td>\n",
       "      <td>2</td>\n",
       "      <td>Public, Environmental &amp; Occupational Health; T...</td>\n",
       "      <td>Public, Environmental &amp; Occupational Health; T...</td>\n",
       "      <td>298NF</td>\n",
       "      <td>10761717.0</td>\n",
       "      <td>NaN</td>\n",
       "      <td>NaN</td>\n",
       "      <td>NaN</td>\n",
       "      <td>2019-04-02</td>\n",
       "    </tr>\n",
       "  </tbody>\n",
       "</table>\n",
       "<p>5 rows × 67 columns</p>\n",
       "</div>"
      ],
      "text/plain": [
       "                    PT                                                 AU  BA  \\\n",
       "UT                                                                              \n",
       "WOS:000084372900003  J        Osaer, S; Goossens, B; Eysker, M; Geerts, S NaN   \n",
       "WOS:000085634000001  J                             Aventin, L; Matthys, F NaN   \n",
       "WOS:000085825800025  J  Yersin, C; Bovet, P; Merien, F; Clement, J; La... NaN   \n",
       "WOS:000085825800030  J  De Clercq, D; Vercruysse, J; Verle, P; Niasse,... NaN   \n",
       "WOS:000086145500003  J                         Boelaert, JR; Taramelli, D NaN   \n",
       "\n",
       "                      BE  GP  \\\n",
       "UT                             \n",
       "WOS:000084372900003  NaN NaN   \n",
       "WOS:000085634000001  NaN NaN   \n",
       "WOS:000085825800025  NaN NaN   \n",
       "WOS:000085825800030  NaN NaN   \n",
       "WOS:000086145500003  NaN NaN   \n",
       "\n",
       "                                                                    AF  BF  \\\n",
       "UT                                                                           \n",
       "WOS:000084372900003        Osaer, S; Goossens, B; Eysker, M; Geerts, S NaN   \n",
       "WOS:000085634000001                             Aventin, L; Matthys, F NaN   \n",
       "WOS:000085825800025  Yersin, C; Bovet, P; Merien, F; Clement, J; La... NaN   \n",
       "WOS:000085825800030  De Clercq, D; Vercruysse, J; Verle, P; Niasse,... NaN   \n",
       "WOS:000086145500003                         Boelaert, JR; Taramelli, D NaN   \n",
       "\n",
       "                      CA                                                 TI  \\\n",
       "UT                                                                            \n",
       "WOS:000084372900003  NaN  The effects of prophylactic anthelmintic treat...   \n",
       "WOS:000085634000001  NaN          Editorial: Do we negotiate human health ?   \n",
       "WOS:000085825800025  NaN  Pulmonary haemorrhage as a predominant cause o...   \n",
       "WOS:000085825800030  NaN  Efficacy of artesunate against Schistosoma man...   \n",
       "WOS:000086145500003  NaN                                           Untitled   \n",
       "\n",
       "                                                                    SO  ...  \\\n",
       "UT                                                                      ...   \n",
       "WOS:000084372900003                                       ACTA TROPICA  ...   \n",
       "WOS:000085634000001           TROPICAL MEDICINE & INTERNATIONAL HEALTH  ...   \n",
       "WOS:000085825800025  TRANSACTIONS OF THE ROYAL SOCIETY OF TROPICAL ...  ...   \n",
       "WOS:000085825800030  TRANSACTIONS OF THE ROYAL SOCIETY OF TROPICAL ...  ...   \n",
       "WOS:000086145500003  AMERICAN JOURNAL OF TROPICAL MEDICINE AND HYGIENE  ...   \n",
       "\n",
       "                     EY  PG  \\\n",
       "UT                            \n",
       "WOS:000084372900003 NaN  12   \n",
       "WOS:000085634000001 NaN   2   \n",
       "WOS:000085825800025 NaN   6   \n",
       "WOS:000085825800030 NaN   2   \n",
       "WOS:000086145500003 NaN   2   \n",
       "\n",
       "                                                                    WC  \\\n",
       "UT                                                                       \n",
       "WOS:000084372900003                    Parasitology; Tropical Medicine   \n",
       "WOS:000085634000001  Public, Environmental & Occupational Health; T...   \n",
       "WOS:000085825800025  Public, Environmental & Occupational Health; T...   \n",
       "WOS:000085825800030  Public, Environmental & Occupational Health; T...   \n",
       "WOS:000086145500003  Public, Environmental & Occupational Health; T...   \n",
       "\n",
       "                                                                    SC     GA  \\\n",
       "UT                                                                              \n",
       "WOS:000084372900003                    Parasitology; Tropical Medicine  267RJ   \n",
       "WOS:000085634000001  Public, Environmental & Occupational Health; T...  289QT   \n",
       "WOS:000085825800025  Public, Environmental & Occupational Health; T...  292ZH   \n",
       "WOS:000085825800030  Public, Environmental & Occupational Health; T...  292ZH   \n",
       "WOS:000086145500003  Public, Environmental & Occupational Health; T...  298NF   \n",
       "\n",
       "                             PM   OA   HC   HP          DA  \n",
       "UT                                                          \n",
       "WOS:000084372900003  10643903.0  NaN  NaN  NaN  2019-04-02  \n",
       "WOS:000085634000001  10672198.0  NaN  NaN  NaN  2019-04-02  \n",
       "WOS:000085825800025  10748905.0  NaN  NaN  NaN  2019-04-02  \n",
       "WOS:000085825800030  10748910.0  NaN  NaN  NaN  2019-04-02  \n",
       "WOS:000086145500003  10761717.0  NaN  NaN  NaN  2019-04-02  \n",
       "\n",
       "[5 rows x 67 columns]"
      ]
     },
     "execution_count": 113,
     "metadata": {},
     "output_type": "execute_result"
    }
   ],
   "source": [
    "publications_df.head()"
   ]
  },
  {
   "attachments": {},
   "cell_type": "markdown",
   "metadata": {},
   "source": [
    "You will see that the data has quite cryptic column headers. Each line contains information about a single publication, and contains various details, such as the title (`TI`), abstract (`AB`), authors (`AU`), journal title (`SO`) and cited references (`CR`). Unfortunately, the documentation of Web of Science is relatively limited, but some explanation can be found <a href=\"http://images.webofknowledge.com/WOKRS532FR6/help/WOS/hs_advanced_fieldtags.html\">here</a>. You can retrieve this information in various ways from the pandas dataframe `publications_df`. For example, you can list the first five titles as follows:"
   ]
  },
  {
   "attachments": {},
   "cell_type": "markdown",
   "metadata": {},
   "source": [
    "## Data summarisation"
   ]
  },
  {
   "attachments": {},
   "cell_type": "markdown",
   "metadata": {},
   "source": [
    "The `pandas` package provides various ways to summarise the data and get a useful overview of the data. For example, you can group by a certain column, and count or sum things. For example, we can count the number of articles in each journal that is included in this dataset:"
   ]
  },
  {
   "cell_type": "code",
   "execution_count": 114,
   "metadata": {},
   "outputs": [
    {
     "data": {
      "text/plain": [
       "SO\n",
       "TROPICAL MEDICINE & INTERNATIONAL HEALTH                              1025\n",
       "AMERICAN JOURNAL OF TROPICAL MEDICINE AND HYGIENE                      360\n",
       "PLOS NEGLECTED TROPICAL DISEASES                                       275\n",
       "MALARIA JOURNAL                                                        197\n",
       "TRANSACTIONS OF THE ROYAL SOCIETY OF TROPICAL MEDICINE AND HYGIENE     133\n",
       "PARASITES & VECTORS                                                    105\n",
       "ACTA TROPICA                                                            82\n",
       "JOURNAL OF TROPICAL PEDIATRICS                                          18\n",
       "ANNALS OF TROPICAL MEDICINE AND PARASITOLOGY                            18\n",
       "MEDECINE ET SANTE TROPICALES                                            18\n",
       "dtype: int64"
      ]
     },
     "execution_count": 114,
     "metadata": {},
     "output_type": "execute_result"
    }
   ],
   "source": [
    "grouped_by_journal = publications_df.groupby('SO')\n",
    "grouped_by_journal.size().sort_values(ascending=False)[:10]"
   ]
  },
  {
   "attachments": {},
   "cell_type": "markdown",
   "metadata": {},
   "source": [
    "## Network generation"
   ]
  },
  {
   "attachments": {},
   "cell_type": "markdown",
   "metadata": {},
   "source": [
    "### Co-authorship"
   ]
  },
  {
   "attachments": {},
   "cell_type": "markdown",
   "metadata": {},
   "source": [
    "We first build a co-authorship network. We will do this one publication at the time. All combinations of authors that are involved in a publication are co-authors. Let us look at the authors for publication 0."
   ]
  },
  {
   "cell_type": "code",
   "execution_count": 115,
   "metadata": {},
   "outputs": [
    {
     "data": {
      "text/plain": [
       "'Osaer, S; Goossens, B; Eysker, M; Geerts, S'"
      ]
     },
     "execution_count": 115,
     "metadata": {},
     "output_type": "execute_result"
    }
   ],
   "source": [
    "publications_df['AU'][0]"
   ]
  },
  {
   "attachments": {},
   "cell_type": "markdown",
   "metadata": {},
   "source": [
    "Note that the authors are all listed and separated with a semicolon (`;`). In computer terms, it is now a single *string*. We will split this string of all authors into a list of strings where each string then represents a single author."
   ]
  },
  {
   "cell_type": "code",
   "execution_count": 116,
   "metadata": {},
   "outputs": [],
   "source": [
    "publications_df['AU_split'] = publications_df['AU'].fillna('').str.split(';')"
   ]
  },
  {
   "cell_type": "code",
   "execution_count": 117,
   "metadata": {},
   "outputs": [
    {
     "data": {
      "text/plain": [
       "['Osaer, S', ' Goossens, B', ' Eysker, M', ' Geerts, S']"
      ]
     },
     "execution_count": 117,
     "metadata": {},
     "output_type": "execute_result"
    }
   ],
   "source": [
    "authors = publications_df['AU_split'][0]\n",
    "authors"
   ]
  },
  {
   "cell_type": "code",
   "execution_count": 118,
   "metadata": {},
   "outputs": [
    {
     "data": {
      "text/plain": [
       "['Osaer, S', 'Goossens, B', 'Eysker, M', 'Geerts, S']"
      ]
     },
     "execution_count": 118,
     "metadata": {},
     "output_type": "execute_result"
    }
   ],
   "source": [
    "publications_df['AU_split'] = publications_df['AU'].fillna('').str.split(';').apply(lambda lst: [e.strip() for e in lst])\n",
    "authors = publications_df['AU_split'][0]\n",
    "authors"
   ]
  },
  {
   "attachments": {},
   "cell_type": "markdown",
   "metadata": {},
   "source": [
    "In order to create all possible combinations, we can use a convenient package, called `itertools`. The function `combinations` can generate all possible combinations of the elements of a list."
   ]
  },
  {
   "cell_type": "code",
   "execution_count": 119,
   "metadata": {},
   "outputs": [
    {
     "data": {
      "text/plain": [
       "[('Osaer, S', 'Goossens, B'),\n",
       " ('Osaer, S', 'Eysker, M'),\n",
       " ('Osaer, S', 'Geerts, S'),\n",
       " ('Goossens, B', 'Eysker, M'),\n",
       " ('Goossens, B', 'Geerts, S'),\n",
       " ('Eysker, M', 'Geerts, S')]"
      ]
     },
     "execution_count": 119,
     "metadata": {},
     "output_type": "execute_result"
    }
   ],
   "source": [
    "import itertools as itr\n",
    "list(itr.combinations(authors, 2))"
   ]
  },
  {
   "attachments": {},
   "cell_type": "markdown",
   "metadata": {},
   "source": [
    "Of course, we don't want to do this for a single publication only, but rather, for all publications in our dataset. We can do that using the function `apply`."
   ]
  },
  {
   "cell_type": "code",
   "execution_count": 120,
   "metadata": {},
   "outputs": [],
   "source": [
    "coauthors_per_publication = publications_df['AU_split'].apply(lambda authors: list(itr.combinations(authors, 2)))"
   ]
  },
  {
   "attachments": {},
   "cell_type": "markdown",
   "metadata": {},
   "source": [
    "The variable `coauthors_per_publication` is now a list of a list of co-authors per publication. That is, each element of `coauthors_per_publication` contains a list of all co-authors for that publication. So, `coauthors_per_publication[0]` contains the coauthors we examined previously."
   ]
  },
  {
   "cell_type": "code",
   "execution_count": 121,
   "metadata": {},
   "outputs": [
    {
     "data": {
      "text/plain": [
       "UT\n",
       "WOS:000084372900003    [(Osaer, S, Goossens, B), (Osaer, S, Eysker, M...\n",
       "WOS:000085634000001                           [(Aventin, L, Matthys, F)]\n",
       "WOS:000085825800025    [(Yersin, C, Bovet, P), (Yersin, C, Merien, F)...\n",
       "WOS:000085825800030    [(De Clercq, D, Vercruysse, J), (De Clercq, D,...\n",
       "WOS:000086145500003                       [(Boelaert, JR, Taramelli, D)]\n",
       "                                             ...                        \n",
       "WOS:000437429300018    [(Kaputu-Kalala-Malu, C, Kahamba, DM), (Kaputu...\n",
       "WOS:000437432400002    [(Maotela, JK, Ramazani, SY), (Maotela, JK, Mi...\n",
       "WOS:000437432400014    [(Kuwekita, M, Gosset, C), (Kuwekita, M, Guill...\n",
       "WOS:000437437700018    [(Rakotonirina, EJ, Ravaoarisoa, L), (Rakotoni...\n",
       "WOS:000437449800023    [(Traore, FA, Sako, FB), (Traore, FA, Sylla, D...\n",
       "Name: AU_split, Length: 2338, dtype: object"
      ]
     },
     "execution_count": 121,
     "metadata": {},
     "output_type": "execute_result"
    }
   ],
   "source": [
    "coauthors_per_publication"
   ]
  },
  {
   "cell_type": "code",
   "execution_count": 122,
   "metadata": {},
   "outputs": [
    {
     "data": {
      "text/plain": [
       "[('Osaer, S', 'Goossens, B'),\n",
       " ('Osaer, S', 'Eysker, M'),\n",
       " ('Osaer, S', 'Geerts, S'),\n",
       " ('Goossens, B', 'Eysker, M'),\n",
       " ('Goossens, B', 'Geerts, S'),\n",
       " ('Eysker, M', 'Geerts, S')]"
      ]
     },
     "execution_count": 122,
     "metadata": {},
     "output_type": "execute_result"
    }
   ],
   "source": [
    "coauthors_per_publication[0]"
   ]
  },
  {
   "attachments": {},
   "cell_type": "markdown",
   "metadata": {},
   "source": [
    "Let us turn each element of this list into a separate row. This is done by using `explode` in `pandas`. Publications with only one author have no co-authors, which results in an `NA` (Not Available) value. We will drop those using `dropna`."
   ]
  },
  {
   "cell_type": "code",
   "execution_count": 123,
   "metadata": {},
   "outputs": [],
   "source": [
    "coauthors = coauthors_per_publication.explode().dropna()"
   ]
  },
  {
   "attachments": {},
   "cell_type": "markdown",
   "metadata": {},
   "source": [
    "Finally, we can create the actual network as follows"
   ]
  },
  {
   "cell_type": "code",
   "execution_count": 124,
   "metadata": {},
   "outputs": [],
   "source": [
    "G_coauthorship = ig.Graph.TupleList(\n",
    "      edges=coauthors.to_list(), # could use edges=coauthors.to_list()\n",
    "      vertex_name_attr='author',\n",
    "      directed=False\n",
    "      )"
   ]
  },
  {
   "attachments": {},
   "cell_type": "markdown",
   "metadata": {},
   "source": [
    "Note that this graph will still contain many duplicate edges, because there are multiple edges present. Let us therefore simplify this graph, and simply count the number of multiple edges. We first create a so-called edge attribute `n_joint_papers`. We can create it by using the edge sequence `es` of the graph. We can then simply sum this weight when we simplify the graph."
   ]
  },
  {
   "cell_type": "code",
   "execution_count": 125,
   "metadata": {},
   "outputs": [],
   "source": [
    "G_coauthorship.es['n_joint_papers'] = 1\n",
    "G_coauthorship = G_coauthorship.simplify(combine_edges='sum')"
   ]
  },
  {
   "attachments": {},
   "cell_type": "markdown",
   "metadata": {},
   "source": [
    "Let us see how many authors (i.e. nodes) there are in the network. This is called the `vcount` (vertex count) in `igraph`."
   ]
  },
  {
   "cell_type": "code",
   "execution_count": 126,
   "metadata": {},
   "outputs": [
    {
     "data": {
      "text/plain": [
       "8482"
      ]
     },
     "execution_count": 126,
     "metadata": {},
     "output_type": "execute_result"
    }
   ],
   "source": [
    "G_coauthorship.vcount()"
   ]
  },
  {
   "attachments": {},
   "cell_type": "markdown",
   "metadata": {},
   "source": [
    "Similarly, the number of edges is available as the `ecount` of the graph."
   ]
  },
  {
   "cell_type": "code",
   "execution_count": 127,
   "metadata": {},
   "outputs": [
    {
     "data": {
      "text/plain": [
       "72938"
      ]
     },
     "execution_count": 127,
     "metadata": {},
     "output_type": "execute_result"
    }
   ],
   "source": [
    "G_coauthorship.ecount()"
   ]
  },
  {
   "attachments": {},
   "cell_type": "markdown",
   "metadata": {},
   "source": [
    "We can do all sorts of analysis on this network. But first, we will create a bibliographic coupling network."
   ]
  },
  {
   "attachments": {},
   "cell_type": "markdown",
   "metadata": {},
   "source": [
    "### Bibliographic coupling"
   ]
  },
  {
   "attachments": {},
   "cell_type": "markdown",
   "metadata": {},
   "source": [
    "Bibliographic coupling and co-authorship is in a sense very similar. Previously, we computed for each publication a combination of all co-authors. For bibliographic coupling we can compute for each cited reference the combinations of all citing journals. We will first create a dataframe of all journal citations (`SO`) of a certain cited reference (`CR`). Similar to the authors, we need to first split the cited references."
   ]
  },
  {
   "cell_type": "code",
   "execution_count": 128,
   "metadata": {},
   "outputs": [
    {
     "data": {
      "text/plain": [
       "UT\n",
       "WOS:000084372900003    [Albers G. A. A., 1984, Immunogenetic approach...\n",
       "WOS:000085634000001    [AVENTIN L, 1999, MILLENNIUM ROUND OMC, BENETT...\n",
       "WOS:000085825800025    [ALLEN P, 1989, INTENS CARE MED, V15, P322, Bo...\n",
       "WOS:000085825800030    [Picquet M, 1998, T ROY SOC TROP MED H, V92, P...\n",
       "WOS:000086145500003    [BASILICO N, 1999, MOL PAR M WOODS HOL, P403, ...\n",
       "                                             ...                        \n",
       "WOS:000437429300018    [Bejon P, 2007, PLOS MED, V4, P1333, DOI 10.13...\n",
       "WOS:000437432400002    [Agbovi KK, 2006, TRANSFUS CLIN BIOL, V13, P26...\n",
       "WOS:000437432400014    [Audibert M, 2004, Med Trop (Mars), V64, P552,...\n",
       "WOS:000437437700018    [Ai XQ, 2010, BMC PUBLIC HEALTH, V10, DOI 10.1...\n",
       "WOS:000437449800023    [ANTONA D, 2006, B EPIDEMIOL HEBDO, V7, P53, M...\n",
       "Name: CR, Length: 1452, dtype: object"
      ]
     },
     "execution_count": 128,
     "metadata": {},
     "output_type": "execute_result"
    }
   ],
   "source": [
    "publication_with_cr_df = publications_df.loc[pd.notnull(publications_df['CR']), ['SO', 'CR']]\n",
    "publication_with_cr_df['CR'] = publication_with_cr_df['CR'].str.split('; ')\n",
    "publication_with_cr_df['CR']"
   ]
  },
  {
   "cell_type": "code",
   "execution_count": 129,
   "metadata": {},
   "outputs": [
    {
     "data": {
      "text/plain": [
       "['Albers G. A. A., 1984, Immunogenetic approaches to the control of endoparasites with particular reference to parasites of sheep. Proceedings of a workshop held at Sydney University, October 22-23 1983, on behalf of the Australian Wool Corporation., P41',\n",
       " 'Ankers P, 1998, PREV VET MED, V34, P215, DOI 10.1016/S0167-5877(97)00037-8',\n",
       " 'Ankers P, 1994, Rev Elev Med Vet Pays Trop, V47, P201',\n",
       " 'Barger I. A., 1982, Biology and control of endoparasites. McMaster Laboratory 50th Anniversary Symposium in Parasitology, University of Sydney, 5-6 November 1981., P133',\n",
       " 'BARGER IA, 1998, VET PARASITOL, V72, P493',\n",
       " 'BARGER IA, 1999, VET PARASITOL, V29, P41',\n",
       " 'BULLERDIECK P, 1996, THESIS',\n",
       " 'COBON DH, 1992, J AGR SCI, V118, P245, DOI 10.1017/S0021859600068854',\n",
       " '*DLS ITC, 1993, LIV CENS',\n",
       " 'FRITSCHE T, 1993, VET PARASITOL, V49, P271, DOI 10.1016/0304-4017(93)90126-8',\n",
       " 'GOOSSEN B, 1998, VET PARASITOL, V85, P25',\n",
       " 'Goossens B, 1997, INT J PARASITOL, V27, P1579, DOI 10.1016/S0020-7519(97)00094-5',\n",
       " 'Goossens B, 1998, VET REC, V142, P277, DOI 10.1136/vr.142.11.277',\n",
       " 'Goossens B, 1997, RES VET SCI, V63, P169, DOI 10.1016/S0034-5288(97)90013-8',\n",
       " 'GREENWOOD AC, 1989, REPORT SMALL RUMINAN',\n",
       " 'HOSTE H, 1993, AM J VET RES, V54, P1886',\n",
       " 'Itty P., 1997, Quarterly Journal of International Agriculture, V36, P153',\n",
       " 'KAUFMANN J, 1990, VET PARASITOL, V37, P45, DOI 10.1016/0304-4017(90)90024-6',\n",
       " 'KAUFMANN J, 1993, TROP ANIM HLTH PROD, V27, P76',\n",
       " 'KIMAMBO AE, 1988, VET PARASITOL, V28, P191, DOI 10.1016/0304-4017(88)90107-0',\n",
       " 'KIMAMBO AE, 1988, VET PARASITOL, V28, P205, DOI 10.1016/0304-4017(88)90108-2',\n",
       " 'Mawuena K, 1987, Rev Elev Med Vet Pays Trop, V40, P55',\n",
       " 'MURRAY M, 1977, T ROY SOC TROP MED H, V71, P325, DOI 10.1016/0035-9203(77)90110-9',\n",
       " 'NDAO M, 1995, VET RES COMMUN, V19, P205, DOI 10.1007/BF01839299',\n",
       " 'Osaer S, 1999, VET PARASITOL, V82, P101, DOI 10.1016/S0304-4017(99)00011-4',\n",
       " 'Osaer S, 1997, SMALL RUMINANT RES, V24, P213, DOI 10.1016/S0921-4488(96)00944-3',\n",
       " 'OSAER S, 1994, VET PARASITOL, V51, P191, DOI 10.1016/0304-4017(94)90156-2',\n",
       " 'Panin A, 1997, SMALL RUMINANT RES, V25, P9, DOI 10.1016/S0921-4488(96)00967-4',\n",
       " 'PARIS J, 1982, ACTA TROP, V39, P307',\n",
       " 'Parkins J J, 1989, Nutr Res Rev, V2, P227, DOI 10.1079/NRR19890016',\n",
       " 'RAWLINGS P, 1993, B ENTOMOL RES, V83, P625, DOI 10.1017/S0007485300040050',\n",
       " 'RAWLINGS P, 1991, PARASITOLOGY, V102, P371, DOI 10.1017/S0031182000064325',\n",
       " '*SAS, 1998, VERS 6 12',\n",
       " 'SHRAW KL, 1995, INT J PARASITOL, V25, P381',\n",
       " 'Snedecor G. W., 1980, STAT METHODS, P507',\n",
       " 'SUMBERG JE, 1985, TROP ANIM HEALTH PRO, V17, P135, DOI 10.1007/BF02355872',\n",
       " 'TANNER M. A., 1993, TOOLS STAT INFERENCE',\n",
       " 'Thienpont D., 1979, DIAGNOSE VERMINOSE D',\n",
       " 'THOMAS RJ, 1983, INT J PARASITOL, V13, P393, DOI 10.1016/S0020-7519(83)80047-2',\n",
       " 'Tillard E, 1997, PROD ANIM, V10, P67',\n",
       " 'TILLARD E, 1992, 7 C INT I MED',\n",
       " 'UPTON M, 1985, AGR SYST, V17, P65, DOI 10.1016/0308-521X(85)90014-9',\n",
       " 'VASSILIADES G, 1984, REV ELEV MED VET PAY, V37, P293',\n",
       " 'Waller PJ, 1997, VET PARASITOL, V71, P195, DOI 10.1016/S0304-4017(97)00032-0',\n",
       " 'ZINSSTAG J, 1994, ACTA TROP, V58, P99, DOI 10.1016/0001-706X(94)90049-3']"
      ]
     },
     "execution_count": 129,
     "metadata": {},
     "output_type": "execute_result"
    }
   ],
   "source": [
    "publication_with_cr_df['CR'][0]"
   ]
  },
  {
   "attachments": {},
   "cell_type": "markdown",
   "metadata": {},
   "source": [
    "We now simply list all citations from a certain journal (`SO`) to a certain cited reference (`CR`)."
   ]
  },
  {
   "cell_type": "code",
   "execution_count": 130,
   "metadata": {},
   "outputs": [
    {
     "data": {
      "text/html": [
       "<div>\n",
       "<style scoped>\n",
       "    .dataframe tbody tr th:only-of-type {\n",
       "        vertical-align: middle;\n",
       "    }\n",
       "\n",
       "    .dataframe tbody tr th {\n",
       "        vertical-align: top;\n",
       "    }\n",
       "\n",
       "    .dataframe thead th {\n",
       "        text-align: right;\n",
       "    }\n",
       "</style>\n",
       "<table border=\"1\" class=\"dataframe\">\n",
       "  <thead>\n",
       "    <tr style=\"text-align: right;\">\n",
       "      <th></th>\n",
       "      <th>SO</th>\n",
       "      <th>CR</th>\n",
       "    </tr>\n",
       "    <tr>\n",
       "      <th>UT</th>\n",
       "      <th></th>\n",
       "      <th></th>\n",
       "    </tr>\n",
       "  </thead>\n",
       "  <tbody>\n",
       "    <tr>\n",
       "      <th>WOS:000084372900003</th>\n",
       "      <td>ACTA TROPICA</td>\n",
       "      <td>Albers G. A. A., 1984, Immunogenetic approache...</td>\n",
       "    </tr>\n",
       "    <tr>\n",
       "      <th>WOS:000084372900003</th>\n",
       "      <td>ACTA TROPICA</td>\n",
       "      <td>Ankers P, 1998, PREV VET MED, V34, P215, DOI 1...</td>\n",
       "    </tr>\n",
       "    <tr>\n",
       "      <th>WOS:000084372900003</th>\n",
       "      <td>ACTA TROPICA</td>\n",
       "      <td>Ankers P, 1994, Rev Elev Med Vet Pays Trop, V4...</td>\n",
       "    </tr>\n",
       "    <tr>\n",
       "      <th>WOS:000084372900003</th>\n",
       "      <td>ACTA TROPICA</td>\n",
       "      <td>Barger I. A., 1982, Biology and control of end...</td>\n",
       "    </tr>\n",
       "    <tr>\n",
       "      <th>WOS:000084372900003</th>\n",
       "      <td>ACTA TROPICA</td>\n",
       "      <td>BARGER IA, 1998, VET PARASITOL, V72, P493</td>\n",
       "    </tr>\n",
       "    <tr>\n",
       "      <th>...</th>\n",
       "      <td>...</td>\n",
       "      <td>...</td>\n",
       "    </tr>\n",
       "    <tr>\n",
       "      <th>WOS:000437449800023</th>\n",
       "      <td>MEDECINE ET SANTE TROPICALES</td>\n",
       "      <td>Manga N M, 2009, Bull Soc Pathol Exot, V102, P221</td>\n",
       "    </tr>\n",
       "    <tr>\n",
       "      <th>WOS:000437449800023</th>\n",
       "      <td>MEDECINE ET SANTE TROPICALES</td>\n",
       "      <td>Ministere de la Sante et de l'Hygiene publique...</td>\n",
       "    </tr>\n",
       "    <tr>\n",
       "      <th>WOS:000437449800023</th>\n",
       "      <td>MEDECINE ET SANTE TROPICALES</td>\n",
       "      <td>Ndour CT, 2002, MED MALADIES INFECT, V32, P399...</td>\n",
       "    </tr>\n",
       "    <tr>\n",
       "      <th>WOS:000437449800023</th>\n",
       "      <td>MEDECINE ET SANTE TROPICALES</td>\n",
       "      <td>Service de pediatrie de l'hopital national Don...</td>\n",
       "    </tr>\n",
       "    <tr>\n",
       "      <th>WOS:000437449800023</th>\n",
       "      <td>MEDECINE ET SANTE TROPICALES</td>\n",
       "      <td>Seydi M, 2000, DAKAR MED, V41, P5</td>\n",
       "    </tr>\n",
       "  </tbody>\n",
       "</table>\n",
       "<p>49316 rows × 2 columns</p>\n",
       "</div>"
      ],
      "text/plain": [
       "                                               SO  \\\n",
       "UT                                                  \n",
       "WOS:000084372900003                  ACTA TROPICA   \n",
       "WOS:000084372900003                  ACTA TROPICA   \n",
       "WOS:000084372900003                  ACTA TROPICA   \n",
       "WOS:000084372900003                  ACTA TROPICA   \n",
       "WOS:000084372900003                  ACTA TROPICA   \n",
       "...                                           ...   \n",
       "WOS:000437449800023  MEDECINE ET SANTE TROPICALES   \n",
       "WOS:000437449800023  MEDECINE ET SANTE TROPICALES   \n",
       "WOS:000437449800023  MEDECINE ET SANTE TROPICALES   \n",
       "WOS:000437449800023  MEDECINE ET SANTE TROPICALES   \n",
       "WOS:000437449800023  MEDECINE ET SANTE TROPICALES   \n",
       "\n",
       "                                                                    CR  \n",
       "UT                                                                      \n",
       "WOS:000084372900003  Albers G. A. A., 1984, Immunogenetic approache...  \n",
       "WOS:000084372900003  Ankers P, 1998, PREV VET MED, V34, P215, DOI 1...  \n",
       "WOS:000084372900003  Ankers P, 1994, Rev Elev Med Vet Pays Trop, V4...  \n",
       "WOS:000084372900003  Barger I. A., 1982, Biology and control of end...  \n",
       "WOS:000084372900003          BARGER IA, 1998, VET PARASITOL, V72, P493  \n",
       "...                                                                ...  \n",
       "WOS:000437449800023  Manga N M, 2009, Bull Soc Pathol Exot, V102, P221  \n",
       "WOS:000437449800023  Ministere de la Sante et de l'Hygiene publique...  \n",
       "WOS:000437449800023  Ndour CT, 2002, MED MALADIES INFECT, V32, P399...  \n",
       "WOS:000437449800023  Service de pediatrie de l'hopital national Don...  \n",
       "WOS:000437449800023                  Seydi M, 2000, DAKAR MED, V41, P5  \n",
       "\n",
       "[49316 rows x 2 columns]"
      ]
     },
     "execution_count": 130,
     "metadata": {},
     "output_type": "execute_result"
    }
   ],
   "source": [
    "journal_cits_df = publication_with_cr_df[['SO', 'CR']].explode('CR')\n",
    "journal_cits_df"
   ]
  },
  {
   "attachments": {},
   "cell_type": "markdown",
   "metadata": {},
   "source": [
    "We then create all bibliographic couplings per cited reference as follows. We first group by the cited reference (`CR`) and then take all combinations of citing journals."
   ]
  },
  {
   "cell_type": "code",
   "execution_count": 131,
   "metadata": {},
   "outputs": [],
   "source": [
    "bibcoupling_per_cr = journal_cits_df.groupby('CR').apply(lambda x: list(itr.combinations(x['SO'], 2)))"
   ]
  },
  {
   "attachments": {},
   "cell_type": "markdown",
   "metadata": {},
   "source": [
    "We again `explode` all combinations of two sources citing the same reference."
   ]
  },
  {
   "cell_type": "code",
   "execution_count": 132,
   "metadata": {},
   "outputs": [
    {
     "data": {
      "text/plain": [
       "CR\n",
       "*BUR CENTR TRYP, 1995, GUID TECHN PROGR NAT                                    (TROPICAL MEDICINE & INTERNATIONAL HEALTH, TRO...\n",
       "*BUR CENTR TRYP, 1995, GUID TECHN PROGR NAT                                    (TROPICAL MEDICINE & INTERNATIONAL HEALTH, PLO...\n",
       "*BUR CENTR TRYP, 1995, GUID TECHN PROGR NAT                                    (TROPICAL MEDICINE & INTERNATIONAL HEALTH, PLO...\n",
       "*BUR CENTR TRYP, 2002, DECL POL NAT LUTT CO                                    (TROPICAL MEDICINE & INTERNATIONAL HEALTH, TRO...\n",
       "*CDCP, 1999, MMWR-MORBID MORTAL W, V48, P1                                     (AMERICAN JOURNAL OF TROPICAL MEDICINE AND HYG...\n",
       "                                                                                                     ...                        \n",
       "von Seidlein L, 2000, LANCET, V355, P352, DOI 10.1016/S0140-6736(99)10237-X    (TRANSACTIONS OF THE ROYAL SOCIETY OF TROPICAL...\n",
       "von Seidlein L, 2000, LANCET, V355, P352, DOI 10.1016/S0140-6736(99)10237-X    (TRANSACTIONS OF THE ROYAL SOCIETY OF TROPICAL...\n",
       "von Seidlein L, 2000, LANCET, V355, P352, DOI 10.1016/S0140-6736(99)10237-X    (TROPICAL MEDICINE & INTERNATIONAL HEALTH, AME...\n",
       "von Seidlein L, 2000, LANCET, V355, P352, DOI 10.1016/S0140-6736(99)10237-X    (TROPICAL MEDICINE & INTERNATIONAL HEALTH, AME...\n",
       "von Seidlein L, 2000, LANCET, V355, P352, DOI 10.1016/S0140-6736(99)10237-X    (AMERICAN JOURNAL OF TROPICAL MEDICINE AND HYG...\n",
       "Length: 36805, dtype: object"
      ]
     },
     "execution_count": 132,
     "metadata": {},
     "output_type": "execute_result"
    }
   ],
   "source": [
    "bibcouplings = bibcoupling_per_cr.explode().dropna()\n",
    "bibcouplings"
   ]
  },
  {
   "attachments": {},
   "cell_type": "markdown",
   "metadata": {},
   "source": [
    "We can then create the network."
   ]
  },
  {
   "cell_type": "code",
   "execution_count": 133,
   "metadata": {},
   "outputs": [],
   "source": [
    "G_coupling = ig.Graph.TupleList(\n",
    "      edges=bibcouplings,\n",
    "      vertex_name_attr='SO',\n",
    "      directed=False\n",
    "      )"
   ]
  },
  {
   "attachments": {},
   "cell_type": "markdown",
   "metadata": {},
   "source": [
    "<div class=\"alert alert-info\">\n",
    "    We again need to simplify this network. Create a new edge attribute called <code>coupling</code> set it to <code>1</code> and then sum this attribute when simplifying the network.\n",
    "</div>"
   ]
  },
  {
   "cell_type": "code",
   "execution_count": 134,
   "metadata": {},
   "outputs": [],
   "source": [
    "G_coupling.es['coupling'] = 1\n",
    "G_coupling = G_coupling.simplify(combine_edges='sum')"
   ]
  },
  {
   "attachments": {},
   "cell_type": "markdown",
   "metadata": {},
   "source": [
    "This network should be reasonably sized, and you should be able to visualize this network by calling `ig.plot`."
   ]
  },
  {
   "cell_type": "code",
   "execution_count": 135,
   "metadata": {},
   "outputs": [
    {
     "data": {
      "text/plain": [
       "<AxesSubplot:>"
      ]
     },
     "execution_count": 135,
     "metadata": {},
     "output_type": "execute_result"
    },
    {
     "data": {
      "image/png": "[encoded data removed]",
      "text/plain": [
       "<Figure size 432x288 with 1 Axes>"
      ]
     },
     "metadata": {},
     "output_type": "display_data"
    }
   ],
   "source": [
    "import matplotlib.pyplot as plt\n",
    "fig, ax = plt.subplots()\n",
    "ig.plot(G_coupling, vertex_label=G_coupling.vs['SO'], target=ax)"
   ]
  },
  {
   "attachments": {},
   "cell_type": "markdown",
   "metadata": {},
   "source": [
    "# Network analysis"
   ]
  },
  {
   "attachments": {},
   "cell_type": "markdown",
   "metadata": {},
   "source": [
    "Now that we have created some scientometric networks, let us look at some basic analyses of these networks."
   ]
  },
  {
   "attachments": {},
   "cell_type": "markdown",
   "metadata": {},
   "source": [
    "## Connectivity"
   ]
  },
  {
   "attachments": {},
   "cell_type": "markdown",
   "metadata": {},
   "source": [
    "Let us start with a very simple question. Is the co-authorship network connected?"
   ]
  },
  {
   "cell_type": "code",
   "execution_count": 136,
   "metadata": {},
   "outputs": [
    {
     "data": {
      "text/plain": [
       "False"
      ]
     },
     "execution_count": 136,
     "metadata": {},
     "output_type": "execute_result"
    }
   ],
   "source": [
    "G_coauthorship.is_connected()"
   ]
  },
  {
   "attachments": {},
   "cell_type": "markdown",
   "metadata": {},
   "source": [
    "Apparently, not all authors in this dataset are connected via co-authored papers."
   ]
  },
  {
   "attachments": {},
   "cell_type": "markdown",
   "metadata": {},
   "source": [
    "<div class=\"alert alert-info\">\n",
    "How many authors do you think will be connected to each other? 500? 5000? Almost everybody?\n",
    "</div>"
   ]
  },
  {
   "attachments": {},
   "cell_type": "markdown",
   "metadata": {},
   "source": [
    "In order to take a closer look, we need to detect the *connected components*. This is easily done, but the function is confusingly called `clusters`."
   ]
  },
  {
   "cell_type": "code",
   "execution_count": 137,
   "metadata": {},
   "outputs": [],
   "source": [
    "components = G_coauthorship.connected_components()"
   ]
  },
  {
   "cell_type": "code",
   "execution_count": 138,
   "metadata": {},
   "outputs": [
    {
     "data": {
      "text/plain": [
       "<igraph.clustering.VertexClustering at 0x1236bac40>"
      ]
     },
     "execution_count": 138,
     "metadata": {},
     "output_type": "execute_result"
    }
   ],
   "source": [
    "components"
   ]
  },
  {
   "attachments": {},
   "cell_type": "markdown",
   "metadata": {},
   "source": [
    "Let us only look at the giant component."
   ]
  },
  {
   "cell_type": "code",
   "execution_count": 139,
   "metadata": {},
   "outputs": [],
   "source": [
    "H = components.giant()"
   ]
  },
  {
   "attachments": {},
   "cell_type": "markdown",
   "metadata": {},
   "source": [
    "Let us check how many nodes are in the giant component. We can call the function `summary`."
   ]
  },
  {
   "cell_type": "code",
   "execution_count": 140,
   "metadata": {},
   "outputs": [
    {
     "data": {
      "text/plain": [
       "'IGRAPH U--- 7871 69928 -- \\n+ attr: author (v), n_joint_papers (e)'"
      ]
     },
     "execution_count": 140,
     "metadata": {},
     "output_type": "execute_result"
    }
   ],
   "source": [
    "H.summary()"
   ]
  },
  {
   "attachments": {},
   "cell_type": "markdown",
   "metadata": {},
   "source": [
    "The first line indicates that we have an undirected graph (`U`) with 7871 nodes and 69928 links. The next line shows vertex attributes (indicated by the `v` behind the name of the attribute), and edge attributes (indicated by the `e`)."
   ]
  },
  {
   "attachments": {},
   "cell_type": "markdown",
   "metadata": {},
   "source": [
    "<div class=\"alert alert-info\">\n",
    "    <ol>\n",
    "      <li> What is the percentage of nodes that are in the giant component? \n",
    "      <li> Double check whether the giant component is connected.\n",
    "    </ol>\n",
    "</div>"
   ]
  },
  {
   "cell_type": "code",
   "execution_count": 141,
   "metadata": {},
   "outputs": [
    {
     "data": {
      "text/plain": [
       "92.79651025701486"
      ]
     },
     "execution_count": 141,
     "metadata": {},
     "output_type": "execute_result"
    }
   ],
   "source": [
    "H.vcount() / G_coauthorship.vcount() * 100"
   ]
  },
  {
   "attachments": {},
   "cell_type": "markdown",
   "metadata": {},
   "source": [
    "Let us take a closer look at how far authors in this data set are apart from one another. Let us simply take a look at node number `0` (remember, the first node has number `0`, not `1`) and node number `355`. "
   ]
  },
  {
   "cell_type": "code",
   "execution_count": 142,
   "metadata": {},
   "outputs": [
    {
     "data": {
      "text/plain": [
       "[[0, 3, 223, 355]]"
      ]
     },
     "execution_count": 142,
     "metadata": {},
     "output_type": "execute_result"
    }
   ],
   "source": [
    "paths = G_coauthorship.get_shortest_paths(0, 355)\n",
    "paths"
   ]
  },
  {
   "attachments": {},
   "cell_type": "markdown",
   "metadata": {},
   "source": [
    "This returns a list of all shortests paths of the nodes between node number 0 and node number 355. In fact, there is only one path, so let us select that."
   ]
  },
  {
   "cell_type": "code",
   "execution_count": 143,
   "metadata": {},
   "outputs": [
    {
     "data": {
      "text/plain": [
       "[0, 3, 223, 355]"
      ]
     },
     "execution_count": 143,
     "metadata": {},
     "output_type": "execute_result"
    }
   ],
   "source": [
    "path = paths[0]\n",
    "path"
   ]
  },
  {
   "attachments": {},
   "cell_type": "markdown",
   "metadata": {},
   "source": [
    "<div class=\"alert alert-info\">\n",
    "How many nodes are in the path? What is the path length?\n",
    "</div>"
   ]
  },
  {
   "attachments": {},
   "cell_type": "markdown",
   "metadata": {},
   "source": [
    "These numbers probably do not mean that much to you. You can find out more about an individual node by looking at the `VertexSequence` of `igraph`, abbreviated as `vs`. This is a sort of list of all vertices, and is indexed by brackets `[ ]`, similar to lists, instead of parentheses `( )` as we do for functions."
   ]
  },
  {
   "cell_type": "code",
   "execution_count": 144,
   "metadata": {},
   "outputs": [
    {
     "data": {
      "text/plain": [
       "igraph.Vertex(<igraph.Graph object at 0x124329140>, 0, {'author': 'Osaer, S'})"
      ]
     },
     "execution_count": 144,
     "metadata": {},
     "output_type": "execute_result"
    }
   ],
   "source": [
    "G_coauthorship.vs[0]"
   ]
  },
  {
   "attachments": {},
   "cell_type": "markdown",
   "metadata": {},
   "source": [
    "The vertex itself is also a type of list (called a *dictionary*), and you can only return the author name as follows"
   ]
  },
  {
   "cell_type": "code",
   "execution_count": 145,
   "metadata": {},
   "outputs": [
    {
     "data": {
      "text/plain": [
       "'Osaer, S'"
      ]
     },
     "execution_count": 145,
     "metadata": {},
     "output_type": "execute_result"
    }
   ],
   "source": [
    "G_coauthorship.vs[0]['author']"
   ]
  },
  {
   "attachments": {},
   "cell_type": "markdown",
   "metadata": {},
   "source": [
    "You can also list multiple vertices at once."
   ]
  },
  {
   "cell_type": "code",
   "execution_count": 146,
   "metadata": {},
   "outputs": [
    {
     "data": {
      "text/plain": [
       "['Osaer, S', 'Geerts, S', 'Van Marck, E', 'Watkins, W']"
      ]
     },
     "execution_count": 146,
     "metadata": {},
     "output_type": "execute_result"
    }
   ],
   "source": [
    "G_coauthorship.vs[[0, 3, 223, 355]]['author']"
   ]
  },
  {
   "attachments": {},
   "cell_type": "markdown",
   "metadata": {},
   "source": [
    "You can of course also simply pass the variable `path` that we constructed earlier."
   ]
  },
  {
   "cell_type": "code",
   "execution_count": 147,
   "metadata": {},
   "outputs": [
    {
     "data": {
      "text/plain": [
       "['Osaer, S', 'Geerts, S', 'Van Marck, E', 'Watkins, W']"
      ]
     },
     "execution_count": 147,
     "metadata": {},
     "output_type": "execute_result"
    }
   ],
   "source": [
    "G_coauthorship.vs[path]['author']"
   ]
  },
  {
   "attachments": {},
   "cell_type": "markdown",
   "metadata": {},
   "source": [
    "This shows that Osaer collaborated with Geert, who collaborated with Van Mark, who in the end collaborated with Watkins."
   ]
  },
  {
   "attachments": {},
   "cell_type": "markdown",
   "metadata": {},
   "source": [
    "You can also get the vertex by searching for the author name. For example, if we want to find `'Van Marck, E'` we can use the following."
   ]
  },
  {
   "cell_type": "code",
   "execution_count": 148,
   "metadata": {},
   "outputs": [
    {
     "data": {
      "text/plain": [
       "igraph.Vertex(<igraph.Graph object at 0x124329140>, 223, {'author': 'Van Marck, E'})"
      ]
     },
     "execution_count": 148,
     "metadata": {},
     "output_type": "execute_result"
    }
   ],
   "source": [
    "G_coauthorship.vs.find(author_eq = 'Van Marck, E')"
   ]
  },
  {
   "attachments": {},
   "cell_type": "markdown",
   "metadata": {},
   "source": [
    "Here `author_eq` refers to the condition that the vertex attribute `author` should **eq**ual `'Van Marck, E'`."
   ]
  },
  {
   "attachments": {},
   "cell_type": "markdown",
   "metadata": {},
   "source": [
    "<div class=\"alert alert-info\">\n",
    "    Find the shortest path from <code>'Van Marck, E'</code> to <code>'Migchelsen, S'</code>. Who is in between?\n",
    "</div>"
   ]
  },
  {
   "cell_type": "code",
   "execution_count": 149,
   "metadata": {},
   "outputs": [
    {
     "data": {
      "text/plain": [
       "igraph.Vertex(<igraph.Graph object at 0x124329140>, 3556, {'author': 'Migchelsen, S'})"
      ]
     },
     "execution_count": 149,
     "metadata": {},
     "output_type": "execute_result"
    }
   ],
   "source": [
    "G_coauthorship.vs.find(author_eq = 'Migchelsen, S')"
   ]
  },
  {
   "cell_type": "code",
   "execution_count": 150,
   "metadata": {},
   "outputs": [
    {
     "data": {
      "text/plain": [
       "['Van Marck, E', \"D'Alessandro, U\", 'Schallig, H', 'Migchelsen, S']"
      ]
     },
     "execution_count": 150,
     "metadata": {},
     "output_type": "execute_result"
    }
   ],
   "source": [
    "paths = G_coauthorship.get_shortest_paths(223, 3556)\n",
    "path = paths[0]\n",
    "G_coauthorship.vs[path]['author']"
   ]
  },
  {
   "attachments": {},
   "cell_type": "markdown",
   "metadata": {},
   "source": [
    "We can let `igraph` also calculate how far apart all nodes are."
   ]
  },
  {
   "attachments": {},
   "cell_type": "markdown",
   "metadata": {},
   "source": [
    "<div class=\"alert alert-warning\">\n",
    "The following may take some time to run\n",
    "</div>"
   ]
  },
  {
   "cell_type": "code",
   "execution_count": 151,
   "metadata": {},
   "outputs": [
    {
     "name": "stdout",
     "output_type": "stream",
     "text": [
      "N = 30976412, mean +- sd: 3.9397 +- 0.9969\n",
      "Each * represents 225559 items\n",
      "[ 1,  2):  (72938)\n",
      "[ 2,  3): ****** (1478785)\n",
      "[ 3,  4): ************************************** (8781467)\n",
      "[ 4,  5): ********************************************************* (12856894)\n",
      "[ 5,  6): ************************* (5864521)\n",
      "[ 6,  7): ******* (1579011)\n",
      "[ 7,  8): * (305739)\n",
      "[ 8,  9):  (35034)\n",
      "[ 9, 10):  (1967)\n",
      "[10, 11):  (56)\n"
     ]
    }
   ],
   "source": [
    "path_lengths = G_coauthorship.path_length_hist()\n",
    "print(path_lengths)"
   ]
  },
  {
   "attachments": {},
   "cell_type": "markdown",
   "metadata": {},
   "source": [
    "<div class=\"alert alert-info\">\n",
    "How far apart are most authors? Do you think most authors are close by? Or do you think they are far apart?\n",
    "</div>"
   ]
  },
  {
   "attachments": {},
   "cell_type": "markdown",
   "metadata": {},
   "source": [
    "Let us take a closer look at the path between node 0 and node 355 again. Instead of the nodes on the path, we now want to take a closer look at the edges on the path."
   ]
  },
  {
   "cell_type": "code",
   "execution_count": 152,
   "metadata": {},
   "outputs": [
    {
     "data": {
      "text/plain": [
       "[[2, 9, 6192]]"
      ]
     },
     "execution_count": 152,
     "metadata": {},
     "output_type": "execute_result"
    }
   ],
   "source": [
    "epath = G_coauthorship.get_shortest_paths(0, 355, output='epath')\n",
    "epath"
   ]
  },
  {
   "attachments": {},
   "cell_type": "markdown",
   "metadata": {},
   "source": [
    "There are three edges on this path, but the numbers themselves are not very informative. They refer to the edges, and similar to the `VertexSequence` we encountered earlier, there is also an `EdgeSequence`, abbreviated as `es`. Let us take a closer look to the number of joint papers that the authors had co-authored."
   ]
  },
  {
   "cell_type": "code",
   "execution_count": 153,
   "metadata": {},
   "outputs": [
    {
     "data": {
      "text/plain": [
       "[1.0, 2.0, 3.0]"
      ]
     },
     "execution_count": 153,
     "metadata": {},
     "output_type": "execute_result"
    }
   ],
   "source": [
    "G_coauthorship.es[epath[0]]['n_joint_papers']"
   ]
  },
  {
   "attachments": {},
   "cell_type": "markdown",
   "metadata": {},
   "source": [
    "Perhaps there are other paths that connect the two authors with more joint papers? Perhaps we could use the number of joint papers as weights?"
   ]
  },
  {
   "cell_type": "code",
   "execution_count": 154,
   "metadata": {},
   "outputs": [
    {
     "data": {
      "text/plain": [
       "[[2, 71, 5163, 4827, 8584]]"
      ]
     },
     "execution_count": 154,
     "metadata": {},
     "output_type": "execute_result"
    }
   ],
   "source": [
    "epath = G_coauthorship.get_shortest_paths(0, 355, weights='n_joint_papers', output='epath')\n",
    "epath"
   ]
  },
  {
   "attachments": {},
   "cell_type": "markdown",
   "metadata": {},
   "source": [
    "We do get a different path, which it is actually longer. Let us take a look at the number of joint papers."
   ]
  },
  {
   "cell_type": "code",
   "execution_count": 155,
   "metadata": {},
   "outputs": [
    {
     "data": {
      "text/plain": [
       "[1.0, 1.0, 1.0, 1.0, 1.0]"
      ]
     },
     "execution_count": 155,
     "metadata": {},
     "output_type": "execute_result"
    }
   ],
   "source": [
    "G_coauthorship.es[epath[0]]['n_joint_papers']"
   ]
  },
  {
   "attachments": {},
   "cell_type": "markdown",
   "metadata": {},
   "source": [
    "The total number of joint papers is lower! That is because *shortest path* means: the path with the lowest sum of the weights. This is clearly not what we want. You should always be aware of this whenever using the concept of the *shortest path*."
   ]
  },
  {
   "attachments": {},
   "cell_type": "markdown",
   "metadata": {},
   "source": [
    "<div class=\"alert alert-danger\">\n",
    "<b>Attention!</b> Weighted shortest paths have the <em>lowest</em> total weight.\n",
    "</div>"
   ]
  },
  {
   "attachments": {},
   "cell_type": "markdown",
   "metadata": {},
   "source": [
    "## Clustering coefficient"
   ]
  },
  {
   "attachments": {},
   "cell_type": "markdown",
   "metadata": {},
   "source": [
    "Let us look whether co-authors of an author also tend to be co-authors among themselves."
   ]
  },
  {
   "attachments": {},
   "cell_type": "markdown",
   "metadata": {},
   "source": [
    "Let us take a look at the co-authors of of author number 0, which are called the *neighbors* in network terminology."
   ]
  },
  {
   "cell_type": "code",
   "execution_count": 156,
   "metadata": {},
   "outputs": [
    {
     "data": {
      "text/plain": [
       "[0, 1, 2, 3]"
      ]
     },
     "execution_count": 156,
     "metadata": {},
     "output_type": "execute_result"
    }
   ],
   "source": [
    "G_coauthorship.neighborhood(0)"
   ]
  },
  {
   "attachments": {},
   "cell_type": "markdown",
   "metadata": {},
   "source": [
    "What we actually want to know is whether many of those neighors are connected. That is, we want to take the subgraph of all authors that have co-authored with author number 0."
   ]
  },
  {
   "cell_type": "code",
   "execution_count": 157,
   "metadata": {},
   "outputs": [
    {
     "data": {
      "text/plain": [
       "'IGRAPH U--- 4 6 -- \\n+ attr: author (v), n_joint_papers (e)'"
      ]
     },
     "execution_count": 157,
     "metadata": {},
     "output_type": "execute_result"
    }
   ],
   "source": [
    "H = G_coauthorship.induced_subgraph(G_coauthorship.neighborhood(0))\n",
    "H.summary()"
   ]
  },
  {
   "attachments": {},
   "cell_type": "markdown",
   "metadata": {},
   "source": [
    "This subgraph only has 4 nodes (including node 0, so it has 3 neighbours) and 6 edges. This is sufficiently small to be easily plotted for visual inspection."
   ]
  },
  {
   "cell_type": "code",
   "execution_count": 158,
   "metadata": {},
   "outputs": [
    {
     "data": {
      "text/plain": [
       "<AxesSubplot:>"
      ]
     },
     "execution_count": 158,
     "metadata": {},
     "output_type": "execute_result"
    },
    {
     "data": {
      "image/png": "[encoded data removed]",
      "text/plain": [
       "<Figure size 432x288 with 1 Axes>"
      ]
     },
     "metadata": {},
     "output_type": "display_data"
    }
   ],
   "source": [
    "H.vs['color'] = 'grey'\n",
    "H.vs[0]['color'] = 'red'\n",
    "fig, ax = plt.subplots()\n",
    "ig.plot(H, target=ax)"
   ]
  },
  {
   "attachments": {},
   "cell_type": "markdown",
   "metadata": {},
   "source": [
    "<div class=\"alert alert-info\">\n",
    "Do many of the co-authors collaborate among themselves as well? Why do you think this happens?\n",
    "</div>"
   ]
  },
  {
   "attachments": {},
   "cell_type": "markdown",
   "metadata": {},
   "source": [
    "We can also ask `igraph` to calculate the clustering coefficient (which is called *transitivity* in igraph, which is the same concept using different terms) of node 0."
   ]
  },
  {
   "cell_type": "code",
   "execution_count": 159,
   "metadata": {},
   "outputs": [
    {
     "data": {
      "text/plain": [
       "1.0"
      ]
     },
     "execution_count": 159,
     "metadata": {},
     "output_type": "execute_result"
    }
   ],
   "source": [
    "G_coauthorship.transitivity_local_undirected(0)"
   ]
  },
  {
   "attachments": {},
   "cell_type": "markdown",
   "metadata": {},
   "source": [
    "<div class=\"alert alert-info\">\n",
    "What percentage of the co-authors of node 0 have also written papers with each other?\n",
    "</div>"
   ]
  },
  {
   "cell_type": "code",
   "execution_count": null,
   "metadata": {},
   "outputs": [],
   "source": []
  },
  {
   "attachments": {},
   "cell_type": "markdown",
   "metadata": {},
   "source": [
    "You can calculate the average for all nodes using the function `transitivity_avglocal_undirected`."
   ]
  },
  {
   "attachments": {},
   "cell_type": "markdown",
   "metadata": {},
   "source": [
    "<div class=\"alert alert-info\">\n",
    "What percentage of the co-authors have also written papers with each other on average? Do you think this is high or not?\n",
    "</div>"
   ]
  },
  {
   "cell_type": "code",
   "execution_count": null,
   "metadata": {},
   "outputs": [],
   "source": []
  },
  {
   "attachments": {},
   "cell_type": "markdown",
   "metadata": {},
   "source": [
    "## Centrality"
   ]
  },
  {
   "attachments": {},
   "cell_type": "markdown",
   "metadata": {},
   "source": [
    "Often, people want to identify which nodes seem to be most important in some way in the network. This is often thought of as a type of *centrality* of a node."
   ]
  },
  {
   "attachments": {},
   "cell_type": "markdown",
   "metadata": {},
   "source": [
    "### Degree"
   ]
  },
  {
   "attachments": {},
   "cell_type": "markdown",
   "metadata": {},
   "source": [
    "The simplest type of centrality is the *degree* of a node, which is simply the number of its neighbors. Previously, we saw that node 0 had 3 neighbors, we therefore say its degree is 3."
   ]
  },
  {
   "cell_type": "code",
   "execution_count": 182,
   "metadata": {},
   "outputs": [
    {
     "data": {
      "text/plain": [
       "3"
      ]
     },
     "execution_count": 182,
     "metadata": {},
     "output_type": "execute_result"
    }
   ],
   "source": [
    "G_coauthorship.degree(0)"
   ]
  },
  {
   "attachments": {},
   "cell_type": "markdown",
   "metadata": {},
   "source": [
    "We can also simply calculate the degree for everybody and store it in a new vertex attribute called `degree`."
   ]
  },
  {
   "cell_type": "code",
   "execution_count": 183,
   "metadata": {},
   "outputs": [],
   "source": [
    "G_coauthorship.vs['degree'] = G_coauthorship.degree()"
   ]
  },
  {
   "attachments": {},
   "cell_type": "markdown",
   "metadata": {},
   "source": [
    "<div class=\"alert alert-info\">\n",
    "    What is the degree of <code>'Van Marck, E'</code>?\n",
    "</div>"
   ]
  },
  {
   "cell_type": "code",
   "execution_count": null,
   "metadata": {},
   "outputs": [],
   "source": []
  },
  {
   "attachments": {},
   "cell_type": "markdown",
   "metadata": {},
   "source": [
    "We can also take a look at the complete degree distribution. To plot it, we load the `matplotlib` package. We import the plotting functionality and name the package `plt`. We also include a statement telling Python to show the plots immediately in this notebook."
   ]
  },
  {
   "cell_type": "code",
   "execution_count": 184,
   "metadata": {},
   "outputs": [],
   "source": [
    "import matplotlib.pyplot as plt\n",
    "%matplotlib inline"
   ]
  },
  {
   "attachments": {},
   "cell_type": "markdown",
   "metadata": {},
   "source": [
    "Now let us plot a histogram of the degree, using 50 bins."
   ]
  },
  {
   "cell_type": "code",
   "execution_count": 185,
   "metadata": {},
   "outputs": [
    {
     "data": {
      "image/png": "[encoded data removed]",
      "text/plain": [
       "<Figure size 432x288 with 1 Axes>"
      ]
     },
     "metadata": {
      "needs_background": "light"
     },
     "output_type": "display_data"
    }
   ],
   "source": [
    "plt.hist(G_coauthorship.vs['degree'], 50);\n",
    "plt.yscale('log')"
   ]
  },
  {
   "attachments": {},
   "cell_type": "markdown",
   "metadata": {},
   "source": [
    "This clearly shows that the degree distribution is quite skewed. Most authors have only few collaborators, while a few authors have many collaborators. If the degree distribution is so skewed, it is sometimes referred to as a *scale-free* network, although the exact definition has been a topic of intense discussion recently."
   ]
  },
  {
   "attachments": {},
   "cell_type": "markdown",
   "metadata": {},
   "source": [
    "The code below sorts the nodes in descending order of the degree."
   ]
  },
  {
   "cell_type": "code",
   "execution_count": 186,
   "metadata": {},
   "outputs": [],
   "source": [
    "highest_degree = sorted(G_coauthorship.vs, key=lambda v: v['degree'], reverse=True)"
   ]
  },
  {
   "attachments": {},
   "cell_type": "markdown",
   "metadata": {},
   "source": [
    "The `sorted` function takes a list as input, `G_coauthorship.vs` in our case, and sorts it according to a sort key. We indicate the sort key by a small function, called a `lambda` function, that returns the degree. In other words, the `sorted` function will sort the nodes according to the degree. By indicating `reverse=True` we obtain a list that is sorted highest to lowest, instead of the other way around."
   ]
  },
  {
   "attachments": {},
   "cell_type": "markdown",
   "metadata": {},
   "source": [
    "You can look at the first five results in the following way."
   ]
  },
  {
   "cell_type": "code",
   "execution_count": 190,
   "metadata": {},
   "outputs": [
    {
     "data": {
      "text/plain": [
       "[igraph.Vertex(<igraph.Graph object at 0x1228aa740>, 139, {'author': \"D'Alessandro, U\", 'degree': 715}),\n",
       " igraph.Vertex(<igraph.Graph object at 0x1228aa740>, 42, {'author': 'Boelaert, M', 'degree': 641}),\n",
       " igraph.Vertex(<igraph.Graph object at 0x1228aa740>, 341, {'author': 'Dorny, P', 'degree': 369}),\n",
       " igraph.Vertex(<igraph.Graph object at 0x1228aa740>, 63, {'author': 'Buscher, P', 'degree': 348}),\n",
       " igraph.Vertex(<igraph.Graph object at 0x1228aa740>, 64, {'author': 'Dujardin, JC', 'degree': 326})]"
      ]
     },
     "execution_count": 190,
     "metadata": {},
     "output_type": "execute_result"
    }
   ],
   "source": [
    "highest_degree[:5]"
   ]
  },
  {
   "attachments": {},
   "cell_type": "markdown",
   "metadata": {},
   "source": [
    "So, apparently, U D'Allessandro has collaborated with 715 other authors! This of course only considers the number of co-authors, it does not take into account the number of papers written with somebody else.\n",
    "When specifying such *edge weights* like the number of joint papers, the weighted degree is referred to as the *strength* of a node (which is sometimes a bit confusing term). \n",
    "\n",
    "Let us look at the strength of node 0."
   ]
  },
  {
   "cell_type": "code",
   "execution_count": 191,
   "metadata": {},
   "outputs": [
    {
     "data": {
      "text/plain": [
       "3.0"
      ]
     },
     "execution_count": 191,
     "metadata": {},
     "output_type": "execute_result"
    }
   ],
   "source": [
    "G_coauthorship.strength(0, weights='n_joint_papers')"
   ]
  },
  {
   "attachments": {},
   "cell_type": "markdown",
   "metadata": {},
   "source": [
    "Apparently, author 0 collaborated with 3 different authors, and has a total strength of 3. But what does this 3 mean? We need to carefully think about this. Suppose that author 0 has co-authored a single publication with three other co-authors, then each of the three co-authors would have an edge weight of `n_joint_papers = 1`. So, the strenght would be 3. Hence, the strength denotes the total number of collaborations that an author had, which depends both on the number of publications and the number of collaborators per paper.\n",
    "\n",
    "Sometimes, we wish to take into account the number of co-authorships when creating a link weight. We can then fractionally count the weight of each collaboration between $n_a$ authors as\n",
    "\n",
    "$$\\frac{1}{n_a - 1}.$$\n",
    "\n",
    "We need to go back to the `publications_df` in order to construct such a *fractional* edge weight."
   ]
  },
  {
   "cell_type": "code",
   "execution_count": 192,
   "metadata": {},
   "outputs": [
    {
     "data": {
      "text/plain": [
       "[('Osaer, S', 'Goossens, B', 0.3333333333333333),\n",
       " ('Osaer, S', 'Eysker, M', 0.3333333333333333),\n",
       " ('Osaer, S', 'Geerts, S', 0.3333333333333333),\n",
       " ('Goossens, B', 'Eysker, M', 0.3333333333333333),\n",
       " ('Goossens, B', 'Geerts, S', 0.3333333333333333),\n",
       " ('Eysker, M', 'Geerts, S', 0.3333333333333333)]"
      ]
     },
     "execution_count": 192,
     "metadata": {},
     "output_type": "execute_result"
    }
   ],
   "source": [
    "import itertools as itr\n",
    "[(coauthor[0], coauthor[1], 1/(len(authors) - 1)) for coauthor in itr.combinations(authors, 2)]"
   ]
  },
  {
   "attachments": {},
   "cell_type": "markdown",
   "metadata": {},
   "source": [
    "We again do this for all publications."
   ]
  },
  {
   "cell_type": "code",
   "execution_count": 193,
   "metadata": {},
   "outputs": [],
   "source": [
    "coauthors_per_publication = publications_df['AU_split'].apply(\n",
    "    lambda authors: \n",
    "        [(coauthor[0], coauthor[1], 1, 1/(len(authors) - 1)) \n",
    "             for coauthor in itr.combinations(authors, 2)])"
   ]
  },
  {
   "attachments": {},
   "cell_type": "markdown",
   "metadata": {},
   "source": [
    "The variable `coauthors_per_publication` is now a list of a list of co-authors per publication, but including a full weight of `1` and a fractional weight of `1/(len(authors) - 1)`, where `len(authors)` is the number of authors of the publications. We again `explode` this list."
   ]
  },
  {
   "cell_type": "code",
   "execution_count": 194,
   "metadata": {},
   "outputs": [],
   "source": [
    "coauthors = coauthors_per_publication.explode().dropna()"
   ]
  },
  {
   "attachments": {},
   "cell_type": "markdown",
   "metadata": {},
   "source": [
    "We can again create the network, but now we can pass two edge attributes, `n_joint_papers` and `n_joint_papers_frac`. We of course also have to simplify the network again."
   ]
  },
  {
   "cell_type": "code",
   "execution_count": 197,
   "metadata": {},
   "outputs": [],
   "source": [
    "G_coauthorship = ig.Graph.TupleList(\n",
    "      edges=coauthors.to_list(),\n",
    "      vertex_name_attr='author',\n",
    "      directed=False,\n",
    "      edge_attrs=('n_joint_papers', 'n_joint_papers_frac')\n",
    "      )\n",
    "G_coauthorship = G_coauthorship.simplify(loops=False, combine_edges='sum')"
   ]
  },
  {
   "attachments": {},
   "cell_type": "markdown",
   "metadata": {},
   "source": [
    "<div class=\"alert alert-info\">\n",
    "What is the sum of <code>n_joint_papers_frac</code> over all co-authors? Then shouldn't the strength sum up to a whole number? Why isn't that the case here? (Hint: look at the authors of publication <code>'WOS:000242241600004'</code)\n",
    "</div>"
   ]
  },
  {
   "cell_type": "code",
   "execution_count": 201,
   "metadata": {},
   "outputs": [
    {
     "data": {
      "text/plain": [
       "'Schenkel, K; Rijal, S; Koirala, S; Koirala, S; Vanlerberghe, V; Van der Stuyft, P; Gramiccia, M; Boelaert, M'"
      ]
     },
     "execution_count": 201,
     "metadata": {},
     "output_type": "execute_result"
    }
   ],
   "source": [
    "publications_df.loc['WOS:000242241600004', 'AU']"
   ]
  },
  {
   "cell_type": "code",
   "execution_count": 202,
   "metadata": {},
   "outputs": [
    {
     "data": {
      "text/plain": [
       "'Visceral leishmaniasis in southeastern Nepal: A cross-sectional survey on Leishmania donovani infection and its risk factors'"
      ]
     },
     "execution_count": 202,
     "metadata": {},
     "output_type": "execute_result"
    }
   ],
   "source": [
    "publications_df.loc['WOS:000242241600004', 'TI']"
   ]
  },
  {
   "attachments": {},
   "cell_type": "markdown",
   "metadata": {},
   "source": [
    "### Betweenness centrality"
   ]
  },
  {
   "attachments": {},
   "cell_type": "markdown",
   "metadata": {},
   "source": [
    "Betweenness centrality is much more elaborate, and gives an indication of the number of times a node is on the shortest path from one node to another node.\n",
    "\n",
    "As you can imagine, this can take quite some time to calculate for all nodes. We will therefore use the somewhat smaller bibliographic coupling network of journals."
   ]
  },
  {
   "attachments": {},
   "cell_type": "markdown",
   "metadata": {},
   "source": [
    "<div class=\"alert alert-warning\">\n",
    "    <b>Note:</b> On larger networks, it may take a long time to calculate the betweenness centrality.\n",
    "</div>"
   ]
  },
  {
   "cell_type": "code",
   "execution_count": 203,
   "metadata": {},
   "outputs": [],
   "source": [
    "G_coupling.vs['betweenness'] = G_coupling.betweenness()"
   ]
  },
  {
   "attachments": {},
   "cell_type": "markdown",
   "metadata": {},
   "source": [
    "Now we can look at the journals that have the highest betweenness."
   ]
  },
  {
   "cell_type": "code",
   "execution_count": 204,
   "metadata": {},
   "outputs": [
    {
     "data": {
      "text/plain": [
       "[igraph.Vertex(<igraph.Graph object at 0x1228aab40>, 1, {'SO': 'PLOS NEGLECTED TROPICAL DISEASES', 'betweenness': 43.42301587301588, 'betweenness_weighted': 51.4095238095238, 'pagerank': 0.07814324326935798, 'pagerank_weighted': 0.21483806133497008}),\n",
       " igraph.Vertex(<igraph.Graph object at 0x1228aab40>, 0, {'SO': 'TROPICAL MEDICINE & INTERNATIONAL HEALTH', 'betweenness': 38.92301587301587, 'betweenness_weighted': 0.5833333333333333, 'pagerank': 0.07696548264630954, 'pagerank_weighted': 0.1820837844437379}),\n",
       " igraph.Vertex(<igraph.Graph object at 0x1228aab40>, 4, {'SO': 'TRANSACTIONS OF THE ROYAL SOCIETY OF TROPICAL MEDICINE AND HYGIENE', 'betweenness': 37.08968253968254, 'betweenness_weighted': 81.24523809523811, 'pagerank': 0.07698657058058592, 'pagerank_weighted': 0.09323447958945565}),\n",
       " igraph.Vertex(<igraph.Graph object at 0x1228aab40>, 2, {'SO': 'AMERICAN JOURNAL OF TROPICAL MEDICINE AND HYGIENE', 'betweenness': 29.81468253968254, 'betweenness_weighted': 0.2, 'pagerank': 0.07132148276054204, 'pagerank_weighted': 0.12657074002880048}),\n",
       " igraph.Vertex(<igraph.Graph object at 0x1228aab40>, 6, {'SO': 'PARASITES & VECTORS', 'betweenness': 16.8813492063492, 'betweenness_weighted': 69.56666666666666, 'pagerank': 0.0662831990563754, 'pagerank_weighted': 0.06549680035549524})]"
      ]
     },
     "execution_count": 204,
     "metadata": {},
     "output_type": "execute_result"
    }
   ],
   "source": [
    "sorted(G_coupling.vs, key=lambda v: v['betweenness'], reverse=True)[:5]"
   ]
  },
  {
   "attachments": {},
   "cell_type": "markdown",
   "metadata": {},
   "source": [
    "As we did previously when dealing with shortest paths, we can also use a weight for determining the shortest paths."
   ]
  },
  {
   "cell_type": "code",
   "execution_count": 205,
   "metadata": {},
   "outputs": [],
   "source": [
    "G_coupling.vs['betweenness_weighted'] = G_coupling.betweenness(weights='coupling')"
   ]
  },
  {
   "attachments": {},
   "cell_type": "markdown",
   "metadata": {},
   "source": [
    "<div class=\"alert alert-info\">\n",
    "What is journal with the highest weighted betweenness centrality? Does this make sense if you compare it to the unweighted betweenness centrality?\n",
    "</div>"
   ]
  },
  {
   "cell_type": "code",
   "execution_count": null,
   "metadata": {},
   "outputs": [],
   "source": []
  },
  {
   "attachments": {},
   "cell_type": "markdown",
   "metadata": {},
   "source": [
    "<div class=\"alert alert-danger\">\n",
    "    <b>Attention!</b> Weighted shortest paths have the <em>lowest</em> total weight.\n",
    "</div>"
   ]
  },
  {
   "attachments": {},
   "cell_type": "markdown",
   "metadata": {},
   "source": [
    "### Pagerank"
   ]
  },
  {
   "attachments": {},
   "cell_type": "markdown",
   "metadata": {},
   "source": [
    "One way of identifying central nodes relies on the idea of a random walk in a network. We will study this in the journal bibliographic coupling network. When performing such a random walk, we simply go from one journal to the next, following the bibliographic coupling links. The journal that is most frequently visited during such a random walk is then seen as most central. This is actually the idea that underlies Google's famous search engine. Luckily, we can compute that a lot faster than betweenness."
   ]
  },
  {
   "cell_type": "code",
   "execution_count": 206,
   "metadata": {},
   "outputs": [],
   "source": [
    "G_coupling.vs['pagerank'] = G_coupling.pagerank()"
   ]
  },
  {
   "attachments": {},
   "cell_type": "markdown",
   "metadata": {},
   "source": [
    "<div class=\"alert alert-info\">\n",
    "Get the top 5 most central journals according to Pagerank. Who is the most central? Are the results very different from the betweenness?\n",
    "</div>"
   ]
  },
  {
   "cell_type": "code",
   "execution_count": 207,
   "metadata": {},
   "outputs": [
    {
     "data": {
      "text/plain": [
       "[igraph.Vertex(<igraph.Graph object at 0x1228aab40>, 1, {'SO': 'PLOS NEGLECTED TROPICAL DISEASES', 'betweenness': 43.42301587301588, 'betweenness_weighted': 51.4095238095238, 'pagerank': 0.07814324326935798, 'pagerank_weighted': 0.21483806133497008}),\n",
       " igraph.Vertex(<igraph.Graph object at 0x1228aab40>, 4, {'SO': 'TRANSACTIONS OF THE ROYAL SOCIETY OF TROPICAL MEDICINE AND HYGIENE', 'betweenness': 37.08968253968254, 'betweenness_weighted': 81.24523809523811, 'pagerank': 0.07698657058058592, 'pagerank_weighted': 0.09323447958945565}),\n",
       " igraph.Vertex(<igraph.Graph object at 0x1228aab40>, 0, {'SO': 'TROPICAL MEDICINE & INTERNATIONAL HEALTH', 'betweenness': 38.92301587301587, 'betweenness_weighted': 0.5833333333333333, 'pagerank': 0.07696548264630954, 'pagerank_weighted': 0.1820837844437379}),\n",
       " igraph.Vertex(<igraph.Graph object at 0x1228aab40>, 2, {'SO': 'AMERICAN JOURNAL OF TROPICAL MEDICINE AND HYGIENE', 'betweenness': 29.81468253968254, 'betweenness_weighted': 0.2, 'pagerank': 0.07132148276054204, 'pagerank_weighted': 0.12657074002880048}),\n",
       " igraph.Vertex(<igraph.Graph object at 0x1228aab40>, 6, {'SO': 'PARASITES & VECTORS', 'betweenness': 16.8813492063492, 'betweenness_weighted': 69.56666666666666, 'pagerank': 0.0662831990563754, 'pagerank_weighted': 0.06549680035549524})]"
      ]
     },
     "execution_count": 207,
     "metadata": {},
     "output_type": "execute_result"
    }
   ],
   "source": [
    "sorted(G_coupling.vs, key=lambda v: v['pagerank'], reverse=True)[:5]"
   ]
  },
  {
   "attachments": {},
   "cell_type": "markdown",
   "metadata": {},
   "source": [
    "We can again take into account the weights. In pagerank this means that a journal that is a more closely bibliographically coupled will be more likely to be visited during a random walk. This is actually much more in line with our intuition than the shortest path. Let us see what we get if we do that."
   ]
  },
  {
   "cell_type": "code",
   "execution_count": 176,
   "metadata": {},
   "outputs": [],
   "source": [
    "G_coupling.vs['pagerank_weighted'] = G_coupling.pagerank(weights='coupling')"
   ]
  },
  {
   "attachments": {},
   "cell_type": "markdown",
   "metadata": {},
   "source": [
    "<div class=\"alert alert-info\">\n",
    "Are the results different for the weighted version of pagerank?\n",
    "</div>"
   ]
  },
  {
   "cell_type": "code",
   "execution_count": 208,
   "metadata": {},
   "outputs": [
    {
     "data": {
      "text/plain": [
       "[igraph.Vertex(<igraph.Graph object at 0x1228aab40>, 1, {'SO': 'PLOS NEGLECTED TROPICAL DISEASES', 'betweenness': 43.42301587301588, 'betweenness_weighted': 51.4095238095238, 'pagerank': 0.07814324326935798, 'pagerank_weighted': 0.21483806133497008}),\n",
       " igraph.Vertex(<igraph.Graph object at 0x1228aab40>, 0, {'SO': 'TROPICAL MEDICINE & INTERNATIONAL HEALTH', 'betweenness': 38.92301587301587, 'betweenness_weighted': 0.5833333333333333, 'pagerank': 0.07696548264630954, 'pagerank_weighted': 0.1820837844437379}),\n",
       " igraph.Vertex(<igraph.Graph object at 0x1228aab40>, 2, {'SO': 'AMERICAN JOURNAL OF TROPICAL MEDICINE AND HYGIENE', 'betweenness': 29.81468253968254, 'betweenness_weighted': 0.2, 'pagerank': 0.07132148276054204, 'pagerank_weighted': 0.12657074002880048}),\n",
       " igraph.Vertex(<igraph.Graph object at 0x1228aab40>, 4, {'SO': 'TRANSACTIONS OF THE ROYAL SOCIETY OF TROPICAL MEDICINE AND HYGIENE', 'betweenness': 37.08968253968254, 'betweenness_weighted': 81.24523809523811, 'pagerank': 0.07698657058058592, 'pagerank_weighted': 0.09323447958945565}),\n",
       " igraph.Vertex(<igraph.Graph object at 0x1228aab40>, 5, {'SO': 'MALARIA JOURNAL', 'betweenness': 6.8353174603174605, 'betweenness_weighted': 3.5, 'pagerank': 0.04866867828270392, 'pagerank_weighted': 0.08897525449654912})]"
      ]
     },
     "execution_count": 208,
     "metadata": {},
     "output_type": "execute_result"
    }
   ],
   "source": [
    "sorted(G_coupling.vs, key=lambda v: v['pagerank_weighted'], reverse=True)[:5]"
   ]
  },
  {
   "attachments": {},
   "cell_type": "markdown",
   "metadata": {},
   "source": [
    "<div class=\"alert alert-info\">\n",
    "Pagerank is very similar to the techniques that underly the journal \"Eigenfactor\" and the \"SCImago Journal Rank\", which are seen as indicators of the scientific impact of a journal. Do you think it makes sense to interpret Pagerank on a bibliographic coupling network as the scientific impact of a journal? Why (not)?\n",
    "</div>"
   ]
  },
  {
   "attachments": {},
   "cell_type": "markdown",
   "metadata": {},
   "source": [
    "## Co-authorship using bipartite projection (optional)"
   ]
  },
  {
   "attachments": {},
   "cell_type": "markdown",
   "metadata": {},
   "source": [
    "We can also create co-authorship using a more theoretical approach from graph theory. We can first construct a network consisting of publications and authors."
   ]
  },
  {
   "attachments": {},
   "cell_type": "markdown",
   "metadata": {},
   "source": [
    "We first again `explode` all authors for each publication, and create a graph out of it."
   ]
  },
  {
   "cell_type": "code",
   "execution_count": 214,
   "metadata": {},
   "outputs": [
    {
     "data": {
      "text/plain": [
       "UT\n",
       "WOS:000084372900003        Osaer, S\n",
       "WOS:000084372900003     Goossens, B\n",
       "WOS:000084372900003       Eysker, M\n",
       "WOS:000084372900003       Geerts, S\n",
       "WOS:000085634000001      Aventin, L\n",
       "                           ...     \n",
       "WOS:000437449800023       Traore, M\n",
       "WOS:000437449800023       Kpamy, DO\n",
       "WOS:000437449800023    Doumbouya, M\n",
       "WOS:000437449800023       Sylla, AO\n",
       "WOS:000437449800023     Diallo, MOS\n",
       "Name: AU_split, Length: 18704, dtype: object"
      ]
     },
     "execution_count": 214,
     "metadata": {},
     "output_type": "execute_result"
    }
   ],
   "source": [
    "author_pubs_df = publications_df['AU_split'].explode()\n",
    "author_pubs_df"
   ]
  },
  {
   "cell_type": "code",
   "execution_count": null,
   "metadata": {},
   "outputs": [],
   "source": [
    "\n",
    "G_pub_authors = ig.Graph.TupleList(\n",
    "      edges=author_pubs_df.reset_index().values,\n",
    "      vertex_name_attr='name',\n",
    "      directed=False\n",
    "      )"
   ]
  },
  {
   "attachments": {},
   "cell_type": "markdown",
   "metadata": {},
   "source": [
    "This network consists of two types: publications and authors. This is called a *bipartite* graph. We can automatically get the types using `is_bipartite`."
   ]
  },
  {
   "cell_type": "code",
   "execution_count": 213,
   "metadata": {},
   "outputs": [
    {
     "data": {
      "text/plain": [
       "True"
      ]
     },
     "execution_count": 213,
     "metadata": {},
     "output_type": "execute_result"
    }
   ],
   "source": [
    "is_bipartite, types = G_pub_authors.is_bipartite(return_types = True)\n",
    "is_bipartite"
   ]
  },
  {
   "attachments": {},
   "cell_type": "markdown",
   "metadata": {},
   "source": [
    "The actual types are simply returned as a list of `True` and `False` values, which are arbitrary labels for publications and authors. Let us see what the first label stands for."
   ]
  },
  {
   "cell_type": "code",
   "execution_count": 221,
   "metadata": {},
   "outputs": [
    {
     "data": {
      "text/plain": [
       "True"
      ]
     },
     "execution_count": 221,
     "metadata": {},
     "output_type": "execute_result"
    }
   ],
   "source": [
    "types[0]"
   ]
  },
  {
   "cell_type": "code",
   "execution_count": 222,
   "metadata": {},
   "outputs": [
    {
     "data": {
      "text/plain": [
       "igraph.Vertex(<igraph.Graph object at 0x12294c440>, 0, {'name': 'WOS:000084372900003'})"
      ]
     },
     "execution_count": 222,
     "metadata": {},
     "output_type": "execute_result"
    }
   ],
   "source": [
    "G_pub_authors.vs[0]"
   ]
  },
  {
   "attachments": {},
   "cell_type": "markdown",
   "metadata": {},
   "source": [
    "From the `name` of node `0` we can see that it refers to a publication, and so `False` indicates publications, while `True` indicates authors."
   ]
  },
  {
   "attachments": {},
   "cell_type": "markdown",
   "metadata": {},
   "source": [
    "We now would like to perform a so-called *bipartite projection* onto the authors. This is exactly the type of operation that leads to a co-authorship network. If we were to *project* onto the publication, we would end up with a network of publications where each pair of publications is linked if it is authored by the same author."
   ]
  },
  {
   "cell_type": "code",
   "execution_count": 223,
   "metadata": {},
   "outputs": [],
   "source": [
    "G_author_projection = G_pub_authors.bipartite_projection(types=types, which=True)"
   ]
  },
  {
   "attachments": {},
   "cell_type": "markdown",
   "metadata": {},
   "source": [
    "By default, it keeps track of the *multiplicity* (i.e. the number of joint papers) in the `weight` edge attribute. Unfortunately, it is not possible to do fractional counting using this approach."
   ]
  },
  {
   "attachments": {},
   "cell_type": "markdown",
   "metadata": {},
   "source": [
    "<div class=\"alert alert-info\">\n",
    "    Check the number of nodes in the bipartite projection. Why is it different from the number of nodes in the earlier constructed <code>G_coauthorship</code>? (Hint: checkout the degree.)\n",
    "</div>"
   ]
  },
  {
   "cell_type": "code",
   "execution_count": 225,
   "metadata": {},
   "outputs": [
    {
     "data": {
      "text/plain": [
       "8482"
      ]
     },
     "execution_count": 225,
     "metadata": {},
     "output_type": "execute_result"
    }
   ],
   "source": []
  },
  {
   "attachments": {},
   "cell_type": "markdown",
   "metadata": {},
   "source": [
    "# Analysis of your own data"
   ]
  },
  {
   "attachments": {},
   "cell_type": "markdown",
   "metadata": {},
   "source": [
    "You have now learned the basics of handling WoS files and transforming them into scientometric networks. Please take some time now to do your own analysis."
   ]
  },
  {
   "attachments": {},
   "cell_type": "markdown",
   "metadata": {},
   "source": [
    "<div class=\"alert alert-info\">\n",
    "Go to <a href=\"http://webofknowledge.com/\">Web of Science</a> and select a publication set of interest. Make sure that the number of publications is higher than 1000, but lower than 5000. Export the files as follows:\n",
    "<ol>\n",
    "  <li> Export using \"Save to Other File Formats\".\n",
    "  <li> Select the appropriate records (e.g. 1-500, 501-1000, etc...).\n",
    "  <li> Select the Record Content \"Full Record and Cited References\".\n",
    "  <li> Select the File Format \"Tab delimited (Win, UTF8)\".\n",
    "  <li> Click on Send.\n",
    "</ol>\n",
    "Repeat the above steps for each batch of 500 publications.\n",
    "\n",
    "Load the data from all files you downloaded using <code>pandas</code>\n",
    "</div>"
   ]
  },
  {
   "cell_type": "code",
   "execution_count": null,
   "metadata": {},
   "outputs": [],
   "source": []
  },
  {
   "attachments": {},
   "cell_type": "markdown",
   "metadata": {},
   "source": [
    "<div class=\"alert alert-info\">\n",
    "Create a co-authorship network of your publications. Hint: use the approach you encountered earlier.\n",
    "</div>"
   ]
  },
  {
   "cell_type": "code",
   "execution_count": null,
   "metadata": {},
   "outputs": [],
   "source": []
  },
  {
   "attachments": {},
   "cell_type": "markdown",
   "metadata": {},
   "source": [
    "<div class=\"alert alert-info\">\n",
    "Identify the authors that are most central to the coauthorship network and interpret the results.\n",
    "</div>"
   ]
  },
  {
   "cell_type": "code",
   "execution_count": null,
   "metadata": {},
   "outputs": [],
   "source": []
  },
  {
   "attachments": {},
   "cell_type": "markdown",
   "metadata": {},
   "source": [
    "<div class=\"alert alert-info\">\n",
    "Create a co-citation network of your publications. Hint: use the bibliographic coupling approach, but switch the roles of the source and the target.\n",
    "</div>"
   ]
  },
  {
   "cell_type": "code",
   "execution_count": null,
   "metadata": {},
   "outputs": [],
   "source": []
  },
  {
   "attachments": {},
   "cell_type": "markdown",
   "metadata": {},
   "source": [
    "<div class=\"alert alert-info\">\n",
    "Identify the publications that are most central to the co-citation network and interpret the results. Are they relatively recent publications or not?\n",
    "</div>"
   ]
  },
  {
   "cell_type": "code",
   "execution_count": null,
   "metadata": {},
   "outputs": [],
   "source": []
  }
 ],
 "metadata": {
  "kernelspec": {
   "display_name": "Python 3",
   "language": "python",
   "name": "python3"
  },
  "language_info": {
   "codemirror_mode": {
    "name": "ipython",
    "version": 3
   },
   "file_extension": ".py",
   "mimetype": "text/x-python",
   "name": "python",
   "nbconvert_exporter": "python",
   "pygments_lexer": "ipython3",
   "version": "3.9.12"
  }
 },
 "nbformat": 4,
 "nbformat_minor": 2
}
