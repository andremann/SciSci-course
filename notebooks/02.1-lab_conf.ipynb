{
 "cells": [
  {
   "attachments": {},
   "cell_type": "markdown",
   "id": "c0f51f27-c83a-4f65-b688-5b6e0f9c5111",
   "metadata": {},
   "source": [
    "# Day 2 - Familiarise with scholarly data"
   ]
  },
  {
   "attachments": {},
   "cell_type": "markdown",
   "id": "b617d112-91cc-4f3b-af58-b5353ead6eb5",
   "metadata": {},
   "source": [
    "## Import the libraries"
   ]
  },
  {
   "cell_type": "code",
   "execution_count": 23,
   "id": "39965a81-35af-45cf-bc02-9515a89d3190",
   "metadata": {
    "tags": []
   },
   "outputs": [],
   "source": [
    "import pandas as pd\n",
    "import matplotlib.pyplot as plt"
   ]
  },
  {
   "attachments": {},
   "cell_type": "markdown",
   "id": "2b10778b-e3a5-4839-ad79-66477332e40f",
   "metadata": {},
   "source": [
    "## Load conference data"
   ]
  },
  {
   "cell_type": "code",
   "execution_count": 40,
   "id": "761a5b9c-2aba-4473-80df-8bc1bbb71be8",
   "metadata": {
    "tags": []
   },
   "outputs": [],
   "source": [
    "iswc = pd.read_csv('../data/raw/iswc_enhanced.csv')"
   ]
  },
  {
   "cell_type": "code",
   "execution_count": 41,
   "id": "bed85d70-6a91-4ae4-aed0-2e36ce668492",
   "metadata": {
    "tags": []
   },
   "outputs": [
    {
     "data": {
      "text/html": [
       "<div>\n",
       "<style scoped>\n",
       "    .dataframe tbody tr th:only-of-type {\n",
       "        vertical-align: middle;\n",
       "    }\n",
       "\n",
       "    .dataframe tbody tr th {\n",
       "        vertical-align: top;\n",
       "    }\n",
       "\n",
       "    .dataframe thead th {\n",
       "        text-align: right;\n",
       "    }\n",
       "</style>\n",
       "<table border=\"1\" class=\"dataframe\">\n",
       "  <thead>\n",
       "    <tr style=\"text-align: right;\">\n",
       "      <th></th>\n",
       "      <th>paper_doi</th>\n",
       "      <th>conf_seriesId</th>\n",
       "      <th>conf_acronym</th>\n",
       "      <th>conf_name</th>\n",
       "      <th>conf_city</th>\n",
       "      <th>conf_country</th>\n",
       "      <th>author_order</th>\n",
       "      <th>author_givenName</th>\n",
       "      <th>author_familyName</th>\n",
       "      <th>org_gridId</th>\n",
       "      <th>...</th>\n",
       "      <th>org_city</th>\n",
       "      <th>org_country</th>\n",
       "      <th>org_countrycode</th>\n",
       "      <th>affiliationString</th>\n",
       "      <th>paper_title</th>\n",
       "      <th>book_doi</th>\n",
       "      <th>book_title</th>\n",
       "      <th>book_confSubtitle</th>\n",
       "      <th>rights</th>\n",
       "      <th>year</th>\n",
       "    </tr>\n",
       "  </thead>\n",
       "  <tbody>\n",
       "    <tr>\n",
       "      <th>0</th>\n",
       "      <td>10.1007/11926078_12</td>\n",
       "      <td>semweb</td>\n",
       "      <td>ISWC</td>\n",
       "      <td>International Semantic Web Conference</td>\n",
       "      <td>Athens, GA</td>\n",
       "      <td>USA</td>\n",
       "      <td>4</td>\n",
       "      <td>Ryan</td>\n",
       "      <td>Lee</td>\n",
       "      <td>NaN</td>\n",
       "      <td>...</td>\n",
       "      <td>NaN</td>\n",
       "      <td>NaN</td>\n",
       "      <td>NaN</td>\n",
       "      <td>(World Wide Web Consortium)</td>\n",
       "      <td>Fresnel: A Browser-Independent Presentation Vo...</td>\n",
       "      <td>10.1007/11926078</td>\n",
       "      <td>The Semantic Web - ISWC 2006</td>\n",
       "      <td>5th International Semantic Web Conference, ISW...</td>\n",
       "      <td>OpenAccess</td>\n",
       "      <td>2006-01-01</td>\n",
       "    </tr>\n",
       "    <tr>\n",
       "      <th>637</th>\n",
       "      <td>10.1007/11926078_12</td>\n",
       "      <td>semweb</td>\n",
       "      <td>ISWC</td>\n",
       "      <td>International Semantic Web Conference</td>\n",
       "      <td>Athens, GA</td>\n",
       "      <td>USA</td>\n",
       "      <td>2</td>\n",
       "      <td>Christian</td>\n",
       "      <td>Bizer</td>\n",
       "      <td>grid.14095.39</td>\n",
       "      <td>...</td>\n",
       "      <td>Berlin</td>\n",
       "      <td>Germany</td>\n",
       "      <td>DE</td>\n",
       "      <td>Freie Universität Berlin</td>\n",
       "      <td>Fresnel: A Browser-Independent Presentation Vo...</td>\n",
       "      <td>10.1007/11926078</td>\n",
       "      <td>The Semantic Web - ISWC 2006</td>\n",
       "      <td>5th International Semantic Web Conference, ISW...</td>\n",
       "      <td>OpenAccess</td>\n",
       "      <td>2006-01-01</td>\n",
       "    </tr>\n",
       "    <tr>\n",
       "      <th>980</th>\n",
       "      <td>10.1007/11926078_12</td>\n",
       "      <td>semweb</td>\n",
       "      <td>ISWC</td>\n",
       "      <td>International Semantic Web Conference</td>\n",
       "      <td>Athens, GA</td>\n",
       "      <td>USA</td>\n",
       "      <td>1</td>\n",
       "      <td>Emmanuel</td>\n",
       "      <td>Pietriga</td>\n",
       "      <td>grid.464180.f</td>\n",
       "      <td>...</td>\n",
       "      <td>Gif-sur-Yvette</td>\n",
       "      <td>France</td>\n",
       "      <td>FR</td>\n",
       "      <td>INRIA &amp; Laboratoire de Recherche en Informatiq...</td>\n",
       "      <td>Fresnel: A Browser-Independent Presentation Vo...</td>\n",
       "      <td>10.1007/11926078</td>\n",
       "      <td>The Semantic Web - ISWC 2006</td>\n",
       "      <td>5th International Semantic Web Conference, ISW...</td>\n",
       "      <td>OpenAccess</td>\n",
       "      <td>2006-01-01</td>\n",
       "    </tr>\n",
       "    <tr>\n",
       "      <th>1414</th>\n",
       "      <td>10.1007/11926078_12</td>\n",
       "      <td>semweb</td>\n",
       "      <td>ISWC</td>\n",
       "      <td>International Semantic Web Conference</td>\n",
       "      <td>Athens, GA</td>\n",
       "      <td>USA</td>\n",
       "      <td>3</td>\n",
       "      <td>David</td>\n",
       "      <td>Karger</td>\n",
       "      <td>grid.116068.8</td>\n",
       "      <td>...</td>\n",
       "      <td>Cambridge</td>\n",
       "      <td>United States</td>\n",
       "      <td>US</td>\n",
       "      <td>MIT CSAIL</td>\n",
       "      <td>Fresnel: A Browser-Independent Presentation Vo...</td>\n",
       "      <td>10.1007/11926078</td>\n",
       "      <td>The Semantic Web - ISWC 2006</td>\n",
       "      <td>5th International Semantic Web Conference, ISW...</td>\n",
       "      <td>OpenAccess</td>\n",
       "      <td>2006-01-01</td>\n",
       "    </tr>\n",
       "    <tr>\n",
       "      <th>1415</th>\n",
       "      <td>10.1007/11926078_12</td>\n",
       "      <td>semweb</td>\n",
       "      <td>ISWC</td>\n",
       "      <td>International Semantic Web Conference</td>\n",
       "      <td>Athens, GA</td>\n",
       "      <td>USA</td>\n",
       "      <td>4</td>\n",
       "      <td>Ryan</td>\n",
       "      <td>Lee</td>\n",
       "      <td>grid.116068.8</td>\n",
       "      <td>...</td>\n",
       "      <td>Cambridge</td>\n",
       "      <td>United States</td>\n",
       "      <td>US</td>\n",
       "      <td>MIT CSAIL</td>\n",
       "      <td>Fresnel: A Browser-Independent Presentation Vo...</td>\n",
       "      <td>10.1007/11926078</td>\n",
       "      <td>The Semantic Web - ISWC 2006</td>\n",
       "      <td>5th International Semantic Web Conference, ISW...</td>\n",
       "      <td>OpenAccess</td>\n",
       "      <td>2006-01-01</td>\n",
       "    </tr>\n",
       "  </tbody>\n",
       "</table>\n",
       "<p>5 rows × 21 columns</p>\n",
       "</div>"
      ],
      "text/plain": [
       "                paper_doi conf_seriesId conf_acronym  \\\n",
       "0     10.1007/11926078_12        semweb         ISWC   \n",
       "637   10.1007/11926078_12        semweb         ISWC   \n",
       "980   10.1007/11926078_12        semweb         ISWC   \n",
       "1414  10.1007/11926078_12        semweb         ISWC   \n",
       "1415  10.1007/11926078_12        semweb         ISWC   \n",
       "\n",
       "                                  conf_name   conf_city conf_country  \\\n",
       "0     International Semantic Web Conference  Athens, GA          USA   \n",
       "637   International Semantic Web Conference  Athens, GA          USA   \n",
       "980   International Semantic Web Conference  Athens, GA          USA   \n",
       "1414  International Semantic Web Conference  Athens, GA          USA   \n",
       "1415  International Semantic Web Conference  Athens, GA          USA   \n",
       "\n",
       "      author_order author_givenName author_familyName     org_gridId  ...  \\\n",
       "0                4             Ryan               Lee            NaN  ...   \n",
       "637              2        Christian             Bizer  grid.14095.39  ...   \n",
       "980              1         Emmanuel          Pietriga  grid.464180.f  ...   \n",
       "1414             3            David            Karger  grid.116068.8  ...   \n",
       "1415             4             Ryan               Lee  grid.116068.8  ...   \n",
       "\n",
       "            org_city    org_country org_countrycode  \\\n",
       "0                NaN            NaN             NaN   \n",
       "637           Berlin        Germany              DE   \n",
       "980   Gif-sur-Yvette         France              FR   \n",
       "1414       Cambridge  United States              US   \n",
       "1415       Cambridge  United States              US   \n",
       "\n",
       "                                      affiliationString  \\\n",
       "0                           (World Wide Web Consortium)   \n",
       "637                            Freie Universität Berlin   \n",
       "980   INRIA & Laboratoire de Recherche en Informatiq...   \n",
       "1414                                          MIT CSAIL   \n",
       "1415                                          MIT CSAIL   \n",
       "\n",
       "                                            paper_title          book_doi  \\\n",
       "0     Fresnel: A Browser-Independent Presentation Vo...  10.1007/11926078   \n",
       "637   Fresnel: A Browser-Independent Presentation Vo...  10.1007/11926078   \n",
       "980   Fresnel: A Browser-Independent Presentation Vo...  10.1007/11926078   \n",
       "1414  Fresnel: A Browser-Independent Presentation Vo...  10.1007/11926078   \n",
       "1415  Fresnel: A Browser-Independent Presentation Vo...  10.1007/11926078   \n",
       "\n",
       "                        book_title  \\\n",
       "0     The Semantic Web - ISWC 2006   \n",
       "637   The Semantic Web - ISWC 2006   \n",
       "980   The Semantic Web - ISWC 2006   \n",
       "1414  The Semantic Web - ISWC 2006   \n",
       "1415  The Semantic Web - ISWC 2006   \n",
       "\n",
       "                                      book_confSubtitle      rights  \\\n",
       "0     5th International Semantic Web Conference, ISW...  OpenAccess   \n",
       "637   5th International Semantic Web Conference, ISW...  OpenAccess   \n",
       "980   5th International Semantic Web Conference, ISW...  OpenAccess   \n",
       "1414  5th International Semantic Web Conference, ISW...  OpenAccess   \n",
       "1415  5th International Semantic Web Conference, ISW...  OpenAccess   \n",
       "\n",
       "            year  \n",
       "0     2006-01-01  \n",
       "637   2006-01-01  \n",
       "980   2006-01-01  \n",
       "1414  2006-01-01  \n",
       "1415  2006-01-01  \n",
       "\n",
       "[5 rows x 21 columns]"
      ]
     },
     "execution_count": 41,
     "metadata": {},
     "output_type": "execute_result"
    }
   ],
   "source": [
    "iswc[iswc.paper_doi == '10.1007/11926078_12']"
   ]
  },
  {
   "cell_type": "code",
   "execution_count": 42,
   "id": "b5e2fcfa-de0c-456a-bdd6-880ceb6fed1d",
   "metadata": {
    "tags": []
   },
   "outputs": [
    {
     "data": {
      "text/plain": [
       "array(['5th International Semantic Web Conference, ISWC 2006, Athens, GA, USA, November 5-9, 2006, Proceedings',\n",
       "       'Second International Semantic Web Conference, Sanibel Island, FL, USA, October 20-23, 2003, Proceedings',\n",
       "       '11th International Semantic Web Conference, Boston, MA, USA, November 11-15, 2012, Proceedings, Part I',\n",
       "       '14th International Semantic Web Conference, Bethlehem, PA, USA, October 11-15, 2015, Proceedings, Part I',\n",
       "       '15th International Semantic Web Conference, Kobe, Japan, October 17?21, 2016, Proceedings, Part I',\n",
       "       '11th International Semantic Web Conference, Boston, MA, USA, November 11-15, 2012, Proceedings, Part II',\n",
       "       '10th International Semantic Web Conference, Bonn, Germany, October 23-27, 2011, Proceedings, Part II',\n",
       "       '7th International Semantic Web Conference, ISWC 2008, Karlsruhe, Germany, October 26-30, 2008, Proceedings',\n",
       "       '9th International Semantic Web Conference, ISWC 2010, Shanghai, China, November 7-11, 2010, Revised Selected Papers, Part I',\n",
       "       '4th International Semantic Web Conference, ISWC 2005, Galway, Ireland, November 6-10, 2005, Proceedings',\n",
       "       'Third International Semantic Web Conference, Hiroshima, Japan, November 7-11, 2004. Proceedings',\n",
       "       '15th International Semantic Web Conference, Kobe, Japan, October 17?21, 2016, Proceedings, Part II',\n",
       "       '6th International Semantic Web Conference, 2nd Asian Semantic Web Conference, ISWC 2007 + ASWC 2007, Busan, Korea, November 11-15, 2007, Proceedings',\n",
       "       '13th International Semantic Web Conference, Riva del Garda, Italy, October 19-23, 2014. Proceedings, Part I',\n",
       "       '13th International Semantic Web Conference, Riva del Garda, Italy, October 19-23, 2014. Proceedings, Part II',\n",
       "       '8th International Semantic Web Conference, ISWC 2009, Chantilly, VA, USA, October 25-29, 2009, Proceedings',\n",
       "       '10th International Semantic Web Conference, Bonn, Germany, October 23-27, 2011, Proceedings, Part I',\n",
       "       '12th International Semantic Web Conference, Sydney, NSW, Australia, October 21-25, 2013, Proceedings, Part II',\n",
       "       '12th International Semantic Web Conference, Sydney, NSW, Australia, October 21-25, 2013, Proceedings, Part I',\n",
       "       '9th International Semantic Web Conference, ISWC 2010, Shanghai, China, November 7-11, 2010, Revised Selected Papers, Part II',\n",
       "       'First International Workshop, SWSWPC 2004, San Diego, CA, USA, July 6, 2004, Revised Selected Papers',\n",
       "       '14th International Semantic Web Conference, Bethlehem, PA, USA, October 11-15, 2015, Proceedings, Part II',\n",
       "       'Second International Workshop, SWDB 2004, Toronto, Canada, August 29-30, 2004, Revised Selected Papers'],\n",
       "      dtype=object)"
      ]
     },
     "execution_count": 42,
     "metadata": {},
     "output_type": "execute_result"
    }
   ],
   "source": [
    "iswc.book_confSubtitle.unique()"
   ]
  },
  {
   "cell_type": "code",
   "execution_count": 43,
   "id": "2c5b1fe5-8625-46ec-979e-d08e7bac8bb7",
   "metadata": {
    "tags": []
   },
   "outputs": [
    {
     "data": {
      "text/plain": [
       "array(['USA', nan, 'Japan', 'Germany', 'China', 'Ireland', 'Italy',\n",
       "       'Australia', 'Canada'], dtype=object)"
      ]
     },
     "execution_count": 43,
     "metadata": {},
     "output_type": "execute_result"
    }
   ],
   "source": [
    "iswc.conf_country.unique()"
   ]
  },
  {
   "cell_type": "code",
   "execution_count": 44,
   "id": "fa19437e-c64e-4ddb-8389-599e348bfd04",
   "metadata": {
    "tags": []
   },
   "outputs": [
    {
     "data": {
      "text/plain": [
       "array(['Athens, GA', 'Sanibel, FL', 'Boston, MA', nan, 'Kobe', 'Bonn',\n",
       "       'Karlsruhe', 'Shanghai', 'Galway', 'Hiroshima', 'Riva del Garda',\n",
       "       'Chantilly, VA', 'Sydney, NSW', 'San Diego, CA', 'Toronto, ON'],\n",
       "      dtype=object)"
      ]
     },
     "execution_count": 44,
     "metadata": {},
     "output_type": "execute_result"
    }
   ],
   "source": [
    "iswc.conf_city.unique()"
   ]
  },
  {
   "cell_type": "code",
   "execution_count": null,
   "id": "d34014c4-dfad-43b3-b231-47b2e009750b",
   "metadata": {},
   "outputs": [],
   "source": []
  }
 ],
 "metadata": {
  "kernelspec": {
   "display_name": "Python 3 (ipykernel)",
   "language": "python",
   "name": "python3"
  },
  "language_info": {
   "codemirror_mode": {
    "name": "ipython",
    "version": 3
   },
   "file_extension": ".py",
   "mimetype": "text/x-python",
   "name": "python",
   "nbconvert_exporter": "python",
   "pygments_lexer": "ipython3",
   "version": "3.9.12"
  }
 },
 "nbformat": 4,
 "nbformat_minor": 5
}
