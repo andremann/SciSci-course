{
 "cells": [
  {
   "attachments": {},
   "cell_type": "markdown",
   "id": "ed3fec33-c995-43ec-bd6c-855615b88d47",
   "metadata": {},
   "source": [
    "# Day 2 - Familiarise with scholarly data"
   ]
  },
  {
   "attachments": {},
   "cell_type": "markdown",
   "id": "65993ce4",
   "metadata": {},
   "source": [
    "## Import libraries"
   ]
  },
  {
   "cell_type": "code",
   "execution_count": null,
   "id": "811f54ba",
   "metadata": {},
   "outputs": [],
   "source": [
    "import pandas as pd"
   ]
  },
  {
   "attachments": {},
   "cell_type": "markdown",
   "id": "62e7cf09",
   "metadata": {},
   "source": [
    "## Load datasets"
   ]
  },
  {
   "cell_type": "code",
   "execution_count": null,
   "id": "8c2762ff",
   "metadata": {},
   "outputs": [],
   "source": [
    "df = pd.read_csv('../data/raw/raw_data/query-result.tsv', delimiter='\\t', dtype=object)\n",
    "newcols = {\n",
    "    '?paper_doi': 'paper_doi',\n",
    "    '?conf_id': 'conf_id',\n",
    "    '?conf_seriesId': 'conf_seriesId',\n",
    "    '?conf_acronym': 'conf_acronym',\n",
    "    '?conf_name': 'conf_name',\n",
    "    '?conf_country': 'conf_country',\n",
    "    '?conf_city': 'conf_city',\n",
    "    '?author_order': 'author_order', \n",
    "    '?author_givenName': 'author_givenName',\n",
    "    '?author_familyName': 'author_familyName',\n",
    "    '?org_gridId': 'org_gridId',\n",
    "    '?org_name': 'org_name',\n",
    "    '?org_city': 'org_city',\n",
    "    '?org_country': 'org_country',\n",
    "    '?org_countrycode': 'org_countrycode',\n",
    "    '?affiliationString': 'affiliation_string',\n",
    "    '?paper_title': 'paper_title',\n",
    "    '?book_doi': 'book_doi',\n",
    "    '?book_title': 'book_title',\n",
    "    '?book_subtitle': 'book_confSubtitle',\n",
    "    '?rights': 'rights',\n",
    "    '?year': 'year'\n",
    "}\n",
    "df.rename(columns=newcols, inplace=True)\n",
    "df['year'] = df['year'].str.replace(r'\\^\\^<http://www.w3.org/2001/XMLSchema#gYear>', '')\n",
    "df['year'] = pd.to_datetime(df['year'], format=\"%Y\")\n",
    "df['author_order'] = pd.to_numeric(df['author_order'])\n",
    "df.head()"
   ]
  },
  {
   "cell_type": "code",
   "execution_count": null,
   "id": "fdbcb109",
   "metadata": {},
   "outputs": [],
   "source": [
    "df.head()"
   ]
  },
  {
   "cell_type": "code",
   "execution_count": null,
   "id": "2214fdbf",
   "metadata": {},
   "outputs": [],
   "source": [
    "df.info()"
   ]
  },
  {
   "cell_type": "code",
   "execution_count": null,
   "id": "8afd5ed2",
   "metadata": {},
   "outputs": [],
   "source": [
    "df[df.paper_doi == '10.1007/11926078_68']"
   ]
  },
  {
   "cell_type": "code",
   "execution_count": null,
   "id": "a6320507",
   "metadata": {},
   "outputs": [],
   "source": [
    "df.describe(include='all')"
   ]
  },
  {
   "cell_type": "code",
   "execution_count": null,
   "id": "f55c7fe9",
   "metadata": {},
   "outputs": [],
   "source": []
  },
  {
   "cell_type": "code",
   "execution_count": null,
   "id": "572ac79e",
   "metadata": {},
   "outputs": [],
   "source": []
  }
 ],
 "metadata": {
  "kernelspec": {
   "display_name": "Python 3 (ipykernel)",
   "language": "python",
   "name": "python3"
  },
  "language_info": {
   "codemirror_mode": {
    "name": "ipython",
    "version": 3
   },
   "file_extension": ".py",
   "mimetype": "text/x-python",
   "name": "python",
   "nbconvert_exporter": "python",
   "pygments_lexer": "ipython3",
   "version": "3.9.12"
  }
 },
 "nbformat": 4,
 "nbformat_minor": 5
}
