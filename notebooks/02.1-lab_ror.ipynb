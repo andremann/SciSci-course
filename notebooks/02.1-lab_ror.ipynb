{
 "cells": [
  {
   "attachments": {},
   "cell_type": "markdown",
   "id": "c0f51f27-c83a-4f65-b688-5b6e0f9c5111",
   "metadata": {},
   "source": [
    "# Day 2 - Familiarise with scholarly data"
   ]
  },
  {
   "attachments": {},
   "cell_type": "markdown",
   "id": "b617d112-91cc-4f3b-af58-b5353ead6eb5",
   "metadata": {},
   "source": [
    "## Import the libraries"
   ]
  },
  {
   "cell_type": "code",
   "execution_count": null,
   "id": "39965a81-35af-45cf-bc02-9515a89d3190",
   "metadata": {
    "tags": []
   },
   "outputs": [],
   "source": [
    "import pandas as pd\n",
    "import matplotlib.pyplot as plt"
   ]
  },
  {
   "attachments": {},
   "cell_type": "markdown",
   "id": "64220d3d-1c50-44ed-8d1f-718834c02506",
   "metadata": {},
   "source": [
    "## Load ROR dataset"
   ]
  },
  {
   "cell_type": "code",
   "execution_count": null,
   "id": "345bed54-fb8c-49db-b225-1a2cf2050b43",
   "metadata": {
    "tags": []
   },
   "outputs": [],
   "source": [
    "ror = pd.read_csv('../data/raw/v1/v1.25-2023-05-11-ror-data.csv')"
   ]
  },
  {
   "cell_type": "code",
   "execution_count": null,
   "id": "636f7de8-c6f0-4b41-8320-3d53811ba973",
   "metadata": {
    "tags": []
   },
   "outputs": [],
   "source": [
    "ror.head()"
   ]
  },
  {
   "cell_type": "code",
   "execution_count": null,
   "id": "1546081a-8131-4862-bc0c-daa19fc1e3c0",
   "metadata": {
    "tags": []
   },
   "outputs": [],
   "source": [
    "ror.info()"
   ]
  },
  {
   "cell_type": "code",
   "execution_count": null,
   "id": "d4196f20-58e4-4957-b1f3-4eb7ffd16f0b",
   "metadata": {
    "tags": []
   },
   "outputs": [],
   "source": [
    "ror['country.country_name'].value_counts().head(20)"
   ]
  },
  {
   "cell_type": "code",
   "execution_count": null,
   "id": "a15f7a80",
   "metadata": {},
   "outputs": [],
   "source": [
    "ror['country.country_name'].value_counts().head(20).plot.bar()"
   ]
  },
  {
   "cell_type": "code",
   "execution_count": null,
   "id": "7793172e-e50d-46e9-8cac-ba90d88576f8",
   "metadata": {
    "tags": []
   },
   "outputs": [],
   "source": [
    "ror['addresses[0].geonames_city.name'].value_counts().head(20)"
   ]
  },
  {
   "cell_type": "code",
   "execution_count": null,
   "id": "b82ea600",
   "metadata": {},
   "outputs": [],
   "source": [
    "ror['addresses[0].geonames_city.name'].value_counts().head(40).plot.bar()"
   ]
  },
  {
   "cell_type": "code",
   "execution_count": null,
   "id": "96fb133c-9eba-407e-b138-65e380469b80",
   "metadata": {
    "tags": []
   },
   "outputs": [],
   "source": [
    "ror[ror['addresses[0].geonames_city.name'] == 'Pisa']"
   ]
  },
  {
   "cell_type": "code",
   "execution_count": null,
   "id": "73bb2d4b-fae0-4a3a-a151-7f936d0a33ef",
   "metadata": {
    "tags": []
   },
   "outputs": [],
   "source": [
    "ror['types'].unique()"
   ]
  },
  {
   "cell_type": "code",
   "execution_count": null,
   "id": "ecabaf4f-75d8-459d-8f23-94821e9b8242",
   "metadata": {
    "tags": []
   },
   "outputs": [],
   "source": [
    "ror['types'].value_counts().plot.pie()"
   ]
  },
  {
   "cell_type": "code",
   "execution_count": null,
   "id": "6e424a05",
   "metadata": {},
   "outputs": [],
   "source": [
    "fig, axs = plt.subplots(figsize=(16, 8), ncols=3, nrows=2)\n",
    "\n",
    "ror[ror['country.country_code'] == 'IT']['types'].value_counts().plot.pie(ax=axs[0,0], label='Italy')\n",
    "ror[ror['country.country_code'] == 'GB']['types'].value_counts().plot.pie(ax=axs[0,1], label='United Kingdom')\n",
    "ror[ror['country.country_code'] == 'US']['types'].value_counts().plot.pie(ax=axs[0,2], label='United States')\n",
    "ror[ror['country.country_code'] == 'IN']['types'].value_counts().plot.pie(ax=axs[1,0], label='India')\n",
    "ror[ror['country.country_code'] == 'JP']['types'].value_counts().plot.pie(ax=axs[1,1], label='Japan')\n",
    "ror[ror['country.country_code'] == 'CN']['types'].value_counts().plot.pie(ax=axs[1,2], label='Çhina')"
   ]
  },
  {
   "cell_type": "code",
   "execution_count": null,
   "id": "d48dd71f",
   "metadata": {},
   "outputs": [],
   "source": [
    "ror.groupby(['country.country_code', 'types']).count()['id']"
   ]
  },
  {
   "cell_type": "code",
   "execution_count": null,
   "id": "fbd25a7a",
   "metadata": {},
   "outputs": [],
   "source": [
    "country_composition = ror.groupby(['country.country_code', 'types']).count()['id'].unstack()\n",
    "country_composition"
   ]
  },
  {
   "cell_type": "code",
   "execution_count": null,
   "id": "b00057e0",
   "metadata": {},
   "outputs": [],
   "source": [
    "country_composition['Total'] = country_composition.sum(axis=1)\n",
    "country_composition"
   ]
  },
  {
   "cell_type": "code",
   "execution_count": null,
   "id": "ae6dac0f",
   "metadata": {},
   "outputs": [],
   "source": [
    "country_composition = country_composition.sort_values('Total', ascending=False)\n",
    "country_composition"
   ]
  },
  {
   "cell_type": "code",
   "execution_count": null,
   "id": "5670d2a3",
   "metadata": {},
   "outputs": [],
   "source": [
    "fig, axs = plt.subplots(figsize=(16, 8))\n",
    "country_composition.drop(columns='Total').head(50).plot.bar(stacked=True, ax=axs)"
   ]
  },
  {
   "cell_type": "code",
   "execution_count": null,
   "id": "f84889f5",
   "metadata": {},
   "outputs": [],
   "source": [
    "fig, axs = plt.subplots(figsize=(16, 8))\n",
    "country_composition.loc[['IT', 'ES', 'DE', 'FR', 'GB', 'RU', 'IN', 'CN', 'JP']].drop(columns='Total').plot.bar(stacked=True, ax=axs)"
   ]
  },
  {
   "cell_type": "code",
   "execution_count": null,
   "id": "5941037f-ea0d-4337-9f30-414e03a3bdff",
   "metadata": {
    "tags": []
   },
   "outputs": [],
   "source": [
    "# drop missing longitude/latitude\n",
    "df2 = ror.dropna(subset=['addresses[0].lat', 'addresses[0].lng'])\n",
    "# also drop zero values\n",
    "df2 = df2[df2['addresses[0].lat'] != 0]\n",
    "# convert to geodataframe using geopandas\n",
    "import geopandas\n",
    "\n",
    "# set crs to EPSG:4326 to specify WGS84 Latitude/Longitude\n",
    "gdf = geopandas.GeoDataFrame(\n",
    "    df2,\n",
    "    geometry = geopandas.points_from_xy(df2['addresses[0].lng'], df2['addresses[0].lat']),\n",
    "    crs = 'EPSG:4326' ,\n",
    ")\n",
    "gdf.head()"
   ]
  },
  {
   "cell_type": "code",
   "execution_count": null,
   "id": "5ed9da81-1818-4471-89ce-9a5dd8bee890",
   "metadata": {
    "tags": []
   },
   "outputs": [],
   "source": [
    "f, ax = plt.subplots(figsize=(16, 16))\n",
    "# plot location of calls involving animals\n",
    "gdf.plot(ax=ax, color=\"black\", alpha=0.3)\n",
    "plt.title(\"ROR entries locations\")\n",
    "# plt.axis(\"off\")\n",
    "plt.show()"
   ]
  },
  {
   "cell_type": "code",
   "execution_count": null,
   "id": "0755afb3-54f3-41a5-848d-0e0d2ae43341",
   "metadata": {
    "tags": []
   },
   "outputs": [],
   "source": [
    "import contextily as cx\n",
    "\n",
    "f, ax = plt.subplots(figsize=(16, 16))\n",
    "\n",
    "gdf.plot(ax=ax, color=\"black\", alpha=0.3)\n",
    "# add a basemap of the region using contextily\n",
    "cx.add_basemap(ax, crs=gdf.crs)\n",
    "plt.title(\"ROR entries locations\")\n",
    "plt.axis(\"off\")\n",
    "plt.show()"
   ]
  },
  {
   "cell_type": "code",
   "execution_count": null,
   "id": "b54188b8-ef34-458c-ad7a-e97814bacd2d",
   "metadata": {
    "tags": []
   },
   "outputs": [],
   "source": [
    "f, ax = plt.subplots(figsize=(16, 16))\n",
    "\n",
    "for type, colour in zip(gdf['types'].unique(), ['red', 'yellow', 'green', 'teal', 'blue', 'magenta', 'pink', 'brown', 'orange']):\n",
    "    gdf[gdf['types'] == type].plot(\n",
    "        ax=ax, color=colour, alpha=0.5, label=type\n",
    "    )\n",
    "# add a basemap of the region using contextily\n",
    "cx.add_basemap(ax, crs=gdf.crs)\n",
    "plt.title('ROR types')\n",
    "plt.legend()\n",
    "plt.axis('off')\n",
    "plt.show()"
   ]
  },
  {
   "cell_type": "code",
   "execution_count": null,
   "id": "3851f8fd",
   "metadata": {},
   "outputs": [],
   "source": [
    "ror.established.min()"
   ]
  },
  {
   "cell_type": "code",
   "execution_count": null,
   "id": "71596316",
   "metadata": {},
   "outputs": [],
   "source": [
    "ror[ror.established == 712]"
   ]
  },
  {
   "cell_type": "code",
   "execution_count": null,
   "id": "edea0921",
   "metadata": {},
   "outputs": [],
   "source": [
    "ror.established.max()"
   ]
  },
  {
   "cell_type": "code",
   "execution_count": null,
   "id": "2ac7f6a6-871d-43e8-9222-29260482981e",
   "metadata": {
    "tags": []
   },
   "outputs": [],
   "source": [
    "ror.groupby('established')['id'].count()"
   ]
  },
  {
   "cell_type": "code",
   "execution_count": null,
   "id": "34f67d95-8e57-4369-9a26-778fd0922e74",
   "metadata": {
    "tags": []
   },
   "outputs": [],
   "source": [
    "ror.groupby(['established', 'types']).id.count()"
   ]
  },
  {
   "cell_type": "code",
   "execution_count": null,
   "id": "67853f18",
   "metadata": {},
   "outputs": [],
   "source": [
    "ror.groupby(['established', 'types']).id.count().unstack().tail(200).plot.bar(subplots=True, figsize=(50, 25))"
   ]
  },
  {
   "cell_type": "code",
   "execution_count": null,
   "id": "d9f9625d",
   "metadata": {},
   "outputs": [],
   "source": []
  }
 ],
 "metadata": {
  "kernelspec": {
   "display_name": "Python 3 (ipykernel)",
   "language": "python",
   "name": "python3"
  },
  "language_info": {
   "codemirror_mode": {
    "name": "ipython",
    "version": 3
   },
   "file_extension": ".py",
   "mimetype": "text/x-python",
   "name": "python",
   "nbconvert_exporter": "python",
   "pygments_lexer": "ipython3",
   "version": "3.9.12"
  }
 },
 "nbformat": 4,
 "nbformat_minor": 5
}
