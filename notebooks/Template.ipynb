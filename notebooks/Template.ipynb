{
 "cells": [
  {
   "attachments": {},
   "cell_type": "markdown",
   "id": "462506b3-9b7b-44ce-98d9-ffeb877031b3",
   "metadata": {},
   "source": [
    "# Day X - "
   ]
  },
  {
   "attachments": {},
   "cell_type": "markdown",
   "id": "487c4469-9c3f-432d-be0e-227596770495",
   "metadata": {},
   "source": [
    "## Import libraries"
   ]
  },
  {
   "cell_type": "code",
   "execution_count": 1,
   "id": "4d28c290-eec8-430e-93b8-9a5c3b07ea7a",
   "metadata": {},
   "outputs": [
    {
     "name": "stderr",
     "output_type": "stream",
     "text": [
      "/Users/andrea/.virtualenvs/data-science/lib/python3.9/site-packages/pyscisci/utils.py:400: NumbaDeprecationWarning: The 'nopython' keyword argument was not supplied to the 'numba.jit' decorator. The implicit default value for this argument is currently False, but it will be changed to True in Numba 0.59.0. See https://numba.readthedocs.io/en/stable/reference/deprecation.html#deprecation-of-object-mode-fall-back-behaviour-when-using-jit for details.\n",
      "  def holder_mean(a, rho=1):\n",
      "/Users/andrea/.virtualenvs/data-science/lib/python3.9/site-packages/pyscisci/utils.py:529: NumbaDeprecationWarning: The 'nopython' keyword argument was not supplied to the 'numba.jit' decorator. The implicit default value for this argument is currently False, but it will be changed to True in Numba 0.59.0. See https://numba.readthedocs.io/en/stable/reference/deprecation.html#deprecation-of-object-mode-fall-back-behaviour-when-using-jit for details.\n",
      "  def welford_mean_m2(previous_count, previous_mean, previous_m2, new_value):\n",
      "/Users/andrea/.virtualenvs/data-science/lib/python3.9/site-packages/pyscisci/utils.py:539: NumbaDeprecationWarning: The 'nopython' keyword argument was not supplied to the 'numba.jit' decorator. The implicit default value for this argument is currently False, but it will be changed to True in Numba 0.59.0. See https://numba.readthedocs.io/en/stable/reference/deprecation.html#deprecation-of-object-mode-fall-back-behaviour-when-using-jit for details.\n",
      "  def zscore_var(obs, m, var):\n",
      "/Users/andrea/.virtualenvs/data-science/lib/python3.9/site-packages/pyscisci/utils.py:543: NumbaDeprecationWarning: The 'nopython' keyword argument was not supplied to the 'numba.jit' decorator. The implicit default value for this argument is currently False, but it will be changed to True in Numba 0.59.0. See https://numba.readthedocs.io/en/stable/reference/deprecation.html#deprecation-of-object-mode-fall-back-behaviour-when-using-jit for details.\n",
      "  def fast_delong(X,Y):\n",
      "/Users/andrea/.virtualenvs/data-science/lib/python3.9/site-packages/pyscisci/utils.py:571: NumbaDeprecationWarning: The 'nopython' keyword argument was not supplied to the 'numba.jit' decorator. The implicit default value for this argument is currently False, but it will be changed to True in Numba 0.59.0. See https://numba.readthedocs.io/en/stable/reference/deprecation.html#deprecation-of-object-mode-fall-back-behaviour-when-using-jit for details.\n",
      "  def compute_midrank(x):\n"
     ]
    }
   ],
   "source": [
    "from pathlib import Path\n",
    "import pandas as pd\n"
   ]
  },
  {
   "attachments": {},
   "cell_type": "markdown",
   "id": "b0d14705-9def-48c1-9a03-4869c324d321",
   "metadata": {
    "tags": []
   },
   "source": [
    "## Load datasets"
   ]
  },
  {
   "cell_type": "code",
   "execution_count": null,
   "id": "702a387c-e5aa-4838-a41d-1d7eb9199781",
   "metadata": {},
   "outputs": [],
   "source": [
    "# pd.read_json('../../openaire/data/publication/part-00000.txt.gz', compression='gzip', lines=True)\n",
    "files = Path('../../openaire/data/publication/').glob('*.gz')\n",
    "df = pd.DataFrame([pd.read_json(file, compression='gzip', lines=True) for file in files])"
   ]
  }
 ],
 "metadata": {
  "kernelspec": {
   "display_name": "Python 3 (ipykernel)",
   "language": "python",
   "name": "python3"
  },
  "language_info": {
   "codemirror_mode": {
    "name": "ipython",
    "version": 3
   },
   "file_extension": ".py",
   "mimetype": "text/x-python",
   "name": "python",
   "nbconvert_exporter": "python",
   "pygments_lexer": "ipython3",
   "version": "3.9.12"
  }
 },
 "nbformat": 4,
 "nbformat_minor": 5
}
