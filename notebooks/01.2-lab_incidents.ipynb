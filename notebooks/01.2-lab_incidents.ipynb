{
 "cells": [
  {
   "attachments": {},
   "cell_type": "markdown",
   "id": "d9c840f6-fa21-4079-ab27-26c02245a5d6",
   "metadata": {},
   "source": [
    "# Day 1 Laboratory - Familiarise with Jupyter and Pandas"
   ]
  },
  {
   "attachments": {},
   "cell_type": "markdown",
   "id": "fe738e12-decd-4103-92e9-b15a8986e0e3",
   "metadata": {},
   "source": [
    "## Import libraries"
   ]
  },
  {
   "cell_type": "code",
   "execution_count": null,
   "id": "d71f1118-3e05-4b50-b776-ffdbb99aa60a",
   "metadata": {
    "tags": []
   },
   "outputs": [],
   "source": [
    "import pandas as pd\n",
    "import numpy as np\n",
    "import matplotlib.pyplot as plt"
   ]
  },
  {
   "attachments": {},
   "cell_type": "markdown",
   "id": "1d0346ea-05e2-4d9f-9022-f1fe22366c2a",
   "metadata": {},
   "source": [
    "## Load dataset and explore it"
   ]
  },
  {
   "attachments": {},
   "cell_type": "markdown",
   "id": "4baba396-df16-4634-b4e4-9b164d7e06c1",
   "metadata": {},
   "source": [
    "In general, search on the documentation online\n",
    "https://pandas.pydata.org/pandas-docs/stable/reference/api/pandas.read_csv.html?highlight=csv#pandas.read_csv\n",
    "or type `?<func_name>` for help in here. For example `?pd.read_csv`."
   ]
  },
  {
   "cell_type": "code",
   "execution_count": null,
   "id": "b41b59ad-845d-4070-9f9e-90cb508abd31",
   "metadata": {
    "tags": []
   },
   "outputs": [],
   "source": [
    "url = 'https://data.london.gov.uk/download/animal-rescue-incidents-attended-by-lfb/01007433-55c2-4b8a-b799-626d9e3bc284/Animal%20Rescue%20incidents%20attended%20by%20LFB%20from%20Jan%202009.csv' \n",
    "df = pd.read_csv(url)"
   ]
  },
  {
   "cell_type": "code",
   "execution_count": null,
   "id": "e4477d3e-1a9c-4074-858e-45df7627b37e",
   "metadata": {
    "tags": []
   },
   "outputs": [],
   "source": [
    "df"
   ]
  },
  {
   "cell_type": "code",
   "execution_count": null,
   "id": "7d4cd1e1-6619-4912-94f5-c36e3b9aee4a",
   "metadata": {
    "tags": []
   },
   "outputs": [],
   "source": [
    "df.info()"
   ]
  },
  {
   "attachments": {},
   "cell_type": "markdown",
   "id": "12b4c764-ea9f-4dc6-b293-b99ce11cdb29",
   "metadata": {},
   "source": [
    "## Data preparation"
   ]
  },
  {
   "attachments": {},
   "cell_type": "markdown",
   "id": "81024adc-f888-4161-bc92-a7c5473984f3",
   "metadata": {},
   "source": [
    "### Null values management"
   ]
  },
  {
   "cell_type": "code",
   "execution_count": null,
   "id": "a3b709f0-6a68-4209-bd66-87fce21b1246",
   "metadata": {
    "tags": []
   },
   "outputs": [],
   "source": [
    "df.isna().sum()"
   ]
  },
  {
   "cell_type": "code",
   "execution_count": null,
   "id": "d1098cee-9775-4c27-a0e7-90c8cedab1e4",
   "metadata": {
    "tags": []
   },
   "outputs": [],
   "source": [
    "df[(df.PumpCount.isna()) & (df.PumpHoursTotal.isna())]"
   ]
  },
  {
   "cell_type": "code",
   "execution_count": null,
   "id": "ec8f3f72-e497-4a04-833f-2a5c2b165d12",
   "metadata": {
    "tags": []
   },
   "outputs": [],
   "source": [
    "df[df['IncidentNotionalCost(£)'] == df['HourlyNotionalCost(£)'] * df.PumpHoursTotal]"
   ]
  },
  {
   "cell_type": "code",
   "execution_count": null,
   "id": "b2527f7b-fa37-49dc-b6b5-acc839b37bc8",
   "metadata": {
    "tags": []
   },
   "outputs": [],
   "source": [
    "df.dropna(subset=['PumpCount', 'PumpHoursTotal'])"
   ]
  },
  {
   "cell_type": "code",
   "execution_count": null,
   "id": "ac0fc2a9-8f79-4c07-ba12-a55d53837ba8",
   "metadata": {
    "tags": []
   },
   "outputs": [],
   "source": [
    "fig, axs = plt.subplots(1, 2, figsize=(14, 6))\n",
    "df.plot.hist(y='PumpCount', ax=axs[0])\n",
    "df.plot.hist(y='PumpHoursTotal', ax=axs[1])\n",
    "plt.plot()"
   ]
  },
  {
   "cell_type": "code",
   "execution_count": null,
   "id": "eb9f7a63-698b-4cb9-b526-8070544784ff",
   "metadata": {
    "tags": []
   },
   "outputs": [],
   "source": [
    "df.fillna({'PumpCount': 1, 'PumpHoursTotal': 1}, inplace=True)"
   ]
  },
  {
   "cell_type": "code",
   "execution_count": null,
   "id": "ddf1ec38-5631-4d2e-b64a-aa93086d34ba",
   "metadata": {
    "tags": []
   },
   "outputs": [],
   "source": [
    "df['IncidentNotionalCost(£)'] = df['HourlyNotionalCost(£)'] * df.PumpHoursTotal"
   ]
  },
  {
   "cell_type": "code",
   "execution_count": null,
   "id": "007aa765-bbe9-40c1-b1ca-8a294ee3b89e",
   "metadata": {
    "tags": []
   },
   "outputs": [],
   "source": [
    "df.isna().sum()"
   ]
  },
  {
   "attachments": {},
   "cell_type": "markdown",
   "id": "565b521b-ebf9-45ff-bc87-383c5655511c",
   "metadata": {},
   "source": [
    "### Reduction and optimisation"
   ]
  },
  {
   "cell_type": "code",
   "execution_count": null,
   "id": "5ffd5dbc-f5ac-4b4d-8790-2d13f5cbc2b9",
   "metadata": {
    "tags": []
   },
   "outputs": [],
   "source": [
    "df.nunique().sort_values()"
   ]
  },
  {
   "cell_type": "code",
   "execution_count": null,
   "id": "c640b1b7-945f-4783-b6cc-f73b3ff8f7b6",
   "metadata": {
    "tags": []
   },
   "outputs": [],
   "source": [
    "df.TypeOfIncident.unique()"
   ]
  },
  {
   "cell_type": "code",
   "execution_count": null,
   "id": "13719eb5-0c02-4019-8e44-c3f87e2d2e02",
   "metadata": {
    "tags": []
   },
   "outputs": [],
   "source": [
    "df.drop(columns=['TypeOfIncident'], inplace=True)"
   ]
  },
  {
   "cell_type": "code",
   "execution_count": null,
   "id": "d4f3c3e9-011b-4685-82b5-2813caae5b46",
   "metadata": {
    "tags": []
   },
   "outputs": [],
   "source": [
    "df['AnimalGroupParent'].unique()"
   ]
  },
  {
   "cell_type": "code",
   "execution_count": null,
   "id": "270b163b-2e81-476b-b1c5-b05b64de5617",
   "metadata": {
    "tags": []
   },
   "outputs": [],
   "source": [
    "df.loc[df['AnimalGroupParent'] == 'cat', 'AnimalGroupParent'] = 'Cat'"
   ]
  },
  {
   "cell_type": "code",
   "execution_count": null,
   "id": "6725ffa0-7072-4eb5-8275-309d519ff8f3",
   "metadata": {},
   "outputs": [],
   "source": [
    "df.loc[df['AnimalGroupParent'] == 'Unknown - Domestic Animal Or Pet', 'AnimalGroupParent'] = 'Domestic'"
   ]
  },
  {
   "attachments": {},
   "cell_type": "markdown",
   "id": "5abe6a7a-50ae-4462-b0ad-2fc3ef5ff324",
   "metadata": {},
   "source": [
    "### Type conversion"
   ]
  },
  {
   "cell_type": "code",
   "execution_count": null,
   "id": "624ef359-697e-4f11-8f53-90f3abfa261f",
   "metadata": {
    "tags": []
   },
   "outputs": [],
   "source": [
    "df.DateTimeOfCall"
   ]
  },
  {
   "cell_type": "code",
   "execution_count": null,
   "id": "1c0723fd-97ac-48ca-9f43-95546e3376f5",
   "metadata": {
    "tags": []
   },
   "outputs": [],
   "source": [
    "pd.to_datetime(df['DateTimeOfCall']).head()"
   ]
  },
  {
   "cell_type": "code",
   "execution_count": null,
   "id": "11b228a1-1dfa-40b4-a42d-cd8f0a5d5c7f",
   "metadata": {
    "tags": []
   },
   "outputs": [],
   "source": [
    "pd.to_datetime(df['DateTimeOfCall']).plot()"
   ]
  },
  {
   "cell_type": "code",
   "execution_count": null,
   "id": "b9c5f59e-89bc-4563-92f1-e2f28fd59b9c",
   "metadata": {
    "tags": []
   },
   "outputs": [],
   "source": [
    "df['DateTimeOfCall'] = pd.to_datetime(df['DateTimeOfCall'])"
   ]
  },
  {
   "cell_type": "code",
   "execution_count": null,
   "id": "136b4ef6-0d92-4730-a923-5ab489c68f34",
   "metadata": {
    "tags": []
   },
   "outputs": [],
   "source": [
    "df.set_index('DateTimeOfCall', inplace=True)"
   ]
  },
  {
   "cell_type": "code",
   "execution_count": null,
   "id": "6fa7b32e-1708-42d9-81b2-7990da71292f",
   "metadata": {
    "tags": []
   },
   "outputs": [],
   "source": [
    "df"
   ]
  },
  {
   "cell_type": "code",
   "execution_count": null,
   "id": "0cee54ff-c2a8-4d71-a5bb-2608e3031495",
   "metadata": {
    "tags": []
   },
   "outputs": [],
   "source": [
    "df.loc['2021-01-01':'2021-01-31', 'FinalDescription']"
   ]
  },
  {
   "attachments": {},
   "cell_type": "markdown",
   "id": "076cb98a-5b0a-4338-a5f5-00b295d8a99f",
   "metadata": {},
   "source": [
    "## Visualisation"
   ]
  },
  {
   "cell_type": "code",
   "execution_count": null,
   "id": "04478a60-3e5a-42ae-bd31-9a88bb584973",
   "metadata": {
    "tags": []
   },
   "outputs": [],
   "source": [
    "df.resample('M')['IncidentNumber'].count().plot(title='Monthly Calls')"
   ]
  },
  {
   "cell_type": "code",
   "execution_count": null,
   "id": "1b30685c-92a8-4531-990f-42fb393f91ef",
   "metadata": {
    "tags": []
   },
   "outputs": [],
   "source": [
    "df.resample('M')['IncidentNumber'].count().sort_values(ascending=False).head(20)"
   ]
  },
  {
   "cell_type": "code",
   "execution_count": null,
   "id": "5f016f2b-846f-43fc-85de-53bc608d342b",
   "metadata": {
    "tags": []
   },
   "outputs": [],
   "source": [
    "fig, axs = plt.subplots(figsize=(16, 4), ncols=2)\n",
    "df.resample('Y')['IncidentNotionalCost(£)'].sum().plot(\n",
    "    title='Year total cost', ax=axs[0]\n",
    ")\n",
    "df.resample('Y')['HourlyNotionalCost(£)'].mean().plot(\n",
    "    title='Average hourly cost', ax=axs[1]\n",
    ")\n",
    "# plt.show()"
   ]
  },
  {
   "cell_type": "code",
   "execution_count": null,
   "id": "d8ccbdee-9367-4a12-acec-d06bc0fe6ff0",
   "metadata": {
    "tags": []
   },
   "outputs": [],
   "source": [
    "df.groupby('AnimalGroupParent')['IncidentNumber'].count().sort_values().plot.barh(logx=True)"
   ]
  },
  {
   "cell_type": "code",
   "execution_count": null,
   "id": "94681325-6f03-4653-a5b7-921169ac5782",
   "metadata": {
    "tags": []
   },
   "outputs": [],
   "source": [
    "df['HourlyNotionalCost(£)'].plot.line()"
   ]
  },
  {
   "cell_type": "code",
   "execution_count": null,
   "id": "5de6caa3-f171-42a6-b1b6-9c9290fec6db",
   "metadata": {
    "tags": []
   },
   "outputs": [],
   "source": [
    "df.groupby('StnGroundName')['IncidentNumber'].count()"
   ]
  },
  {
   "attachments": {},
   "cell_type": "markdown",
   "id": "6ce25ee9-9a3b-4471-97fc-ed5da819d5c1",
   "metadata": {},
   "source": [
    "### Install this for later `pip install geopandas contextily`"
   ]
  },
  {
   "cell_type": "code",
   "execution_count": null,
   "id": "be8aecb3-3fc3-4a23-93e5-e1eed9f8ac31",
   "metadata": {
    "tags": []
   },
   "outputs": [],
   "source": [
    "# drop missing longitude/latitude\n",
    "df2 = df.dropna(subset=['Longitude', 'Latitude'])\n",
    "# also drop zero values\n",
    "df2 = df2[df2['Latitude'] != 0]\n",
    "# convert to geodataframe using geopandas\n",
    "import geopandas\n",
    "\n",
    "# set crs to EPSG:4326 to specify WGS84 Latitude/Longitude\n",
    "gdf = geopandas.GeoDataFrame(\n",
    "    df2,\n",
    "    geometry=geopandas.points_from_xy(df2['Longitude'], df2['Latitude']),\n",
    "    crs='EPSG:4326',\n",
    ")\n",
    "gdf.head()"
   ]
  },
  {
   "cell_type": "code",
   "execution_count": null,
   "id": "0067b347-d5e6-46dd-a4ad-1615880db592",
   "metadata": {
    "tags": []
   },
   "outputs": [],
   "source": [
    "f, ax = plt.subplots(figsize=(16, 16))\n",
    "# plot location of calls involving animals\n",
    "gdf.plot(ax=ax, color='black', alpha=0.3)\n",
    "plt.title('Call locations')\n",
    "# plt.axis('off')\n",
    "plt.show()"
   ]
  },
  {
   "cell_type": "code",
   "execution_count": null,
   "id": "14fc7abf-321d-42c9-b839-f68bbc54c05c",
   "metadata": {
    "tags": []
   },
   "outputs": [],
   "source": [
    "import contextily as cx\n",
    "\n",
    "f, ax = plt.subplots(figsize=(16, 16))\n",
    "# plot location of calls involving animals\n",
    "gdf.plot(ax=ax, color='black', alpha=0.3)\n",
    "# add a basemap of the region using contextily\n",
    "cx.add_basemap(ax, crs=gdf.crs)\n",
    "plt.title('Call locations')\n",
    "plt.axis('off')\n",
    "plt.show()"
   ]
  },
  {
   "cell_type": "code",
   "execution_count": null,
   "id": "a188f107-8bf5-436d-addb-b4fe0efea837",
   "metadata": {
    "tags": []
   },
   "outputs": [],
   "source": [
    "f, ax = plt.subplots(figsize=(16, 16))\n",
    "# plot location of calls involving animals\n",
    "for animal, colour in [\n",
    "    ('Cow', 'black'),\n",
    "    ('Deer', 'red'),\n",
    "    ('Fox', 'blue'),\n",
    "    ('Snake', 'yellow'),\n",
    "    # ('Cat', 'teal'),\n",
    "    # ('Dog', 'brown')\n",
    "]:\n",
    "    gdf[gdf['AnimalGroupParent'] == animal].plot(\n",
    "        ax=ax, color=colour, alpha=0.5, label=animal\n",
    "    )\n",
    "# add a basemap of the region using contextily\n",
    "cx.add_basemap(ax, crs=gdf.crs)\n",
    "plt.title('Call locations by animal')\n",
    "plt.legend()\n",
    "plt.axis('off')\n",
    "plt.show()"
   ]
  }
 ],
 "metadata": {
  "kernelspec": {
   "display_name": "Python 3 (ipykernel)",
   "language": "python",
   "name": "python3"
  },
  "language_info": {
   "codemirror_mode": {
    "name": "ipython",
    "version": 3
   },
   "file_extension": ".py",
   "mimetype": "text/x-python",
   "name": "python",
   "nbconvert_exporter": "python",
   "pygments_lexer": "ipython3",
   "version": "3.9.12"
  }
 },
 "nbformat": 4,
 "nbformat_minor": 5
}
