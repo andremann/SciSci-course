{
 "cells": [
  {
   "attachments": {},
   "cell_type": "markdown",
   "id": "c0f51f27-c83a-4f65-b688-5b6e0f9c5111",
   "metadata": {},
   "source": [
    "# Day 2 - Familiarise with scholarly data"
   ]
  },
  {
   "attachments": {},
   "cell_type": "markdown",
   "id": "b617d112-91cc-4f3b-af58-b5353ead6eb5",
   "metadata": {},
   "source": [
    "## Import the libraries"
   ]
  },
  {
   "cell_type": "code",
   "execution_count": null,
   "id": "39965a81-35af-45cf-bc02-9515a89d3190",
   "metadata": {
    "tags": []
   },
   "outputs": [],
   "source": [
    "import pandas as pd\n",
    "import matplotlib.pyplot as plt\n",
    "\n",
    "import plotly\n",
    "from plotly.offline import iplot, init_notebook_mode\n",
    "import plotly.graph_objs as go"
   ]
  },
  {
   "attachments": {},
   "cell_type": "markdown",
   "id": "2b10778b-e3a5-4839-ad79-66477332e40f",
   "metadata": {},
   "source": [
    "## Load conference data"
   ]
  },
  {
   "cell_type": "code",
   "execution_count": null,
   "id": "761a5b9c-2aba-4473-80df-8bc1bbb71be8",
   "metadata": {
    "tags": []
   },
   "outputs": [],
   "source": [
    "iswc = pd.read_csv('../data/raw/iswc_enhanced.csv', dtype=object)\n",
    "iswc['author_order'] = pd.to_numeric(iswc['author_order'])\n",
    "\n",
    "eswc = pd.read_csv('../data/raw/eswc_enhanced.csv', dtype=object)\n",
    "eswc['author_order'] = pd.to_numeric(eswc['author_order'])\n",
    "\n",
    "tpdl = pd.read_csv('../data/raw/tpdl_enhanced.csv', dtype=object)\n",
    "tpdl['author_order'] = pd.to_numeric(tpdl['author_order'])\n"
   ]
  },
  {
   "cell_type": "code",
   "execution_count": null,
   "id": "3a538654",
   "metadata": {},
   "outputs": [],
   "source": [
    "iswc.loc[iswc.book_doi == '10.1007/978-3-319-25010-6', 'conf_city'] = 'Bethlehem'\n",
    "iswc.loc[iswc.book_doi == '10.1007/978-3-319-25010-6', 'conf_country'] = 'United States'\n",
    "\n",
    "iswc.loc[iswc.book_doi == '10.1007/978-3-319-25007-6', 'conf_city'] = 'Bethlehem'\n",
    "iswc.loc[iswc.book_doi == '10.1007/978-3-319-25007-6', 'conf_country'] = 'United States'\n",
    "\n",
    "iswc.loc[iswc.book_doi == '10.1007/978-3-540-76298-0', 'conf_city'] = 'Busan'\n",
    "iswc.loc[iswc.book_doi == '10.1007/978-3-540-76298-0', 'conf_country'] = 'South Korea'\n",
    "\n",
    "iswc.loc[iswc.conf_country == 'USA', 'conf_country'] = 'United States'"
   ]
  },
  {
   "cell_type": "code",
   "execution_count": null,
   "id": "07928724",
   "metadata": {},
   "outputs": [],
   "source": [
    "iswc['conf_acronym'].unique()"
   ]
  },
  {
   "cell_type": "code",
   "execution_count": null,
   "id": "c522675e",
   "metadata": {},
   "outputs": [],
   "source": [
    "iswc[iswc.conf_acronym == 'SWSWPC'].head()"
   ]
  },
  {
   "cell_type": "code",
   "execution_count": null,
   "id": "423431e4",
   "metadata": {},
   "outputs": [],
   "source": [
    "iswc[iswc.conf_acronym == 'SWDB'].head()"
   ]
  },
  {
   "cell_type": "code",
   "execution_count": null,
   "id": "78e3e2a2",
   "metadata": {},
   "outputs": [],
   "source": [
    "iswc.describe(include='all')"
   ]
  },
  {
   "cell_type": "code",
   "execution_count": null,
   "id": "9eee63cf",
   "metadata": {},
   "outputs": [],
   "source": [
    "eswc['conf_acronym'].unique()"
   ]
  },
  {
   "cell_type": "code",
   "execution_count": null,
   "id": "7135627e",
   "metadata": {},
   "outputs": [],
   "source": [
    "eswc[eswc.conf_acronym == 'ESWS'].head(1)['conf_name']"
   ]
  },
  {
   "cell_type": "code",
   "execution_count": null,
   "id": "7e27a989",
   "metadata": {},
   "outputs": [],
   "source": [
    "eswc[eswc.conf_name == 'International Semantic Web Conference'].head()"
   ]
  },
  {
   "cell_type": "code",
   "execution_count": null,
   "id": "646fd4dc",
   "metadata": {},
   "outputs": [],
   "source": [
    "eswc.describe(include='all')"
   ]
  },
  {
   "cell_type": "code",
   "execution_count": null,
   "id": "8455961d",
   "metadata": {},
   "outputs": [],
   "source": [
    "tpdl['conf_acronym'].unique()"
   ]
  },
  {
   "cell_type": "code",
   "execution_count": null,
   "id": "e8397054",
   "metadata": {},
   "outputs": [],
   "source": [
    "tpdl.loc[tpdl.year == '2014-01-01', 'year'] = '2013-01-01'"
   ]
  },
  {
   "cell_type": "code",
   "execution_count": null,
   "id": "c4c54110",
   "metadata": {},
   "outputs": [],
   "source": [
    "tpdl.describe(include='all')"
   ]
  },
  {
   "cell_type": "code",
   "execution_count": null,
   "id": "3b17632a",
   "metadata": {},
   "outputs": [],
   "source": []
  },
  {
   "cell_type": "code",
   "execution_count": null,
   "id": "c2f51df3",
   "metadata": {},
   "outputs": [],
   "source": []
  },
  {
   "cell_type": "code",
   "execution_count": null,
   "id": "b7034a8a",
   "metadata": {},
   "outputs": [],
   "source": []
  },
  {
   "attachments": {},
   "cell_type": "markdown",
   "id": "4ee08003",
   "metadata": {},
   "source": [
    "## Analysis"
   ]
  },
  {
   "attachments": {},
   "cell_type": "markdown",
   "id": "567ec39f",
   "metadata": {},
   "source": [
    "For the sake of simplicity, we can create a variable and assign one of our dataframes `iswc`, `eswc`, `tpdl`.\n",
    "\n",
    "Pick one for the moment. Later, you can come up here, switch to another dataframe and run again the cells below."
   ]
  },
  {
   "cell_type": "code",
   "execution_count": null,
   "id": "270090a4",
   "metadata": {},
   "outputs": [],
   "source": [
    "df = iswc"
   ]
  },
  {
   "cell_type": "code",
   "execution_count": null,
   "metadata": {},
   "outputs": [],
   "source": [
    "df_first = df[df.author_order == 1]\n",
    "df_last_authors_idx = df.groupby('paper_doi')['author_order'].transform(max) == df['author_order']\n",
    "df_last = df[df_last_authors_idx]\n",
    "df_middle = df[df_last_authors_idx.map(lambda x: not x)]\n",
    "df_middle = df_middle[df_middle.author_order != 1]"
   ]
  },
  {
   "cell_type": "code",
   "execution_count": null,
   "id": "bed85d70-6a91-4ae4-aed0-2e36ce668492",
   "metadata": {
    "tags": []
   },
   "outputs": [],
   "source": [
    "df[df.paper_doi == '10.1007/11926078_12']"
   ]
  },
  {
   "cell_type": "code",
   "execution_count": null,
   "id": "b5e2fcfa-de0c-456a-bdd6-880ceb6fed1d",
   "metadata": {
    "tags": []
   },
   "outputs": [],
   "source": [
    "df.book_confSubtitle.unique()"
   ]
  },
  {
   "attachments": {},
   "cell_type": "markdown",
   "id": "d44dc28f",
   "metadata": {},
   "source": [
    "**Task:** which countries the conference visited?"
   ]
  },
  {
   "cell_type": "code",
   "execution_count": null,
   "id": "2c5b1fe5-8625-46ec-979e-d08e7bac8bb7",
   "metadata": {
    "tags": []
   },
   "outputs": [],
   "source": [
    "df.conf_country.unique()"
   ]
  },
  {
   "attachments": {},
   "cell_type": "markdown",
   "id": "dcbcaa87",
   "metadata": {},
   "source": [
    "**Task:** any country multiple times? Can you do a bar plot?"
   ]
  },
  {
   "cell_type": "code",
   "execution_count": null,
   "id": "d34014c4-dfad-43b3-b231-47b2e009750b",
   "metadata": {},
   "outputs": [],
   "source": [
    "df[['conf_country', 'year']].drop_duplicates().groupby('conf_country').count().plot.bar()"
   ]
  },
  {
   "attachments": {},
   "cell_type": "markdown",
   "id": "c3a2d911",
   "metadata": {},
   "source": [
    "**Task:** which cities?"
   ]
  },
  {
   "cell_type": "code",
   "execution_count": null,
   "id": "fa19437e-c64e-4ddb-8389-599e348bfd04",
   "metadata": {
    "tags": []
   },
   "outputs": [],
   "source": [
    "df.conf_city.unique()"
   ]
  },
  {
   "attachments": {},
   "cell_type": "markdown",
   "id": "ffc0350b",
   "metadata": {},
   "source": [
    "**Task:** Find the top-10 researcher by number of papers published"
   ]
  },
  {
   "cell_type": "code",
   "execution_count": null,
   "id": "010bce56",
   "metadata": {},
   "outputs": [],
   "source": [
    "df[['author_familyName', 'author_givenName', 'paper_doi']]\\\n",
    "        .groupby(['author_familyName', 'author_givenName'])\\\n",
    "        .count()\\\n",
    "        .sort_values(by=['paper_doi'], ascending=False).reset_index()\\\n",
    "        .head(10)"
   ]
  },
  {
   "attachments": {},
   "cell_type": "markdown",
   "id": "53a729f6",
   "metadata": {},
   "source": [
    "**Task:** Find the top-10 researcher by number of papers published (in last position)"
   ]
  },
  {
   "cell_type": "code",
   "execution_count": null,
   "id": "db81be71",
   "metadata": {},
   "outputs": [],
   "source": []
  },
  {
   "attachments": {},
   "cell_type": "markdown",
   "id": "d5df9567",
   "metadata": {},
   "source": [
    "**Task:** Find the top-10 researcher by number of papers published (in first position)"
   ]
  },
  {
   "cell_type": "code",
   "execution_count": null,
   "id": "c03cbf81",
   "metadata": {},
   "outputs": [],
   "source": []
  },
  {
   "attachments": {},
   "cell_type": "markdown",
   "id": "97a4df27",
   "metadata": {},
   "source": [
    "**Task:** are there notable inversions?"
   ]
  },
  {
   "attachments": {},
   "cell_type": "markdown",
   "id": "4629a1f5",
   "metadata": {},
   "source": [
    "**Task:** Find and plot the total number of contributions per year"
   ]
  },
  {
   "cell_type": "code",
   "execution_count": null,
   "id": "1517742d",
   "metadata": {},
   "outputs": [],
   "source": [
    "df.groupby(['year'])['paper_doi'].count().reset_index().plot.line(x='year', y='paper_doi')\n",
    "# Same as the following\n",
    "# df.groupby(['year'])['paper_doi'].count().plot.line(y='paper_doi')\n",
    "# df.groupby(['year'])['paper_doi'].count().plot.line()"
   ]
  },
  {
   "attachments": {},
   "cell_type": "markdown",
   "id": "1bc78d20",
   "metadata": {},
   "source": [
    "**Task:** Find and plot the same just with grid.id attached (i.e., with an orgnanisation explicitly attached)"
   ]
  },
  {
   "cell_type": "code",
   "execution_count": null,
   "id": "4d379496",
   "metadata": {},
   "outputs": [],
   "source": [
    "df[df['org_gridId'].notna()].groupby(['year'])['paper_doi'].count().plot.line(y='paper_doi')"
   ]
  },
  {
   "attachments": {},
   "cell_type": "markdown",
   "id": "6b39ed51",
   "metadata": {},
   "source": [
    "**Task:** Find and plot the same just without grid.id attached"
   ]
  },
  {
   "cell_type": "code",
   "execution_count": null,
   "id": "187e898f",
   "metadata": {},
   "outputs": [],
   "source": [
    "df[df['org_gridId'].isna()].groupby(['year'])['paper_doi'].count().plot.line()"
   ]
  },
  {
   "attachments": {},
   "cell_type": "markdown",
   "id": "d64076ba",
   "metadata": {},
   "source": [
    "For clarity, these can go in the same plot."
   ]
  },
  {
   "cell_type": "code",
   "execution_count": null,
   "id": "df45be52",
   "metadata": {},
   "outputs": [],
   "source": [
    "fig, ax = plt.subplots()\n",
    "\n",
    "df.groupby(['year'])['paper_doi'].count().reset_index().plot.line(x='year', y='paper_doi', ax=ax, label='total')\n",
    "df[df['org_gridId'].notna()].groupby(['year'])['paper_doi'].count().reset_index().plot.line(x='year', y='paper_doi', ax=ax, label='w/ grid.id')\n",
    "df[df['org_gridId'].isna()].groupby(['year'])['paper_doi'].count().reset_index().plot.line(x='year', y='paper_doi', ax=ax, label='w/o grid.id')"
   ]
  },
  {
   "cell_type": "code",
   "execution_count": null,
   "id": "244ca601",
   "metadata": {},
   "outputs": [],
   "source": [
    "contributions = df.groupby(['year'])['paper_doi'].count()\n",
    "contributions_with_gridId = df[df['org_gridId'].notna()].groupby(['year'])['paper_doi'].count()\n",
    "contributions_without_gridId = df[df['org_gridId'].isna()].groupby(['year'])['paper_doi'].count()\n",
    "\n",
    "trace1 = go.Scatter(x=contributions.index,\n",
    "                    y=contributions.values,\n",
    "                    name='contributions',\n",
    "                    marker=dict(symbol='circle', size=8),\n",
    "                    mode='lines+markers')\n",
    "                    \n",
    "trace2 = go.Scatter(x=contributions_with_gridId.index,\n",
    "                    y=contributions_with_gridId.values,\n",
    "                    name='contributions (w/ gridID)',\n",
    "                    marker=dict(symbol='cross', size=8),\n",
    "                    mode='lines+markers')\n",
    "\n",
    "trace3 = go.Scatter(x=contributions_without_gridId.index,\n",
    "                    y=contributions_without_gridId.values,\n",
    "                    name='contributions (w/o gridID)',\n",
    "                    marker=dict(symbol='triangle-up', size=8),\n",
    "                    mode='lines+markers')\n",
    "                    \n",
    "layout = go.Layout(title='Trends of contributions',\n",
    "                   legend=dict(orientation='h'))\n",
    "\n",
    "fig = go.Figure(data=[trace1, trace2, trace3], layout=layout)\n",
    "plotly.offline.iplot(fig)"
   ]
  },
  {
   "attachments": {},
   "cell_type": "markdown",
   "id": "c72950ba",
   "metadata": {},
   "source": [
    "**Task:** Find and plot the trend of PIDs (i.e., DOIs and grid.ids) per year"
   ]
  },
  {
   "cell_type": "code",
   "execution_count": null,
   "id": "12740ece",
   "metadata": {},
   "outputs": [],
   "source": []
  },
  {
   "attachments": {},
   "cell_type": "markdown",
   "id": "d394b2f2",
   "metadata": {},
   "source": [
    "**Task:** Find and plot the distribution of papers by country per year"
   ]
  },
  {
   "cell_type": "code",
   "execution_count": null,
   "id": "37102086",
   "metadata": {},
   "outputs": [],
   "source": [
    "TOP_N = 30\n",
    "dois = df.groupby(['org_countrycode'])['paper_doi'].nunique().reset_index()\n",
    "data = [\n",
    "    go.Bar(\n",
    "        x=dois.sort_values(by=['paper_doi'], ascending=False)['org_countrycode'],\n",
    "        y=dois.sort_values(by=['paper_doi'], ascending=False)['paper_doi']\n",
    "    )\n",
    "]\n",
    "layout = go.Layout(\n",
    "    title='Paper distribution by country',\n",
    "    xaxis=dict(tickangle=45,tickfont=dict(size=12), range=[-.5, TOP_N - 1 + .5])\n",
    ")\n",
    "fig = go.Figure(data=data, layout=layout)\n",
    "plotly.offline.iplot(fig)"
   ]
  },
  {
   "cell_type": "code",
   "execution_count": null,
   "id": "5f3fd7e1",
   "metadata": {},
   "outputs": [],
   "source": [
    "dois = df.groupby(['org_countrycode'])['paper_doi'].nunique().reset_index()\n",
    "dois_first = df_first.groupby(['org_countrycode'])['paper_doi'].nunique().reset_index()\n",
    "dois_last = df_last.groupby(['org_countrycode'])['paper_doi'].nunique().reset_index()\n",
    "\n",
    "bar_1 = go.Bar(y=dois['paper_doi'],\n",
    "              x=dois['org_countrycode'],\n",
    "              name='Overall')\n",
    "\n",
    "bar_2 = go.Bar(y=dois_first['paper_doi'],\n",
    "              x=dois_first['org_countrycode'],\n",
    "              name='First')\n",
    "\n",
    "bar_3 = go.Bar(y=dois_last['paper_doi'],\n",
    "              x=dois_last['org_countrycode'],\n",
    "              name='Last')\n",
    "\n",
    "layout = go.Layout(title='DOI breakdown by country',\n",
    "                   legend=dict(orientation='h'))\n",
    "\n",
    "fig = go.Figure(data=[bar_1,bar_2,bar_3], layout=layout)\n",
    "plotly.offline.iplot(fig)"
   ]
  },
  {
   "attachments": {},
   "cell_type": "markdown",
   "id": "386ecd0a",
   "metadata": {},
   "source": [
    "We can also plot as a pie chart"
   ]
  },
  {
   "cell_type": "code",
   "execution_count": null,
   "id": "c8e042f1",
   "metadata": {},
   "outputs": [],
   "source": [
    "dois = df.groupby(['org_countrycode'])['paper_doi'].nunique().reset_index()\n",
    "dois_first = df_first.groupby(['org_countrycode'])['paper_doi'].nunique().reset_index()\n",
    "dois_last = df_last.groupby(['org_countrycode'])['paper_doi'].nunique().reset_index()\n",
    "\n",
    "pie_1 = go.Pie(values=dois['paper_doi'],\n",
    "              labels=dois['org_countrycode'],\n",
    "              textposition='inside',\n",
    "              domain=dict(x=[0, 1], y=[.4, 1]),\n",
    "              name='DOIs',\n",
    "              hoverinfo='label+value+name',\n",
    "              hole=.4)\n",
    "\n",
    "pie_2 = go.Pie(values=dois_first['paper_doi'],\n",
    "              labels=dois_first['org_countrycode'],\n",
    "              textposition='inside',\n",
    "              domain=dict(x=[0, .5], y=[0, .6]),\n",
    "              name='DOIs',\n",
    "              hoverinfo='label+value+name',\n",
    "              hole=.4)\n",
    "\n",
    "pie_3 = go.Pie(values=dois_last['paper_doi'],\n",
    "              labels=dois_last['org_countrycode'],\n",
    "              textposition='inside',\n",
    "              domain=dict(x=[.5, 1], y=[0, .6]),\n",
    "              name='DOIs',\n",
    "              hoverinfo='label+value+name',\n",
    "              hole=.4)\n",
    "\n",
    "tris_donut = go.Layout(title='DOI breakdown by country',\n",
    "                       annotations=[dict(font=dict(size=15),\n",
    "                                        showarrow=False,\n",
    "                                        text='All authors',\n",
    "                                        x=.5, y=1.07),\n",
    "                                    dict(font=dict(size=15),\n",
    "                                        showarrow=False,\n",
    "                                        text='1st authors',\n",
    "                                        x=.18, y=-0.07),\n",
    "                                    dict(font=dict(size=15),\n",
    "                                        showarrow=False,\n",
    "                                        text='Last authors',\n",
    "                                        x=.83, y=-0.07)])\n",
    "\n",
    "fig = go.Figure(data=[pie_1,pie_2,pie_3], layout=tris_donut)\n",
    "plotly.offline.iplot(fig)"
   ]
  },
  {
   "attachments": {},
   "cell_type": "markdown",
   "id": "85b5dd41",
   "metadata": {},
   "source": [
    "**Task:** Can you do the same plots aggregating by organisations?"
   ]
  },
  {
   "attachments": {},
   "cell_type": "markdown",
   "id": "d335f608",
   "metadata": {},
   "source": []
  }
 ],
 "metadata": {
  "kernelspec": {
   "display_name": "Python 3 (ipykernel)",
   "language": "python",
   "name": "python3"
  },
  "language_info": {
   "codemirror_mode": {
    "name": "ipython",
    "version": 3
   },
   "file_extension": ".py",
   "mimetype": "text/x-python",
   "name": "python",
   "nbconvert_exporter": "python",
   "pygments_lexer": "ipython3",
   "version": "3.9.12"
  }
 },
 "nbformat": 4,
 "nbformat_minor": 5
}
