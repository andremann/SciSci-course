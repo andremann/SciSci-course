{
 "cells": [
  {
   "attachments": {},
   "cell_type": "markdown",
   "id": "c0f51f27-c83a-4f65-b688-5b6e0f9c5111",
   "metadata": {},
   "source": [
    "# Day 2 - Familiarise with scholarly data"
   ]
  },
  {
   "attachments": {},
   "cell_type": "markdown",
   "id": "b617d112-91cc-4f3b-af58-b5353ead6eb5",
   "metadata": {},
   "source": [
    "## Import the libraries"
   ]
  },
  {
   "cell_type": "code",
   "execution_count": 1,
   "id": "39965a81-35af-45cf-bc02-9515a89d3190",
   "metadata": {
    "tags": []
   },
   "outputs": [],
   "source": [
    "import pandas as pd\n",
    "import matplotlib.pyplot as plt\n",
    "\n",
    "import plotly\n",
    "from plotly.offline import iplot, init_notebook_mode\n",
    "import plotly.graph_objs as go"
   ]
  },
  {
   "attachments": {},
   "cell_type": "markdown",
   "id": "2b10778b-e3a5-4839-ad79-66477332e40f",
   "metadata": {},
   "source": [
    "## Load conference data"
   ]
  },
  {
   "attachments": {},
   "cell_type": "markdown",
   "id": "924ed4f1",
   "metadata": {},
   "source": [
    "The datasets used here comes from the paper https://content.iospress.com/articles/data-science/ds190015 and are about three conferences the International Semantic Web Conference (ISWC), The European Conference on Semantic Web (ESWC), and the International Conference on Theory and Practice of Digital Libraries (TPDL).\n",
    "\n",
    "These have been extracted from Springer Nature Scigraph (apparently the website does not work anymore, https://www.springernature.com/gp/researchers/scigraph).\n",
    "\n",
    "In SciGraph they were assigned conference series identifiers from DBLP (i.e., semweb, esws and ercimdl, respectively), so I extracted them from a bigger dataset thanks to these keywords.\n",
    "\n",
    "Let's load them directly.\n"
   ]
  },
  {
   "cell_type": "code",
   "execution_count": 2,
   "id": "761a5b9c-2aba-4473-80df-8bc1bbb71be8",
   "metadata": {
    "tags": []
   },
   "outputs": [],
   "source": [
    "iswc = pd.read_csv('../data/raw/iswc_enhanced.csv', dtype=object)\n",
    "iswc['author_order'] = pd.to_numeric(iswc['author_order'])\n",
    "\n",
    "eswc = pd.read_csv('../data/raw/eswc_enhanced.csv', dtype=object)\n",
    "eswc['author_order'] = pd.to_numeric(eswc['author_order'])\n",
    "\n",
    "tpdl = pd.read_csv('../data/raw/tpdl_enhanced.csv', dtype=object)\n",
    "tpdl['author_order'] = pd.to_numeric(tpdl['author_order'])\n"
   ]
  },
  {
   "attachments": {},
   "cell_type": "markdown",
   "id": "a85c9ba3",
   "metadata": {},
   "source": [
    "Let me fix the data for you first"
   ]
  },
  {
   "cell_type": "code",
   "execution_count": 3,
   "id": "3a538654",
   "metadata": {},
   "outputs": [],
   "source": [
    "iswc.loc[iswc.book_doi == '10.1007/978-3-319-25010-6', 'conf_city'] = 'Bethlehem'\n",
    "iswc.loc[iswc.book_doi == '10.1007/978-3-319-25010-6', 'conf_country'] = 'United States'\n",
    "\n",
    "iswc.loc[iswc.book_doi == '10.1007/978-3-319-25007-6', 'conf_city'] = 'Bethlehem'\n",
    "iswc.loc[iswc.book_doi == '10.1007/978-3-319-25007-6', 'conf_country'] = 'United States'\n",
    "\n",
    "iswc.loc[iswc.book_doi == '10.1007/978-3-540-76298-0', 'conf_city'] = 'Busan'\n",
    "iswc.loc[iswc.book_doi == '10.1007/978-3-540-76298-0', 'conf_country'] = 'South Korea'\n",
    "\n",
    "iswc.loc[iswc.conf_country == 'USA', 'conf_country'] = 'United States'"
   ]
  },
  {
   "attachments": {},
   "cell_type": "markdown",
   "id": "360b4606",
   "metadata": {},
   "source": [
    "All the dataframes follow the same structure. Check the columns."
   ]
  },
  {
   "cell_type": "code",
   "execution_count": null,
   "id": "f8b9dbf6",
   "metadata": {},
   "outputs": [],
   "source": []
  },
  {
   "attachments": {},
   "cell_type": "markdown",
   "id": "28a21ac2",
   "metadata": {},
   "source": [
    "Check how a generic record looks like"
   ]
  },
  {
   "cell_type": "code",
   "execution_count": null,
   "id": "d5e91a66",
   "metadata": {},
   "outputs": [],
   "source": []
  },
  {
   "attachments": {},
   "cell_type": "markdown",
   "id": "13e08f31",
   "metadata": {},
   "source": [
    "OK. Let's see ISWC first"
   ]
  },
  {
   "cell_type": "code",
   "execution_count": 4,
   "id": "a75c0c86",
   "metadata": {},
   "outputs": [
    {
     "data": {
      "text/html": [
       "<div>\n",
       "<style scoped>\n",
       "    .dataframe tbody tr th:only-of-type {\n",
       "        vertical-align: middle;\n",
       "    }\n",
       "\n",
       "    .dataframe tbody tr th {\n",
       "        vertical-align: top;\n",
       "    }\n",
       "\n",
       "    .dataframe thead th {\n",
       "        text-align: right;\n",
       "    }\n",
       "</style>\n",
       "<table border=\"1\" class=\"dataframe\">\n",
       "  <thead>\n",
       "    <tr style=\"text-align: right;\">\n",
       "      <th></th>\n",
       "      <th>paper_doi</th>\n",
       "      <th>conf_seriesId</th>\n",
       "      <th>conf_acronym</th>\n",
       "      <th>conf_name</th>\n",
       "      <th>conf_city</th>\n",
       "      <th>conf_country</th>\n",
       "      <th>author_order</th>\n",
       "      <th>author_givenName</th>\n",
       "      <th>author_familyName</th>\n",
       "      <th>org_gridId</th>\n",
       "      <th>...</th>\n",
       "      <th>org_city</th>\n",
       "      <th>org_country</th>\n",
       "      <th>org_countrycode</th>\n",
       "      <th>affiliationString</th>\n",
       "      <th>paper_title</th>\n",
       "      <th>book_doi</th>\n",
       "      <th>book_title</th>\n",
       "      <th>book_confSubtitle</th>\n",
       "      <th>rights</th>\n",
       "      <th>year</th>\n",
       "    </tr>\n",
       "  </thead>\n",
       "  <tbody>\n",
       "    <tr>\n",
       "      <th>count</th>\n",
       "      <td>4028</td>\n",
       "      <td>4028</td>\n",
       "      <td>4028</td>\n",
       "      <td>4028</td>\n",
       "      <td>4028</td>\n",
       "      <td>4028</td>\n",
       "      <td>4028.000000</td>\n",
       "      <td>4028</td>\n",
       "      <td>4028</td>\n",
       "      <td>3841</td>\n",
       "      <td>...</td>\n",
       "      <td>3725</td>\n",
       "      <td>3851</td>\n",
       "      <td>3851</td>\n",
       "      <td>4011</td>\n",
       "      <td>4028</td>\n",
       "      <td>4028</td>\n",
       "      <td>4028</td>\n",
       "      <td>4028</td>\n",
       "      <td>4028</td>\n",
       "      <td>4028</td>\n",
       "    </tr>\n",
       "    <tr>\n",
       "      <th>unique</th>\n",
       "      <td>1056</td>\n",
       "      <td>1</td>\n",
       "      <td>3</td>\n",
       "      <td>3</td>\n",
       "      <td>16</td>\n",
       "      <td>9</td>\n",
       "      <td>NaN</td>\n",
       "      <td>1501</td>\n",
       "      <td>1949</td>\n",
       "      <td>449</td>\n",
       "      <td>...</td>\n",
       "      <td>272</td>\n",
       "      <td>44</td>\n",
       "      <td>46</td>\n",
       "      <td>915</td>\n",
       "      <td>1056</td>\n",
       "      <td>23</td>\n",
       "      <td>16</td>\n",
       "      <td>23</td>\n",
       "      <td>2</td>\n",
       "      <td>14</td>\n",
       "    </tr>\n",
       "    <tr>\n",
       "      <th>top</th>\n",
       "      <td>10.1007/978-3-540-30581-1_4</td>\n",
       "      <td>semweb</td>\n",
       "      <td>ISWC</td>\n",
       "      <td>International Semantic Web Conference</td>\n",
       "      <td>Kobe</td>\n",
       "      <td>United States</td>\n",
       "      <td>NaN</td>\n",
       "      <td>Michael</td>\n",
       "      <td>Wang</td>\n",
       "      <td>grid.5379.8</td>\n",
       "      <td>...</td>\n",
       "      <td>Amsterdam</td>\n",
       "      <td>United States</td>\n",
       "      <td>US</td>\n",
       "      <td>University of Manchester</td>\n",
       "      <td>Bringing Semantics to Web Services: The OWL-S ...</td>\n",
       "      <td>10.1007/11926078</td>\n",
       "      <td>The Semantic Web ? ISWC 2016</td>\n",
       "      <td>5th International Semantic Web Conference, ISW...</td>\n",
       "      <td>OpenAccess</td>\n",
       "      <td>2005-01-01</td>\n",
       "    </tr>\n",
       "    <tr>\n",
       "      <th>freq</th>\n",
       "      <td>30</td>\n",
       "      <td>4028</td>\n",
       "      <td>3924</td>\n",
       "      <td>3924</td>\n",
       "      <td>340</td>\n",
       "      <td>1467</td>\n",
       "      <td>NaN</td>\n",
       "      <td>43</td>\n",
       "      <td>47</td>\n",
       "      <td>145</td>\n",
       "      <td>...</td>\n",
       "      <td>175</td>\n",
       "      <td>772</td>\n",
       "      <td>772</td>\n",
       "      <td>85</td>\n",
       "      <td>30</td>\n",
       "      <td>309</td>\n",
       "      <td>340</td>\n",
       "      <td>309</td>\n",
       "      <td>2115</td>\n",
       "      <td>389</td>\n",
       "    </tr>\n",
       "    <tr>\n",
       "      <th>mean</th>\n",
       "      <td>NaN</td>\n",
       "      <td>NaN</td>\n",
       "      <td>NaN</td>\n",
       "      <td>NaN</td>\n",
       "      <td>NaN</td>\n",
       "      <td>NaN</td>\n",
       "      <td>2.978898</td>\n",
       "      <td>NaN</td>\n",
       "      <td>NaN</td>\n",
       "      <td>NaN</td>\n",
       "      <td>...</td>\n",
       "      <td>NaN</td>\n",
       "      <td>NaN</td>\n",
       "      <td>NaN</td>\n",
       "      <td>NaN</td>\n",
       "      <td>NaN</td>\n",
       "      <td>NaN</td>\n",
       "      <td>NaN</td>\n",
       "      <td>NaN</td>\n",
       "      <td>NaN</td>\n",
       "      <td>NaN</td>\n",
       "    </tr>\n",
       "    <tr>\n",
       "      <th>std</th>\n",
       "      <td>NaN</td>\n",
       "      <td>NaN</td>\n",
       "      <td>NaN</td>\n",
       "      <td>NaN</td>\n",
       "      <td>NaN</td>\n",
       "      <td>NaN</td>\n",
       "      <td>2.380348</td>\n",
       "      <td>NaN</td>\n",
       "      <td>NaN</td>\n",
       "      <td>NaN</td>\n",
       "      <td>...</td>\n",
       "      <td>NaN</td>\n",
       "      <td>NaN</td>\n",
       "      <td>NaN</td>\n",
       "      <td>NaN</td>\n",
       "      <td>NaN</td>\n",
       "      <td>NaN</td>\n",
       "      <td>NaN</td>\n",
       "      <td>NaN</td>\n",
       "      <td>NaN</td>\n",
       "      <td>NaN</td>\n",
       "    </tr>\n",
       "    <tr>\n",
       "      <th>min</th>\n",
       "      <td>NaN</td>\n",
       "      <td>NaN</td>\n",
       "      <td>NaN</td>\n",
       "      <td>NaN</td>\n",
       "      <td>NaN</td>\n",
       "      <td>NaN</td>\n",
       "      <td>1.000000</td>\n",
       "      <td>NaN</td>\n",
       "      <td>NaN</td>\n",
       "      <td>NaN</td>\n",
       "      <td>...</td>\n",
       "      <td>NaN</td>\n",
       "      <td>NaN</td>\n",
       "      <td>NaN</td>\n",
       "      <td>NaN</td>\n",
       "      <td>NaN</td>\n",
       "      <td>NaN</td>\n",
       "      <td>NaN</td>\n",
       "      <td>NaN</td>\n",
       "      <td>NaN</td>\n",
       "      <td>NaN</td>\n",
       "    </tr>\n",
       "    <tr>\n",
       "      <th>25%</th>\n",
       "      <td>NaN</td>\n",
       "      <td>NaN</td>\n",
       "      <td>NaN</td>\n",
       "      <td>NaN</td>\n",
       "      <td>NaN</td>\n",
       "      <td>NaN</td>\n",
       "      <td>1.000000</td>\n",
       "      <td>NaN</td>\n",
       "      <td>NaN</td>\n",
       "      <td>NaN</td>\n",
       "      <td>...</td>\n",
       "      <td>NaN</td>\n",
       "      <td>NaN</td>\n",
       "      <td>NaN</td>\n",
       "      <td>NaN</td>\n",
       "      <td>NaN</td>\n",
       "      <td>NaN</td>\n",
       "      <td>NaN</td>\n",
       "      <td>NaN</td>\n",
       "      <td>NaN</td>\n",
       "      <td>NaN</td>\n",
       "    </tr>\n",
       "    <tr>\n",
       "      <th>50%</th>\n",
       "      <td>NaN</td>\n",
       "      <td>NaN</td>\n",
       "      <td>NaN</td>\n",
       "      <td>NaN</td>\n",
       "      <td>NaN</td>\n",
       "      <td>NaN</td>\n",
       "      <td>2.000000</td>\n",
       "      <td>NaN</td>\n",
       "      <td>NaN</td>\n",
       "      <td>NaN</td>\n",
       "      <td>...</td>\n",
       "      <td>NaN</td>\n",
       "      <td>NaN</td>\n",
       "      <td>NaN</td>\n",
       "      <td>NaN</td>\n",
       "      <td>NaN</td>\n",
       "      <td>NaN</td>\n",
       "      <td>NaN</td>\n",
       "      <td>NaN</td>\n",
       "      <td>NaN</td>\n",
       "      <td>NaN</td>\n",
       "    </tr>\n",
       "    <tr>\n",
       "      <th>75%</th>\n",
       "      <td>NaN</td>\n",
       "      <td>NaN</td>\n",
       "      <td>NaN</td>\n",
       "      <td>NaN</td>\n",
       "      <td>NaN</td>\n",
       "      <td>NaN</td>\n",
       "      <td>4.000000</td>\n",
       "      <td>NaN</td>\n",
       "      <td>NaN</td>\n",
       "      <td>NaN</td>\n",
       "      <td>...</td>\n",
       "      <td>NaN</td>\n",
       "      <td>NaN</td>\n",
       "      <td>NaN</td>\n",
       "      <td>NaN</td>\n",
       "      <td>NaN</td>\n",
       "      <td>NaN</td>\n",
       "      <td>NaN</td>\n",
       "      <td>NaN</td>\n",
       "      <td>NaN</td>\n",
       "      <td>NaN</td>\n",
       "    </tr>\n",
       "    <tr>\n",
       "      <th>max</th>\n",
       "      <td>NaN</td>\n",
       "      <td>NaN</td>\n",
       "      <td>NaN</td>\n",
       "      <td>NaN</td>\n",
       "      <td>NaN</td>\n",
       "      <td>NaN</td>\n",
       "      <td>23.000000</td>\n",
       "      <td>NaN</td>\n",
       "      <td>NaN</td>\n",
       "      <td>NaN</td>\n",
       "      <td>...</td>\n",
       "      <td>NaN</td>\n",
       "      <td>NaN</td>\n",
       "      <td>NaN</td>\n",
       "      <td>NaN</td>\n",
       "      <td>NaN</td>\n",
       "      <td>NaN</td>\n",
       "      <td>NaN</td>\n",
       "      <td>NaN</td>\n",
       "      <td>NaN</td>\n",
       "      <td>NaN</td>\n",
       "    </tr>\n",
       "  </tbody>\n",
       "</table>\n",
       "<p>11 rows × 21 columns</p>\n",
       "</div>"
      ],
      "text/plain": [
       "                          paper_doi conf_seriesId conf_acronym  \\\n",
       "count                          4028          4028         4028   \n",
       "unique                         1056             1            3   \n",
       "top     10.1007/978-3-540-30581-1_4        semweb         ISWC   \n",
       "freq                             30          4028         3924   \n",
       "mean                            NaN           NaN          NaN   \n",
       "std                             NaN           NaN          NaN   \n",
       "min                             NaN           NaN          NaN   \n",
       "25%                             NaN           NaN          NaN   \n",
       "50%                             NaN           NaN          NaN   \n",
       "75%                             NaN           NaN          NaN   \n",
       "max                             NaN           NaN          NaN   \n",
       "\n",
       "                                    conf_name conf_city   conf_country  \\\n",
       "count                                    4028      4028           4028   \n",
       "unique                                      3        16              9   \n",
       "top     International Semantic Web Conference      Kobe  United States   \n",
       "freq                                     3924       340           1467   \n",
       "mean                                      NaN       NaN            NaN   \n",
       "std                                       NaN       NaN            NaN   \n",
       "min                                       NaN       NaN            NaN   \n",
       "25%                                       NaN       NaN            NaN   \n",
       "50%                                       NaN       NaN            NaN   \n",
       "75%                                       NaN       NaN            NaN   \n",
       "max                                       NaN       NaN            NaN   \n",
       "\n",
       "        author_order author_givenName author_familyName   org_gridId  ...  \\\n",
       "count    4028.000000             4028              4028         3841  ...   \n",
       "unique           NaN             1501              1949          449  ...   \n",
       "top              NaN          Michael              Wang  grid.5379.8  ...   \n",
       "freq             NaN               43                47          145  ...   \n",
       "mean        2.978898              NaN               NaN          NaN  ...   \n",
       "std         2.380348              NaN               NaN          NaN  ...   \n",
       "min         1.000000              NaN               NaN          NaN  ...   \n",
       "25%         1.000000              NaN               NaN          NaN  ...   \n",
       "50%         2.000000              NaN               NaN          NaN  ...   \n",
       "75%         4.000000              NaN               NaN          NaN  ...   \n",
       "max        23.000000              NaN               NaN          NaN  ...   \n",
       "\n",
       "         org_city    org_country org_countrycode         affiliationString  \\\n",
       "count        3725           3851            3851                      4011   \n",
       "unique        272             44              46                       915   \n",
       "top     Amsterdam  United States              US  University of Manchester   \n",
       "freq          175            772             772                        85   \n",
       "mean          NaN            NaN             NaN                       NaN   \n",
       "std           NaN            NaN             NaN                       NaN   \n",
       "min           NaN            NaN             NaN                       NaN   \n",
       "25%           NaN            NaN             NaN                       NaN   \n",
       "50%           NaN            NaN             NaN                       NaN   \n",
       "75%           NaN            NaN             NaN                       NaN   \n",
       "max           NaN            NaN             NaN                       NaN   \n",
       "\n",
       "                                              paper_title          book_doi  \\\n",
       "count                                                4028              4028   \n",
       "unique                                               1056                23   \n",
       "top     Bringing Semantics to Web Services: The OWL-S ...  10.1007/11926078   \n",
       "freq                                                   30               309   \n",
       "mean                                                  NaN               NaN   \n",
       "std                                                   NaN               NaN   \n",
       "min                                                   NaN               NaN   \n",
       "25%                                                   NaN               NaN   \n",
       "50%                                                   NaN               NaN   \n",
       "75%                                                   NaN               NaN   \n",
       "max                                                   NaN               NaN   \n",
       "\n",
       "                          book_title  \\\n",
       "count                           4028   \n",
       "unique                            16   \n",
       "top     The Semantic Web ? ISWC 2016   \n",
       "freq                             340   \n",
       "mean                             NaN   \n",
       "std                              NaN   \n",
       "min                              NaN   \n",
       "25%                              NaN   \n",
       "50%                              NaN   \n",
       "75%                              NaN   \n",
       "max                              NaN   \n",
       "\n",
       "                                        book_confSubtitle      rights  \\\n",
       "count                                                4028        4028   \n",
       "unique                                                 23           2   \n",
       "top     5th International Semantic Web Conference, ISW...  OpenAccess   \n",
       "freq                                                  309        2115   \n",
       "mean                                                  NaN         NaN   \n",
       "std                                                   NaN         NaN   \n",
       "min                                                   NaN         NaN   \n",
       "25%                                                   NaN         NaN   \n",
       "50%                                                   NaN         NaN   \n",
       "75%                                                   NaN         NaN   \n",
       "max                                                   NaN         NaN   \n",
       "\n",
       "              year  \n",
       "count         4028  \n",
       "unique          14  \n",
       "top     2005-01-01  \n",
       "freq           389  \n",
       "mean           NaN  \n",
       "std            NaN  \n",
       "min            NaN  \n",
       "25%            NaN  \n",
       "50%            NaN  \n",
       "75%            NaN  \n",
       "max            NaN  \n",
       "\n",
       "[11 rows x 21 columns]"
      ]
     },
     "execution_count": 4,
     "metadata": {},
     "output_type": "execute_result"
    }
   ],
   "source": [
    "iswc.describe(include='all')"
   ]
  },
  {
   "attachments": {},
   "cell_type": "markdown",
   "id": "92bf029f",
   "metadata": {},
   "source": [
    "Ok, let's double check this conference series."
   ]
  },
  {
   "cell_type": "code",
   "execution_count": 5,
   "id": "07928724",
   "metadata": {},
   "outputs": [
    {
     "data": {
      "text/plain": [
       "array(['ISWC', 'SWSWPC', 'SWDB'], dtype=object)"
      ]
     },
     "execution_count": 5,
     "metadata": {},
     "output_type": "execute_result"
    }
   ],
   "source": [
    "iswc['conf_acronym'].unique()"
   ]
  },
  {
   "attachments": {},
   "cell_type": "markdown",
   "id": "f1356265",
   "metadata": {},
   "source": [
    "Ah... it looks like there are different acronyms here. Check if they are indeed the conference you need."
   ]
  },
  {
   "cell_type": "code",
   "execution_count": 6,
   "id": "c522675e",
   "metadata": {},
   "outputs": [
    {
     "data": {
      "text/plain": [
       "array(['International Workshop on Semantic Web Services and Web Process Composition'],\n",
       "      dtype=object)"
      ]
     },
     "execution_count": 6,
     "metadata": {},
     "output_type": "execute_result"
    }
   ],
   "source": [
    "iswc[iswc.conf_acronym == 'SWSWPC'].head(1)['conf_name'].values"
   ]
  },
  {
   "attachments": {},
   "cell_type": "markdown",
   "id": "b94d7f34",
   "metadata": {},
   "source": [
    "Check the other as well."
   ]
  },
  {
   "cell_type": "code",
   "execution_count": null,
   "id": "423431e4",
   "metadata": {},
   "outputs": [],
   "source": []
  },
  {
   "attachments": {},
   "cell_type": "markdown",
   "id": "654d9547",
   "metadata": {},
   "source": [
    "Ok, we have intruders here. Let's drop them."
   ]
  },
  {
   "cell_type": "code",
   "execution_count": 7,
   "id": "26f51bb3",
   "metadata": {},
   "outputs": [],
   "source": [
    "iswc = iswc.drop(iswc[iswc.conf_acronym != 'ISWC'].index)"
   ]
  },
  {
   "cell_type": "code",
   "execution_count": 8,
   "id": "50cd5f5f",
   "metadata": {},
   "outputs": [
    {
     "data": {
      "text/html": [
       "<div>\n",
       "<style scoped>\n",
       "    .dataframe tbody tr th:only-of-type {\n",
       "        vertical-align: middle;\n",
       "    }\n",
       "\n",
       "    .dataframe tbody tr th {\n",
       "        vertical-align: top;\n",
       "    }\n",
       "\n",
       "    .dataframe thead th {\n",
       "        text-align: right;\n",
       "    }\n",
       "</style>\n",
       "<table border=\"1\" class=\"dataframe\">\n",
       "  <thead>\n",
       "    <tr style=\"text-align: right;\">\n",
       "      <th></th>\n",
       "      <th>paper_doi</th>\n",
       "      <th>conf_seriesId</th>\n",
       "      <th>conf_acronym</th>\n",
       "      <th>conf_name</th>\n",
       "      <th>conf_city</th>\n",
       "      <th>conf_country</th>\n",
       "      <th>author_order</th>\n",
       "      <th>author_givenName</th>\n",
       "      <th>author_familyName</th>\n",
       "      <th>org_gridId</th>\n",
       "      <th>...</th>\n",
       "      <th>org_city</th>\n",
       "      <th>org_country</th>\n",
       "      <th>org_countrycode</th>\n",
       "      <th>affiliationString</th>\n",
       "      <th>paper_title</th>\n",
       "      <th>book_doi</th>\n",
       "      <th>book_title</th>\n",
       "      <th>book_confSubtitle</th>\n",
       "      <th>rights</th>\n",
       "      <th>year</th>\n",
       "    </tr>\n",
       "  </thead>\n",
       "  <tbody>\n",
       "    <tr>\n",
       "      <th>count</th>\n",
       "      <td>3924</td>\n",
       "      <td>3924</td>\n",
       "      <td>3924</td>\n",
       "      <td>3924</td>\n",
       "      <td>3924</td>\n",
       "      <td>3924</td>\n",
       "      <td>3924.000000</td>\n",
       "      <td>3924</td>\n",
       "      <td>3924</td>\n",
       "      <td>3739</td>\n",
       "      <td>...</td>\n",
       "      <td>3623</td>\n",
       "      <td>3749</td>\n",
       "      <td>3749</td>\n",
       "      <td>3907</td>\n",
       "      <td>3924</td>\n",
       "      <td>3924</td>\n",
       "      <td>3924</td>\n",
       "      <td>3924</td>\n",
       "      <td>3924</td>\n",
       "      <td>3924</td>\n",
       "    </tr>\n",
       "    <tr>\n",
       "      <th>unique</th>\n",
       "      <td>1028</td>\n",
       "      <td>1</td>\n",
       "      <td>1</td>\n",
       "      <td>1</td>\n",
       "      <td>14</td>\n",
       "      <td>8</td>\n",
       "      <td>NaN</td>\n",
       "      <td>1470</td>\n",
       "      <td>1916</td>\n",
       "      <td>441</td>\n",
       "      <td>...</td>\n",
       "      <td>264</td>\n",
       "      <td>44</td>\n",
       "      <td>46</td>\n",
       "      <td>896</td>\n",
       "      <td>1028</td>\n",
       "      <td>21</td>\n",
       "      <td>14</td>\n",
       "      <td>21</td>\n",
       "      <td>2</td>\n",
       "      <td>14</td>\n",
       "    </tr>\n",
       "    <tr>\n",
       "      <th>top</th>\n",
       "      <td>10.1007/978-3-319-25010-6_12</td>\n",
       "      <td>semweb</td>\n",
       "      <td>ISWC</td>\n",
       "      <td>International Semantic Web Conference</td>\n",
       "      <td>Kobe</td>\n",
       "      <td>United States</td>\n",
       "      <td>NaN</td>\n",
       "      <td>Michael</td>\n",
       "      <td>Wang</td>\n",
       "      <td>grid.5379.8</td>\n",
       "      <td>...</td>\n",
       "      <td>Amsterdam</td>\n",
       "      <td>United States</td>\n",
       "      <td>US</td>\n",
       "      <td>University of Manchester</td>\n",
       "      <td>Building and Using a Knowledge Graph to Combat...</td>\n",
       "      <td>10.1007/11926078</td>\n",
       "      <td>The Semantic Web ? ISWC 2016</td>\n",
       "      <td>5th International Semantic Web Conference, ISW...</td>\n",
       "      <td>OpenAccess</td>\n",
       "      <td>2016-01-01</td>\n",
       "    </tr>\n",
       "    <tr>\n",
       "      <th>freq</th>\n",
       "      <td>23</td>\n",
       "      <td>3924</td>\n",
       "      <td>3924</td>\n",
       "      <td>3924</td>\n",
       "      <td>340</td>\n",
       "      <td>1406</td>\n",
       "      <td>NaN</td>\n",
       "      <td>42</td>\n",
       "      <td>47</td>\n",
       "      <td>145</td>\n",
       "      <td>...</td>\n",
       "      <td>175</td>\n",
       "      <td>717</td>\n",
       "      <td>717</td>\n",
       "      <td>85</td>\n",
       "      <td>23</td>\n",
       "      <td>309</td>\n",
       "      <td>340</td>\n",
       "      <td>309</td>\n",
       "      <td>2115</td>\n",
       "      <td>340</td>\n",
       "    </tr>\n",
       "    <tr>\n",
       "      <th>mean</th>\n",
       "      <td>NaN</td>\n",
       "      <td>NaN</td>\n",
       "      <td>NaN</td>\n",
       "      <td>NaN</td>\n",
       "      <td>NaN</td>\n",
       "      <td>NaN</td>\n",
       "      <td>2.963048</td>\n",
       "      <td>NaN</td>\n",
       "      <td>NaN</td>\n",
       "      <td>NaN</td>\n",
       "      <td>...</td>\n",
       "      <td>NaN</td>\n",
       "      <td>NaN</td>\n",
       "      <td>NaN</td>\n",
       "      <td>NaN</td>\n",
       "      <td>NaN</td>\n",
       "      <td>NaN</td>\n",
       "      <td>NaN</td>\n",
       "      <td>NaN</td>\n",
       "      <td>NaN</td>\n",
       "      <td>NaN</td>\n",
       "    </tr>\n",
       "    <tr>\n",
       "      <th>std</th>\n",
       "      <td>NaN</td>\n",
       "      <td>NaN</td>\n",
       "      <td>NaN</td>\n",
       "      <td>NaN</td>\n",
       "      <td>NaN</td>\n",
       "      <td>NaN</td>\n",
       "      <td>2.358169</td>\n",
       "      <td>NaN</td>\n",
       "      <td>NaN</td>\n",
       "      <td>NaN</td>\n",
       "      <td>...</td>\n",
       "      <td>NaN</td>\n",
       "      <td>NaN</td>\n",
       "      <td>NaN</td>\n",
       "      <td>NaN</td>\n",
       "      <td>NaN</td>\n",
       "      <td>NaN</td>\n",
       "      <td>NaN</td>\n",
       "      <td>NaN</td>\n",
       "      <td>NaN</td>\n",
       "      <td>NaN</td>\n",
       "    </tr>\n",
       "    <tr>\n",
       "      <th>min</th>\n",
       "      <td>NaN</td>\n",
       "      <td>NaN</td>\n",
       "      <td>NaN</td>\n",
       "      <td>NaN</td>\n",
       "      <td>NaN</td>\n",
       "      <td>NaN</td>\n",
       "      <td>1.000000</td>\n",
       "      <td>NaN</td>\n",
       "      <td>NaN</td>\n",
       "      <td>NaN</td>\n",
       "      <td>...</td>\n",
       "      <td>NaN</td>\n",
       "      <td>NaN</td>\n",
       "      <td>NaN</td>\n",
       "      <td>NaN</td>\n",
       "      <td>NaN</td>\n",
       "      <td>NaN</td>\n",
       "      <td>NaN</td>\n",
       "      <td>NaN</td>\n",
       "      <td>NaN</td>\n",
       "      <td>NaN</td>\n",
       "    </tr>\n",
       "    <tr>\n",
       "      <th>25%</th>\n",
       "      <td>NaN</td>\n",
       "      <td>NaN</td>\n",
       "      <td>NaN</td>\n",
       "      <td>NaN</td>\n",
       "      <td>NaN</td>\n",
       "      <td>NaN</td>\n",
       "      <td>1.000000</td>\n",
       "      <td>NaN</td>\n",
       "      <td>NaN</td>\n",
       "      <td>NaN</td>\n",
       "      <td>...</td>\n",
       "      <td>NaN</td>\n",
       "      <td>NaN</td>\n",
       "      <td>NaN</td>\n",
       "      <td>NaN</td>\n",
       "      <td>NaN</td>\n",
       "      <td>NaN</td>\n",
       "      <td>NaN</td>\n",
       "      <td>NaN</td>\n",
       "      <td>NaN</td>\n",
       "      <td>NaN</td>\n",
       "    </tr>\n",
       "    <tr>\n",
       "      <th>50%</th>\n",
       "      <td>NaN</td>\n",
       "      <td>NaN</td>\n",
       "      <td>NaN</td>\n",
       "      <td>NaN</td>\n",
       "      <td>NaN</td>\n",
       "      <td>NaN</td>\n",
       "      <td>2.000000</td>\n",
       "      <td>NaN</td>\n",
       "      <td>NaN</td>\n",
       "      <td>NaN</td>\n",
       "      <td>...</td>\n",
       "      <td>NaN</td>\n",
       "      <td>NaN</td>\n",
       "      <td>NaN</td>\n",
       "      <td>NaN</td>\n",
       "      <td>NaN</td>\n",
       "      <td>NaN</td>\n",
       "      <td>NaN</td>\n",
       "      <td>NaN</td>\n",
       "      <td>NaN</td>\n",
       "      <td>NaN</td>\n",
       "    </tr>\n",
       "    <tr>\n",
       "      <th>75%</th>\n",
       "      <td>NaN</td>\n",
       "      <td>NaN</td>\n",
       "      <td>NaN</td>\n",
       "      <td>NaN</td>\n",
       "      <td>NaN</td>\n",
       "      <td>NaN</td>\n",
       "      <td>4.000000</td>\n",
       "      <td>NaN</td>\n",
       "      <td>NaN</td>\n",
       "      <td>NaN</td>\n",
       "      <td>...</td>\n",
       "      <td>NaN</td>\n",
       "      <td>NaN</td>\n",
       "      <td>NaN</td>\n",
       "      <td>NaN</td>\n",
       "      <td>NaN</td>\n",
       "      <td>NaN</td>\n",
       "      <td>NaN</td>\n",
       "      <td>NaN</td>\n",
       "      <td>NaN</td>\n",
       "      <td>NaN</td>\n",
       "    </tr>\n",
       "    <tr>\n",
       "      <th>max</th>\n",
       "      <td>NaN</td>\n",
       "      <td>NaN</td>\n",
       "      <td>NaN</td>\n",
       "      <td>NaN</td>\n",
       "      <td>NaN</td>\n",
       "      <td>NaN</td>\n",
       "      <td>23.000000</td>\n",
       "      <td>NaN</td>\n",
       "      <td>NaN</td>\n",
       "      <td>NaN</td>\n",
       "      <td>...</td>\n",
       "      <td>NaN</td>\n",
       "      <td>NaN</td>\n",
       "      <td>NaN</td>\n",
       "      <td>NaN</td>\n",
       "      <td>NaN</td>\n",
       "      <td>NaN</td>\n",
       "      <td>NaN</td>\n",
       "      <td>NaN</td>\n",
       "      <td>NaN</td>\n",
       "      <td>NaN</td>\n",
       "    </tr>\n",
       "  </tbody>\n",
       "</table>\n",
       "<p>11 rows × 21 columns</p>\n",
       "</div>"
      ],
      "text/plain": [
       "                           paper_doi conf_seriesId conf_acronym  \\\n",
       "count                           3924          3924         3924   \n",
       "unique                          1028             1            1   \n",
       "top     10.1007/978-3-319-25010-6_12        semweb         ISWC   \n",
       "freq                              23          3924         3924   \n",
       "mean                             NaN           NaN          NaN   \n",
       "std                              NaN           NaN          NaN   \n",
       "min                              NaN           NaN          NaN   \n",
       "25%                              NaN           NaN          NaN   \n",
       "50%                              NaN           NaN          NaN   \n",
       "75%                              NaN           NaN          NaN   \n",
       "max                              NaN           NaN          NaN   \n",
       "\n",
       "                                    conf_name conf_city   conf_country  \\\n",
       "count                                    3924      3924           3924   \n",
       "unique                                      1        14              8   \n",
       "top     International Semantic Web Conference      Kobe  United States   \n",
       "freq                                     3924       340           1406   \n",
       "mean                                      NaN       NaN            NaN   \n",
       "std                                       NaN       NaN            NaN   \n",
       "min                                       NaN       NaN            NaN   \n",
       "25%                                       NaN       NaN            NaN   \n",
       "50%                                       NaN       NaN            NaN   \n",
       "75%                                       NaN       NaN            NaN   \n",
       "max                                       NaN       NaN            NaN   \n",
       "\n",
       "        author_order author_givenName author_familyName   org_gridId  ...  \\\n",
       "count    3924.000000             3924              3924         3739  ...   \n",
       "unique           NaN             1470              1916          441  ...   \n",
       "top              NaN          Michael              Wang  grid.5379.8  ...   \n",
       "freq             NaN               42                47          145  ...   \n",
       "mean        2.963048              NaN               NaN          NaN  ...   \n",
       "std         2.358169              NaN               NaN          NaN  ...   \n",
       "min         1.000000              NaN               NaN          NaN  ...   \n",
       "25%         1.000000              NaN               NaN          NaN  ...   \n",
       "50%         2.000000              NaN               NaN          NaN  ...   \n",
       "75%         4.000000              NaN               NaN          NaN  ...   \n",
       "max        23.000000              NaN               NaN          NaN  ...   \n",
       "\n",
       "         org_city    org_country org_countrycode         affiliationString  \\\n",
       "count        3623           3749            3749                      3907   \n",
       "unique        264             44              46                       896   \n",
       "top     Amsterdam  United States              US  University of Manchester   \n",
       "freq          175            717             717                        85   \n",
       "mean          NaN            NaN             NaN                       NaN   \n",
       "std           NaN            NaN             NaN                       NaN   \n",
       "min           NaN            NaN             NaN                       NaN   \n",
       "25%           NaN            NaN             NaN                       NaN   \n",
       "50%           NaN            NaN             NaN                       NaN   \n",
       "75%           NaN            NaN             NaN                       NaN   \n",
       "max           NaN            NaN             NaN                       NaN   \n",
       "\n",
       "                                              paper_title          book_doi  \\\n",
       "count                                                3924              3924   \n",
       "unique                                               1028                21   \n",
       "top     Building and Using a Knowledge Graph to Combat...  10.1007/11926078   \n",
       "freq                                                   23               309   \n",
       "mean                                                  NaN               NaN   \n",
       "std                                                   NaN               NaN   \n",
       "min                                                   NaN               NaN   \n",
       "25%                                                   NaN               NaN   \n",
       "50%                                                   NaN               NaN   \n",
       "75%                                                   NaN               NaN   \n",
       "max                                                   NaN               NaN   \n",
       "\n",
       "                          book_title  \\\n",
       "count                           3924   \n",
       "unique                            14   \n",
       "top     The Semantic Web ? ISWC 2016   \n",
       "freq                             340   \n",
       "mean                             NaN   \n",
       "std                              NaN   \n",
       "min                              NaN   \n",
       "25%                              NaN   \n",
       "50%                              NaN   \n",
       "75%                              NaN   \n",
       "max                              NaN   \n",
       "\n",
       "                                        book_confSubtitle      rights  \\\n",
       "count                                                3924        3924   \n",
       "unique                                                 21           2   \n",
       "top     5th International Semantic Web Conference, ISW...  OpenAccess   \n",
       "freq                                                  309        2115   \n",
       "mean                                                  NaN         NaN   \n",
       "std                                                   NaN         NaN   \n",
       "min                                                   NaN         NaN   \n",
       "25%                                                   NaN         NaN   \n",
       "50%                                                   NaN         NaN   \n",
       "75%                                                   NaN         NaN   \n",
       "max                                                   NaN         NaN   \n",
       "\n",
       "              year  \n",
       "count         3924  \n",
       "unique          14  \n",
       "top     2016-01-01  \n",
       "freq           340  \n",
       "mean           NaN  \n",
       "std            NaN  \n",
       "min            NaN  \n",
       "25%            NaN  \n",
       "50%            NaN  \n",
       "75%            NaN  \n",
       "max            NaN  \n",
       "\n",
       "[11 rows x 21 columns]"
      ]
     },
     "execution_count": 8,
     "metadata": {},
     "output_type": "execute_result"
    }
   ],
   "source": [
    "iswc.describe(include='all')"
   ]
  },
  {
   "attachments": {},
   "cell_type": "markdown",
   "id": "ea46a038",
   "metadata": {},
   "source": [
    "Onto ESWC now"
   ]
  },
  {
   "cell_type": "code",
   "execution_count": 9,
   "id": "9eee63cf",
   "metadata": {},
   "outputs": [
    {
     "data": {
      "text/plain": [
       "array(['ESWC', 'ESWS'], dtype=object)"
      ]
     },
     "execution_count": 9,
     "metadata": {},
     "output_type": "execute_result"
    }
   ],
   "source": [
    "eswc['conf_acronym'].unique()"
   ]
  },
  {
   "attachments": {},
   "cell_type": "markdown",
   "id": "a7c3e68d",
   "metadata": {},
   "source": [
    "Check the other acronym just to be sure"
   ]
  },
  {
   "cell_type": "code",
   "execution_count": null,
   "id": "7135627e",
   "metadata": {},
   "outputs": [],
   "source": []
  },
  {
   "attachments": {},
   "cell_type": "markdown",
   "id": "70119843",
   "metadata": {},
   "source": [
    "Ah! That's ok! This was the name of the conference before it was a conference."
   ]
  },
  {
   "cell_type": "code",
   "execution_count": 10,
   "id": "646fd4dc",
   "metadata": {},
   "outputs": [
    {
     "data": {
      "text/html": [
       "<div>\n",
       "<style scoped>\n",
       "    .dataframe tbody tr th:only-of-type {\n",
       "        vertical-align: middle;\n",
       "    }\n",
       "\n",
       "    .dataframe tbody tr th {\n",
       "        vertical-align: top;\n",
       "    }\n",
       "\n",
       "    .dataframe thead th {\n",
       "        text-align: right;\n",
       "    }\n",
       "</style>\n",
       "<table border=\"1\" class=\"dataframe\">\n",
       "  <thead>\n",
       "    <tr style=\"text-align: right;\">\n",
       "      <th></th>\n",
       "      <th>paper_doi</th>\n",
       "      <th>conf_seriesId</th>\n",
       "      <th>conf_acronym</th>\n",
       "      <th>conf_name</th>\n",
       "      <th>conf_city</th>\n",
       "      <th>conf_country</th>\n",
       "      <th>author_order</th>\n",
       "      <th>author_givenName</th>\n",
       "      <th>author_familyName</th>\n",
       "      <th>org_gridId</th>\n",
       "      <th>...</th>\n",
       "      <th>org_city</th>\n",
       "      <th>org_country</th>\n",
       "      <th>org_countrycode</th>\n",
       "      <th>affiliationString</th>\n",
       "      <th>paper_title</th>\n",
       "      <th>book_doi</th>\n",
       "      <th>book_title</th>\n",
       "      <th>book_confSubtitle</th>\n",
       "      <th>rights</th>\n",
       "      <th>year</th>\n",
       "    </tr>\n",
       "  </thead>\n",
       "  <tbody>\n",
       "    <tr>\n",
       "      <th>count</th>\n",
       "      <td>4224</td>\n",
       "      <td>4224</td>\n",
       "      <td>4224</td>\n",
       "      <td>4224</td>\n",
       "      <td>4224</td>\n",
       "      <td>4224</td>\n",
       "      <td>4224.000000</td>\n",
       "      <td>4224</td>\n",
       "      <td>4224</td>\n",
       "      <td>4076</td>\n",
       "      <td>...</td>\n",
       "      <td>3858</td>\n",
       "      <td>4083</td>\n",
       "      <td>4085</td>\n",
       "      <td>4224</td>\n",
       "      <td>4224</td>\n",
       "      <td>4224</td>\n",
       "      <td>4224</td>\n",
       "      <td>4224</td>\n",
       "      <td>3485</td>\n",
       "      <td>4224</td>\n",
       "    </tr>\n",
       "    <tr>\n",
       "      <th>unique</th>\n",
       "      <td>1141</td>\n",
       "      <td>1</td>\n",
       "      <td>2</td>\n",
       "      <td>4</td>\n",
       "      <td>8</td>\n",
       "      <td>5</td>\n",
       "      <td>NaN</td>\n",
       "      <td>1561</td>\n",
       "      <td>2176</td>\n",
       "      <td>511</td>\n",
       "      <td>...</td>\n",
       "      <td>293</td>\n",
       "      <td>54</td>\n",
       "      <td>54</td>\n",
       "      <td>961</td>\n",
       "      <td>1140</td>\n",
       "      <td>22</td>\n",
       "      <td>10</td>\n",
       "      <td>22</td>\n",
       "      <td>2</td>\n",
       "      <td>13</td>\n",
       "    </tr>\n",
       "    <tr>\n",
       "      <th>top</th>\n",
       "      <td>10.1007/978-3-642-41242-4_48</td>\n",
       "      <td>esws</td>\n",
       "      <td>ESWC</td>\n",
       "      <td>European Semantic Web Conference</td>\n",
       "      <td>Heraklion, Crete</td>\n",
       "      <td>Greece</td>\n",
       "      <td>NaN</td>\n",
       "      <td>Thomas</td>\n",
       "      <td>Motta</td>\n",
       "      <td>grid.6142.1</td>\n",
       "      <td>...</td>\n",
       "      <td>Karlsruhe</td>\n",
       "      <td>Germany</td>\n",
       "      <td>DE</td>\n",
       "      <td>The Open University</td>\n",
       "      <td>Optique: OBDA Solution for Big Data</td>\n",
       "      <td>10.1007/978-3-319-11955-7</td>\n",
       "      <td>The Semantic Web: Research and Applications</td>\n",
       "      <td>ESWC 2014 Satellite Events, Anissaras, Crete, ...</td>\n",
       "      <td>OpenAccess</td>\n",
       "      <td>2015-01-01</td>\n",
       "    </tr>\n",
       "    <tr>\n",
       "      <th>freq</th>\n",
       "      <td>23</td>\n",
       "      <td>4224</td>\n",
       "      <td>4103</td>\n",
       "      <td>1899</td>\n",
       "      <td>1656</td>\n",
       "      <td>2646</td>\n",
       "      <td>NaN</td>\n",
       "      <td>45</td>\n",
       "      <td>21</td>\n",
       "      <td>133</td>\n",
       "      <td>...</td>\n",
       "      <td>150</td>\n",
       "      <td>939</td>\n",
       "      <td>939</td>\n",
       "      <td>123</td>\n",
       "      <td>23</td>\n",
       "      <td>334</td>\n",
       "      <td>1814</td>\n",
       "      <td>334</td>\n",
       "      <td>1787</td>\n",
       "      <td>630</td>\n",
       "    </tr>\n",
       "    <tr>\n",
       "      <th>mean</th>\n",
       "      <td>NaN</td>\n",
       "      <td>NaN</td>\n",
       "      <td>NaN</td>\n",
       "      <td>NaN</td>\n",
       "      <td>NaN</td>\n",
       "      <td>NaN</td>\n",
       "      <td>2.826231</td>\n",
       "      <td>NaN</td>\n",
       "      <td>NaN</td>\n",
       "      <td>NaN</td>\n",
       "      <td>...</td>\n",
       "      <td>NaN</td>\n",
       "      <td>NaN</td>\n",
       "      <td>NaN</td>\n",
       "      <td>NaN</td>\n",
       "      <td>NaN</td>\n",
       "      <td>NaN</td>\n",
       "      <td>NaN</td>\n",
       "      <td>NaN</td>\n",
       "      <td>NaN</td>\n",
       "      <td>NaN</td>\n",
       "    </tr>\n",
       "    <tr>\n",
       "      <th>std</th>\n",
       "      <td>NaN</td>\n",
       "      <td>NaN</td>\n",
       "      <td>NaN</td>\n",
       "      <td>NaN</td>\n",
       "      <td>NaN</td>\n",
       "      <td>NaN</td>\n",
       "      <td>2.228295</td>\n",
       "      <td>NaN</td>\n",
       "      <td>NaN</td>\n",
       "      <td>NaN</td>\n",
       "      <td>...</td>\n",
       "      <td>NaN</td>\n",
       "      <td>NaN</td>\n",
       "      <td>NaN</td>\n",
       "      <td>NaN</td>\n",
       "      <td>NaN</td>\n",
       "      <td>NaN</td>\n",
       "      <td>NaN</td>\n",
       "      <td>NaN</td>\n",
       "      <td>NaN</td>\n",
       "      <td>NaN</td>\n",
       "    </tr>\n",
       "    <tr>\n",
       "      <th>min</th>\n",
       "      <td>NaN</td>\n",
       "      <td>NaN</td>\n",
       "      <td>NaN</td>\n",
       "      <td>NaN</td>\n",
       "      <td>NaN</td>\n",
       "      <td>NaN</td>\n",
       "      <td>1.000000</td>\n",
       "      <td>NaN</td>\n",
       "      <td>NaN</td>\n",
       "      <td>NaN</td>\n",
       "      <td>...</td>\n",
       "      <td>NaN</td>\n",
       "      <td>NaN</td>\n",
       "      <td>NaN</td>\n",
       "      <td>NaN</td>\n",
       "      <td>NaN</td>\n",
       "      <td>NaN</td>\n",
       "      <td>NaN</td>\n",
       "      <td>NaN</td>\n",
       "      <td>NaN</td>\n",
       "      <td>NaN</td>\n",
       "    </tr>\n",
       "    <tr>\n",
       "      <th>25%</th>\n",
       "      <td>NaN</td>\n",
       "      <td>NaN</td>\n",
       "      <td>NaN</td>\n",
       "      <td>NaN</td>\n",
       "      <td>NaN</td>\n",
       "      <td>NaN</td>\n",
       "      <td>1.000000</td>\n",
       "      <td>NaN</td>\n",
       "      <td>NaN</td>\n",
       "      <td>NaN</td>\n",
       "      <td>...</td>\n",
       "      <td>NaN</td>\n",
       "      <td>NaN</td>\n",
       "      <td>NaN</td>\n",
       "      <td>NaN</td>\n",
       "      <td>NaN</td>\n",
       "      <td>NaN</td>\n",
       "      <td>NaN</td>\n",
       "      <td>NaN</td>\n",
       "      <td>NaN</td>\n",
       "      <td>NaN</td>\n",
       "    </tr>\n",
       "    <tr>\n",
       "      <th>50%</th>\n",
       "      <td>NaN</td>\n",
       "      <td>NaN</td>\n",
       "      <td>NaN</td>\n",
       "      <td>NaN</td>\n",
       "      <td>NaN</td>\n",
       "      <td>NaN</td>\n",
       "      <td>2.000000</td>\n",
       "      <td>NaN</td>\n",
       "      <td>NaN</td>\n",
       "      <td>NaN</td>\n",
       "      <td>...</td>\n",
       "      <td>NaN</td>\n",
       "      <td>NaN</td>\n",
       "      <td>NaN</td>\n",
       "      <td>NaN</td>\n",
       "      <td>NaN</td>\n",
       "      <td>NaN</td>\n",
       "      <td>NaN</td>\n",
       "      <td>NaN</td>\n",
       "      <td>NaN</td>\n",
       "      <td>NaN</td>\n",
       "    </tr>\n",
       "    <tr>\n",
       "      <th>75%</th>\n",
       "      <td>NaN</td>\n",
       "      <td>NaN</td>\n",
       "      <td>NaN</td>\n",
       "      <td>NaN</td>\n",
       "      <td>NaN</td>\n",
       "      <td>NaN</td>\n",
       "      <td>4.000000</td>\n",
       "      <td>NaN</td>\n",
       "      <td>NaN</td>\n",
       "      <td>NaN</td>\n",
       "      <td>...</td>\n",
       "      <td>NaN</td>\n",
       "      <td>NaN</td>\n",
       "      <td>NaN</td>\n",
       "      <td>NaN</td>\n",
       "      <td>NaN</td>\n",
       "      <td>NaN</td>\n",
       "      <td>NaN</td>\n",
       "      <td>NaN</td>\n",
       "      <td>NaN</td>\n",
       "      <td>NaN</td>\n",
       "    </tr>\n",
       "    <tr>\n",
       "      <th>max</th>\n",
       "      <td>NaN</td>\n",
       "      <td>NaN</td>\n",
       "      <td>NaN</td>\n",
       "      <td>NaN</td>\n",
       "      <td>NaN</td>\n",
       "      <td>NaN</td>\n",
       "      <td>23.000000</td>\n",
       "      <td>NaN</td>\n",
       "      <td>NaN</td>\n",
       "      <td>NaN</td>\n",
       "      <td>...</td>\n",
       "      <td>NaN</td>\n",
       "      <td>NaN</td>\n",
       "      <td>NaN</td>\n",
       "      <td>NaN</td>\n",
       "      <td>NaN</td>\n",
       "      <td>NaN</td>\n",
       "      <td>NaN</td>\n",
       "      <td>NaN</td>\n",
       "      <td>NaN</td>\n",
       "      <td>NaN</td>\n",
       "    </tr>\n",
       "  </tbody>\n",
       "</table>\n",
       "<p>11 rows × 21 columns</p>\n",
       "</div>"
      ],
      "text/plain": [
       "                           paper_doi conf_seriesId conf_acronym  \\\n",
       "count                           4224          4224         4224   \n",
       "unique                          1141             1            2   \n",
       "top     10.1007/978-3-642-41242-4_48          esws         ESWC   \n",
       "freq                              23          4224         4103   \n",
       "mean                             NaN           NaN          NaN   \n",
       "std                              NaN           NaN          NaN   \n",
       "min                              NaN           NaN          NaN   \n",
       "25%                              NaN           NaN          NaN   \n",
       "50%                              NaN           NaN          NaN   \n",
       "75%                              NaN           NaN          NaN   \n",
       "max                              NaN           NaN          NaN   \n",
       "\n",
       "                               conf_name         conf_city conf_country  \\\n",
       "count                               4224              4224         4224   \n",
       "unique                                 4                 8            5   \n",
       "top     European Semantic Web Conference  Heraklion, Crete       Greece   \n",
       "freq                                1899              1656         2646   \n",
       "mean                                 NaN               NaN          NaN   \n",
       "std                                  NaN               NaN          NaN   \n",
       "min                                  NaN               NaN          NaN   \n",
       "25%                                  NaN               NaN          NaN   \n",
       "50%                                  NaN               NaN          NaN   \n",
       "75%                                  NaN               NaN          NaN   \n",
       "max                                  NaN               NaN          NaN   \n",
       "\n",
       "        author_order author_givenName author_familyName   org_gridId  ...  \\\n",
       "count    4224.000000             4224              4224         4076  ...   \n",
       "unique           NaN             1561              2176          511  ...   \n",
       "top              NaN           Thomas             Motta  grid.6142.1  ...   \n",
       "freq             NaN               45                21          133  ...   \n",
       "mean        2.826231              NaN               NaN          NaN  ...   \n",
       "std         2.228295              NaN               NaN          NaN  ...   \n",
       "min         1.000000              NaN               NaN          NaN  ...   \n",
       "25%         1.000000              NaN               NaN          NaN  ...   \n",
       "50%         2.000000              NaN               NaN          NaN  ...   \n",
       "75%         4.000000              NaN               NaN          NaN  ...   \n",
       "max        23.000000              NaN               NaN          NaN  ...   \n",
       "\n",
       "         org_city org_country org_countrycode    affiliationString  \\\n",
       "count        3858        4083            4085                 4224   \n",
       "unique        293          54              54                  961   \n",
       "top     Karlsruhe     Germany              DE  The Open University   \n",
       "freq          150         939             939                  123   \n",
       "mean          NaN         NaN             NaN                  NaN   \n",
       "std           NaN         NaN             NaN                  NaN   \n",
       "min           NaN         NaN             NaN                  NaN   \n",
       "25%           NaN         NaN             NaN                  NaN   \n",
       "50%           NaN         NaN             NaN                  NaN   \n",
       "75%           NaN         NaN             NaN                  NaN   \n",
       "max           NaN         NaN             NaN                  NaN   \n",
       "\n",
       "                                paper_title                   book_doi  \\\n",
       "count                                  4224                       4224   \n",
       "unique                                 1140                         22   \n",
       "top     Optique: OBDA Solution for Big Data  10.1007/978-3-319-11955-7   \n",
       "freq                                     23                        334   \n",
       "mean                                    NaN                        NaN   \n",
       "std                                     NaN                        NaN   \n",
       "min                                     NaN                        NaN   \n",
       "25%                                     NaN                        NaN   \n",
       "50%                                     NaN                        NaN   \n",
       "75%                                     NaN                        NaN   \n",
       "max                                     NaN                        NaN   \n",
       "\n",
       "                                         book_title  \\\n",
       "count                                          4224   \n",
       "unique                                           10   \n",
       "top     The Semantic Web: Research and Applications   \n",
       "freq                                           1814   \n",
       "mean                                            NaN   \n",
       "std                                             NaN   \n",
       "min                                             NaN   \n",
       "25%                                             NaN   \n",
       "50%                                             NaN   \n",
       "75%                                             NaN   \n",
       "max                                             NaN   \n",
       "\n",
       "                                        book_confSubtitle      rights  \\\n",
       "count                                                4224        3485   \n",
       "unique                                                 22           2   \n",
       "top     ESWC 2014 Satellite Events, Anissaras, Crete, ...  OpenAccess   \n",
       "freq                                                  334        1787   \n",
       "mean                                                  NaN         NaN   \n",
       "std                                                   NaN         NaN   \n",
       "min                                                   NaN         NaN   \n",
       "25%                                                   NaN         NaN   \n",
       "50%                                                   NaN         NaN   \n",
       "75%                                                   NaN         NaN   \n",
       "max                                                   NaN         NaN   \n",
       "\n",
       "              year  \n",
       "count         4224  \n",
       "unique          13  \n",
       "top     2015-01-01  \n",
       "freq           630  \n",
       "mean           NaN  \n",
       "std            NaN  \n",
       "min            NaN  \n",
       "25%            NaN  \n",
       "50%            NaN  \n",
       "75%            NaN  \n",
       "max            NaN  \n",
       "\n",
       "[11 rows x 21 columns]"
      ]
     },
     "execution_count": 10,
     "metadata": {},
     "output_type": "execute_result"
    }
   ],
   "source": [
    "eswc.describe(include='all')"
   ]
  },
  {
   "attachments": {},
   "cell_type": "markdown",
   "id": "ede705a9",
   "metadata": {},
   "source": [
    "Finally, let's check TPDL"
   ]
  },
  {
   "cell_type": "code",
   "execution_count": 11,
   "id": "8455961d",
   "metadata": {},
   "outputs": [
    {
     "data": {
      "text/plain": [
       "array(['TPDL', 'ECDL'], dtype=object)"
      ]
     },
     "execution_count": 11,
     "metadata": {},
     "output_type": "execute_result"
    }
   ],
   "source": [
    "tpdl['conf_acronym'].unique()"
   ]
  },
  {
   "attachments": {},
   "cell_type": "markdown",
   "id": "3071ac93",
   "metadata": {},
   "source": [
    "Check ECDL "
   ]
  },
  {
   "attachments": {},
   "cell_type": "markdown",
   "id": "d860fd24",
   "metadata": {},
   "source": [
    "Let me fix this date for you. I know it was wrong."
   ]
  },
  {
   "cell_type": "code",
   "execution_count": 12,
   "id": "e8397054",
   "metadata": {},
   "outputs": [],
   "source": [
    "tpdl.loc[tpdl.year == '2014-01-01', 'year'] = '2013-01-01'"
   ]
  },
  {
   "cell_type": "code",
   "execution_count": 13,
   "id": "c4c54110",
   "metadata": {},
   "outputs": [
    {
     "data": {
      "text/html": [
       "<div>\n",
       "<style scoped>\n",
       "    .dataframe tbody tr th:only-of-type {\n",
       "        vertical-align: middle;\n",
       "    }\n",
       "\n",
       "    .dataframe tbody tr th {\n",
       "        vertical-align: top;\n",
       "    }\n",
       "\n",
       "    .dataframe thead th {\n",
       "        text-align: right;\n",
       "    }\n",
       "</style>\n",
       "<table border=\"1\" class=\"dataframe\">\n",
       "  <thead>\n",
       "    <tr style=\"text-align: right;\">\n",
       "      <th></th>\n",
       "      <th>paper_doi</th>\n",
       "      <th>conf_seriesId</th>\n",
       "      <th>conf_acronym</th>\n",
       "      <th>conf_name</th>\n",
       "      <th>conf_city</th>\n",
       "      <th>conf_country</th>\n",
       "      <th>author_order</th>\n",
       "      <th>author_givenName</th>\n",
       "      <th>author_familyName</th>\n",
       "      <th>org_gridId</th>\n",
       "      <th>...</th>\n",
       "      <th>org_city</th>\n",
       "      <th>org_country</th>\n",
       "      <th>org_countrycode</th>\n",
       "      <th>affiliationString</th>\n",
       "      <th>paper_title</th>\n",
       "      <th>book_doi</th>\n",
       "      <th>book_title</th>\n",
       "      <th>book_confSubtitle</th>\n",
       "      <th>rights</th>\n",
       "      <th>year</th>\n",
       "    </tr>\n",
       "  </thead>\n",
       "  <tbody>\n",
       "    <tr>\n",
       "      <th>count</th>\n",
       "      <td>3271</td>\n",
       "      <td>3271</td>\n",
       "      <td>3271</td>\n",
       "      <td>3271</td>\n",
       "      <td>3271</td>\n",
       "      <td>3271</td>\n",
       "      <td>3271.000000</td>\n",
       "      <td>3271</td>\n",
       "      <td>3271</td>\n",
       "      <td>3208</td>\n",
       "      <td>...</td>\n",
       "      <td>2991</td>\n",
       "      <td>3216</td>\n",
       "      <td>3216</td>\n",
       "      <td>3261</td>\n",
       "      <td>3271</td>\n",
       "      <td>3271</td>\n",
       "      <td>3271</td>\n",
       "      <td>3271</td>\n",
       "      <td>3168</td>\n",
       "      <td>3271</td>\n",
       "    </tr>\n",
       "    <tr>\n",
       "      <th>unique</th>\n",
       "      <td>919</td>\n",
       "      <td>1</td>\n",
       "      <td>2</td>\n",
       "      <td>1</td>\n",
       "      <td>14</td>\n",
       "      <td>11</td>\n",
       "      <td>NaN</td>\n",
       "      <td>1382</td>\n",
       "      <td>1736</td>\n",
       "      <td>485</td>\n",
       "      <td>...</td>\n",
       "      <td>280</td>\n",
       "      <td>52</td>\n",
       "      <td>52</td>\n",
       "      <td>867</td>\n",
       "      <td>893</td>\n",
       "      <td>16</td>\n",
       "      <td>3</td>\n",
       "      <td>15</td>\n",
       "      <td>2</td>\n",
       "      <td>14</td>\n",
       "    </tr>\n",
       "    <tr>\n",
       "      <th>top</th>\n",
       "      <td>10.1007/978-3-319-14226-5_4</td>\n",
       "      <td>ercimdl</td>\n",
       "      <td>ECDL</td>\n",
       "      <td>International Conference on Theory and Practic...</td>\n",
       "      <td>Valletta</td>\n",
       "      <td>Malta</td>\n",
       "      <td>NaN</td>\n",
       "      <td>Michael</td>\n",
       "      <td>Fox</td>\n",
       "      <td>grid.438526.e</td>\n",
       "      <td>...</td>\n",
       "      <td>Athens</td>\n",
       "      <td>United States</td>\n",
       "      <td>US</td>\n",
       "      <td>Virginia Tech</td>\n",
       "      <td>Understanding Climate Data Through Commentary ...</td>\n",
       "      <td>10.1007/978-3-642-15464-5</td>\n",
       "      <td>Research and Advanced Technology for Digital L...</td>\n",
       "      <td>14th European Conference, ECDL 2010, Glasgow, ...</td>\n",
       "      <td>Restricted</td>\n",
       "      <td>2013-01-01</td>\n",
       "    </tr>\n",
       "    <tr>\n",
       "      <th>freq</th>\n",
       "      <td>23</td>\n",
       "      <td>3271</td>\n",
       "      <td>1981</td>\n",
       "      <td>3271</td>\n",
       "      <td>466</td>\n",
       "      <td>466</td>\n",
       "      <td>NaN</td>\n",
       "      <td>36</td>\n",
       "      <td>26</td>\n",
       "      <td>93</td>\n",
       "      <td>...</td>\n",
       "      <td>92</td>\n",
       "      <td>607</td>\n",
       "      <td>607</td>\n",
       "      <td>77</td>\n",
       "      <td>46</td>\n",
       "      <td>309</td>\n",
       "      <td>2835</td>\n",
       "      <td>309</td>\n",
       "      <td>3134</td>\n",
       "      <td>466</td>\n",
       "    </tr>\n",
       "    <tr>\n",
       "      <th>mean</th>\n",
       "      <td>NaN</td>\n",
       "      <td>NaN</td>\n",
       "      <td>NaN</td>\n",
       "      <td>NaN</td>\n",
       "      <td>NaN</td>\n",
       "      <td>NaN</td>\n",
       "      <td>2.747784</td>\n",
       "      <td>NaN</td>\n",
       "      <td>NaN</td>\n",
       "      <td>NaN</td>\n",
       "      <td>...</td>\n",
       "      <td>NaN</td>\n",
       "      <td>NaN</td>\n",
       "      <td>NaN</td>\n",
       "      <td>NaN</td>\n",
       "      <td>NaN</td>\n",
       "      <td>NaN</td>\n",
       "      <td>NaN</td>\n",
       "      <td>NaN</td>\n",
       "      <td>NaN</td>\n",
       "      <td>NaN</td>\n",
       "    </tr>\n",
       "    <tr>\n",
       "      <th>std</th>\n",
       "      <td>NaN</td>\n",
       "      <td>NaN</td>\n",
       "      <td>NaN</td>\n",
       "      <td>NaN</td>\n",
       "      <td>NaN</td>\n",
       "      <td>NaN</td>\n",
       "      <td>1.922260</td>\n",
       "      <td>NaN</td>\n",
       "      <td>NaN</td>\n",
       "      <td>NaN</td>\n",
       "      <td>...</td>\n",
       "      <td>NaN</td>\n",
       "      <td>NaN</td>\n",
       "      <td>NaN</td>\n",
       "      <td>NaN</td>\n",
       "      <td>NaN</td>\n",
       "      <td>NaN</td>\n",
       "      <td>NaN</td>\n",
       "      <td>NaN</td>\n",
       "      <td>NaN</td>\n",
       "      <td>NaN</td>\n",
       "    </tr>\n",
       "    <tr>\n",
       "      <th>min</th>\n",
       "      <td>NaN</td>\n",
       "      <td>NaN</td>\n",
       "      <td>NaN</td>\n",
       "      <td>NaN</td>\n",
       "      <td>NaN</td>\n",
       "      <td>NaN</td>\n",
       "      <td>1.000000</td>\n",
       "      <td>NaN</td>\n",
       "      <td>NaN</td>\n",
       "      <td>NaN</td>\n",
       "      <td>...</td>\n",
       "      <td>NaN</td>\n",
       "      <td>NaN</td>\n",
       "      <td>NaN</td>\n",
       "      <td>NaN</td>\n",
       "      <td>NaN</td>\n",
       "      <td>NaN</td>\n",
       "      <td>NaN</td>\n",
       "      <td>NaN</td>\n",
       "      <td>NaN</td>\n",
       "      <td>NaN</td>\n",
       "    </tr>\n",
       "    <tr>\n",
       "      <th>25%</th>\n",
       "      <td>NaN</td>\n",
       "      <td>NaN</td>\n",
       "      <td>NaN</td>\n",
       "      <td>NaN</td>\n",
       "      <td>NaN</td>\n",
       "      <td>NaN</td>\n",
       "      <td>1.000000</td>\n",
       "      <td>NaN</td>\n",
       "      <td>NaN</td>\n",
       "      <td>NaN</td>\n",
       "      <td>...</td>\n",
       "      <td>NaN</td>\n",
       "      <td>NaN</td>\n",
       "      <td>NaN</td>\n",
       "      <td>NaN</td>\n",
       "      <td>NaN</td>\n",
       "      <td>NaN</td>\n",
       "      <td>NaN</td>\n",
       "      <td>NaN</td>\n",
       "      <td>NaN</td>\n",
       "      <td>NaN</td>\n",
       "    </tr>\n",
       "    <tr>\n",
       "      <th>50%</th>\n",
       "      <td>NaN</td>\n",
       "      <td>NaN</td>\n",
       "      <td>NaN</td>\n",
       "      <td>NaN</td>\n",
       "      <td>NaN</td>\n",
       "      <td>NaN</td>\n",
       "      <td>2.000000</td>\n",
       "      <td>NaN</td>\n",
       "      <td>NaN</td>\n",
       "      <td>NaN</td>\n",
       "      <td>...</td>\n",
       "      <td>NaN</td>\n",
       "      <td>NaN</td>\n",
       "      <td>NaN</td>\n",
       "      <td>NaN</td>\n",
       "      <td>NaN</td>\n",
       "      <td>NaN</td>\n",
       "      <td>NaN</td>\n",
       "      <td>NaN</td>\n",
       "      <td>NaN</td>\n",
       "      <td>NaN</td>\n",
       "    </tr>\n",
       "    <tr>\n",
       "      <th>75%</th>\n",
       "      <td>NaN</td>\n",
       "      <td>NaN</td>\n",
       "      <td>NaN</td>\n",
       "      <td>NaN</td>\n",
       "      <td>NaN</td>\n",
       "      <td>NaN</td>\n",
       "      <td>4.000000</td>\n",
       "      <td>NaN</td>\n",
       "      <td>NaN</td>\n",
       "      <td>NaN</td>\n",
       "      <td>...</td>\n",
       "      <td>NaN</td>\n",
       "      <td>NaN</td>\n",
       "      <td>NaN</td>\n",
       "      <td>NaN</td>\n",
       "      <td>NaN</td>\n",
       "      <td>NaN</td>\n",
       "      <td>NaN</td>\n",
       "      <td>NaN</td>\n",
       "      <td>NaN</td>\n",
       "      <td>NaN</td>\n",
       "    </tr>\n",
       "    <tr>\n",
       "      <th>max</th>\n",
       "      <td>NaN</td>\n",
       "      <td>NaN</td>\n",
       "      <td>NaN</td>\n",
       "      <td>NaN</td>\n",
       "      <td>NaN</td>\n",
       "      <td>NaN</td>\n",
       "      <td>14.000000</td>\n",
       "      <td>NaN</td>\n",
       "      <td>NaN</td>\n",
       "      <td>NaN</td>\n",
       "      <td>...</td>\n",
       "      <td>NaN</td>\n",
       "      <td>NaN</td>\n",
       "      <td>NaN</td>\n",
       "      <td>NaN</td>\n",
       "      <td>NaN</td>\n",
       "      <td>NaN</td>\n",
       "      <td>NaN</td>\n",
       "      <td>NaN</td>\n",
       "      <td>NaN</td>\n",
       "      <td>NaN</td>\n",
       "    </tr>\n",
       "  </tbody>\n",
       "</table>\n",
       "<p>11 rows × 21 columns</p>\n",
       "</div>"
      ],
      "text/plain": [
       "                          paper_doi conf_seriesId conf_acronym  \\\n",
       "count                          3271          3271         3271   \n",
       "unique                          919             1            2   \n",
       "top     10.1007/978-3-319-14226-5_4       ercimdl         ECDL   \n",
       "freq                             23          3271         1981   \n",
       "mean                            NaN           NaN          NaN   \n",
       "std                             NaN           NaN          NaN   \n",
       "min                             NaN           NaN          NaN   \n",
       "25%                             NaN           NaN          NaN   \n",
       "50%                             NaN           NaN          NaN   \n",
       "75%                             NaN           NaN          NaN   \n",
       "max                             NaN           NaN          NaN   \n",
       "\n",
       "                                                conf_name conf_city  \\\n",
       "count                                                3271      3271   \n",
       "unique                                                  1        14   \n",
       "top     International Conference on Theory and Practic...  Valletta   \n",
       "freq                                                 3271       466   \n",
       "mean                                                  NaN       NaN   \n",
       "std                                                   NaN       NaN   \n",
       "min                                                   NaN       NaN   \n",
       "25%                                                   NaN       NaN   \n",
       "50%                                                   NaN       NaN   \n",
       "75%                                                   NaN       NaN   \n",
       "max                                                   NaN       NaN   \n",
       "\n",
       "       conf_country  author_order author_givenName author_familyName  \\\n",
       "count          3271   3271.000000             3271              3271   \n",
       "unique           11           NaN             1382              1736   \n",
       "top           Malta           NaN          Michael               Fox   \n",
       "freq            466           NaN               36                26   \n",
       "mean            NaN      2.747784              NaN               NaN   \n",
       "std             NaN      1.922260              NaN               NaN   \n",
       "min             NaN      1.000000              NaN               NaN   \n",
       "25%             NaN      1.000000              NaN               NaN   \n",
       "50%             NaN      2.000000              NaN               NaN   \n",
       "75%             NaN      4.000000              NaN               NaN   \n",
       "max             NaN     14.000000              NaN               NaN   \n",
       "\n",
       "           org_gridId  ... org_city    org_country org_countrycode  \\\n",
       "count            3208  ...     2991           3216            3216   \n",
       "unique            485  ...      280             52              52   \n",
       "top     grid.438526.e  ...   Athens  United States              US   \n",
       "freq               93  ...       92            607             607   \n",
       "mean              NaN  ...      NaN            NaN             NaN   \n",
       "std               NaN  ...      NaN            NaN             NaN   \n",
       "min               NaN  ...      NaN            NaN             NaN   \n",
       "25%               NaN  ...      NaN            NaN             NaN   \n",
       "50%               NaN  ...      NaN            NaN             NaN   \n",
       "75%               NaN  ...      NaN            NaN             NaN   \n",
       "max               NaN  ...      NaN            NaN             NaN   \n",
       "\n",
       "       affiliationString                                        paper_title  \\\n",
       "count               3261                                               3271   \n",
       "unique               867                                                893   \n",
       "top        Virginia Tech  Understanding Climate Data Through Commentary ...   \n",
       "freq                  77                                                 46   \n",
       "mean                 NaN                                                NaN   \n",
       "std                  NaN                                                NaN   \n",
       "min                  NaN                                                NaN   \n",
       "25%                  NaN                                                NaN   \n",
       "50%                  NaN                                                NaN   \n",
       "75%                  NaN                                                NaN   \n",
       "max                  NaN                                                NaN   \n",
       "\n",
       "                         book_doi  \\\n",
       "count                        3271   \n",
       "unique                         16   \n",
       "top     10.1007/978-3-642-15464-5   \n",
       "freq                          309   \n",
       "mean                          NaN   \n",
       "std                           NaN   \n",
       "min                           NaN   \n",
       "25%                           NaN   \n",
       "50%                           NaN   \n",
       "75%                           NaN   \n",
       "max                           NaN   \n",
       "\n",
       "                                               book_title  \\\n",
       "count                                                3271   \n",
       "unique                                                  3   \n",
       "top     Research and Advanced Technology for Digital L...   \n",
       "freq                                                 2835   \n",
       "mean                                                  NaN   \n",
       "std                                                   NaN   \n",
       "min                                                   NaN   \n",
       "25%                                                   NaN   \n",
       "50%                                                   NaN   \n",
       "75%                                                   NaN   \n",
       "max                                                   NaN   \n",
       "\n",
       "                                        book_confSubtitle      rights  \\\n",
       "count                                                3271        3168   \n",
       "unique                                                 15           2   \n",
       "top     14th European Conference, ECDL 2010, Glasgow, ...  Restricted   \n",
       "freq                                                  309        3134   \n",
       "mean                                                  NaN         NaN   \n",
       "std                                                   NaN         NaN   \n",
       "min                                                   NaN         NaN   \n",
       "25%                                                   NaN         NaN   \n",
       "50%                                                   NaN         NaN   \n",
       "75%                                                   NaN         NaN   \n",
       "max                                                   NaN         NaN   \n",
       "\n",
       "              year  \n",
       "count         3271  \n",
       "unique          14  \n",
       "top     2013-01-01  \n",
       "freq           466  \n",
       "mean           NaN  \n",
       "std            NaN  \n",
       "min            NaN  \n",
       "25%            NaN  \n",
       "50%            NaN  \n",
       "75%            NaN  \n",
       "max            NaN  \n",
       "\n",
       "[11 rows x 21 columns]"
      ]
     },
     "execution_count": 13,
     "metadata": {},
     "output_type": "execute_result"
    }
   ],
   "source": [
    "tpdl.describe(include='all')"
   ]
  },
  {
   "attachments": {},
   "cell_type": "markdown",
   "id": "4ee08003",
   "metadata": {},
   "source": [
    "## Analysis"
   ]
  },
  {
   "attachments": {},
   "cell_type": "markdown",
   "id": "567ec39f",
   "metadata": {},
   "source": [
    "For the sake of simplicity, we can create a variable `df` and assign one of our dataframes `iswc`, `eswc`, `tpdl` to it.\n",
    "\n",
    "Pick one for the moment. Later, you can come up here, switch to another dataframe and run again the cells below."
   ]
  },
  {
   "cell_type": "code",
   "execution_count": 14,
   "id": "270090a4",
   "metadata": {},
   "outputs": [],
   "source": [
    "df = iswc"
   ]
  },
  {
   "cell_type": "code",
   "execution_count": 15,
   "metadata": {},
   "outputs": [],
   "source": [
    "df_first = df[df.author_order == 1]\n",
    "df_last_authors_idx = df.groupby('paper_doi')['author_order'].transform(max) == df['author_order']\n",
    "df_last = df[df_last_authors_idx]\n",
    "df_middle = df[df_last_authors_idx.map(lambda x: not x)]\n",
    "df_middle = df_middle[df_middle.author_order != 1]"
   ]
  },
  {
   "cell_type": "code",
   "execution_count": 16,
   "id": "bed85d70-6a91-4ae4-aed0-2e36ce668492",
   "metadata": {
    "tags": []
   },
   "outputs": [
    {
     "data": {
      "text/html": [
       "<div>\n",
       "<style scoped>\n",
       "    .dataframe tbody tr th:only-of-type {\n",
       "        vertical-align: middle;\n",
       "    }\n",
       "\n",
       "    .dataframe tbody tr th {\n",
       "        vertical-align: top;\n",
       "    }\n",
       "\n",
       "    .dataframe thead th {\n",
       "        text-align: right;\n",
       "    }\n",
       "</style>\n",
       "<table border=\"1\" class=\"dataframe\">\n",
       "  <thead>\n",
       "    <tr style=\"text-align: right;\">\n",
       "      <th></th>\n",
       "      <th>paper_doi</th>\n",
       "      <th>conf_seriesId</th>\n",
       "      <th>conf_acronym</th>\n",
       "      <th>conf_name</th>\n",
       "      <th>conf_city</th>\n",
       "      <th>conf_country</th>\n",
       "      <th>author_order</th>\n",
       "      <th>author_givenName</th>\n",
       "      <th>author_familyName</th>\n",
       "      <th>org_gridId</th>\n",
       "      <th>...</th>\n",
       "      <th>org_city</th>\n",
       "      <th>org_country</th>\n",
       "      <th>org_countrycode</th>\n",
       "      <th>affiliationString</th>\n",
       "      <th>paper_title</th>\n",
       "      <th>book_doi</th>\n",
       "      <th>book_title</th>\n",
       "      <th>book_confSubtitle</th>\n",
       "      <th>rights</th>\n",
       "      <th>year</th>\n",
       "    </tr>\n",
       "  </thead>\n",
       "  <tbody>\n",
       "    <tr>\n",
       "      <th>0</th>\n",
       "      <td>10.1007/11926078_12</td>\n",
       "      <td>semweb</td>\n",
       "      <td>ISWC</td>\n",
       "      <td>International Semantic Web Conference</td>\n",
       "      <td>Athens, GA</td>\n",
       "      <td>United States</td>\n",
       "      <td>4</td>\n",
       "      <td>Ryan</td>\n",
       "      <td>Lee</td>\n",
       "      <td>NaN</td>\n",
       "      <td>...</td>\n",
       "      <td>NaN</td>\n",
       "      <td>NaN</td>\n",
       "      <td>NaN</td>\n",
       "      <td>(World Wide Web Consortium)</td>\n",
       "      <td>Fresnel: A Browser-Independent Presentation Vo...</td>\n",
       "      <td>10.1007/11926078</td>\n",
       "      <td>The Semantic Web - ISWC 2006</td>\n",
       "      <td>5th International Semantic Web Conference, ISW...</td>\n",
       "      <td>OpenAccess</td>\n",
       "      <td>2006-01-01</td>\n",
       "    </tr>\n",
       "    <tr>\n",
       "      <th>637</th>\n",
       "      <td>10.1007/11926078_12</td>\n",
       "      <td>semweb</td>\n",
       "      <td>ISWC</td>\n",
       "      <td>International Semantic Web Conference</td>\n",
       "      <td>Athens, GA</td>\n",
       "      <td>United States</td>\n",
       "      <td>2</td>\n",
       "      <td>Christian</td>\n",
       "      <td>Bizer</td>\n",
       "      <td>grid.14095.39</td>\n",
       "      <td>...</td>\n",
       "      <td>Berlin</td>\n",
       "      <td>Germany</td>\n",
       "      <td>DE</td>\n",
       "      <td>Freie Universität Berlin</td>\n",
       "      <td>Fresnel: A Browser-Independent Presentation Vo...</td>\n",
       "      <td>10.1007/11926078</td>\n",
       "      <td>The Semantic Web - ISWC 2006</td>\n",
       "      <td>5th International Semantic Web Conference, ISW...</td>\n",
       "      <td>OpenAccess</td>\n",
       "      <td>2006-01-01</td>\n",
       "    </tr>\n",
       "    <tr>\n",
       "      <th>980</th>\n",
       "      <td>10.1007/11926078_12</td>\n",
       "      <td>semweb</td>\n",
       "      <td>ISWC</td>\n",
       "      <td>International Semantic Web Conference</td>\n",
       "      <td>Athens, GA</td>\n",
       "      <td>United States</td>\n",
       "      <td>1</td>\n",
       "      <td>Emmanuel</td>\n",
       "      <td>Pietriga</td>\n",
       "      <td>grid.464180.f</td>\n",
       "      <td>...</td>\n",
       "      <td>Gif-sur-Yvette</td>\n",
       "      <td>France</td>\n",
       "      <td>FR</td>\n",
       "      <td>INRIA &amp; Laboratoire de Recherche en Informatiq...</td>\n",
       "      <td>Fresnel: A Browser-Independent Presentation Vo...</td>\n",
       "      <td>10.1007/11926078</td>\n",
       "      <td>The Semantic Web - ISWC 2006</td>\n",
       "      <td>5th International Semantic Web Conference, ISW...</td>\n",
       "      <td>OpenAccess</td>\n",
       "      <td>2006-01-01</td>\n",
       "    </tr>\n",
       "    <tr>\n",
       "      <th>1414</th>\n",
       "      <td>10.1007/11926078_12</td>\n",
       "      <td>semweb</td>\n",
       "      <td>ISWC</td>\n",
       "      <td>International Semantic Web Conference</td>\n",
       "      <td>Athens, GA</td>\n",
       "      <td>United States</td>\n",
       "      <td>3</td>\n",
       "      <td>David</td>\n",
       "      <td>Karger</td>\n",
       "      <td>grid.116068.8</td>\n",
       "      <td>...</td>\n",
       "      <td>Cambridge</td>\n",
       "      <td>United States</td>\n",
       "      <td>US</td>\n",
       "      <td>MIT CSAIL</td>\n",
       "      <td>Fresnel: A Browser-Independent Presentation Vo...</td>\n",
       "      <td>10.1007/11926078</td>\n",
       "      <td>The Semantic Web - ISWC 2006</td>\n",
       "      <td>5th International Semantic Web Conference, ISW...</td>\n",
       "      <td>OpenAccess</td>\n",
       "      <td>2006-01-01</td>\n",
       "    </tr>\n",
       "    <tr>\n",
       "      <th>1415</th>\n",
       "      <td>10.1007/11926078_12</td>\n",
       "      <td>semweb</td>\n",
       "      <td>ISWC</td>\n",
       "      <td>International Semantic Web Conference</td>\n",
       "      <td>Athens, GA</td>\n",
       "      <td>United States</td>\n",
       "      <td>4</td>\n",
       "      <td>Ryan</td>\n",
       "      <td>Lee</td>\n",
       "      <td>grid.116068.8</td>\n",
       "      <td>...</td>\n",
       "      <td>Cambridge</td>\n",
       "      <td>United States</td>\n",
       "      <td>US</td>\n",
       "      <td>MIT CSAIL</td>\n",
       "      <td>Fresnel: A Browser-Independent Presentation Vo...</td>\n",
       "      <td>10.1007/11926078</td>\n",
       "      <td>The Semantic Web - ISWC 2006</td>\n",
       "      <td>5th International Semantic Web Conference, ISW...</td>\n",
       "      <td>OpenAccess</td>\n",
       "      <td>2006-01-01</td>\n",
       "    </tr>\n",
       "  </tbody>\n",
       "</table>\n",
       "<p>5 rows × 21 columns</p>\n",
       "</div>"
      ],
      "text/plain": [
       "                paper_doi conf_seriesId conf_acronym  \\\n",
       "0     10.1007/11926078_12        semweb         ISWC   \n",
       "637   10.1007/11926078_12        semweb         ISWC   \n",
       "980   10.1007/11926078_12        semweb         ISWC   \n",
       "1414  10.1007/11926078_12        semweb         ISWC   \n",
       "1415  10.1007/11926078_12        semweb         ISWC   \n",
       "\n",
       "                                  conf_name   conf_city   conf_country  \\\n",
       "0     International Semantic Web Conference  Athens, GA  United States   \n",
       "637   International Semantic Web Conference  Athens, GA  United States   \n",
       "980   International Semantic Web Conference  Athens, GA  United States   \n",
       "1414  International Semantic Web Conference  Athens, GA  United States   \n",
       "1415  International Semantic Web Conference  Athens, GA  United States   \n",
       "\n",
       "      author_order author_givenName author_familyName     org_gridId  ...  \\\n",
       "0                4             Ryan               Lee            NaN  ...   \n",
       "637              2        Christian             Bizer  grid.14095.39  ...   \n",
       "980              1         Emmanuel          Pietriga  grid.464180.f  ...   \n",
       "1414             3            David            Karger  grid.116068.8  ...   \n",
       "1415             4             Ryan               Lee  grid.116068.8  ...   \n",
       "\n",
       "            org_city    org_country org_countrycode  \\\n",
       "0                NaN            NaN             NaN   \n",
       "637           Berlin        Germany              DE   \n",
       "980   Gif-sur-Yvette         France              FR   \n",
       "1414       Cambridge  United States              US   \n",
       "1415       Cambridge  United States              US   \n",
       "\n",
       "                                      affiliationString  \\\n",
       "0                           (World Wide Web Consortium)   \n",
       "637                            Freie Universität Berlin   \n",
       "980   INRIA & Laboratoire de Recherche en Informatiq...   \n",
       "1414                                          MIT CSAIL   \n",
       "1415                                          MIT CSAIL   \n",
       "\n",
       "                                            paper_title          book_doi  \\\n",
       "0     Fresnel: A Browser-Independent Presentation Vo...  10.1007/11926078   \n",
       "637   Fresnel: A Browser-Independent Presentation Vo...  10.1007/11926078   \n",
       "980   Fresnel: A Browser-Independent Presentation Vo...  10.1007/11926078   \n",
       "1414  Fresnel: A Browser-Independent Presentation Vo...  10.1007/11926078   \n",
       "1415  Fresnel: A Browser-Independent Presentation Vo...  10.1007/11926078   \n",
       "\n",
       "                        book_title  \\\n",
       "0     The Semantic Web - ISWC 2006   \n",
       "637   The Semantic Web - ISWC 2006   \n",
       "980   The Semantic Web - ISWC 2006   \n",
       "1414  The Semantic Web - ISWC 2006   \n",
       "1415  The Semantic Web - ISWC 2006   \n",
       "\n",
       "                                      book_confSubtitle      rights  \\\n",
       "0     5th International Semantic Web Conference, ISW...  OpenAccess   \n",
       "637   5th International Semantic Web Conference, ISW...  OpenAccess   \n",
       "980   5th International Semantic Web Conference, ISW...  OpenAccess   \n",
       "1414  5th International Semantic Web Conference, ISW...  OpenAccess   \n",
       "1415  5th International Semantic Web Conference, ISW...  OpenAccess   \n",
       "\n",
       "            year  \n",
       "0     2006-01-01  \n",
       "637   2006-01-01  \n",
       "980   2006-01-01  \n",
       "1414  2006-01-01  \n",
       "1415  2006-01-01  \n",
       "\n",
       "[5 rows x 21 columns]"
      ]
     },
     "execution_count": 16,
     "metadata": {},
     "output_type": "execute_result"
    }
   ],
   "source": [
    "df[df.paper_doi == '10.1007/11926078_12']"
   ]
  },
  {
   "cell_type": "code",
   "execution_count": 17,
   "id": "b5e2fcfa-de0c-456a-bdd6-880ceb6fed1d",
   "metadata": {
    "tags": []
   },
   "outputs": [
    {
     "data": {
      "text/plain": [
       "array(['5th International Semantic Web Conference, ISWC 2006, Athens, GA, USA, November 5-9, 2006, Proceedings',\n",
       "       'Second International Semantic Web Conference, Sanibel Island, FL, USA, October 20-23, 2003, Proceedings',\n",
       "       '11th International Semantic Web Conference, Boston, MA, USA, November 11-15, 2012, Proceedings, Part I',\n",
       "       '14th International Semantic Web Conference, Bethlehem, PA, USA, October 11-15, 2015, Proceedings, Part I',\n",
       "       '15th International Semantic Web Conference, Kobe, Japan, October 17?21, 2016, Proceedings, Part I',\n",
       "       '11th International Semantic Web Conference, Boston, MA, USA, November 11-15, 2012, Proceedings, Part II',\n",
       "       '10th International Semantic Web Conference, Bonn, Germany, October 23-27, 2011, Proceedings, Part II',\n",
       "       '7th International Semantic Web Conference, ISWC 2008, Karlsruhe, Germany, October 26-30, 2008, Proceedings',\n",
       "       '9th International Semantic Web Conference, ISWC 2010, Shanghai, China, November 7-11, 2010, Revised Selected Papers, Part I',\n",
       "       '4th International Semantic Web Conference, ISWC 2005, Galway, Ireland, November 6-10, 2005, Proceedings',\n",
       "       'Third International Semantic Web Conference, Hiroshima, Japan, November 7-11, 2004. Proceedings',\n",
       "       '15th International Semantic Web Conference, Kobe, Japan, October 17?21, 2016, Proceedings, Part II',\n",
       "       '6th International Semantic Web Conference, 2nd Asian Semantic Web Conference, ISWC 2007 + ASWC 2007, Busan, Korea, November 11-15, 2007, Proceedings',\n",
       "       '13th International Semantic Web Conference, Riva del Garda, Italy, October 19-23, 2014. Proceedings, Part I',\n",
       "       '13th International Semantic Web Conference, Riva del Garda, Italy, October 19-23, 2014. Proceedings, Part II',\n",
       "       '8th International Semantic Web Conference, ISWC 2009, Chantilly, VA, USA, October 25-29, 2009, Proceedings',\n",
       "       '10th International Semantic Web Conference, Bonn, Germany, October 23-27, 2011, Proceedings, Part I',\n",
       "       '12th International Semantic Web Conference, Sydney, NSW, Australia, October 21-25, 2013, Proceedings, Part II',\n",
       "       '12th International Semantic Web Conference, Sydney, NSW, Australia, October 21-25, 2013, Proceedings, Part I',\n",
       "       '9th International Semantic Web Conference, ISWC 2010, Shanghai, China, November 7-11, 2010, Revised Selected Papers, Part II',\n",
       "       '14th International Semantic Web Conference, Bethlehem, PA, USA, October 11-15, 2015, Proceedings, Part II'],\n",
       "      dtype=object)"
      ]
     },
     "execution_count": 17,
     "metadata": {},
     "output_type": "execute_result"
    }
   ],
   "source": [
    "df.book_confSubtitle.unique()"
   ]
  },
  {
   "attachments": {},
   "cell_type": "markdown",
   "id": "d44dc28f",
   "metadata": {},
   "source": [
    "**Task:** which countries did the conference visit?"
   ]
  },
  {
   "cell_type": "code",
   "execution_count": null,
   "id": "2c5b1fe5-8625-46ec-979e-d08e7bac8bb7",
   "metadata": {
    "tags": []
   },
   "outputs": [],
   "source": []
  },
  {
   "attachments": {},
   "cell_type": "markdown",
   "id": "dcbcaa87",
   "metadata": {},
   "source": [
    "**Task:** any country multiple times? Can you do a bar plot?"
   ]
  },
  {
   "cell_type": "code",
   "execution_count": null,
   "id": "d34014c4-dfad-43b3-b231-47b2e009750b",
   "metadata": {},
   "outputs": [],
   "source": []
  },
  {
   "attachments": {},
   "cell_type": "markdown",
   "id": "c3a2d911",
   "metadata": {},
   "source": [
    "**Task:** which cities?"
   ]
  },
  {
   "cell_type": "code",
   "execution_count": null,
   "id": "fa19437e-c64e-4ddb-8389-599e348bfd04",
   "metadata": {
    "tags": []
   },
   "outputs": [],
   "source": []
  },
  {
   "attachments": {},
   "cell_type": "markdown",
   "id": "ffc0350b",
   "metadata": {},
   "source": [
    "**Task:** Find the top-10 researcher by number of papers published"
   ]
  },
  {
   "cell_type": "code",
   "execution_count": null,
   "id": "010bce56",
   "metadata": {},
   "outputs": [],
   "source": []
  },
  {
   "attachments": {},
   "cell_type": "markdown",
   "id": "53a729f6",
   "metadata": {},
   "source": [
    "**Task:** Find the top-10 researcher by number of papers published (in last position)"
   ]
  },
  {
   "cell_type": "code",
   "execution_count": null,
   "id": "db81be71",
   "metadata": {},
   "outputs": [],
   "source": []
  },
  {
   "attachments": {},
   "cell_type": "markdown",
   "id": "d5df9567",
   "metadata": {},
   "source": [
    "**Task:** Find the top-10 researcher by number of papers published (in first position)"
   ]
  },
  {
   "cell_type": "code",
   "execution_count": null,
   "id": "c03cbf81",
   "metadata": {},
   "outputs": [],
   "source": []
  },
  {
   "attachments": {},
   "cell_type": "markdown",
   "id": "97a4df27",
   "metadata": {},
   "source": [
    "Do you see any notable inversion?"
   ]
  },
  {
   "attachments": {},
   "cell_type": "markdown",
   "id": "4629a1f5",
   "metadata": {},
   "source": [
    "**Task:** Find and plot the total number of contributions per year"
   ]
  },
  {
   "cell_type": "code",
   "execution_count": null,
   "id": "1517742d",
   "metadata": {},
   "outputs": [],
   "source": []
  },
  {
   "attachments": {},
   "cell_type": "markdown",
   "id": "1bc78d20",
   "metadata": {},
   "source": [
    "**Task:** Find and plot the same just with grid.id attached (i.e., with an organisation explicitly attached)"
   ]
  },
  {
   "cell_type": "code",
   "execution_count": null,
   "id": "4d379496",
   "metadata": {},
   "outputs": [],
   "source": []
  },
  {
   "attachments": {},
   "cell_type": "markdown",
   "id": "6b39ed51",
   "metadata": {},
   "source": [
    "**Task:** Find and plot the same just without grid.id attached"
   ]
  },
  {
   "cell_type": "code",
   "execution_count": null,
   "id": "187e898f",
   "metadata": {},
   "outputs": [],
   "source": []
  },
  {
   "attachments": {},
   "cell_type": "markdown",
   "id": "d64076ba",
   "metadata": {},
   "source": [
    "For clarity, these can go in the same plot."
   ]
  },
  {
   "cell_type": "code",
   "execution_count": 18,
   "id": "df45be52",
   "metadata": {},
   "outputs": [
    {
     "data": {
      "text/plain": [
       "<AxesSubplot:xlabel='year'>"
      ]
     },
     "execution_count": 18,
     "metadata": {},
     "output_type": "execute_result"
    },
    {
     "data": {
      "image/png": "[encoded data removed]",
      "text/plain": [
       "<Figure size 432x288 with 1 Axes>"
      ]
     },
     "metadata": {
      "needs_background": "light"
     },
     "output_type": "display_data"
    }
   ],
   "source": [
    "fig, ax = plt.subplots()\n",
    "\n",
    "df.groupby(['year'])['paper_doi'].count().reset_index().plot.line(x='year', y='paper_doi', ax=ax, label='total')\n",
    "df[df['org_gridId'].notna()].groupby(['year'])['paper_doi'].count().reset_index().plot.line(x='year', y='paper_doi', ax=ax, label='w/ grid.id')\n",
    "df[df['org_gridId'].isna()].groupby(['year'])['paper_doi'].count().reset_index().plot.line(x='year', y='paper_doi', ax=ax, label='w/o grid.id')"
   ]
  },
  {
   "attachments": {},
   "cell_type": "markdown",
   "id": "5b2e68ce",
   "metadata": {},
   "source": [
    "In plotly, to have an interactive plot, it would be like this."
   ]
  },
  {
   "cell_type": "code",
   "execution_count": 19,
   "id": "244ca601",
   "metadata": {},
   "outputs": [
    {
     "data": {
      "application/vnd.plotly.v1+json": {
       "config": {
        "linkText": "Export to plot.ly",
        "plotlyServerURL": "https://plot.ly",
        "showLink": false
       },
       "data": [
        {
         "marker": {
          "size": 8,
          "symbol": "circle"
         },
         "mode": "lines+markers",
         "name": "contributions",
         "type": "scatter",
         "x": [
          "2003-01-01",
          "2004-01-01",
          "2005-01-01",
          "2006-01-01",
          "2007-01-01",
          "2008-01-01",
          "2009-01-01",
          "2010-01-01",
          "2011-01-01",
          "2012-01-01",
          "2013-01-01",
          "2014-01-01",
          "2015-01-01",
          "2016-01-01"
         ],
         "y": [
          220,
          212,
          285,
          309,
          281,
          226,
          254,
          249,
          291,
          305,
          315,
          319,
          318,
          340
         ]
        },
        {
         "marker": {
          "size": 8,
          "symbol": "cross"
         },
         "mode": "lines+markers",
         "name": "contributions (w/ gridID)",
         "type": "scatter",
         "x": [
          "2003-01-01",
          "2004-01-01",
          "2005-01-01",
          "2006-01-01",
          "2007-01-01",
          "2008-01-01",
          "2009-01-01",
          "2010-01-01",
          "2011-01-01",
          "2012-01-01",
          "2013-01-01",
          "2014-01-01",
          "2015-01-01",
          "2016-01-01"
         ],
         "y": [
          201,
          199,
          260,
          290,
          269,
          219,
          249,
          244,
          280,
          299,
          293,
          298,
          311,
          327
         ]
        },
        {
         "marker": {
          "size": 8,
          "symbol": "triangle-up"
         },
         "mode": "lines+markers",
         "name": "contributions (w/o gridID)",
         "type": "scatter",
         "x": [
          "2003-01-01",
          "2004-01-01",
          "2005-01-01",
          "2006-01-01",
          "2007-01-01",
          "2008-01-01",
          "2009-01-01",
          "2010-01-01",
          "2011-01-01",
          "2012-01-01",
          "2013-01-01",
          "2014-01-01",
          "2015-01-01",
          "2016-01-01"
         ],
         "y": [
          19,
          13,
          25,
          19,
          12,
          7,
          5,
          5,
          11,
          6,
          22,
          21,
          7,
          13
         ]
        }
       ],
       "layout": {
        "legend": {
         "orientation": "h"
        },
        "template": {
         "data": {
          "bar": [
           {
            "error_x": {
             "color": "#2a3f5f"
            },
            "error_y": {
             "color": "#2a3f5f"
            },
            "marker": {
             "line": {
              "color": "#E5ECF6",
              "width": 0.5
             },
             "pattern": {
              "fillmode": "overlay",
              "size": 10,
              "solidity": 0.2
             }
            },
            "type": "bar"
           }
          ],
          "barpolar": [
           {
            "marker": {
             "line": {
              "color": "#E5ECF6",
              "width": 0.5
             },
             "pattern": {
              "fillmode": "overlay",
              "size": 10,
              "solidity": 0.2
             }
            },
            "type": "barpolar"
           }
          ],
          "carpet": [
           {
            "aaxis": {
             "endlinecolor": "#2a3f5f",
             "gridcolor": "white",
             "linecolor": "white",
             "minorgridcolor": "white",
             "startlinecolor": "#2a3f5f"
            },
            "baxis": {
             "endlinecolor": "#2a3f5f",
             "gridcolor": "white",
             "linecolor": "white",
             "minorgridcolor": "white",
             "startlinecolor": "#2a3f5f"
            },
            "type": "carpet"
           }
          ],
          "choropleth": [
           {
            "colorbar": {
             "outlinewidth": 0,
             "ticks": ""
            },
            "type": "choropleth"
           }
          ],
          "contour": [
           {
            "colorbar": {
             "outlinewidth": 0,
             "ticks": ""
            },
            "colorscale": [
             [
              0,
              "#0d0887"
             ],
             [
              0.1111111111111111,
              "#46039f"
             ],
             [
              0.2222222222222222,
              "#7201a8"
             ],
             [
              0.3333333333333333,
              "#9c179e"
             ],
             [
              0.4444444444444444,
              "#bd3786"
             ],
             [
              0.5555555555555556,
              "#d8576b"
             ],
             [
              0.6666666666666666,
              "#ed7953"
             ],
             [
              0.7777777777777778,
              "#fb9f3a"
             ],
             [
              0.8888888888888888,
              "#fdca26"
             ],
             [
              1,
              "#f0f921"
             ]
            ],
            "type": "contour"
           }
          ],
          "contourcarpet": [
           {
            "colorbar": {
             "outlinewidth": 0,
             "ticks": ""
            },
            "type": "contourcarpet"
           }
          ],
          "heatmap": [
           {
            "colorbar": {
             "outlinewidth": 0,
             "ticks": ""
            },
            "colorscale": [
             [
              0,
              "#0d0887"
             ],
             [
              0.1111111111111111,
              "#46039f"
             ],
             [
              0.2222222222222222,
              "#7201a8"
             ],
             [
              0.3333333333333333,
              "#9c179e"
             ],
             [
              0.4444444444444444,
              "#bd3786"
             ],
             [
              0.5555555555555556,
              "#d8576b"
             ],
             [
              0.6666666666666666,
              "#ed7953"
             ],
             [
              0.7777777777777778,
              "#fb9f3a"
             ],
             [
              0.8888888888888888,
              "#fdca26"
             ],
             [
              1,
              "#f0f921"
             ]
            ],
            "type": "heatmap"
           }
          ],
          "heatmapgl": [
           {
            "colorbar": {
             "outlinewidth": 0,
             "ticks": ""
            },
            "colorscale": [
             [
              0,
              "#0d0887"
             ],
             [
              0.1111111111111111,
              "#46039f"
             ],
             [
              0.2222222222222222,
              "#7201a8"
             ],
             [
              0.3333333333333333,
              "#9c179e"
             ],
             [
              0.4444444444444444,
              "#bd3786"
             ],
             [
              0.5555555555555556,
              "#d8576b"
             ],
             [
              0.6666666666666666,
              "#ed7953"
             ],
             [
              0.7777777777777778,
              "#fb9f3a"
             ],
             [
              0.8888888888888888,
              "#fdca26"
             ],
             [
              1,
              "#f0f921"
             ]
            ],
            "type": "heatmapgl"
           }
          ],
          "histogram": [
           {
            "marker": {
             "pattern": {
              "fillmode": "overlay",
              "size": 10,
              "solidity": 0.2
             }
            },
            "type": "histogram"
           }
          ],
          "histogram2d": [
           {
            "colorbar": {
             "outlinewidth": 0,
             "ticks": ""
            },
            "colorscale": [
             [
              0,
              "#0d0887"
             ],
             [
              0.1111111111111111,
              "#46039f"
             ],
             [
              0.2222222222222222,
              "#7201a8"
             ],
             [
              0.3333333333333333,
              "#9c179e"
             ],
             [
              0.4444444444444444,
              "#bd3786"
             ],
             [
              0.5555555555555556,
              "#d8576b"
             ],
             [
              0.6666666666666666,
              "#ed7953"
             ],
             [
              0.7777777777777778,
              "#fb9f3a"
             ],
             [
              0.8888888888888888,
              "#fdca26"
             ],
             [
              1,
              "#f0f921"
             ]
            ],
            "type": "histogram2d"
           }
          ],
          "histogram2dcontour": [
           {
            "colorbar": {
             "outlinewidth": 0,
             "ticks": ""
            },
            "colorscale": [
             [
              0,
              "#0d0887"
             ],
             [
              0.1111111111111111,
              "#46039f"
             ],
             [
              0.2222222222222222,
              "#7201a8"
             ],
             [
              0.3333333333333333,
              "#9c179e"
             ],
             [
              0.4444444444444444,
              "#bd3786"
             ],
             [
              0.5555555555555556,
              "#d8576b"
             ],
             [
              0.6666666666666666,
              "#ed7953"
             ],
             [
              0.7777777777777778,
              "#fb9f3a"
             ],
             [
              0.8888888888888888,
              "#fdca26"
             ],
             [
              1,
              "#f0f921"
             ]
            ],
            "type": "histogram2dcontour"
           }
          ],
          "mesh3d": [
           {
            "colorbar": {
             "outlinewidth": 0,
             "ticks": ""
            },
            "type": "mesh3d"
           }
          ],
          "parcoords": [
           {
            "line": {
             "colorbar": {
              "outlinewidth": 0,
              "ticks": ""
             }
            },
            "type": "parcoords"
           }
          ],
          "pie": [
           {
            "automargin": true,
            "type": "pie"
           }
          ],
          "scatter": [
           {
            "fillpattern": {
             "fillmode": "overlay",
             "size": 10,
             "solidity": 0.2
            },
            "type": "scatter"
           }
          ],
          "scatter3d": [
           {
            "line": {
             "colorbar": {
              "outlinewidth": 0,
              "ticks": ""
             }
            },
            "marker": {
             "colorbar": {
              "outlinewidth": 0,
              "ticks": ""
             }
            },
            "type": "scatter3d"
           }
          ],
          "scattercarpet": [
           {
            "marker": {
             "colorbar": {
              "outlinewidth": 0,
              "ticks": ""
             }
            },
            "type": "scattercarpet"
           }
          ],
          "scattergeo": [
           {
            "marker": {
             "colorbar": {
              "outlinewidth": 0,
              "ticks": ""
             }
            },
            "type": "scattergeo"
           }
          ],
          "scattergl": [
           {
            "marker": {
             "colorbar": {
              "outlinewidth": 0,
              "ticks": ""
             }
            },
            "type": "scattergl"
           }
          ],
          "scattermapbox": [
           {
            "marker": {
             "colorbar": {
              "outlinewidth": 0,
              "ticks": ""
             }
            },
            "type": "scattermapbox"
           }
          ],
          "scatterpolar": [
           {
            "marker": {
             "colorbar": {
              "outlinewidth": 0,
              "ticks": ""
             }
            },
            "type": "scatterpolar"
           }
          ],
          "scatterpolargl": [
           {
            "marker": {
             "colorbar": {
              "outlinewidth": 0,
              "ticks": ""
             }
            },
            "type": "scatterpolargl"
           }
          ],
          "scatterternary": [
           {
            "marker": {
             "colorbar": {
              "outlinewidth": 0,
              "ticks": ""
             }
            },
            "type": "scatterternary"
           }
          ],
          "surface": [
           {
            "colorbar": {
             "outlinewidth": 0,
             "ticks": ""
            },
            "colorscale": [
             [
              0,
              "#0d0887"
             ],
             [
              0.1111111111111111,
              "#46039f"
             ],
             [
              0.2222222222222222,
              "#7201a8"
             ],
             [
              0.3333333333333333,
              "#9c179e"
             ],
             [
              0.4444444444444444,
              "#bd3786"
             ],
             [
              0.5555555555555556,
              "#d8576b"
             ],
             [
              0.6666666666666666,
              "#ed7953"
             ],
             [
              0.7777777777777778,
              "#fb9f3a"
             ],
             [
              0.8888888888888888,
              "#fdca26"
             ],
             [
              1,
              "#f0f921"
             ]
            ],
            "type": "surface"
           }
          ],
          "table": [
           {
            "cells": {
             "fill": {
              "color": "#EBF0F8"
             },
             "line": {
              "color": "white"
             }
            },
            "header": {
             "fill": {
              "color": "#C8D4E3"
             },
             "line": {
              "color": "white"
             }
            },
            "type": "table"
           }
          ]
         },
         "layout": {
          "annotationdefaults": {
           "arrowcolor": "#2a3f5f",
           "arrowhead": 0,
           "arrowwidth": 1
          },
          "autotypenumbers": "strict",
          "coloraxis": {
           "colorbar": {
            "outlinewidth": 0,
            "ticks": ""
           }
          },
          "colorscale": {
           "diverging": [
            [
             0,
             "#8e0152"
            ],
            [
             0.1,
             "#c51b7d"
            ],
            [
             0.2,
             "#de77ae"
            ],
            [
             0.3,
             "#f1b6da"
            ],
            [
             0.4,
             "#fde0ef"
            ],
            [
             0.5,
             "#f7f7f7"
            ],
            [
             0.6,
             "#e6f5d0"
            ],
            [
             0.7,
             "#b8e186"
            ],
            [
             0.8,
             "#7fbc41"
            ],
            [
             0.9,
             "#4d9221"
            ],
            [
             1,
             "#276419"
            ]
           ],
           "sequential": [
            [
             0,
             "#0d0887"
            ],
            [
             0.1111111111111111,
             "#46039f"
            ],
            [
             0.2222222222222222,
             "#7201a8"
            ],
            [
             0.3333333333333333,
             "#9c179e"
            ],
            [
             0.4444444444444444,
             "#bd3786"
            ],
            [
             0.5555555555555556,
             "#d8576b"
            ],
            [
             0.6666666666666666,
             "#ed7953"
            ],
            [
             0.7777777777777778,
             "#fb9f3a"
            ],
            [
             0.8888888888888888,
             "#fdca26"
            ],
            [
             1,
             "#f0f921"
            ]
           ],
           "sequentialminus": [
            [
             0,
             "#0d0887"
            ],
            [
             0.1111111111111111,
             "#46039f"
            ],
            [
             0.2222222222222222,
             "#7201a8"
            ],
            [
             0.3333333333333333,
             "#9c179e"
            ],
            [
             0.4444444444444444,
             "#bd3786"
            ],
            [
             0.5555555555555556,
             "#d8576b"
            ],
            [
             0.6666666666666666,
             "#ed7953"
            ],
            [
             0.7777777777777778,
             "#fb9f3a"
            ],
            [
             0.8888888888888888,
             "#fdca26"
            ],
            [
             1,
             "#f0f921"
            ]
           ]
          },
          "colorway": [
           "#636efa",
           "#EF553B",
           "#00cc96",
           "#ab63fa",
           "#FFA15A",
           "#19d3f3",
           "#FF6692",
           "#B6E880",
           "#FF97FF",
           "#FECB52"
          ],
          "font": {
           "color": "#2a3f5f"
          },
          "geo": {
           "bgcolor": "white",
           "lakecolor": "white",
           "landcolor": "#E5ECF6",
           "showlakes": true,
           "showland": true,
           "subunitcolor": "white"
          },
          "hoverlabel": {
           "align": "left"
          },
          "hovermode": "closest",
          "mapbox": {
           "style": "light"
          },
          "paper_bgcolor": "white",
          "plot_bgcolor": "#E5ECF6",
          "polar": {
           "angularaxis": {
            "gridcolor": "white",
            "linecolor": "white",
            "ticks": ""
           },
           "bgcolor": "#E5ECF6",
           "radialaxis": {
            "gridcolor": "white",
            "linecolor": "white",
            "ticks": ""
           }
          },
          "scene": {
           "xaxis": {
            "backgroundcolor": "#E5ECF6",
            "gridcolor": "white",
            "gridwidth": 2,
            "linecolor": "white",
            "showbackground": true,
            "ticks": "",
            "zerolinecolor": "white"
           },
           "yaxis": {
            "backgroundcolor": "#E5ECF6",
            "gridcolor": "white",
            "gridwidth": 2,
            "linecolor": "white",
            "showbackground": true,
            "ticks": "",
            "zerolinecolor": "white"
           },
           "zaxis": {
            "backgroundcolor": "#E5ECF6",
            "gridcolor": "white",
            "gridwidth": 2,
            "linecolor": "white",
            "showbackground": true,
            "ticks": "",
            "zerolinecolor": "white"
           }
          },
          "shapedefaults": {
           "line": {
            "color": "#2a3f5f"
           }
          },
          "ternary": {
           "aaxis": {
            "gridcolor": "white",
            "linecolor": "white",
            "ticks": ""
           },
           "baxis": {
            "gridcolor": "white",
            "linecolor": "white",
            "ticks": ""
           },
           "bgcolor": "#E5ECF6",
           "caxis": {
            "gridcolor": "white",
            "linecolor": "white",
            "ticks": ""
           }
          },
          "title": {
           "x": 0.05
          },
          "xaxis": {
           "automargin": true,
           "gridcolor": "white",
           "linecolor": "white",
           "ticks": "",
           "title": {
            "standoff": 15
           },
           "zerolinecolor": "white",
           "zerolinewidth": 2
          },
          "yaxis": {
           "automargin": true,
           "gridcolor": "white",
           "linecolor": "white",
           "ticks": "",
           "title": {
            "standoff": 15
           },
           "zerolinecolor": "white",
           "zerolinewidth": 2
          }
         }
        },
        "title": {
         "text": "Trends of contributions"
        }
       }
      }
     },
     "metadata": {},
     "output_type": "display_data"
    }
   ],
   "source": [
    "contributions = df.groupby(['year'])['paper_doi'].count()\n",
    "contributions_with_gridId = df[df['org_gridId'].notna()].groupby(['year'])['paper_doi'].count()\n",
    "contributions_without_gridId = df[df['org_gridId'].isna()].groupby(['year'])['paper_doi'].count()\n",
    "\n",
    "trace1 = go.Scatter(x=contributions.index,\n",
    "                    y=contributions.values,\n",
    "                    name='contributions',\n",
    "                    marker=dict(symbol='circle', size=8),\n",
    "                    mode='lines+markers')\n",
    "                    \n",
    "trace2 = go.Scatter(x=contributions_with_gridId.index,\n",
    "                    y=contributions_with_gridId.values,\n",
    "                    name='contributions (w/ gridID)',\n",
    "                    marker=dict(symbol='cross', size=8),\n",
    "                    mode='lines+markers')\n",
    "\n",
    "trace3 = go.Scatter(x=contributions_without_gridId.index,\n",
    "                    y=contributions_without_gridId.values,\n",
    "                    name='contributions (w/o gridID)',\n",
    "                    marker=dict(symbol='triangle-up', size=8),\n",
    "                    mode='lines+markers')\n",
    "                    \n",
    "layout = go.Layout(title='Trends of contributions',\n",
    "                   legend=dict(orientation='h'))\n",
    "\n",
    "fig = go.Figure(data=[trace1, trace2, trace3], layout=layout)\n",
    "plotly.offline.iplot(fig)"
   ]
  },
  {
   "attachments": {},
   "cell_type": "markdown",
   "id": "c72950ba",
   "metadata": {},
   "source": [
    "**Task:** Find and plot the trend of PIDs (i.e., DOIs and grid.ids) per year"
   ]
  },
  {
   "cell_type": "code",
   "execution_count": null,
   "id": "12740ece",
   "metadata": {},
   "outputs": [],
   "source": []
  },
  {
   "attachments": {},
   "cell_type": "markdown",
   "id": "d394b2f2",
   "metadata": {},
   "source": [
    "**Task:** Find and plot the distribution of papers by country"
   ]
  },
  {
   "cell_type": "code",
   "execution_count": null,
   "id": "37102086",
   "metadata": {},
   "outputs": [],
   "source": []
  },
  {
   "attachments": {},
   "cell_type": "markdown",
   "id": "b9924f5f",
   "metadata": {},
   "source": [
    "**Task:** Find and plot the number of papers by country (overall, first authors, last authors). "
   ]
  },
  {
   "cell_type": "code",
   "execution_count": null,
   "id": "5f3fd7e1",
   "metadata": {},
   "outputs": [],
   "source": []
  },
  {
   "attachments": {},
   "cell_type": "markdown",
   "id": "386ecd0a",
   "metadata": {},
   "source": [
    "We can also plot as a pie chart"
   ]
  },
  {
   "cell_type": "code",
   "execution_count": 20,
   "id": "c8e042f1",
   "metadata": {},
   "outputs": [
    {
     "data": {
      "application/vnd.plotly.v1+json": {
       "config": {
        "linkText": "Export to plot.ly",
        "plotlyServerURL": "https://plot.ly",
        "showLink": false
       },
       "data": [
        {
         "domain": {
          "x": [
           0,
           1
          ],
          "y": [
           0.4,
           1
          ]
         },
         "hole": 0.4,
         "hoverinfo": "label+value+name",
         "labels": [
          "AT",
          "AU",
          "BE",
          "BG",
          "BR",
          "CA",
          "CH",
          "CL",
          "CN",
          "CZ",
          "DE",
          "DK",
          "EG",
          "EI",
          "ES",
          "FI",
          "FR",
          "GB",
          "GE",
          "GR",
          "HK",
          "ID",
          "IE",
          "IL",
          "IN",
          "IT",
          "JP",
          "KR",
          "LU",
          "NL",
          "NO",
          "NZ",
          "PT",
          "RS",
          "RU",
          "SE",
          "SG",
          "SI",
          "TH",
          "TR",
          "UA",
          "UK",
          "US",
          "VE",
          "VN",
          "ZA"
         ],
         "name": "DOIs",
         "textposition": "inside",
         "type": "pie",
         "values": [
          38,
          29,
          10,
          3,
          8,
          21,
          27,
          18,
          58,
          8,
          235,
          1,
          1,
          1,
          35,
          8,
          54,
          206,
          1,
          32,
          1,
          1,
          58,
          1,
          3,
          103,
          17,
          2,
          1,
          79,
          8,
          2,
          11,
          1,
          2,
          9,
          5,
          1,
          1,
          2,
          2,
          2,
          236,
          6,
          1,
          1
         ]
        },
        {
         "domain": {
          "x": [
           0,
           0.5
          ],
          "y": [
           0,
           0.6
          ]
         },
         "hole": 0.4,
         "hoverinfo": "label+value+name",
         "labels": [
          "AT",
          "AU",
          "BE",
          "BG",
          "BR",
          "CA",
          "CH",
          "CL",
          "CN",
          "CZ",
          "DE",
          "DK",
          "ES",
          "FI",
          "FR",
          "GB",
          "GE",
          "GR",
          "ID",
          "IE",
          "IL",
          "IN",
          "IT",
          "JP",
          "KR",
          "LU",
          "NL",
          "NO",
          "NZ",
          "PT",
          "RS",
          "RU",
          "SE",
          "SG",
          "SI",
          "TH",
          "TR",
          "UA",
          "UK",
          "US",
          "VE",
          "ZA"
         ],
         "name": "DOIs",
         "textposition": "inside",
         "type": "pie",
         "values": [
          28,
          19,
          8,
          3,
          2,
          15,
          22,
          11,
          50,
          6,
          182,
          1,
          20,
          8,
          45,
          165,
          1,
          24,
          1,
          46,
          1,
          2,
          72,
          17,
          1,
          1,
          55,
          3,
          2,
          9,
          1,
          2,
          7,
          1,
          1,
          1,
          2,
          1,
          1,
          186,
          4,
          1
         ]
        },
        {
         "domain": {
          "x": [
           0.5,
           1
          ],
          "y": [
           0,
           0.6
          ]
         },
         "hole": 0.4,
         "hoverinfo": "label+value+name",
         "labels": [
          "AT",
          "AU",
          "BE",
          "BG",
          "BR",
          "CA",
          "CH",
          "CL",
          "CN",
          "CZ",
          "DE",
          "EI",
          "ES",
          "FI",
          "FR",
          "GB",
          "GR",
          "IE",
          "IL",
          "IN",
          "IT",
          "JP",
          "KR",
          "NL",
          "NO",
          "NZ",
          "PT",
          "RU",
          "SE",
          "SG",
          "TH",
          "TR",
          "UA",
          "UK",
          "US",
          "VE",
          "VN",
          "ZA"
         ],
         "name": "DOIs",
         "textposition": "inside",
         "type": "pie",
         "values": [
          24,
          18,
          9,
          3,
          5,
          16,
          18,
          11,
          46,
          7,
          181,
          1,
          16,
          7,
          40,
          159,
          23,
          46,
          1,
          3,
          65,
          14,
          2,
          56,
          4,
          1,
          9,
          1,
          6,
          2,
          1,
          2,
          1,
          1,
          193,
          4,
          1,
          1
         ]
        }
       ],
       "layout": {
        "annotations": [
         {
          "font": {
           "size": 15
          },
          "showarrow": false,
          "text": "All authors",
          "x": 0.5,
          "y": 1.07
         },
         {
          "font": {
           "size": 15
          },
          "showarrow": false,
          "text": "1st authors",
          "x": 0.18,
          "y": -0.07
         },
         {
          "font": {
           "size": 15
          },
          "showarrow": false,
          "text": "Last authors",
          "x": 0.83,
          "y": -0.07
         }
        ],
        "template": {
         "data": {
          "bar": [
           {
            "error_x": {
             "color": "#2a3f5f"
            },
            "error_y": {
             "color": "#2a3f5f"
            },
            "marker": {
             "line": {
              "color": "#E5ECF6",
              "width": 0.5
             },
             "pattern": {
              "fillmode": "overlay",
              "size": 10,
              "solidity": 0.2
             }
            },
            "type": "bar"
           }
          ],
          "barpolar": [
           {
            "marker": {
             "line": {
              "color": "#E5ECF6",
              "width": 0.5
             },
             "pattern": {
              "fillmode": "overlay",
              "size": 10,
              "solidity": 0.2
             }
            },
            "type": "barpolar"
           }
          ],
          "carpet": [
           {
            "aaxis": {
             "endlinecolor": "#2a3f5f",
             "gridcolor": "white",
             "linecolor": "white",
             "minorgridcolor": "white",
             "startlinecolor": "#2a3f5f"
            },
            "baxis": {
             "endlinecolor": "#2a3f5f",
             "gridcolor": "white",
             "linecolor": "white",
             "minorgridcolor": "white",
             "startlinecolor": "#2a3f5f"
            },
            "type": "carpet"
           }
          ],
          "choropleth": [
           {
            "colorbar": {
             "outlinewidth": 0,
             "ticks": ""
            },
            "type": "choropleth"
           }
          ],
          "contour": [
           {
            "colorbar": {
             "outlinewidth": 0,
             "ticks": ""
            },
            "colorscale": [
             [
              0,
              "#0d0887"
             ],
             [
              0.1111111111111111,
              "#46039f"
             ],
             [
              0.2222222222222222,
              "#7201a8"
             ],
             [
              0.3333333333333333,
              "#9c179e"
             ],
             [
              0.4444444444444444,
              "#bd3786"
             ],
             [
              0.5555555555555556,
              "#d8576b"
             ],
             [
              0.6666666666666666,
              "#ed7953"
             ],
             [
              0.7777777777777778,
              "#fb9f3a"
             ],
             [
              0.8888888888888888,
              "#fdca26"
             ],
             [
              1,
              "#f0f921"
             ]
            ],
            "type": "contour"
           }
          ],
          "contourcarpet": [
           {
            "colorbar": {
             "outlinewidth": 0,
             "ticks": ""
            },
            "type": "contourcarpet"
           }
          ],
          "heatmap": [
           {
            "colorbar": {
             "outlinewidth": 0,
             "ticks": ""
            },
            "colorscale": [
             [
              0,
              "#0d0887"
             ],
             [
              0.1111111111111111,
              "#46039f"
             ],
             [
              0.2222222222222222,
              "#7201a8"
             ],
             [
              0.3333333333333333,
              "#9c179e"
             ],
             [
              0.4444444444444444,
              "#bd3786"
             ],
             [
              0.5555555555555556,
              "#d8576b"
             ],
             [
              0.6666666666666666,
              "#ed7953"
             ],
             [
              0.7777777777777778,
              "#fb9f3a"
             ],
             [
              0.8888888888888888,
              "#fdca26"
             ],
             [
              1,
              "#f0f921"
             ]
            ],
            "type": "heatmap"
           }
          ],
          "heatmapgl": [
           {
            "colorbar": {
             "outlinewidth": 0,
             "ticks": ""
            },
            "colorscale": [
             [
              0,
              "#0d0887"
             ],
             [
              0.1111111111111111,
              "#46039f"
             ],
             [
              0.2222222222222222,
              "#7201a8"
             ],
             [
              0.3333333333333333,
              "#9c179e"
             ],
             [
              0.4444444444444444,
              "#bd3786"
             ],
             [
              0.5555555555555556,
              "#d8576b"
             ],
             [
              0.6666666666666666,
              "#ed7953"
             ],
             [
              0.7777777777777778,
              "#fb9f3a"
             ],
             [
              0.8888888888888888,
              "#fdca26"
             ],
             [
              1,
              "#f0f921"
             ]
            ],
            "type": "heatmapgl"
           }
          ],
          "histogram": [
           {
            "marker": {
             "pattern": {
              "fillmode": "overlay",
              "size": 10,
              "solidity": 0.2
             }
            },
            "type": "histogram"
           }
          ],
          "histogram2d": [
           {
            "colorbar": {
             "outlinewidth": 0,
             "ticks": ""
            },
            "colorscale": [
             [
              0,
              "#0d0887"
             ],
             [
              0.1111111111111111,
              "#46039f"
             ],
             [
              0.2222222222222222,
              "#7201a8"
             ],
             [
              0.3333333333333333,
              "#9c179e"
             ],
             [
              0.4444444444444444,
              "#bd3786"
             ],
             [
              0.5555555555555556,
              "#d8576b"
             ],
             [
              0.6666666666666666,
              "#ed7953"
             ],
             [
              0.7777777777777778,
              "#fb9f3a"
             ],
             [
              0.8888888888888888,
              "#fdca26"
             ],
             [
              1,
              "#f0f921"
             ]
            ],
            "type": "histogram2d"
           }
          ],
          "histogram2dcontour": [
           {
            "colorbar": {
             "outlinewidth": 0,
             "ticks": ""
            },
            "colorscale": [
             [
              0,
              "#0d0887"
             ],
             [
              0.1111111111111111,
              "#46039f"
             ],
             [
              0.2222222222222222,
              "#7201a8"
             ],
             [
              0.3333333333333333,
              "#9c179e"
             ],
             [
              0.4444444444444444,
              "#bd3786"
             ],
             [
              0.5555555555555556,
              "#d8576b"
             ],
             [
              0.6666666666666666,
              "#ed7953"
             ],
             [
              0.7777777777777778,
              "#fb9f3a"
             ],
             [
              0.8888888888888888,
              "#fdca26"
             ],
             [
              1,
              "#f0f921"
             ]
            ],
            "type": "histogram2dcontour"
           }
          ],
          "mesh3d": [
           {
            "colorbar": {
             "outlinewidth": 0,
             "ticks": ""
            },
            "type": "mesh3d"
           }
          ],
          "parcoords": [
           {
            "line": {
             "colorbar": {
              "outlinewidth": 0,
              "ticks": ""
             }
            },
            "type": "parcoords"
           }
          ],
          "pie": [
           {
            "automargin": true,
            "type": "pie"
           }
          ],
          "scatter": [
           {
            "fillpattern": {
             "fillmode": "overlay",
             "size": 10,
             "solidity": 0.2
            },
            "type": "scatter"
           }
          ],
          "scatter3d": [
           {
            "line": {
             "colorbar": {
              "outlinewidth": 0,
              "ticks": ""
             }
            },
            "marker": {
             "colorbar": {
              "outlinewidth": 0,
              "ticks": ""
             }
            },
            "type": "scatter3d"
           }
          ],
          "scattercarpet": [
           {
            "marker": {
             "colorbar": {
              "outlinewidth": 0,
              "ticks": ""
             }
            },
            "type": "scattercarpet"
           }
          ],
          "scattergeo": [
           {
            "marker": {
             "colorbar": {
              "outlinewidth": 0,
              "ticks": ""
             }
            },
            "type": "scattergeo"
           }
          ],
          "scattergl": [
           {
            "marker": {
             "colorbar": {
              "outlinewidth": 0,
              "ticks": ""
             }
            },
            "type": "scattergl"
           }
          ],
          "scattermapbox": [
           {
            "marker": {
             "colorbar": {
              "outlinewidth": 0,
              "ticks": ""
             }
            },
            "type": "scattermapbox"
           }
          ],
          "scatterpolar": [
           {
            "marker": {
             "colorbar": {
              "outlinewidth": 0,
              "ticks": ""
             }
            },
            "type": "scatterpolar"
           }
          ],
          "scatterpolargl": [
           {
            "marker": {
             "colorbar": {
              "outlinewidth": 0,
              "ticks": ""
             }
            },
            "type": "scatterpolargl"
           }
          ],
          "scatterternary": [
           {
            "marker": {
             "colorbar": {
              "outlinewidth": 0,
              "ticks": ""
             }
            },
            "type": "scatterternary"
           }
          ],
          "surface": [
           {
            "colorbar": {
             "outlinewidth": 0,
             "ticks": ""
            },
            "colorscale": [
             [
              0,
              "#0d0887"
             ],
             [
              0.1111111111111111,
              "#46039f"
             ],
             [
              0.2222222222222222,
              "#7201a8"
             ],
             [
              0.3333333333333333,
              "#9c179e"
             ],
             [
              0.4444444444444444,
              "#bd3786"
             ],
             [
              0.5555555555555556,
              "#d8576b"
             ],
             [
              0.6666666666666666,
              "#ed7953"
             ],
             [
              0.7777777777777778,
              "#fb9f3a"
             ],
             [
              0.8888888888888888,
              "#fdca26"
             ],
             [
              1,
              "#f0f921"
             ]
            ],
            "type": "surface"
           }
          ],
          "table": [
           {
            "cells": {
             "fill": {
              "color": "#EBF0F8"
             },
             "line": {
              "color": "white"
             }
            },
            "header": {
             "fill": {
              "color": "#C8D4E3"
             },
             "line": {
              "color": "white"
             }
            },
            "type": "table"
           }
          ]
         },
         "layout": {
          "annotationdefaults": {
           "arrowcolor": "#2a3f5f",
           "arrowhead": 0,
           "arrowwidth": 1
          },
          "autotypenumbers": "strict",
          "coloraxis": {
           "colorbar": {
            "outlinewidth": 0,
            "ticks": ""
           }
          },
          "colorscale": {
           "diverging": [
            [
             0,
             "#8e0152"
            ],
            [
             0.1,
             "#c51b7d"
            ],
            [
             0.2,
             "#de77ae"
            ],
            [
             0.3,
             "#f1b6da"
            ],
            [
             0.4,
             "#fde0ef"
            ],
            [
             0.5,
             "#f7f7f7"
            ],
            [
             0.6,
             "#e6f5d0"
            ],
            [
             0.7,
             "#b8e186"
            ],
            [
             0.8,
             "#7fbc41"
            ],
            [
             0.9,
             "#4d9221"
            ],
            [
             1,
             "#276419"
            ]
           ],
           "sequential": [
            [
             0,
             "#0d0887"
            ],
            [
             0.1111111111111111,
             "#46039f"
            ],
            [
             0.2222222222222222,
             "#7201a8"
            ],
            [
             0.3333333333333333,
             "#9c179e"
            ],
            [
             0.4444444444444444,
             "#bd3786"
            ],
            [
             0.5555555555555556,
             "#d8576b"
            ],
            [
             0.6666666666666666,
             "#ed7953"
            ],
            [
             0.7777777777777778,
             "#fb9f3a"
            ],
            [
             0.8888888888888888,
             "#fdca26"
            ],
            [
             1,
             "#f0f921"
            ]
           ],
           "sequentialminus": [
            [
             0,
             "#0d0887"
            ],
            [
             0.1111111111111111,
             "#46039f"
            ],
            [
             0.2222222222222222,
             "#7201a8"
            ],
            [
             0.3333333333333333,
             "#9c179e"
            ],
            [
             0.4444444444444444,
             "#bd3786"
            ],
            [
             0.5555555555555556,
             "#d8576b"
            ],
            [
             0.6666666666666666,
             "#ed7953"
            ],
            [
             0.7777777777777778,
             "#fb9f3a"
            ],
            [
             0.8888888888888888,
             "#fdca26"
            ],
            [
             1,
             "#f0f921"
            ]
           ]
          },
          "colorway": [
           "#636efa",
           "#EF553B",
           "#00cc96",
           "#ab63fa",
           "#FFA15A",
           "#19d3f3",
           "#FF6692",
           "#B6E880",
           "#FF97FF",
           "#FECB52"
          ],
          "font": {
           "color": "#2a3f5f"
          },
          "geo": {
           "bgcolor": "white",
           "lakecolor": "white",
           "landcolor": "#E5ECF6",
           "showlakes": true,
           "showland": true,
           "subunitcolor": "white"
          },
          "hoverlabel": {
           "align": "left"
          },
          "hovermode": "closest",
          "mapbox": {
           "style": "light"
          },
          "paper_bgcolor": "white",
          "plot_bgcolor": "#E5ECF6",
          "polar": {
           "angularaxis": {
            "gridcolor": "white",
            "linecolor": "white",
            "ticks": ""
           },
           "bgcolor": "#E5ECF6",
           "radialaxis": {
            "gridcolor": "white",
            "linecolor": "white",
            "ticks": ""
           }
          },
          "scene": {
           "xaxis": {
            "backgroundcolor": "#E5ECF6",
            "gridcolor": "white",
            "gridwidth": 2,
            "linecolor": "white",
            "showbackground": true,
            "ticks": "",
            "zerolinecolor": "white"
           },
           "yaxis": {
            "backgroundcolor": "#E5ECF6",
            "gridcolor": "white",
            "gridwidth": 2,
            "linecolor": "white",
            "showbackground": true,
            "ticks": "",
            "zerolinecolor": "white"
           },
           "zaxis": {
            "backgroundcolor": "#E5ECF6",
            "gridcolor": "white",
            "gridwidth": 2,
            "linecolor": "white",
            "showbackground": true,
            "ticks": "",
            "zerolinecolor": "white"
           }
          },
          "shapedefaults": {
           "line": {
            "color": "#2a3f5f"
           }
          },
          "ternary": {
           "aaxis": {
            "gridcolor": "white",
            "linecolor": "white",
            "ticks": ""
           },
           "baxis": {
            "gridcolor": "white",
            "linecolor": "white",
            "ticks": ""
           },
           "bgcolor": "#E5ECF6",
           "caxis": {
            "gridcolor": "white",
            "linecolor": "white",
            "ticks": ""
           }
          },
          "title": {
           "x": 0.05
          },
          "xaxis": {
           "automargin": true,
           "gridcolor": "white",
           "linecolor": "white",
           "ticks": "",
           "title": {
            "standoff": 15
           },
           "zerolinecolor": "white",
           "zerolinewidth": 2
          },
          "yaxis": {
           "automargin": true,
           "gridcolor": "white",
           "linecolor": "white",
           "ticks": "",
           "title": {
            "standoff": 15
           },
           "zerolinecolor": "white",
           "zerolinewidth": 2
          }
         }
        },
        "title": {
         "text": "DOI breakdown by country"
        }
       }
      }
     },
     "metadata": {},
     "output_type": "display_data"
    }
   ],
   "source": [
    "dois = df.groupby(['org_countrycode'])['paper_doi'].nunique().reset_index()\n",
    "dois_first = df_first.groupby(['org_countrycode'])['paper_doi'].nunique().reset_index()\n",
    "dois_last = df_last.groupby(['org_countrycode'])['paper_doi'].nunique().reset_index()\n",
    "\n",
    "pie_1 = go.Pie(values=dois['paper_doi'],\n",
    "              labels=dois['org_countrycode'],\n",
    "              textposition='inside',\n",
    "              domain=dict(x=[0, 1], y=[.4, 1]),\n",
    "              name='DOIs',\n",
    "              hoverinfo='label+value+name',\n",
    "              hole=.4)\n",
    "\n",
    "pie_2 = go.Pie(values=dois_first['paper_doi'],\n",
    "              labels=dois_first['org_countrycode'],\n",
    "              textposition='inside',\n",
    "              domain=dict(x=[0, .5], y=[0, .6]),\n",
    "              name='DOIs',\n",
    "              hoverinfo='label+value+name',\n",
    "              hole=.4)\n",
    "\n",
    "pie_3 = go.Pie(values=dois_last['paper_doi'],\n",
    "              labels=dois_last['org_countrycode'],\n",
    "              textposition='inside',\n",
    "              domain=dict(x=[.5, 1], y=[0, .6]),\n",
    "              name='DOIs',\n",
    "              hoverinfo='label+value+name',\n",
    "              hole=.4)\n",
    "\n",
    "tris_donut = go.Layout(title='DOI breakdown by country',\n",
    "                       annotations=[dict(font=dict(size=15),\n",
    "                                        showarrow=False,\n",
    "                                        text='All authors',\n",
    "                                        x=.5, y=1.07),\n",
    "                                    dict(font=dict(size=15),\n",
    "                                        showarrow=False,\n",
    "                                        text='1st authors',\n",
    "                                        x=.18, y=-0.07),\n",
    "                                    dict(font=dict(size=15),\n",
    "                                        showarrow=False,\n",
    "                                        text='Last authors',\n",
    "                                        x=.83, y=-0.07)])\n",
    "\n",
    "fig = go.Figure(data=[pie_1,pie_2,pie_3], layout=tris_donut)\n",
    "plotly.offline.iplot(fig)"
   ]
  },
  {
   "attachments": {},
   "cell_type": "markdown",
   "id": "85b5dd41",
   "metadata": {},
   "source": [
    "**Task:** Can you do the same plots above aggregating by organisations this time?"
   ]
  },
  {
   "cell_type": "code",
   "execution_count": null,
   "id": "10891a3a",
   "metadata": {},
   "outputs": [],
   "source": []
  },
  {
   "attachments": {},
   "cell_type": "markdown",
   "id": "ffad51e6",
   "metadata": {},
   "source": [
    "**Task:** Are there institutions that never appear in first or last position? Check year by year.\n",
    "\n",
    "Hint: `df_first.groupby(['year']).agg({'org_gridId': set})` aggregates a set of organizations"
   ]
  },
  {
   "cell_type": "code",
   "execution_count": null,
   "id": "e9cfcb0f",
   "metadata": {},
   "outputs": [],
   "source": []
  },
  {
   "attachments": {},
   "cell_type": "markdown",
   "id": "6d2c7bf4",
   "metadata": {},
   "source": [
    "**Task:** Can you find the average number of authors collaborating over the years?"
   ]
  },
  {
   "cell_type": "code",
   "execution_count": null,
   "id": "5c9e0800",
   "metadata": {},
   "outputs": [],
   "source": []
  },
  {
   "attachments": {},
   "cell_type": "markdown",
   "id": "2b4933af",
   "metadata": {},
   "source": [
    "**Task:** Can you find the average number of organisations collaborating over the years?"
   ]
  },
  {
   "cell_type": "code",
   "execution_count": null,
   "id": "046b74f1",
   "metadata": {},
   "outputs": [],
   "source": []
  }
 ],
 "metadata": {
  "kernelspec": {
   "display_name": "Python 3 (ipykernel)",
   "language": "python",
   "name": "python3"
  },
  "language_info": {
   "codemirror_mode": {
    "name": "ipython",
    "version": 3
   },
   "file_extension": ".py",
   "mimetype": "text/x-python",
   "name": "python",
   "nbconvert_exporter": "python",
   "pygments_lexer": "ipython3",
   "version": "3.9.12"
  }
 },
 "nbformat": 4,
 "nbformat_minor": 5
}
