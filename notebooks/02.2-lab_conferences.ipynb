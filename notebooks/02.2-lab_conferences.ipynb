{
 "cells": [
  {
   "attachments": {},
   "cell_type": "markdown",
   "id": "c0f51f27-c83a-4f65-b688-5b6e0f9c5111",
   "metadata": {},
   "source": [
    "# Day 2 - Familiarise with scholarly data"
   ]
  },
  {
   "attachments": {},
   "cell_type": "markdown",
   "id": "b617d112-91cc-4f3b-af58-b5353ead6eb5",
   "metadata": {},
   "source": [
    "## Import the libraries"
   ]
  },
  {
   "cell_type": "code",
   "execution_count": null,
   "id": "39965a81-35af-45cf-bc02-9515a89d3190",
   "metadata": {
    "tags": []
   },
   "outputs": [],
   "source": [
    "import pandas as pd\n",
    "import matplotlib.pyplot as plt\n",
    "\n",
    "import plotly\n",
    "from plotly.offline import iplot, init_notebook_mode\n",
    "import plotly.graph_objs as go"
   ]
  },
  {
   "attachments": {},
   "cell_type": "markdown",
   "id": "2b10778b-e3a5-4839-ad79-66477332e40f",
   "metadata": {},
   "source": [
    "## Load conference data"
   ]
  },
  {
   "attachments": {},
   "cell_type": "markdown",
   "id": "924ed4f1",
   "metadata": {},
   "source": [
    "The datasets used here comes from the paper https://content.iospress.com/articles/data-science/ds190015 and are about three conferences the International Semantic Web Conference (ISWC), The European Conference on Semantic Web (ESWC), and the International Conference on Theory and Practice of Digital Libraries (TPDL).\n",
    "\n",
    "These have been extracted from Springer Nature Scigraph (apparently the website does not work anymore, https://www.springernature.com/gp/researchers/scigraph).\n",
    "\n",
    "In SciGraph they were assigned conference series identifiers from DBLP (i.e., semweb, esws and ercimdl, respectively), so I extracted them from a bigger dataset thanks to these keywords.\n",
    "\n",
    "Let's load them directly.\n"
   ]
  },
  {
   "cell_type": "code",
   "execution_count": null,
   "id": "761a5b9c-2aba-4473-80df-8bc1bbb71be8",
   "metadata": {
    "tags": []
   },
   "outputs": [],
   "source": [
    "iswc = pd.read_csv('../data/raw/iswc_enhanced.csv', dtype=object)\n",
    "iswc['author_order'] = pd.to_numeric(iswc['author_order'])\n",
    "\n",
    "eswc = pd.read_csv('../data/raw/eswc_enhanced.csv', dtype=object)\n",
    "eswc['author_order'] = pd.to_numeric(eswc['author_order'])\n",
    "\n",
    "tpdl = pd.read_csv('../data/raw/tpdl_enhanced.csv', dtype=object)\n",
    "tpdl['author_order'] = pd.to_numeric(tpdl['author_order'])\n"
   ]
  },
  {
   "attachments": {},
   "cell_type": "markdown",
   "id": "a85c9ba3",
   "metadata": {},
   "source": [
    "Let me fix the data for you first"
   ]
  },
  {
   "cell_type": "code",
   "execution_count": null,
   "id": "3a538654",
   "metadata": {},
   "outputs": [],
   "source": [
    "iswc.loc[iswc.book_doi == '10.1007/978-3-319-25010-6', 'conf_city'] = 'Bethlehem'\n",
    "iswc.loc[iswc.book_doi == '10.1007/978-3-319-25010-6', 'conf_country'] = 'United States'\n",
    "\n",
    "iswc.loc[iswc.book_doi == '10.1007/978-3-319-25007-6', 'conf_city'] = 'Bethlehem'\n",
    "iswc.loc[iswc.book_doi == '10.1007/978-3-319-25007-6', 'conf_country'] = 'United States'\n",
    "\n",
    "iswc.loc[iswc.book_doi == '10.1007/978-3-540-76298-0', 'conf_city'] = 'Busan'\n",
    "iswc.loc[iswc.book_doi == '10.1007/978-3-540-76298-0', 'conf_country'] = 'South Korea'\n",
    "\n",
    "iswc.loc[iswc.conf_country == 'USA', 'conf_country'] = 'United States'"
   ]
  },
  {
   "attachments": {},
   "cell_type": "markdown",
   "id": "360b4606",
   "metadata": {},
   "source": [
    "All the dataframes follow the same structure. Check the columns."
   ]
  },
  {
   "cell_type": "code",
   "execution_count": null,
   "id": "f8b9dbf6",
   "metadata": {},
   "outputs": [],
   "source": []
  },
  {
   "attachments": {},
   "cell_type": "markdown",
   "id": "28a21ac2",
   "metadata": {},
   "source": [
    "Check how a generic record looks like"
   ]
  },
  {
   "cell_type": "code",
   "execution_count": null,
   "id": "d5e91a66",
   "metadata": {},
   "outputs": [],
   "source": []
  },
  {
   "attachments": {},
   "cell_type": "markdown",
   "id": "13e08f31",
   "metadata": {},
   "source": [
    "OK. Let's see ISWC first"
   ]
  },
  {
   "cell_type": "code",
   "execution_count": null,
   "id": "a75c0c86",
   "metadata": {},
   "outputs": [],
   "source": [
    "iswc.describe(include='all')"
   ]
  },
  {
   "attachments": {},
   "cell_type": "markdown",
   "id": "92bf029f",
   "metadata": {},
   "source": [
    "Ok, let's double check this conference series."
   ]
  },
  {
   "cell_type": "code",
   "execution_count": null,
   "id": "07928724",
   "metadata": {},
   "outputs": [],
   "source": [
    "iswc['conf_acronym'].unique()"
   ]
  },
  {
   "attachments": {},
   "cell_type": "markdown",
   "id": "f1356265",
   "metadata": {},
   "source": [
    "Ah... it looks like there are different acronyms here. Check if they are indeed the conference you need."
   ]
  },
  {
   "cell_type": "code",
   "execution_count": null,
   "id": "c522675e",
   "metadata": {},
   "outputs": [],
   "source": [
    "iswc[iswc.conf_acronym == 'SWSWPC'].head(1)['conf_name'].values"
   ]
  },
  {
   "attachments": {},
   "cell_type": "markdown",
   "id": "b94d7f34",
   "metadata": {},
   "source": [
    "Check the other as well."
   ]
  },
  {
   "cell_type": "code",
   "execution_count": null,
   "id": "423431e4",
   "metadata": {},
   "outputs": [],
   "source": []
  },
  {
   "attachments": {},
   "cell_type": "markdown",
   "id": "654d9547",
   "metadata": {},
   "source": [
    "Ok, we have intruders here. Let's drop them."
   ]
  },
  {
   "cell_type": "code",
   "execution_count": null,
   "id": "26f51bb3",
   "metadata": {},
   "outputs": [],
   "source": [
    "iswc = iswc.drop(iswc[iswc.conf_acronym != 'ISWC'].index)"
   ]
  },
  {
   "cell_type": "code",
   "execution_count": null,
   "id": "50cd5f5f",
   "metadata": {},
   "outputs": [],
   "source": [
    "iswc.describe(include='all')"
   ]
  },
  {
   "attachments": {},
   "cell_type": "markdown",
   "id": "ea46a038",
   "metadata": {},
   "source": [
    "Onto ESWC now"
   ]
  },
  {
   "cell_type": "code",
   "execution_count": null,
   "id": "9eee63cf",
   "metadata": {},
   "outputs": [],
   "source": [
    "eswc['conf_acronym'].unique()"
   ]
  },
  {
   "attachments": {},
   "cell_type": "markdown",
   "id": "a7c3e68d",
   "metadata": {},
   "source": [
    "Check the other acronym just to be sure"
   ]
  },
  {
   "cell_type": "code",
   "execution_count": null,
   "id": "7135627e",
   "metadata": {},
   "outputs": [],
   "source": []
  },
  {
   "attachments": {},
   "cell_type": "markdown",
   "id": "70119843",
   "metadata": {},
   "source": [
    "Ah! That's ok! This was the name of the conference before it was a conference."
   ]
  },
  {
   "cell_type": "code",
   "execution_count": null,
   "id": "646fd4dc",
   "metadata": {},
   "outputs": [],
   "source": [
    "eswc.describe(include='all')"
   ]
  },
  {
   "attachments": {},
   "cell_type": "markdown",
   "id": "ede705a9",
   "metadata": {},
   "source": [
    "Finally, let's check TPDL"
   ]
  },
  {
   "cell_type": "code",
   "execution_count": null,
   "id": "8455961d",
   "metadata": {},
   "outputs": [],
   "source": [
    "tpdl['conf_acronym'].unique()"
   ]
  },
  {
   "attachments": {},
   "cell_type": "markdown",
   "id": "3071ac93",
   "metadata": {},
   "source": [
    "Check ECDL "
   ]
  },
  {
   "attachments": {},
   "cell_type": "markdown",
   "id": "a50c6603",
   "metadata": {},
   "source": []
  },
  {
   "attachments": {},
   "cell_type": "markdown",
   "id": "d860fd24",
   "metadata": {},
   "source": [
    "Let me fix this date for you. I know it was wrong."
   ]
  },
  {
   "cell_type": "code",
   "execution_count": null,
   "id": "e8397054",
   "metadata": {},
   "outputs": [],
   "source": [
    "tpdl.loc[tpdl.year == '2014-01-01', 'year'] = '2013-01-01'"
   ]
  },
  {
   "cell_type": "code",
   "execution_count": null,
   "id": "c4c54110",
   "metadata": {},
   "outputs": [],
   "source": [
    "tpdl.describe(include='all')"
   ]
  },
  {
   "attachments": {},
   "cell_type": "markdown",
   "id": "4ee08003",
   "metadata": {},
   "source": [
    "## Analysis"
   ]
  },
  {
   "attachments": {},
   "cell_type": "markdown",
   "id": "567ec39f",
   "metadata": {},
   "source": [
    "For the sake of simplicity, we can create a variable `df`and assign one of our dataframes `iswc`, `eswc`, `tpdl` to it.\n",
    "\n",
    "Pick one for the moment. Later, you can come up here, switch to another dataframe and run again the cells below."
   ]
  },
  {
   "cell_type": "code",
   "execution_count": null,
   "id": "270090a4",
   "metadata": {},
   "outputs": [],
   "source": [
    "df = iswc"
   ]
  },
  {
   "cell_type": "code",
   "execution_count": null,
   "metadata": {},
   "outputs": [],
   "source": [
    "df_first = df[df.author_order == 1]\n",
    "df_last_authors_idx = df.groupby('paper_doi')['author_order'].transform(max) == df['author_order']\n",
    "df_last = df[df_last_authors_idx]\n",
    "df_middle = df[df_last_authors_idx.map(lambda x: not x)]\n",
    "df_middle = df_middle[df_middle.author_order != 1]"
   ]
  },
  {
   "cell_type": "code",
   "execution_count": null,
   "id": "bed85d70-6a91-4ae4-aed0-2e36ce668492",
   "metadata": {
    "tags": []
   },
   "outputs": [],
   "source": [
    "df[df.paper_doi == '10.1007/11926078_12']"
   ]
  },
  {
   "cell_type": "code",
   "execution_count": null,
   "id": "b5e2fcfa-de0c-456a-bdd6-880ceb6fed1d",
   "metadata": {
    "tags": []
   },
   "outputs": [],
   "source": [
    "df.book_confSubtitle.unique()"
   ]
  },
  {
   "attachments": {},
   "cell_type": "markdown",
   "id": "d44dc28f",
   "metadata": {},
   "source": [
    "**Task:** which countries the conference visited?"
   ]
  },
  {
   "cell_type": "code",
   "execution_count": null,
   "id": "2c5b1fe5-8625-46ec-979e-d08e7bac8bb7",
   "metadata": {
    "tags": []
   },
   "outputs": [],
   "source": []
  },
  {
   "attachments": {},
   "cell_type": "markdown",
   "id": "dcbcaa87",
   "metadata": {},
   "source": [
    "**Task:** any country multiple times? Can you do a bar plot?"
   ]
  },
  {
   "cell_type": "code",
   "execution_count": null,
   "id": "d34014c4-dfad-43b3-b231-47b2e009750b",
   "metadata": {},
   "outputs": [],
   "source": []
  },
  {
   "attachments": {},
   "cell_type": "markdown",
   "id": "c3a2d911",
   "metadata": {},
   "source": [
    "**Task:** which cities?"
   ]
  },
  {
   "cell_type": "code",
   "execution_count": null,
   "id": "fa19437e-c64e-4ddb-8389-599e348bfd04",
   "metadata": {
    "tags": []
   },
   "outputs": [],
   "source": []
  },
  {
   "attachments": {},
   "cell_type": "markdown",
   "id": "ffc0350b",
   "metadata": {},
   "source": [
    "**Task:** Find the top-10 researcher by number of papers published"
   ]
  },
  {
   "cell_type": "code",
   "execution_count": null,
   "id": "010bce56",
   "metadata": {},
   "outputs": [],
   "source": []
  },
  {
   "attachments": {},
   "cell_type": "markdown",
   "id": "53a729f6",
   "metadata": {},
   "source": [
    "**Task:** Find the top-10 researcher by number of papers published (in last position)"
   ]
  },
  {
   "cell_type": "code",
   "execution_count": null,
   "id": "db81be71",
   "metadata": {},
   "outputs": [],
   "source": []
  },
  {
   "attachments": {},
   "cell_type": "markdown",
   "id": "d5df9567",
   "metadata": {},
   "source": [
    "**Task:** Find the top-10 researcher by number of papers published (in first position)"
   ]
  },
  {
   "cell_type": "code",
   "execution_count": null,
   "id": "c03cbf81",
   "metadata": {},
   "outputs": [],
   "source": []
  },
  {
   "attachments": {},
   "cell_type": "markdown",
   "id": "97a4df27",
   "metadata": {},
   "source": [
    "Do you see any notable inversion?"
   ]
  },
  {
   "attachments": {},
   "cell_type": "markdown",
   "id": "4629a1f5",
   "metadata": {},
   "source": [
    "**Task:** Find and plot the total number of contributions per year"
   ]
  },
  {
   "cell_type": "code",
   "execution_count": null,
   "id": "1517742d",
   "metadata": {},
   "outputs": [],
   "source": []
  },
  {
   "attachments": {},
   "cell_type": "markdown",
   "id": "1bc78d20",
   "metadata": {},
   "source": [
    "**Task:** Find and plot the same just with grid.id attached (i.e., with an organisation explicitly attached)"
   ]
  },
  {
   "cell_type": "code",
   "execution_count": null,
   "id": "4d379496",
   "metadata": {},
   "outputs": [],
   "source": []
  },
  {
   "attachments": {},
   "cell_type": "markdown",
   "id": "6b39ed51",
   "metadata": {},
   "source": [
    "**Task:** Find and plot the same just without grid.id attached"
   ]
  },
  {
   "cell_type": "code",
   "execution_count": null,
   "id": "187e898f",
   "metadata": {},
   "outputs": [],
   "source": []
  },
  {
   "attachments": {},
   "cell_type": "markdown",
   "id": "d64076ba",
   "metadata": {},
   "source": [
    "For clarity, these can go in the same plot."
   ]
  },
  {
   "cell_type": "code",
   "execution_count": null,
   "id": "df45be52",
   "metadata": {},
   "outputs": [],
   "source": [
    "fig, ax = plt.subplots()\n",
    "\n",
    "df.groupby(['year'])['paper_doi'].count().reset_index().plot.line(x='year', y='paper_doi', ax=ax, label='total')\n",
    "df[df['org_gridId'].notna()].groupby(['year'])['paper_doi'].count().reset_index().plot.line(x='year', y='paper_doi', ax=ax, label='w/ grid.id')\n",
    "df[df['org_gridId'].isna()].groupby(['year'])['paper_doi'].count().reset_index().plot.line(x='year', y='paper_doi', ax=ax, label='w/o grid.id')"
   ]
  },
  {
   "attachments": {},
   "cell_type": "markdown",
   "id": "5b2e68ce",
   "metadata": {},
   "source": [
    "In plotly, to have an interactive plot, it would be like this."
   ]
  },
  {
   "cell_type": "code",
   "execution_count": null,
   "id": "244ca601",
   "metadata": {},
   "outputs": [],
   "source": [
    "contributions = df.groupby(['year'])['paper_doi'].count()\n",
    "contributions_with_gridId = df[df['org_gridId'].notna()].groupby(['year'])['paper_doi'].count()\n",
    "contributions_without_gridId = df[df['org_gridId'].isna()].groupby(['year'])['paper_doi'].count()\n",
    "\n",
    "trace1 = go.Scatter(x=contributions.index,\n",
    "                    y=contributions.values,\n",
    "                    name='contributions',\n",
    "                    marker=dict(symbol='circle', size=8),\n",
    "                    mode='lines+markers')\n",
    "                    \n",
    "trace2 = go.Scatter(x=contributions_with_gridId.index,\n",
    "                    y=contributions_with_gridId.values,\n",
    "                    name='contributions (w/ gridID)',\n",
    "                    marker=dict(symbol='cross', size=8),\n",
    "                    mode='lines+markers')\n",
    "\n",
    "trace3 = go.Scatter(x=contributions_without_gridId.index,\n",
    "                    y=contributions_without_gridId.values,\n",
    "                    name='contributions (w/o gridID)',\n",
    "                    marker=dict(symbol='triangle-up', size=8),\n",
    "                    mode='lines+markers')\n",
    "                    \n",
    "layout = go.Layout(title='Trends of contributions',\n",
    "                   legend=dict(orientation='h'))\n",
    "\n",
    "fig = go.Figure(data=[trace1, trace2, trace3], layout=layout)\n",
    "plotly.offline.iplot(fig)"
   ]
  },
  {
   "attachments": {},
   "cell_type": "markdown",
   "id": "c72950ba",
   "metadata": {},
   "source": [
    "**Task:** Find and plot the trend of PIDs (i.e., DOIs and grid.ids) per year"
   ]
  },
  {
   "cell_type": "code",
   "execution_count": null,
   "id": "12740ece",
   "metadata": {},
   "outputs": [],
   "source": []
  },
  {
   "attachments": {},
   "cell_type": "markdown",
   "id": "d394b2f2",
   "metadata": {},
   "source": [
    "**Task:** Find and plot the distribution of papers by country"
   ]
  },
  {
   "cell_type": "code",
   "execution_count": null,
   "id": "37102086",
   "metadata": {},
   "outputs": [],
   "source": []
  },
  {
   "attachments": {},
   "cell_type": "markdown",
   "id": "b9924f5f",
   "metadata": {},
   "source": [
    "**Task:** Find and plot the number of papers by country (overall, first authors, last authors). "
   ]
  },
  {
   "cell_type": "code",
   "execution_count": null,
   "id": "5f3fd7e1",
   "metadata": {},
   "outputs": [],
   "source": []
  },
  {
   "attachments": {},
   "cell_type": "markdown",
   "id": "386ecd0a",
   "metadata": {},
   "source": [
    "We can also plot as a pie chart"
   ]
  },
  {
   "cell_type": "code",
   "execution_count": null,
   "id": "c8e042f1",
   "metadata": {},
   "outputs": [],
   "source": [
    "dois = df.groupby(['org_countrycode'])['paper_doi'].nunique().reset_index()\n",
    "dois_first = df_first.groupby(['org_countrycode'])['paper_doi'].nunique().reset_index()\n",
    "dois_last = df_last.groupby(['org_countrycode'])['paper_doi'].nunique().reset_index()\n",
    "\n",
    "pie_1 = go.Pie(values=dois['paper_doi'],\n",
    "              labels=dois['org_countrycode'],\n",
    "              textposition='inside',\n",
    "              domain=dict(x=[0, 1], y=[.4, 1]),\n",
    "              name='DOIs',\n",
    "              hoverinfo='label+value+name',\n",
    "              hole=.4)\n",
    "\n",
    "pie_2 = go.Pie(values=dois_first['paper_doi'],\n",
    "              labels=dois_first['org_countrycode'],\n",
    "              textposition='inside',\n",
    "              domain=dict(x=[0, .5], y=[0, .6]),\n",
    "              name='DOIs',\n",
    "              hoverinfo='label+value+name',\n",
    "              hole=.4)\n",
    "\n",
    "pie_3 = go.Pie(values=dois_last['paper_doi'],\n",
    "              labels=dois_last['org_countrycode'],\n",
    "              textposition='inside',\n",
    "              domain=dict(x=[.5, 1], y=[0, .6]),\n",
    "              name='DOIs',\n",
    "              hoverinfo='label+value+name',\n",
    "              hole=.4)\n",
    "\n",
    "tris_donut = go.Layout(title='DOI breakdown by country',\n",
    "                       annotations=[dict(font=dict(size=15),\n",
    "                                        showarrow=False,\n",
    "                                        text='All authors',\n",
    "                                        x=.5, y=1.07),\n",
    "                                    dict(font=dict(size=15),\n",
    "                                        showarrow=False,\n",
    "                                        text='1st authors',\n",
    "                                        x=.18, y=-0.07),\n",
    "                                    dict(font=dict(size=15),\n",
    "                                        showarrow=False,\n",
    "                                        text='Last authors',\n",
    "                                        x=.83, y=-0.07)])\n",
    "\n",
    "fig = go.Figure(data=[pie_1,pie_2,pie_3], layout=tris_donut)\n",
    "plotly.offline.iplot(fig)"
   ]
  },
  {
   "attachments": {},
   "cell_type": "markdown",
   "id": "85b5dd41",
   "metadata": {},
   "source": [
    "**Task:** Can you do the same plots above aggregating by organisations this time?"
   ]
  },
  {
   "cell_type": "code",
   "execution_count": null,
   "id": "10891a3a",
   "metadata": {},
   "outputs": [],
   "source": []
  },
  {
   "attachments": {},
   "cell_type": "markdown",
   "id": "ffad51e6",
   "metadata": {},
   "source": [
    "**Task:** Are there institutions that never appear in first or last position? Check year by year.\n",
    "\n",
    "Hint: `df_first.groupby(['year']).agg({'org_gridId': set})` aggregates a set of organizations"
   ]
  },
  {
   "cell_type": "code",
   "execution_count": null,
   "id": "e9cfcb0f",
   "metadata": {},
   "outputs": [],
   "source": []
  }
 ],
 "metadata": {
  "kernelspec": {
   "display_name": "Python 3 (ipykernel)",
   "language": "python",
   "name": "python3"
  },
  "language_info": {
   "codemirror_mode": {
    "name": "ipython",
    "version": 3
   },
   "file_extension": ".py",
   "mimetype": "text/x-python",
   "name": "python",
   "nbconvert_exporter": "python",
   "pygments_lexer": "ipython3",
   "version": "3.9.12"
  }
 },
 "nbformat": 4,
 "nbformat_minor": 5
}
