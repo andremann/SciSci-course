{
 "cells": [
  {
   "attachments": {},
   "cell_type": "markdown",
   "id": "05e3e54e-712c-41f5-9a96-2f9cb65b2c10",
   "metadata": {
    "tags": []
   },
   "source": [
    "# Day 1 Laboratory - Familiarise with Jupyter and Pandas"
   ]
  },
  {
   "attachments": {},
   "cell_type": "markdown",
   "id": "9353baaa-4ea0-492e-b9dc-af213a365ec3",
   "metadata": {},
   "source": [
    "**code cells**: contain Python code to be executed (reference in the help menu)\n",
    "\n",
    "**markdown cells**: contains text in markdown format (reference in the help menu)"
   ]
  },
  {
   "attachments": {},
   "cell_type": "markdown",
   "id": "f4f9426a-1de6-4ee1-8680-d278c850b8bb",
   "metadata": {
    "tags": []
   },
   "source": [
    "`A`: insert a cell above the current cell\n",
    "\n",
    "`B`: insert a cell below the current cell\n",
    "\n",
    "`M`: convert the current cell to a markdown cell\n",
    "\n",
    "`Y`: convert the current cell to a code cell\n",
    "\n",
    "`Shift+Enter`: run the current cell and advance to the next cell\n",
    "\n",
    "`Ctrl+Enter`: run the current cell and stay\n",
    "\n",
    "`Enter` (when cell selected): go into edit mode\n",
    "\n",
    "`Esc` (when editing): exit from edit mode \n",
    "\n",
    "Lots of Pandas examples can be found here: https://github.com/guipsamora/pandas_exercises/tree/master/01_Getting_%26_Knowing_Your_Data"
   ]
  },
  {
   "attachments": {},
   "cell_type": "markdown",
   "id": "9593c2ef-a1f2-4d37-8f81-30f9f4da03b4",
   "metadata": {},
   "source": [
    "## Import libraries"
   ]
  },
  {
   "cell_type": "code",
   "execution_count": null,
   "id": "f5a06f6a-01a4-47a7-b8ba-e31b9815383a",
   "metadata": {
    "tags": []
   },
   "outputs": [],
   "source": [
    "import pandas as pd\n",
    "import numpy as np"
   ]
  },
  {
   "attachments": {},
   "cell_type": "markdown",
   "id": "7b1cbc43-9da9-4251-bd6d-c6bed23490a0",
   "metadata": {},
   "source": [
    "## Load dataset and explore it"
   ]
  },
  {
   "attachments": {},
   "cell_type": "markdown",
   "id": "5d052dd9-f08e-4595-bf5d-58c1fd7a3d29",
   "metadata": {},
   "source": [
    "In general, search on the documentation online\n",
    "https://pandas.pydata.org/pandas-docs/stable/reference/api/pandas.read_csv.html?highlight=csv#pandas.read_csv\n",
    "or type `?<func_name>` for help in here. For example `?pd.read_csv`."
   ]
  },
  {
   "cell_type": "code",
   "execution_count": null,
   "id": "4de10478-b75c-458e-8411-f86b2b54d982",
   "metadata": {
    "tags": []
   },
   "outputs": [],
   "source": [
    "df = pd.read_csv(\"https://ssciwr.github.io/jupyter-data-exploration/data.csv\")"
   ]
  },
  {
   "cell_type": "code",
   "execution_count": null,
   "id": "af5ac266-59cc-4ab1-a2dc-cbdadea2405b",
   "metadata": {
    "tags": []
   },
   "outputs": [],
   "source": [
    "df # Try df.head(5)"
   ]
  },
  {
   "attachments": {},
   "cell_type": "markdown",
   "id": "e91aa49d-c704-40ef-9338-919bfc1f892b",
   "metadata": {},
   "source": [
    "### Summarisation"
   ]
  },
  {
   "cell_type": "code",
   "execution_count": null,
   "id": "90dd4e8a-7e30-4ef0-ba6f-3a32c43cb298",
   "metadata": {
    "tags": []
   },
   "outputs": [],
   "source": [
    "df.shape"
   ]
  },
  {
   "cell_type": "code",
   "execution_count": null,
   "id": "cf69d99e-b7d5-427f-b13d-b919005634eb",
   "metadata": {
    "tags": []
   },
   "outputs": [],
   "source": [
    "df.count()"
   ]
  },
  {
   "cell_type": "code",
   "execution_count": null,
   "id": "a7b50e2c-634e-4cb1-9c86-06bc934c1ae2",
   "metadata": {
    "tags": []
   },
   "outputs": [],
   "source": [
    "df.columns"
   ]
  },
  {
   "cell_type": "code",
   "execution_count": null,
   "id": "01e2907c",
   "metadata": {},
   "outputs": [],
   "source": [
    "len(df.columns)"
   ]
  },
  {
   "cell_type": "code",
   "execution_count": null,
   "id": "cd9a9df5-da59-48c5-8f6e-af6959cc20cb",
   "metadata": {
    "tags": []
   },
   "outputs": [],
   "source": [
    "df.dtypes"
   ]
  },
  {
   "cell_type": "code",
   "execution_count": null,
   "id": "1ff188f5-6d99-4be8-aeb8-62aba3da2cdf",
   "metadata": {
    "tags": []
   },
   "outputs": [],
   "source": [
    "df.memory_usage(deep=True)"
   ]
  },
  {
   "cell_type": "code",
   "execution_count": null,
   "id": "969ae4a7-3bc1-4828-a318-6e61eefc32e3",
   "metadata": {
    "tags": []
   },
   "outputs": [],
   "source": [
    "df.info()"
   ]
  },
  {
   "attachments": {},
   "cell_type": "markdown",
   "id": "42562dc7-a3d9-4f04-890e-97f88f003977",
   "metadata": {
    "tags": []
   },
   "source": [
    "### Memory optimisation"
   ]
  },
  {
   "attachments": {},
   "cell_type": "markdown",
   "id": "88d508f6",
   "metadata": {},
   "source": [
    "Check this out, https://www.dataquest.io/blog/pandas-big-data"
   ]
  },
  {
   "cell_type": "code",
   "execution_count": null,
   "id": "7859807c-e750-4dac-ae91-7b8a76de1206",
   "metadata": {
    "tags": []
   },
   "outputs": [],
   "source": [
    "df.memory_usage(deep=True)"
   ]
  },
  {
   "cell_type": "code",
   "execution_count": null,
   "id": "279fe9dc-6630-4663-acaf-bb30865a40a5",
   "metadata": {
    "tags": []
   },
   "outputs": [],
   "source": [
    "df['Eye colour'].unique()"
   ]
  },
  {
   "cell_type": "code",
   "execution_count": null,
   "id": "d1527580-3e2a-41aa-88a3-570aaa97bc7a",
   "metadata": {
    "tags": []
   },
   "outputs": [],
   "source": [
    "df['Eye colour'].value_counts() # Try with other columns"
   ]
  },
  {
   "cell_type": "code",
   "execution_count": null,
   "id": "0535cac4-b295-4f43-ba73-05e6ee561bee",
   "metadata": {
    "tags": []
   },
   "outputs": [],
   "source": [
    "df['Sex_cat'] = df['Sex'].astype('category')\n",
    "df.memory_usage(deep=True)"
   ]
  },
  {
   "cell_type": "code",
   "execution_count": null,
   "id": "ded5def8-ec5f-4dbf-b665-44d27687d441",
   "metadata": {
    "tags": []
   },
   "outputs": [],
   "source": [
    "df = df.drop(columns=['Sex_cat'])\n",
    "df['Sex'] = df['Sex'].astype('category')\n",
    "df['Eye colour'] = df['Eye colour'].astype('category')\n",
    "df[\"Wears glasses\"] = df[\"Wears glasses\"].map({\"yes\": True, \"no\": False})\n",
    "df.memory_usage(deep=True)"
   ]
  },
  {
   "cell_type": "code",
   "execution_count": null,
   "id": "f0ef973d-8ccb-46a6-86ca-c9231a466342",
   "metadata": {
    "tags": []
   },
   "outputs": [],
   "source": [
    "df.info()"
   ]
  },
  {
   "cell_type": "code",
   "execution_count": null,
   "id": "68dd4736-ed33-45d2-8e6f-c9dbd56ea735",
   "metadata": {
    "tags": []
   },
   "outputs": [],
   "source": [
    "df.describe() # add include='all' as argument"
   ]
  },
  {
   "attachments": {},
   "cell_type": "markdown",
   "id": "c11eb36d-57c0-4aab-8e3f-785655bf1666",
   "metadata": {},
   "source": [
    "### Slicing"
   ]
  },
  {
   "cell_type": "code",
   "execution_count": null,
   "id": "f1ae0872-3e29-411d-abf5-402979e856f5",
   "metadata": {},
   "outputs": [],
   "source": [
    "names = df['Name']\n",
    "names"
   ]
  },
  {
   "cell_type": "code",
   "execution_count": null,
   "id": "ebdde422-9d9c-43fc-894e-daf6aa2eb8e7",
   "metadata": {
    "tags": []
   },
   "outputs": [],
   "source": [
    "names[0]"
   ]
  },
  {
   "cell_type": "code",
   "execution_count": null,
   "id": "b102b167-9e23-4bff-8cae-fbe67ac0a90d",
   "metadata": {
    "tags": []
   },
   "outputs": [],
   "source": [
    "names[0:3] # Trick for reading: start from 0, give me 3. This is a shortcut for names.iloc[0:3]"
   ]
  },
  {
   "cell_type": "code",
   "execution_count": null,
   "id": "6a86eb74-a70b-4a73-9b89-3f0f733aa246",
   "metadata": {
    "tags": []
   },
   "outputs": [],
   "source": [
    "for name in names:\n",
    "    print(name, \", \", end=\"\")"
   ]
  },
  {
   "cell_type": "code",
   "execution_count": null,
   "id": "a4a5087b-7e4f-4863-b7ff-66170395d716",
   "metadata": {},
   "outputs": [],
   "source": [
    "df[['Name', 'Age']] #add [0:5] for row selection. This is a shortcut for df.iloc[0:5, [True, True, False, False, False, False]]"
   ]
  },
  {
   "cell_type": "code",
   "execution_count": null,
   "id": "e44026ab-be05-42f1-9637-a2ab0e925f7e",
   "metadata": {},
   "outputs": [],
   "source": [
    "df.loc[0:5, ['Name','Age']]"
   ]
  },
  {
   "cell_type": "code",
   "execution_count": null,
   "id": "3d877391-e907-4c6c-b60b-9d0ae7e72c5f",
   "metadata": {
    "tags": []
   },
   "outputs": [],
   "source": [
    "df.loc[0:5]"
   ]
  },
  {
   "cell_type": "code",
   "execution_count": null,
   "id": "9010f16d-5e1a-4c84-a800-0a9824d5dbcb",
   "metadata": {
    "tags": []
   },
   "outputs": [],
   "source": [
    "df.loc[:, 'Name']"
   ]
  },
  {
   "cell_type": "code",
   "execution_count": null,
   "id": "ee075448-1347-4c6a-a390-118ba52a7b13",
   "metadata": {
    "tags": []
   },
   "outputs": [],
   "source": [
    "df.loc[0]"
   ]
  },
  {
   "cell_type": "code",
   "execution_count": null,
   "id": "32861cca-48db-4e4f-9409-e7d115293091",
   "metadata": {
    "tags": []
   },
   "outputs": [],
   "source": [
    "df.loc[[1,3,5,7]] #add [\"Height\", \"Wears glasses\"] to select columns. Same as df.iloc[[1,3,5,7], [False, False, False, True, False, True]]"
   ]
  },
  {
   "attachments": {},
   "cell_type": "markdown",
   "id": "a1401608-82d5-47ba-b06f-b2cfd0a92d02",
   "metadata": {
    "tags": []
   },
   "source": [
    "### Filtering (conditionals)"
   ]
  },
  {
   "attachments": {},
   "cell_type": "markdown",
   "id": "b6911550-d2c2-4ef2-9ff1-49792fe1e67c",
   "metadata": {},
   "source": [
    "a statement that is either true or false\n",
    "- a == b : true if a is equal to b\n",
    "- a != b : true if a is not equal to b\n",
    "- a > b : true if a is greater than b\n",
    "- a >= b : true if a is greater than or equal to b\n",
    "- a < b : true if a is less than b\n",
    "- a <= b : true if a is less than or equal to b\n",
    "\n",
    "they can be combined\n",
    "- a & b : true if a and b are both true, otherwise false\n",
    "- a | b : true if a or b is true, otherwise false\n",
    "\n",
    "if a is a pandas Series, the result is a Boolean Series\n",
    "- with a True or False result for each row\n",
    "- which can be used by loc to select data"
   ]
  },
  {
   "cell_type": "code",
   "execution_count": null,
   "id": "6e10db7d-0feb-43ac-8560-7e493c45041f",
   "metadata": {
    "tags": []
   },
   "outputs": [],
   "source": [
    "df['Age'] > 9"
   ]
  },
  {
   "cell_type": "code",
   "execution_count": null,
   "id": "5e5c8b99-2d8c-4ed3-9b7e-c0f51c292170",
   "metadata": {
    "tags": []
   },
   "outputs": [],
   "source": [
    "df.loc[df['Age'] > 9]"
   ]
  },
  {
   "cell_type": "code",
   "execution_count": null,
   "id": "335c6798-7496-4b53-8226-fe20b4fcdf3a",
   "metadata": {
    "tags": []
   },
   "outputs": [],
   "source": [
    "df.loc[df['Wears glasses'] == True]"
   ]
  },
  {
   "cell_type": "code",
   "execution_count": null,
   "id": "6247055e-457d-4192-8781-479b91eacc40",
   "metadata": {
    "tags": []
   },
   "outputs": [],
   "source": [
    "df.loc[(df[\"Age\"] > 9) & (df[\"Eye colour\"] == \"blue\")]"
   ]
  },
  {
   "cell_type": "code",
   "execution_count": null,
   "id": "c5442a88-88d8-40bc-9eb1-87ef19660987",
   "metadata": {
    "tags": []
   },
   "outputs": [],
   "source": [
    "df.loc[(df[\"Age\"] < 7) | (df[\"Wears glasses\"] == True)]"
   ]
  },
  {
   "attachments": {},
   "cell_type": "markdown",
   "id": "c75de313-bd41-4777-b60b-a87602cc3f4c",
   "metadata": {},
   "source": [
    "### Manipulation"
   ]
  },
  {
   "cell_type": "code",
   "execution_count": null,
   "id": "12c1418a-9540-4770-8af9-92f5345c9c6c",
   "metadata": {
    "tags": []
   },
   "outputs": [],
   "source": [
    "data = {'_name': df.Name, 'Surname': ['Smith', 'Malone', 'White', 'Jones', 'Taylor', 'Wilson', 'Green', 'Hall', 'Wood', 'Davies', 'Roberts', 'Walker', 'Brown', 'Wright', 'Evans', 'Jackson', 'Thompson', 'Robinson', 'Hammet', 'Beck']}\n",
    "ext = pd.DataFrame(data)\n",
    "ext"
   ]
  },
  {
   "cell_type": "code",
   "execution_count": null,
   "id": "70af7164-5bd1-4b72-b78a-7cb345858a50",
   "metadata": {
    "tags": []
   },
   "outputs": [],
   "source": [
    "df.join(ext.drop(columns='_name'))"
   ]
  },
  {
   "attachments": {},
   "cell_type": "markdown",
   "id": "b32d71a8-280e-489d-9aa0-de6e6bdb5be2",
   "metadata": {
    "tags": []
   },
   "source": [
    "### Visualisation"
   ]
  },
  {
   "attachments": {},
   "cell_type": "markdown",
   "id": "3f3ae631",
   "metadata": {},
   "source": [
    "Pandas has built-in wrapper functions that we cann call to plot DataFrames. It uses `matplotlib` under the hood, but it takes care of the boilerplate code. However, it might be less flexible in some cases, so it is easier to use `matplotlib` straight away just in case."
   ]
  },
  {
   "cell_type": "code",
   "execution_count": null,
   "id": "36e974b4-0853-4db6-85a7-65b093fac6bb",
   "metadata": {
    "tags": []
   },
   "outputs": [],
   "source": [
    "df['Height'].hist() # Try with other columns"
   ]
  },
  {
   "cell_type": "code",
   "execution_count": null,
   "id": "ae82850c-4a58-4f24-b979-aa16beba670c",
   "metadata": {
    "tags": []
   },
   "outputs": [],
   "source": [
    "df['Eye colour'].hist() # same as df['Eye colour'].value_counts().plot.bar()"
   ]
  },
  {
   "cell_type": "code",
   "execution_count": null,
   "id": "a47556f0-b8cc-4884-bb18-3f923f85dd47",
   "metadata": {
    "tags": []
   },
   "outputs": [],
   "source": [
    "df.plot.scatter(x='Age', y='Height')"
   ]
  },
  {
   "attachments": {},
   "cell_type": "markdown",
   "id": "d414df1b",
   "metadata": {},
   "source": [
    "Now, let's do the same thing using matplotlib module instead of Pandas' built-in one."
   ]
  },
  {
   "cell_type": "code",
   "execution_count": null,
   "id": "28aa0146-1363-4152-9a13-adcf56c90d5c",
   "metadata": {
    "tags": []
   },
   "outputs": [],
   "source": [
    "import matplotlib.pyplot as plt\n",
    "# do the same thing, but use matplotlib to customise the plot\n",
    "# make a larger figure\n",
    "fig, axs = plt.subplots(figsize=(12, 4))\n",
    "# pass our axis to pandas plot\n",
    "df.plot.scatter(x='Age', y='Height', ax=axs)\n",
    "# set a title\n",
    "plt.title('Height vs Age')\n",
    "# display the plot\n",
    "plt.show()"
   ]
  },
  {
   "cell_type": "code",
   "execution_count": null,
   "id": "60ac801d-04cb-412e-a8f6-993023b0e3f0",
   "metadata": {
    "tags": []
   },
   "outputs": [],
   "source": [
    "# filter the data before plotting, and plot multiple labelled datapoints\n",
    "fig, axs = plt.subplots(figsize=(12, 4))\n",
    "df.loc[df[\"Sex\"] == \"Male\"].plot.scatter(\n",
    "    x=\"Age\", y=\"Height\", ax=axs, label=\"Male\", marker=\"x\", color=\"green\"\n",
    ")\n",
    "df.loc[df[\"Sex\"] == \"Female\"].plot.scatter(\n",
    "    x=\"Age\", y=\"Height\", ax=axs, label=\"Female\", marker=\"o\", color=\"blue\"\n",
    ")\n",
    "plt.legend()\n",
    "plt.title(\"Height vs Age\")\n",
    "plt.show()"
   ]
  },
  {
   "cell_type": "code",
   "execution_count": null,
   "id": "14945787-5123-472f-b20e-455d00488b00",
   "metadata": {
    "tags": []
   },
   "outputs": [],
   "source": [
    "fig, axs = plt.subplots(nrows=1, ncols=3, figsize=(16, 6))\n",
    "df[\"Sex\"].value_counts().plot.pie(ax=axs[0])\n",
    "df[\"Wears glasses\"].value_counts().plot.pie(ax=axs[1])\n",
    "df[\"Eye colour\"].value_counts().plot.pie(ax=axs[2])\n",
    "plt.plot()"
   ]
  },
  {
   "cell_type": "code",
   "execution_count": null,
   "id": "d9d1207f-49cf-4e29-8cea-9c257821e6e8",
   "metadata": {
    "tags": []
   },
   "outputs": [],
   "source": [
    "fig, axs = plt.subplots(nrows=1, ncols=3, figsize=(16, 6))\n",
    "for ax, column in zip(axs, [\"Sex\", \"Wears glasses\", \"Eye colour\"]):\n",
    "    df[column].value_counts().plot.pie(ax=ax)\n",
    "plt.plot()"
   ]
  },
  {
   "cell_type": "code",
   "execution_count": null,
   "id": "a8ad949c-80f5-47fc-8d46-f021da1b52df",
   "metadata": {},
   "outputs": [],
   "source": []
  },
  {
   "attachments": {},
   "cell_type": "markdown",
   "id": "23ea2940-6f7c-4df1-84fd-9b7e728fa87d",
   "metadata": {
    "tags": []
   },
   "source": [
    "### Grouping"
   ]
  },
  {
   "cell_type": "code",
   "execution_count": null,
   "id": "ffec00a2-beeb-4cf8-b6d2-7a74e868ef5c",
   "metadata": {
    "tags": []
   },
   "outputs": [],
   "source": [
    "df.groupby([\"Sex\"]).groups"
   ]
  },
  {
   "cell_type": "code",
   "execution_count": null,
   "id": "e361f484-ad05-4df7-83e2-86f3fecebe0a",
   "metadata": {
    "tags": []
   },
   "outputs": [],
   "source": [
    "for group, data in df.groupby([\"Sex\"]):\n",
    "    print(group)\n",
    "    print(data.head())"
   ]
  },
  {
   "cell_type": "code",
   "execution_count": null,
   "id": "3920f252-e883-48b9-a25b-224665b44554",
   "metadata": {
    "tags": []
   },
   "outputs": [],
   "source": [
    "df.groupby([\"Sex\"])[\"Name\"].count()"
   ]
  },
  {
   "cell_type": "code",
   "execution_count": null,
   "id": "aa5c8475-b219-470a-a6b0-fcdebef15fef",
   "metadata": {
    "tags": []
   },
   "outputs": [],
   "source": [
    "df.groupby([\"Sex\"])[\"Name\"].count().plot.pie()"
   ]
  },
  {
   "cell_type": "code",
   "execution_count": null,
   "id": "1a51aad2-363d-4b8e-9ada-c3ac783c8399",
   "metadata": {
    "tags": []
   },
   "outputs": [],
   "source": [
    "df.groupby([\"Eye colour\", \"Sex\"]).Name.count() # add .reset_index() to get back a DataFrame"
   ]
  },
  {
   "cell_type": "code",
   "execution_count": null,
   "id": "43997889-425f-4972-b0a7-77d045b40315",
   "metadata": {
    "tags": []
   },
   "outputs": [],
   "source": [
    "df.groupby([\"Eye colour\", \"Sex\"]).Name.count().unstack()"
   ]
  },
  {
   "cell_type": "code",
   "execution_count": null,
   "id": "a389db3a-5918-46d2-89e9-64c20e5df76a",
   "metadata": {
    "tags": []
   },
   "outputs": [],
   "source": [
    "df.groupby([\"Eye colour\", \"Sex\"]).Name.count().unstack().plot.pie(subplots=True, figsize=(18, 8))"
   ]
  },
  {
   "attachments": {},
   "cell_type": "markdown",
   "id": "750807e6",
   "metadata": {},
   "source": [
    "For interactive charts, you can use Plotly (https://plotly.com/python). There are plenty of examples online and in the documentation.\n",
    "You can even swap Pandas default backend for plotting."
   ]
  },
  {
   "cell_type": "code",
   "execution_count": null,
   "id": "3a680f3a-8405-44e4-9df8-aedc70b9102a",
   "metadata": {},
   "outputs": [],
   "source": [
    "pd.options.plotting.backend = \"plotly\"\n",
    "\n",
    "fig = df.plot.scatter(x='Age', y='Height')\n",
    "fig.show()"
   ]
  },
  {
   "cell_type": "code",
   "execution_count": null,
   "id": "65ae37cf-2056-4d2c-856f-c6eaf059eeee",
   "metadata": {},
   "outputs": [],
   "source": []
  },
  {
   "cell_type": "code",
   "execution_count": null,
   "id": "e62f8008-95b3-4f64-9410-513720e345e0",
   "metadata": {},
   "outputs": [],
   "source": []
  },
  {
   "cell_type": "code",
   "execution_count": null,
   "id": "a9f4ac44-3be0-4678-9b97-80718894be39",
   "metadata": {},
   "outputs": [],
   "source": []
  }
 ],
 "metadata": {
  "kernelspec": {
   "display_name": "Python 3 (ipykernel)",
   "language": "python",
   "name": "python3"
  },
  "language_info": {
   "codemirror_mode": {
    "name": "ipython",
    "version": 3
   },
   "file_extension": ".py",
   "mimetype": "text/x-python",
   "name": "python",
   "nbconvert_exporter": "python",
   "pygments_lexer": "ipython3",
   "version": "3.9.12"
  }
 },
 "nbformat": 4,
 "nbformat_minor": 5
}
