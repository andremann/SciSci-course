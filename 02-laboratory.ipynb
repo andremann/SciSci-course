{
 "cells": [
  {
   "cell_type": "code",
   "execution_count": 9,
   "id": "efe2bd60-24fa-4d1c-992e-b82c67e85204",
   "metadata": {
    "tags": []
   },
   "outputs": [
    {
     "name": "stdout",
     "output_type": "stream",
     "text": [
      "--2023-05-11 13:18:22--  https://raw.githubusercontent.com/andremann/SAVE-SD-2018ext/master/data/iswc_enhanced.csv\n",
      "Resolving raw.githubusercontent.com (raw.githubusercontent.com)... 185.199.108.133, 185.199.109.133, 185.199.110.133, ...\n",
      "Connecting to raw.githubusercontent.com (raw.githubusercontent.com)|185.199.108.133|:443... connected.\n",
      "HTTP request sent, awaiting response... 200 OK\n",
      "Length: 1814003 (1.7M) [text/plain]\n",
      "Saving to: ‘data/iswc_enhanced.csv’\n",
      "\n",
      "iswc_enhanced.csv   100%[===================>]   1.73M  --.-KB/s    in 0.02s   \n",
      "\n",
      "Last-modified header missing -- time-stamps turned off.\n",
      "2023-05-11 13:18:22 (78.3 MB/s) - ‘data/iswc_enhanced.csv’ saved [1814003/1814003]\n",
      "\n",
      "--2023-05-11 13:18:23--  https://raw.githubusercontent.com/andremann/SAVE-SD-2018ext/master/data/tpdl_enhanced.csv\n",
      "Resolving raw.githubusercontent.com (raw.githubusercontent.com)... 185.199.108.133, 185.199.109.133, 185.199.110.133, ...\n",
      "Connecting to raw.githubusercontent.com (raw.githubusercontent.com)|185.199.108.133|:443... connected.\n",
      "HTTP request sent, awaiting response... 200 OK\n",
      "Length: 1684328 (1.6M) [text/plain]\n",
      "Saving to: ‘data/tpdl_enhanced.csv’\n",
      "\n",
      "tpdl_enhanced.csv   100%[===================>]   1.61M  --.-KB/s    in 0.04s   \n",
      "\n",
      "Last-modified header missing -- time-stamps turned off.\n",
      "2023-05-11 13:18:23 (45.5 MB/s) - ‘data/tpdl_enhanced.csv’ saved [1684328/1684328]\n",
      "\n",
      "--2023-05-11 13:18:23--  https://raw.githubusercontent.com/andremann/SAVE-SD-2018ext/master/data/eswc_enhanced.csv\n",
      "Resolving raw.githubusercontent.com (raw.githubusercontent.com)... 185.199.108.133, 185.199.109.133, 185.199.110.133, ...\n",
      "Connecting to raw.githubusercontent.com (raw.githubusercontent.com)|185.199.108.133|:443... connected.\n",
      "HTTP request sent, awaiting response... 200 OK\n",
      "Length: 1932012 (1.8M) [text/plain]\n",
      "Saving to: ‘data/eswc_enhanced.csv’\n",
      "\n",
      "eswc_enhanced.csv   100%[===================>]   1.84M  --.-KB/s    in 0.06s   \n",
      "\n",
      "Last-modified header missing -- time-stamps turned off.\n",
      "2023-05-11 13:18:23 (28.6 MB/s) - ‘data/eswc_enhanced.csv’ saved [1932012/1932012]\n",
      "\n"
     ]
    }
   ],
   "source": [
    "!wget -N -P data/ https://raw.githubusercontent.com/andremann/SAVE-SD-2018ext/master/data/iswc_enhanced.csv \n",
    "!wget -N -P data/ https://raw.githubusercontent.com/andremann/SAVE-SD-2018ext/master/data/tpdl_enhanced.csv \n",
    "!wget -N -P data/ https://raw.githubusercontent.com/andremann/SAVE-SD-2018ext/master/data/eswc_enhanced.csv "
   ]
  },
  {
   "cell_type": "code",
   "execution_count": null,
   "id": "d68feef8-ff61-4692-8a17-4e021d081839",
   "metadata": {},
   "outputs": [],
   "source": []
  }
 ],
 "metadata": {
  "kernelspec": {
   "display_name": "Python 3 (ipykernel)",
   "language": "python",
   "name": "python3"
  },
  "language_info": {
   "codemirror_mode": {
    "name": "ipython",
    "version": 3
   },
   "file_extension": ".py",
   "mimetype": "text/x-python",
   "name": "python",
   "nbconvert_exporter": "python",
   "pygments_lexer": "ipython3",
   "version": "3.10.10"
  }
 },
 "nbformat": 4,
 "nbformat_minor": 5
}
