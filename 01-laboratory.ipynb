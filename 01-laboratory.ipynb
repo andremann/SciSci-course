{
 "cells": [
  {
   "cell_type": "markdown",
   "id": "05e3e54e-712c-41f5-9a96-2f9cb65b2c10",
   "metadata": {
    "tags": []
   },
   "source": [
    "# Day 1 Laboratory - Familiarise with Jupyter and Pandas"
   ]
  },
  {
   "cell_type": "markdown",
   "id": "9353baaa-4ea0-492e-b9dc-af213a365ec3",
   "metadata": {},
   "source": [
    "**code cells**: contain Python code to be executed\n",
    "\n",
    "**markdown cells**: contains text in markdown format"
   ]
  },
  {
   "cell_type": "markdown",
   "id": "f4f9426a-1de6-4ee1-8680-d278c850b8bb",
   "metadata": {
    "tags": []
   },
   "source": [
    "A: insert a cell above the current cell\n",
    "\n",
    "B: insert a cell below the current cell\n",
    "\n",
    "M: convert the current cell to a markdown cell\n",
    "\n",
    "Y: convert the current cell to a code cell\n",
    "\n",
    "Shift+Enter: run the current cell and advance to the next cell\n",
    "\n",
    "Enter (when cell selected): go into edit mode\n",
    "\n",
    "Esc (when editing): exit from edit mode "
   ]
  },
  {
   "cell_type": "markdown",
   "id": "9593c2ef-a1f2-4d37-8f81-30f9f4da03b4",
   "metadata": {},
   "source": [
    "## Import libraries"
   ]
  },
  {
   "cell_type": "code",
   "execution_count": 233,
   "id": "f5a06f6a-01a4-47a7-b8ba-e31b9815383a",
   "metadata": {
    "tags": []
   },
   "outputs": [],
   "source": [
    "import pandas as pd\n",
    "import numpy as np"
   ]
  },
  {
   "cell_type": "markdown",
   "id": "7b1cbc43-9da9-4251-bd6d-c6bed23490a0",
   "metadata": {},
   "source": [
    "## Load dataset and explore it"
   ]
  },
  {
   "cell_type": "code",
   "execution_count": 234,
   "id": "4de10478-b75c-458e-8411-f86b2b54d982",
   "metadata": {
    "tags": []
   },
   "outputs": [],
   "source": [
    "df = pd.read_csv(\"https://ssciwr.github.io/jupyter-data-exploration/data.csv\")"
   ]
  },
  {
   "cell_type": "code",
   "execution_count": 235,
   "id": "af5ac266-59cc-4ab1-a2dc-cbdadea2405b",
   "metadata": {
    "tags": []
   },
   "outputs": [
    {
     "data": {
      "text/html": [
       "<div>\n",
       "<style scoped>\n",
       "    .dataframe tbody tr th:only-of-type {\n",
       "        vertical-align: middle;\n",
       "    }\n",
       "\n",
       "    .dataframe tbody tr th {\n",
       "        vertical-align: top;\n",
       "    }\n",
       "\n",
       "    .dataframe thead th {\n",
       "        text-align: right;\n",
       "    }\n",
       "</style>\n",
       "<table border=\"1\" class=\"dataframe\">\n",
       "  <thead>\n",
       "    <tr style=\"text-align: right;\">\n",
       "      <th></th>\n",
       "      <th>Name</th>\n",
       "      <th>Age</th>\n",
       "      <th>Sex</th>\n",
       "      <th>Height</th>\n",
       "      <th>Eye colour</th>\n",
       "      <th>Wears glasses</th>\n",
       "    </tr>\n",
       "  </thead>\n",
       "  <tbody>\n",
       "    <tr>\n",
       "      <th>0</th>\n",
       "      <td>Bob</td>\n",
       "      <td>12</td>\n",
       "      <td>Male</td>\n",
       "      <td>130.0</td>\n",
       "      <td>blue</td>\n",
       "      <td>yes</td>\n",
       "    </tr>\n",
       "    <tr>\n",
       "      <th>1</th>\n",
       "      <td>Simon</td>\n",
       "      <td>13</td>\n",
       "      <td>Male</td>\n",
       "      <td>120.0</td>\n",
       "      <td>blue</td>\n",
       "      <td>no</td>\n",
       "    </tr>\n",
       "    <tr>\n",
       "      <th>2</th>\n",
       "      <td>Clare</td>\n",
       "      <td>15</td>\n",
       "      <td>Female</td>\n",
       "      <td>142.5</td>\n",
       "      <td>green</td>\n",
       "      <td>no</td>\n",
       "    </tr>\n",
       "    <tr>\n",
       "      <th>3</th>\n",
       "      <td>Jose</td>\n",
       "      <td>11</td>\n",
       "      <td>Male</td>\n",
       "      <td>117.0</td>\n",
       "      <td>brown</td>\n",
       "      <td>no</td>\n",
       "    </tr>\n",
       "    <tr>\n",
       "      <th>4</th>\n",
       "      <td>Hannah</td>\n",
       "      <td>9</td>\n",
       "      <td>Female</td>\n",
       "      <td>111.0</td>\n",
       "      <td>blue</td>\n",
       "      <td>yes</td>\n",
       "    </tr>\n",
       "    <tr>\n",
       "      <th>5</th>\n",
       "      <td>Ryan</td>\n",
       "      <td>11</td>\n",
       "      <td>Male</td>\n",
       "      <td>124.0</td>\n",
       "      <td>brown</td>\n",
       "      <td>no</td>\n",
       "    </tr>\n",
       "    <tr>\n",
       "      <th>6</th>\n",
       "      <td>Craig</td>\n",
       "      <td>12</td>\n",
       "      <td>Male</td>\n",
       "      <td>124.0</td>\n",
       "      <td>brown</td>\n",
       "      <td>no</td>\n",
       "    </tr>\n",
       "    <tr>\n",
       "      <th>7</th>\n",
       "      <td>Suzy</td>\n",
       "      <td>14</td>\n",
       "      <td>Female</td>\n",
       "      <td>137.0</td>\n",
       "      <td>grey</td>\n",
       "      <td>yes</td>\n",
       "    </tr>\n",
       "    <tr>\n",
       "      <th>8</th>\n",
       "      <td>Chris</td>\n",
       "      <td>10</td>\n",
       "      <td>Male</td>\n",
       "      <td>112.5</td>\n",
       "      <td>brown</td>\n",
       "      <td>no</td>\n",
       "    </tr>\n",
       "    <tr>\n",
       "      <th>9</th>\n",
       "      <td>Josie</td>\n",
       "      <td>8</td>\n",
       "      <td>Female</td>\n",
       "      <td>107.0</td>\n",
       "      <td>brown</td>\n",
       "      <td>no</td>\n",
       "    </tr>\n",
       "    <tr>\n",
       "      <th>10</th>\n",
       "      <td>Claire</td>\n",
       "      <td>16</td>\n",
       "      <td>Female</td>\n",
       "      <td>158.0</td>\n",
       "      <td>blue</td>\n",
       "      <td>no</td>\n",
       "    </tr>\n",
       "    <tr>\n",
       "      <th>11</th>\n",
       "      <td>John</td>\n",
       "      <td>5</td>\n",
       "      <td>Male</td>\n",
       "      <td>97.0</td>\n",
       "      <td>grey</td>\n",
       "      <td>no</td>\n",
       "    </tr>\n",
       "    <tr>\n",
       "      <th>12</th>\n",
       "      <td>Agnes</td>\n",
       "      <td>6</td>\n",
       "      <td>Female</td>\n",
       "      <td>98.0</td>\n",
       "      <td>blue</td>\n",
       "      <td>yes</td>\n",
       "    </tr>\n",
       "    <tr>\n",
       "      <th>13</th>\n",
       "      <td>Robert</td>\n",
       "      <td>8</td>\n",
       "      <td>Male</td>\n",
       "      <td>109.0</td>\n",
       "      <td>brown</td>\n",
       "      <td>no</td>\n",
       "    </tr>\n",
       "    <tr>\n",
       "      <th>14</th>\n",
       "      <td>Julia</td>\n",
       "      <td>3</td>\n",
       "      <td>Female</td>\n",
       "      <td>63.0</td>\n",
       "      <td>blue</td>\n",
       "      <td>no</td>\n",
       "    </tr>\n",
       "    <tr>\n",
       "      <th>15</th>\n",
       "      <td>Fabian</td>\n",
       "      <td>5</td>\n",
       "      <td>Male</td>\n",
       "      <td>101.0</td>\n",
       "      <td>blue</td>\n",
       "      <td>no</td>\n",
       "    </tr>\n",
       "    <tr>\n",
       "      <th>16</th>\n",
       "      <td>Joseph</td>\n",
       "      <td>8</td>\n",
       "      <td>Male</td>\n",
       "      <td>107.0</td>\n",
       "      <td>brown</td>\n",
       "      <td>yes</td>\n",
       "    </tr>\n",
       "    <tr>\n",
       "      <th>17</th>\n",
       "      <td>Roberta</td>\n",
       "      <td>11</td>\n",
       "      <td>Female</td>\n",
       "      <td>121.0</td>\n",
       "      <td>grey</td>\n",
       "      <td>no</td>\n",
       "    </tr>\n",
       "    <tr>\n",
       "      <th>18</th>\n",
       "      <td>Chris</td>\n",
       "      <td>8</td>\n",
       "      <td>Male</td>\n",
       "      <td>106.0</td>\n",
       "      <td>brown</td>\n",
       "      <td>no</td>\n",
       "    </tr>\n",
       "    <tr>\n",
       "      <th>19</th>\n",
       "      <td>Lucas</td>\n",
       "      <td>2</td>\n",
       "      <td>Male</td>\n",
       "      <td>59.0</td>\n",
       "      <td>blue</td>\n",
       "      <td>no</td>\n",
       "    </tr>\n",
       "  </tbody>\n",
       "</table>\n",
       "</div>"
      ],
      "text/plain": [
       "       Name  Age     Sex  Height Eye colour Wears glasses\n",
       "0       Bob   12    Male   130.0       blue           yes\n",
       "1     Simon   13    Male   120.0       blue            no\n",
       "2     Clare   15  Female   142.5      green            no\n",
       "3      Jose   11    Male   117.0      brown            no\n",
       "4    Hannah    9  Female   111.0       blue           yes\n",
       "5      Ryan   11    Male   124.0      brown            no\n",
       "6     Craig   12    Male   124.0      brown            no\n",
       "7      Suzy   14  Female   137.0       grey           yes\n",
       "8     Chris   10    Male   112.5      brown            no\n",
       "9     Josie    8  Female   107.0      brown            no\n",
       "10   Claire   16  Female   158.0       blue            no\n",
       "11     John    5    Male    97.0       grey            no\n",
       "12    Agnes    6  Female    98.0       blue           yes\n",
       "13   Robert    8    Male   109.0      brown            no\n",
       "14    Julia    3  Female    63.0       blue            no\n",
       "15   Fabian    5    Male   101.0       blue            no\n",
       "16   Joseph    8    Male   107.0      brown           yes\n",
       "17  Roberta   11  Female   121.0       grey            no\n",
       "18    Chris    8    Male   106.0      brown            no\n",
       "19    Lucas    2    Male    59.0       blue            no"
      ]
     },
     "execution_count": 235,
     "metadata": {},
     "output_type": "execute_result"
    }
   ],
   "source": [
    "df # Try df.head(5)"
   ]
  },
  {
   "cell_type": "markdown",
   "id": "e91aa49d-c704-40ef-9338-919bfc1f892b",
   "metadata": {},
   "source": [
    "### Summarisation"
   ]
  },
  {
   "cell_type": "code",
   "execution_count": 236,
   "id": "90dd4e8a-7e30-4ef0-ba6f-3a32c43cb298",
   "metadata": {
    "tags": []
   },
   "outputs": [
    {
     "data": {
      "text/plain": [
       "(20, 6)"
      ]
     },
     "execution_count": 236,
     "metadata": {},
     "output_type": "execute_result"
    }
   ],
   "source": [
    "df.shape"
   ]
  },
  {
   "cell_type": "code",
   "execution_count": 237,
   "id": "cf69d99e-b7d5-427f-b13d-b919005634eb",
   "metadata": {
    "tags": []
   },
   "outputs": [
    {
     "data": {
      "text/plain": [
       "Name             20\n",
       "Age              20\n",
       "Sex              20\n",
       "Height           20\n",
       "Eye colour       20\n",
       "Wears glasses    20\n",
       "dtype: int64"
      ]
     },
     "execution_count": 237,
     "metadata": {},
     "output_type": "execute_result"
    }
   ],
   "source": [
    "df.count()"
   ]
  },
  {
   "cell_type": "code",
   "execution_count": 238,
   "id": "a7b50e2c-634e-4cb1-9c86-06bc934c1ae2",
   "metadata": {
    "tags": []
   },
   "outputs": [
    {
     "data": {
      "text/plain": [
       "Index(['Name', 'Age', 'Sex', 'Height', 'Eye colour', 'Wears glasses'], dtype='object')"
      ]
     },
     "execution_count": 238,
     "metadata": {},
     "output_type": "execute_result"
    }
   ],
   "source": [
    "df.columns"
   ]
  },
  {
   "cell_type": "code",
   "execution_count": 239,
   "id": "cd9a9df5-da59-48c5-8f6e-af6959cc20cb",
   "metadata": {
    "tags": []
   },
   "outputs": [
    {
     "data": {
      "text/plain": [
       "Name              object\n",
       "Age                int64\n",
       "Sex               object\n",
       "Height           float64\n",
       "Eye colour        object\n",
       "Wears glasses     object\n",
       "dtype: object"
      ]
     },
     "execution_count": 239,
     "metadata": {},
     "output_type": "execute_result"
    }
   ],
   "source": [
    "df.dtypes"
   ]
  },
  {
   "cell_type": "code",
   "execution_count": 240,
   "id": "1ff188f5-6d99-4be8-aeb8-62aba3da2cdf",
   "metadata": {
    "tags": []
   },
   "outputs": [
    {
     "data": {
      "text/plain": [
       "Index             128\n",
       "Name             1241\n",
       "Age               160\n",
       "Sex              1236\n",
       "Height            160\n",
       "Eye colour       1229\n",
       "Wears glasses    1185\n",
       "dtype: int64"
      ]
     },
     "execution_count": 240,
     "metadata": {},
     "output_type": "execute_result"
    }
   ],
   "source": [
    "df.memory_usage(deep=True)"
   ]
  },
  {
   "cell_type": "code",
   "execution_count": 241,
   "id": "969ae4a7-3bc1-4828-a318-6e61eefc32e3",
   "metadata": {
    "tags": []
   },
   "outputs": [
    {
     "name": "stdout",
     "output_type": "stream",
     "text": [
      "<class 'pandas.core.frame.DataFrame'>\n",
      "RangeIndex: 20 entries, 0 to 19\n",
      "Data columns (total 6 columns):\n",
      " #   Column         Non-Null Count  Dtype  \n",
      "---  ------         --------------  -----  \n",
      " 0   Name           20 non-null     object \n",
      " 1   Age            20 non-null     int64  \n",
      " 2   Sex            20 non-null     object \n",
      " 3   Height         20 non-null     float64\n",
      " 4   Eye colour     20 non-null     object \n",
      " 5   Wears glasses  20 non-null     object \n",
      "dtypes: float64(1), int64(1), object(4)\n",
      "memory usage: 1.1+ KB\n"
     ]
    }
   ],
   "source": [
    "df.info()"
   ]
  },
  {
   "cell_type": "markdown",
   "id": "42562dc7-a3d9-4f04-890e-97f88f003977",
   "metadata": {
    "tags": []
   },
   "source": [
    "### Memory optimisation"
   ]
  },
  {
   "cell_type": "code",
   "execution_count": 242,
   "id": "7859807c-e750-4dac-ae91-7b8a76de1206",
   "metadata": {
    "tags": []
   },
   "outputs": [
    {
     "data": {
      "text/plain": [
       "Index             128\n",
       "Name             1241\n",
       "Age               160\n",
       "Sex              1236\n",
       "Height            160\n",
       "Eye colour       1229\n",
       "Wears glasses    1185\n",
       "dtype: int64"
      ]
     },
     "execution_count": 242,
     "metadata": {},
     "output_type": "execute_result"
    }
   ],
   "source": [
    "df.memory_usage(deep=True)"
   ]
  },
  {
   "cell_type": "code",
   "execution_count": 243,
   "id": "279fe9dc-6630-4663-acaf-bb30865a40a5",
   "metadata": {
    "tags": []
   },
   "outputs": [
    {
     "data": {
      "text/plain": [
       "array(['blue', 'green', 'brown', 'grey'], dtype=object)"
      ]
     },
     "execution_count": 243,
     "metadata": {},
     "output_type": "execute_result"
    }
   ],
   "source": [
    "df['Eye colour'].unique()"
   ]
  },
  {
   "cell_type": "code",
   "execution_count": 244,
   "id": "d1527580-3e2a-41aa-88a3-570aaa97bc7a",
   "metadata": {
    "tags": []
   },
   "outputs": [
    {
     "data": {
      "text/plain": [
       "Eye colour\n",
       "blue     8\n",
       "brown    8\n",
       "grey     3\n",
       "green    1\n",
       "Name: count, dtype: int64"
      ]
     },
     "execution_count": 244,
     "metadata": {},
     "output_type": "execute_result"
    }
   ],
   "source": [
    "df['Eye colour'].value_counts() # Try with other columns"
   ]
  },
  {
   "cell_type": "code",
   "execution_count": 245,
   "id": "0535cac4-b295-4f43-ba73-05e6ee561bee",
   "metadata": {
    "tags": []
   },
   "outputs": [
    {
     "data": {
      "text/plain": [
       "Index             128\n",
       "Name             1241\n",
       "Age               160\n",
       "Sex              1236\n",
       "Height            160\n",
       "Eye colour       1229\n",
       "Wears glasses    1185\n",
       "Sex_cat           252\n",
       "dtype: int64"
      ]
     },
     "execution_count": 245,
     "metadata": {},
     "output_type": "execute_result"
    }
   ],
   "source": [
    "df['Sex_cat'] = df['Sex'].astype('category')\n",
    "df.memory_usage(deep=True)"
   ]
  },
  {
   "cell_type": "code",
   "execution_count": 246,
   "id": "ded5def8-ec5f-4dbf-b665-44d27687d441",
   "metadata": {
    "tags": []
   },
   "outputs": [
    {
     "data": {
      "text/plain": [
       "Index             128\n",
       "Name             1241\n",
       "Age               160\n",
       "Sex               252\n",
       "Height            160\n",
       "Eye colour        438\n",
       "Wears glasses      20\n",
       "dtype: int64"
      ]
     },
     "execution_count": 246,
     "metadata": {},
     "output_type": "execute_result"
    }
   ],
   "source": [
    "df = df.drop(columns=['Sex_cat'])\n",
    "df['Sex'] = df['Sex'].astype('category')\n",
    "df['Eye colour'] = df['Eye colour'].astype('category')\n",
    "df[\"Wears glasses\"] = df[\"Wears glasses\"].map({\"yes\": True, \"no\": False})\n",
    "df.memory_usage(deep=True)"
   ]
  },
  {
   "cell_type": "code",
   "execution_count": 279,
   "id": "f0ef973d-8ccb-46a6-86ca-c9231a466342",
   "metadata": {
    "tags": []
   },
   "outputs": [
    {
     "name": "stdout",
     "output_type": "stream",
     "text": [
      "<class 'pandas.core.frame.DataFrame'>\n",
      "RangeIndex: 20 entries, 0 to 19\n",
      "Data columns (total 6 columns):\n",
      " #   Column         Non-Null Count  Dtype   \n",
      "---  ------         --------------  -----   \n",
      " 0   Name           20 non-null     object  \n",
      " 1   Age            20 non-null     int64   \n",
      " 2   Sex            20 non-null     category\n",
      " 3   Height         20 non-null     float64 \n",
      " 4   Eye colour     20 non-null     category\n",
      " 5   Wears glasses  20 non-null     bool    \n",
      "dtypes: bool(1), category(2), float64(1), int64(1), object(1)\n",
      "memory usage: 996.0+ bytes\n"
     ]
    }
   ],
   "source": [
    "df.info()"
   ]
  },
  {
   "cell_type": "code",
   "execution_count": 248,
   "id": "68dd4736-ed33-45d2-8e6f-c9dbd56ea735",
   "metadata": {
    "tags": []
   },
   "outputs": [
    {
     "data": {
      "text/html": [
       "<div>\n",
       "<style scoped>\n",
       "    .dataframe tbody tr th:only-of-type {\n",
       "        vertical-align: middle;\n",
       "    }\n",
       "\n",
       "    .dataframe tbody tr th {\n",
       "        vertical-align: top;\n",
       "    }\n",
       "\n",
       "    .dataframe thead th {\n",
       "        text-align: right;\n",
       "    }\n",
       "</style>\n",
       "<table border=\"1\" class=\"dataframe\">\n",
       "  <thead>\n",
       "    <tr style=\"text-align: right;\">\n",
       "      <th></th>\n",
       "      <th>Age</th>\n",
       "      <th>Height</th>\n",
       "    </tr>\n",
       "  </thead>\n",
       "  <tbody>\n",
       "    <tr>\n",
       "      <th>count</th>\n",
       "      <td>20.000000</td>\n",
       "      <td>20.000000</td>\n",
       "    </tr>\n",
       "    <tr>\n",
       "      <th>mean</th>\n",
       "      <td>9.350000</td>\n",
       "      <td>112.200000</td>\n",
       "    </tr>\n",
       "    <tr>\n",
       "      <th>std</th>\n",
       "      <td>3.869925</td>\n",
       "      <td>23.283945</td>\n",
       "    </tr>\n",
       "    <tr>\n",
       "      <th>min</th>\n",
       "      <td>2.000000</td>\n",
       "      <td>59.000000</td>\n",
       "    </tr>\n",
       "    <tr>\n",
       "      <th>25%</th>\n",
       "      <td>7.500000</td>\n",
       "      <td>104.750000</td>\n",
       "    </tr>\n",
       "    <tr>\n",
       "      <th>50%</th>\n",
       "      <td>9.500000</td>\n",
       "      <td>111.750000</td>\n",
       "    </tr>\n",
       "    <tr>\n",
       "      <th>75%</th>\n",
       "      <td>12.000000</td>\n",
       "      <td>124.000000</td>\n",
       "    </tr>\n",
       "    <tr>\n",
       "      <th>max</th>\n",
       "      <td>16.000000</td>\n",
       "      <td>158.000000</td>\n",
       "    </tr>\n",
       "  </tbody>\n",
       "</table>\n",
       "</div>"
      ],
      "text/plain": [
       "             Age      Height\n",
       "count  20.000000   20.000000\n",
       "mean    9.350000  112.200000\n",
       "std     3.869925   23.283945\n",
       "min     2.000000   59.000000\n",
       "25%     7.500000  104.750000\n",
       "50%     9.500000  111.750000\n",
       "75%    12.000000  124.000000\n",
       "max    16.000000  158.000000"
      ]
     },
     "execution_count": 248,
     "metadata": {},
     "output_type": "execute_result"
    }
   ],
   "source": [
    "df.describe() # add include='all' as argument"
   ]
  },
  {
   "cell_type": "markdown",
   "id": "c11eb36d-57c0-4aab-8e3f-785655bf1666",
   "metadata": {},
   "source": [
    "### Slicing"
   ]
  },
  {
   "cell_type": "code",
   "execution_count": 249,
   "id": "f1ae0872-3e29-411d-abf5-402979e856f5",
   "metadata": {},
   "outputs": [
    {
     "data": {
      "text/plain": [
       "0         Bob\n",
       "1       Simon\n",
       "2       Clare\n",
       "3        Jose\n",
       "4      Hannah\n",
       "5        Ryan\n",
       "6       Craig\n",
       "7        Suzy\n",
       "8       Chris\n",
       "9       Josie\n",
       "10     Claire\n",
       "11       John\n",
       "12      Agnes\n",
       "13     Robert\n",
       "14      Julia\n",
       "15     Fabian\n",
       "16     Joseph\n",
       "17    Roberta\n",
       "18      Chris\n",
       "19      Lucas\n",
       "Name: Name, dtype: object"
      ]
     },
     "execution_count": 249,
     "metadata": {},
     "output_type": "execute_result"
    }
   ],
   "source": [
    "names = df['Name']\n",
    "names"
   ]
  },
  {
   "cell_type": "code",
   "execution_count": 250,
   "id": "ebdde422-9d9c-43fc-894e-daf6aa2eb8e7",
   "metadata": {
    "tags": []
   },
   "outputs": [
    {
     "data": {
      "text/plain": [
       "'Bob'"
      ]
     },
     "execution_count": 250,
     "metadata": {},
     "output_type": "execute_result"
    }
   ],
   "source": [
    "names[0]"
   ]
  },
  {
   "cell_type": "code",
   "execution_count": 251,
   "id": "b102b167-9e23-4bff-8cae-fbe67ac0a90d",
   "metadata": {
    "tags": []
   },
   "outputs": [
    {
     "data": {
      "text/plain": [
       "0      Bob\n",
       "1    Simon\n",
       "2    Clare\n",
       "Name: Name, dtype: object"
      ]
     },
     "execution_count": 251,
     "metadata": {},
     "output_type": "execute_result"
    }
   ],
   "source": [
    "names[0:3] # Trick for reading: start from 0, give me 3. This is a shortcut for names.iloc[0:3]"
   ]
  },
  {
   "cell_type": "code",
   "execution_count": 252,
   "id": "6a86eb74-a70b-4a73-9b89-3f0f733aa246",
   "metadata": {
    "tags": []
   },
   "outputs": [
    {
     "name": "stdout",
     "output_type": "stream",
     "text": [
      "Bob , Simon , Clare , Jose , Hannah , Ryan , Craig , Suzy , Chris , Josie , Claire , John , Agnes , Robert , Julia , Fabian , Joseph , Roberta , Chris , Lucas , "
     ]
    }
   ],
   "source": [
    "for name in names:\n",
    "    print(name, \", \", end=\"\")"
   ]
  },
  {
   "cell_type": "code",
   "execution_count": 253,
   "id": "a4a5087b-7e4f-4863-b7ff-66170395d716",
   "metadata": {},
   "outputs": [
    {
     "data": {
      "text/html": [
       "<div>\n",
       "<style scoped>\n",
       "    .dataframe tbody tr th:only-of-type {\n",
       "        vertical-align: middle;\n",
       "    }\n",
       "\n",
       "    .dataframe tbody tr th {\n",
       "        vertical-align: top;\n",
       "    }\n",
       "\n",
       "    .dataframe thead th {\n",
       "        text-align: right;\n",
       "    }\n",
       "</style>\n",
       "<table border=\"1\" class=\"dataframe\">\n",
       "  <thead>\n",
       "    <tr style=\"text-align: right;\">\n",
       "      <th></th>\n",
       "      <th>Name</th>\n",
       "      <th>Age</th>\n",
       "    </tr>\n",
       "  </thead>\n",
       "  <tbody>\n",
       "    <tr>\n",
       "      <th>0</th>\n",
       "      <td>Bob</td>\n",
       "      <td>12</td>\n",
       "    </tr>\n",
       "    <tr>\n",
       "      <th>1</th>\n",
       "      <td>Simon</td>\n",
       "      <td>13</td>\n",
       "    </tr>\n",
       "    <tr>\n",
       "      <th>2</th>\n",
       "      <td>Clare</td>\n",
       "      <td>15</td>\n",
       "    </tr>\n",
       "    <tr>\n",
       "      <th>3</th>\n",
       "      <td>Jose</td>\n",
       "      <td>11</td>\n",
       "    </tr>\n",
       "    <tr>\n",
       "      <th>4</th>\n",
       "      <td>Hannah</td>\n",
       "      <td>9</td>\n",
       "    </tr>\n",
       "    <tr>\n",
       "      <th>5</th>\n",
       "      <td>Ryan</td>\n",
       "      <td>11</td>\n",
       "    </tr>\n",
       "    <tr>\n",
       "      <th>6</th>\n",
       "      <td>Craig</td>\n",
       "      <td>12</td>\n",
       "    </tr>\n",
       "    <tr>\n",
       "      <th>7</th>\n",
       "      <td>Suzy</td>\n",
       "      <td>14</td>\n",
       "    </tr>\n",
       "    <tr>\n",
       "      <th>8</th>\n",
       "      <td>Chris</td>\n",
       "      <td>10</td>\n",
       "    </tr>\n",
       "    <tr>\n",
       "      <th>9</th>\n",
       "      <td>Josie</td>\n",
       "      <td>8</td>\n",
       "    </tr>\n",
       "    <tr>\n",
       "      <th>10</th>\n",
       "      <td>Claire</td>\n",
       "      <td>16</td>\n",
       "    </tr>\n",
       "    <tr>\n",
       "      <th>11</th>\n",
       "      <td>John</td>\n",
       "      <td>5</td>\n",
       "    </tr>\n",
       "    <tr>\n",
       "      <th>12</th>\n",
       "      <td>Agnes</td>\n",
       "      <td>6</td>\n",
       "    </tr>\n",
       "    <tr>\n",
       "      <th>13</th>\n",
       "      <td>Robert</td>\n",
       "      <td>8</td>\n",
       "    </tr>\n",
       "    <tr>\n",
       "      <th>14</th>\n",
       "      <td>Julia</td>\n",
       "      <td>3</td>\n",
       "    </tr>\n",
       "    <tr>\n",
       "      <th>15</th>\n",
       "      <td>Fabian</td>\n",
       "      <td>5</td>\n",
       "    </tr>\n",
       "    <tr>\n",
       "      <th>16</th>\n",
       "      <td>Joseph</td>\n",
       "      <td>8</td>\n",
       "    </tr>\n",
       "    <tr>\n",
       "      <th>17</th>\n",
       "      <td>Roberta</td>\n",
       "      <td>11</td>\n",
       "    </tr>\n",
       "    <tr>\n",
       "      <th>18</th>\n",
       "      <td>Chris</td>\n",
       "      <td>8</td>\n",
       "    </tr>\n",
       "    <tr>\n",
       "      <th>19</th>\n",
       "      <td>Lucas</td>\n",
       "      <td>2</td>\n",
       "    </tr>\n",
       "  </tbody>\n",
       "</table>\n",
       "</div>"
      ],
      "text/plain": [
       "       Name  Age\n",
       "0       Bob   12\n",
       "1     Simon   13\n",
       "2     Clare   15\n",
       "3      Jose   11\n",
       "4    Hannah    9\n",
       "5      Ryan   11\n",
       "6     Craig   12\n",
       "7      Suzy   14\n",
       "8     Chris   10\n",
       "9     Josie    8\n",
       "10   Claire   16\n",
       "11     John    5\n",
       "12    Agnes    6\n",
       "13   Robert    8\n",
       "14    Julia    3\n",
       "15   Fabian    5\n",
       "16   Joseph    8\n",
       "17  Roberta   11\n",
       "18    Chris    8\n",
       "19    Lucas    2"
      ]
     },
     "execution_count": 253,
     "metadata": {},
     "output_type": "execute_result"
    }
   ],
   "source": [
    "df[['Name', 'Age']] #add [0:5] for row selection. This is a shortcut for df.iloc[0:5, [True, True, False, False, False, False]]"
   ]
  },
  {
   "cell_type": "code",
   "execution_count": 254,
   "id": "e44026ab-be05-42f1-9637-a2ab0e925f7e",
   "metadata": {},
   "outputs": [
    {
     "data": {
      "text/html": [
       "<div>\n",
       "<style scoped>\n",
       "    .dataframe tbody tr th:only-of-type {\n",
       "        vertical-align: middle;\n",
       "    }\n",
       "\n",
       "    .dataframe tbody tr th {\n",
       "        vertical-align: top;\n",
       "    }\n",
       "\n",
       "    .dataframe thead th {\n",
       "        text-align: right;\n",
       "    }\n",
       "</style>\n",
       "<table border=\"1\" class=\"dataframe\">\n",
       "  <thead>\n",
       "    <tr style=\"text-align: right;\">\n",
       "      <th></th>\n",
       "      <th>Name</th>\n",
       "      <th>Age</th>\n",
       "    </tr>\n",
       "  </thead>\n",
       "  <tbody>\n",
       "    <tr>\n",
       "      <th>0</th>\n",
       "      <td>Bob</td>\n",
       "      <td>12</td>\n",
       "    </tr>\n",
       "    <tr>\n",
       "      <th>1</th>\n",
       "      <td>Simon</td>\n",
       "      <td>13</td>\n",
       "    </tr>\n",
       "    <tr>\n",
       "      <th>2</th>\n",
       "      <td>Clare</td>\n",
       "      <td>15</td>\n",
       "    </tr>\n",
       "    <tr>\n",
       "      <th>3</th>\n",
       "      <td>Jose</td>\n",
       "      <td>11</td>\n",
       "    </tr>\n",
       "    <tr>\n",
       "      <th>4</th>\n",
       "      <td>Hannah</td>\n",
       "      <td>9</td>\n",
       "    </tr>\n",
       "    <tr>\n",
       "      <th>5</th>\n",
       "      <td>Ryan</td>\n",
       "      <td>11</td>\n",
       "    </tr>\n",
       "  </tbody>\n",
       "</table>\n",
       "</div>"
      ],
      "text/plain": [
       "     Name  Age\n",
       "0     Bob   12\n",
       "1   Simon   13\n",
       "2   Clare   15\n",
       "3    Jose   11\n",
       "4  Hannah    9\n",
       "5    Ryan   11"
      ]
     },
     "execution_count": 254,
     "metadata": {},
     "output_type": "execute_result"
    }
   ],
   "source": [
    "df.loc[0:5, ['Name','Age']]"
   ]
  },
  {
   "cell_type": "code",
   "execution_count": 255,
   "id": "3d877391-e907-4c6c-b60b-9d0ae7e72c5f",
   "metadata": {
    "tags": []
   },
   "outputs": [
    {
     "data": {
      "text/html": [
       "<div>\n",
       "<style scoped>\n",
       "    .dataframe tbody tr th:only-of-type {\n",
       "        vertical-align: middle;\n",
       "    }\n",
       "\n",
       "    .dataframe tbody tr th {\n",
       "        vertical-align: top;\n",
       "    }\n",
       "\n",
       "    .dataframe thead th {\n",
       "        text-align: right;\n",
       "    }\n",
       "</style>\n",
       "<table border=\"1\" class=\"dataframe\">\n",
       "  <thead>\n",
       "    <tr style=\"text-align: right;\">\n",
       "      <th></th>\n",
       "      <th>Name</th>\n",
       "      <th>Age</th>\n",
       "      <th>Sex</th>\n",
       "      <th>Height</th>\n",
       "      <th>Eye colour</th>\n",
       "      <th>Wears glasses</th>\n",
       "    </tr>\n",
       "  </thead>\n",
       "  <tbody>\n",
       "    <tr>\n",
       "      <th>0</th>\n",
       "      <td>Bob</td>\n",
       "      <td>12</td>\n",
       "      <td>Male</td>\n",
       "      <td>130.0</td>\n",
       "      <td>blue</td>\n",
       "      <td>True</td>\n",
       "    </tr>\n",
       "    <tr>\n",
       "      <th>1</th>\n",
       "      <td>Simon</td>\n",
       "      <td>13</td>\n",
       "      <td>Male</td>\n",
       "      <td>120.0</td>\n",
       "      <td>blue</td>\n",
       "      <td>False</td>\n",
       "    </tr>\n",
       "    <tr>\n",
       "      <th>2</th>\n",
       "      <td>Clare</td>\n",
       "      <td>15</td>\n",
       "      <td>Female</td>\n",
       "      <td>142.5</td>\n",
       "      <td>green</td>\n",
       "      <td>False</td>\n",
       "    </tr>\n",
       "    <tr>\n",
       "      <th>3</th>\n",
       "      <td>Jose</td>\n",
       "      <td>11</td>\n",
       "      <td>Male</td>\n",
       "      <td>117.0</td>\n",
       "      <td>brown</td>\n",
       "      <td>False</td>\n",
       "    </tr>\n",
       "    <tr>\n",
       "      <th>4</th>\n",
       "      <td>Hannah</td>\n",
       "      <td>9</td>\n",
       "      <td>Female</td>\n",
       "      <td>111.0</td>\n",
       "      <td>blue</td>\n",
       "      <td>True</td>\n",
       "    </tr>\n",
       "    <tr>\n",
       "      <th>5</th>\n",
       "      <td>Ryan</td>\n",
       "      <td>11</td>\n",
       "      <td>Male</td>\n",
       "      <td>124.0</td>\n",
       "      <td>brown</td>\n",
       "      <td>False</td>\n",
       "    </tr>\n",
       "  </tbody>\n",
       "</table>\n",
       "</div>"
      ],
      "text/plain": [
       "     Name  Age     Sex  Height Eye colour  Wears glasses\n",
       "0     Bob   12    Male   130.0       blue           True\n",
       "1   Simon   13    Male   120.0       blue          False\n",
       "2   Clare   15  Female   142.5      green          False\n",
       "3    Jose   11    Male   117.0      brown          False\n",
       "4  Hannah    9  Female   111.0       blue           True\n",
       "5    Ryan   11    Male   124.0      brown          False"
      ]
     },
     "execution_count": 255,
     "metadata": {},
     "output_type": "execute_result"
    }
   ],
   "source": [
    "df.loc[0:5]"
   ]
  },
  {
   "cell_type": "code",
   "execution_count": 256,
   "id": "9010f16d-5e1a-4c84-a800-0a9824d5dbcb",
   "metadata": {
    "tags": []
   },
   "outputs": [
    {
     "data": {
      "text/plain": [
       "0         Bob\n",
       "1       Simon\n",
       "2       Clare\n",
       "3        Jose\n",
       "4      Hannah\n",
       "5        Ryan\n",
       "6       Craig\n",
       "7        Suzy\n",
       "8       Chris\n",
       "9       Josie\n",
       "10     Claire\n",
       "11       John\n",
       "12      Agnes\n",
       "13     Robert\n",
       "14      Julia\n",
       "15     Fabian\n",
       "16     Joseph\n",
       "17    Roberta\n",
       "18      Chris\n",
       "19      Lucas\n",
       "Name: Name, dtype: object"
      ]
     },
     "execution_count": 256,
     "metadata": {},
     "output_type": "execute_result"
    }
   ],
   "source": [
    "df.loc[:, 'Name']"
   ]
  },
  {
   "cell_type": "code",
   "execution_count": 257,
   "id": "ee075448-1347-4c6a-a390-118ba52a7b13",
   "metadata": {
    "tags": []
   },
   "outputs": [
    {
     "data": {
      "text/plain": [
       "Name               Bob\n",
       "Age                 12\n",
       "Sex               Male\n",
       "Height           130.0\n",
       "Eye colour        blue\n",
       "Wears glasses     True\n",
       "Name: 0, dtype: object"
      ]
     },
     "execution_count": 257,
     "metadata": {},
     "output_type": "execute_result"
    }
   ],
   "source": [
    "df.loc[0]"
   ]
  },
  {
   "cell_type": "code",
   "execution_count": 258,
   "id": "32861cca-48db-4e4f-9409-e7d115293091",
   "metadata": {
    "tags": []
   },
   "outputs": [
    {
     "data": {
      "text/html": [
       "<div>\n",
       "<style scoped>\n",
       "    .dataframe tbody tr th:only-of-type {\n",
       "        vertical-align: middle;\n",
       "    }\n",
       "\n",
       "    .dataframe tbody tr th {\n",
       "        vertical-align: top;\n",
       "    }\n",
       "\n",
       "    .dataframe thead th {\n",
       "        text-align: right;\n",
       "    }\n",
       "</style>\n",
       "<table border=\"1\" class=\"dataframe\">\n",
       "  <thead>\n",
       "    <tr style=\"text-align: right;\">\n",
       "      <th></th>\n",
       "      <th>Name</th>\n",
       "      <th>Age</th>\n",
       "      <th>Sex</th>\n",
       "      <th>Height</th>\n",
       "      <th>Eye colour</th>\n",
       "      <th>Wears glasses</th>\n",
       "    </tr>\n",
       "  </thead>\n",
       "  <tbody>\n",
       "    <tr>\n",
       "      <th>1</th>\n",
       "      <td>Simon</td>\n",
       "      <td>13</td>\n",
       "      <td>Male</td>\n",
       "      <td>120.0</td>\n",
       "      <td>blue</td>\n",
       "      <td>False</td>\n",
       "    </tr>\n",
       "    <tr>\n",
       "      <th>3</th>\n",
       "      <td>Jose</td>\n",
       "      <td>11</td>\n",
       "      <td>Male</td>\n",
       "      <td>117.0</td>\n",
       "      <td>brown</td>\n",
       "      <td>False</td>\n",
       "    </tr>\n",
       "    <tr>\n",
       "      <th>5</th>\n",
       "      <td>Ryan</td>\n",
       "      <td>11</td>\n",
       "      <td>Male</td>\n",
       "      <td>124.0</td>\n",
       "      <td>brown</td>\n",
       "      <td>False</td>\n",
       "    </tr>\n",
       "    <tr>\n",
       "      <th>7</th>\n",
       "      <td>Suzy</td>\n",
       "      <td>14</td>\n",
       "      <td>Female</td>\n",
       "      <td>137.0</td>\n",
       "      <td>grey</td>\n",
       "      <td>True</td>\n",
       "    </tr>\n",
       "  </tbody>\n",
       "</table>\n",
       "</div>"
      ],
      "text/plain": [
       "    Name  Age     Sex  Height Eye colour  Wears glasses\n",
       "1  Simon   13    Male   120.0       blue          False\n",
       "3   Jose   11    Male   117.0      brown          False\n",
       "5   Ryan   11    Male   124.0      brown          False\n",
       "7   Suzy   14  Female   137.0       grey           True"
      ]
     },
     "execution_count": 258,
     "metadata": {},
     "output_type": "execute_result"
    }
   ],
   "source": [
    "df.loc[[1,3,5,7]] #add [\"Height\", \"Wears glasses\"] to select columns. Same as df.iloc[[1,3,5,7], [False, False, False, True, False, True]]"
   ]
  },
  {
   "cell_type": "markdown",
   "id": "a1401608-82d5-47ba-b06f-b2cfd0a92d02",
   "metadata": {
    "tags": []
   },
   "source": [
    "### Filtering (conditionals)"
   ]
  },
  {
   "cell_type": "markdown",
   "id": "b6911550-d2c2-4ef2-9ff1-49792fe1e67c",
   "metadata": {},
   "source": [
    "a statement that is either true or false\n",
    "- a == b : true if a is equal to b\n",
    "- a != b : true if a is not equal to b\n",
    "- a > b : true if a is greater than b\n",
    "- a >= b : true if a is greater than or equal to b\n",
    "- a < b : true if a is less than b\n",
    "- a <= b : true if a is less than or equal to b\n",
    "\n",
    "they can be combined\n",
    "- a & b : true if a and b are both true, otherwise false\n",
    "- a | b : true if a or b is true, otherwise false\n",
    "\n",
    "if a is a pandas Series, the result is a Boolean Series\n",
    "- with a True or False result for each row\n",
    "- which can be used by loc to select data"
   ]
  },
  {
   "cell_type": "code",
   "execution_count": 259,
   "id": "6e10db7d-0feb-43ac-8560-7e493c45041f",
   "metadata": {
    "tags": []
   },
   "outputs": [
    {
     "data": {
      "text/plain": [
       "0      True\n",
       "1      True\n",
       "2      True\n",
       "3      True\n",
       "4     False\n",
       "5      True\n",
       "6      True\n",
       "7      True\n",
       "8      True\n",
       "9     False\n",
       "10     True\n",
       "11    False\n",
       "12    False\n",
       "13    False\n",
       "14    False\n",
       "15    False\n",
       "16    False\n",
       "17     True\n",
       "18    False\n",
       "19    False\n",
       "Name: Age, dtype: bool"
      ]
     },
     "execution_count": 259,
     "metadata": {},
     "output_type": "execute_result"
    }
   ],
   "source": [
    "df['Age'] > 9"
   ]
  },
  {
   "cell_type": "code",
   "execution_count": 260,
   "id": "5e5c8b99-2d8c-4ed3-9b7e-c0f51c292170",
   "metadata": {
    "tags": []
   },
   "outputs": [
    {
     "data": {
      "text/html": [
       "<div>\n",
       "<style scoped>\n",
       "    .dataframe tbody tr th:only-of-type {\n",
       "        vertical-align: middle;\n",
       "    }\n",
       "\n",
       "    .dataframe tbody tr th {\n",
       "        vertical-align: top;\n",
       "    }\n",
       "\n",
       "    .dataframe thead th {\n",
       "        text-align: right;\n",
       "    }\n",
       "</style>\n",
       "<table border=\"1\" class=\"dataframe\">\n",
       "  <thead>\n",
       "    <tr style=\"text-align: right;\">\n",
       "      <th></th>\n",
       "      <th>Name</th>\n",
       "      <th>Age</th>\n",
       "      <th>Sex</th>\n",
       "      <th>Height</th>\n",
       "      <th>Eye colour</th>\n",
       "      <th>Wears glasses</th>\n",
       "    </tr>\n",
       "  </thead>\n",
       "  <tbody>\n",
       "    <tr>\n",
       "      <th>0</th>\n",
       "      <td>Bob</td>\n",
       "      <td>12</td>\n",
       "      <td>Male</td>\n",
       "      <td>130.0</td>\n",
       "      <td>blue</td>\n",
       "      <td>True</td>\n",
       "    </tr>\n",
       "    <tr>\n",
       "      <th>1</th>\n",
       "      <td>Simon</td>\n",
       "      <td>13</td>\n",
       "      <td>Male</td>\n",
       "      <td>120.0</td>\n",
       "      <td>blue</td>\n",
       "      <td>False</td>\n",
       "    </tr>\n",
       "    <tr>\n",
       "      <th>2</th>\n",
       "      <td>Clare</td>\n",
       "      <td>15</td>\n",
       "      <td>Female</td>\n",
       "      <td>142.5</td>\n",
       "      <td>green</td>\n",
       "      <td>False</td>\n",
       "    </tr>\n",
       "    <tr>\n",
       "      <th>3</th>\n",
       "      <td>Jose</td>\n",
       "      <td>11</td>\n",
       "      <td>Male</td>\n",
       "      <td>117.0</td>\n",
       "      <td>brown</td>\n",
       "      <td>False</td>\n",
       "    </tr>\n",
       "    <tr>\n",
       "      <th>5</th>\n",
       "      <td>Ryan</td>\n",
       "      <td>11</td>\n",
       "      <td>Male</td>\n",
       "      <td>124.0</td>\n",
       "      <td>brown</td>\n",
       "      <td>False</td>\n",
       "    </tr>\n",
       "    <tr>\n",
       "      <th>6</th>\n",
       "      <td>Craig</td>\n",
       "      <td>12</td>\n",
       "      <td>Male</td>\n",
       "      <td>124.0</td>\n",
       "      <td>brown</td>\n",
       "      <td>False</td>\n",
       "    </tr>\n",
       "    <tr>\n",
       "      <th>7</th>\n",
       "      <td>Suzy</td>\n",
       "      <td>14</td>\n",
       "      <td>Female</td>\n",
       "      <td>137.0</td>\n",
       "      <td>grey</td>\n",
       "      <td>True</td>\n",
       "    </tr>\n",
       "    <tr>\n",
       "      <th>8</th>\n",
       "      <td>Chris</td>\n",
       "      <td>10</td>\n",
       "      <td>Male</td>\n",
       "      <td>112.5</td>\n",
       "      <td>brown</td>\n",
       "      <td>False</td>\n",
       "    </tr>\n",
       "    <tr>\n",
       "      <th>10</th>\n",
       "      <td>Claire</td>\n",
       "      <td>16</td>\n",
       "      <td>Female</td>\n",
       "      <td>158.0</td>\n",
       "      <td>blue</td>\n",
       "      <td>False</td>\n",
       "    </tr>\n",
       "    <tr>\n",
       "      <th>17</th>\n",
       "      <td>Roberta</td>\n",
       "      <td>11</td>\n",
       "      <td>Female</td>\n",
       "      <td>121.0</td>\n",
       "      <td>grey</td>\n",
       "      <td>False</td>\n",
       "    </tr>\n",
       "  </tbody>\n",
       "</table>\n",
       "</div>"
      ],
      "text/plain": [
       "       Name  Age     Sex  Height Eye colour  Wears glasses\n",
       "0       Bob   12    Male   130.0       blue           True\n",
       "1     Simon   13    Male   120.0       blue          False\n",
       "2     Clare   15  Female   142.5      green          False\n",
       "3      Jose   11    Male   117.0      brown          False\n",
       "5      Ryan   11    Male   124.0      brown          False\n",
       "6     Craig   12    Male   124.0      brown          False\n",
       "7      Suzy   14  Female   137.0       grey           True\n",
       "8     Chris   10    Male   112.5      brown          False\n",
       "10   Claire   16  Female   158.0       blue          False\n",
       "17  Roberta   11  Female   121.0       grey          False"
      ]
     },
     "execution_count": 260,
     "metadata": {},
     "output_type": "execute_result"
    }
   ],
   "source": [
    "df.loc[df['Age'] > 9]"
   ]
  },
  {
   "cell_type": "code",
   "execution_count": 261,
   "id": "335c6798-7496-4b53-8226-fe20b4fcdf3a",
   "metadata": {
    "tags": []
   },
   "outputs": [
    {
     "data": {
      "text/html": [
       "<div>\n",
       "<style scoped>\n",
       "    .dataframe tbody tr th:only-of-type {\n",
       "        vertical-align: middle;\n",
       "    }\n",
       "\n",
       "    .dataframe tbody tr th {\n",
       "        vertical-align: top;\n",
       "    }\n",
       "\n",
       "    .dataframe thead th {\n",
       "        text-align: right;\n",
       "    }\n",
       "</style>\n",
       "<table border=\"1\" class=\"dataframe\">\n",
       "  <thead>\n",
       "    <tr style=\"text-align: right;\">\n",
       "      <th></th>\n",
       "      <th>Name</th>\n",
       "      <th>Age</th>\n",
       "      <th>Sex</th>\n",
       "      <th>Height</th>\n",
       "      <th>Eye colour</th>\n",
       "      <th>Wears glasses</th>\n",
       "    </tr>\n",
       "  </thead>\n",
       "  <tbody>\n",
       "  </tbody>\n",
       "</table>\n",
       "</div>"
      ],
      "text/plain": [
       "Empty DataFrame\n",
       "Columns: [Name, Age, Sex, Height, Eye colour, Wears glasses]\n",
       "Index: []"
      ]
     },
     "execution_count": 261,
     "metadata": {},
     "output_type": "execute_result"
    }
   ],
   "source": [
    "df.loc[df['Wears glasses'] == 'yes']"
   ]
  },
  {
   "cell_type": "code",
   "execution_count": 262,
   "id": "6247055e-457d-4192-8781-479b91eacc40",
   "metadata": {
    "tags": []
   },
   "outputs": [
    {
     "data": {
      "text/html": [
       "<div>\n",
       "<style scoped>\n",
       "    .dataframe tbody tr th:only-of-type {\n",
       "        vertical-align: middle;\n",
       "    }\n",
       "\n",
       "    .dataframe tbody tr th {\n",
       "        vertical-align: top;\n",
       "    }\n",
       "\n",
       "    .dataframe thead th {\n",
       "        text-align: right;\n",
       "    }\n",
       "</style>\n",
       "<table border=\"1\" class=\"dataframe\">\n",
       "  <thead>\n",
       "    <tr style=\"text-align: right;\">\n",
       "      <th></th>\n",
       "      <th>Name</th>\n",
       "      <th>Age</th>\n",
       "      <th>Sex</th>\n",
       "      <th>Height</th>\n",
       "      <th>Eye colour</th>\n",
       "      <th>Wears glasses</th>\n",
       "    </tr>\n",
       "  </thead>\n",
       "  <tbody>\n",
       "    <tr>\n",
       "      <th>0</th>\n",
       "      <td>Bob</td>\n",
       "      <td>12</td>\n",
       "      <td>Male</td>\n",
       "      <td>130.0</td>\n",
       "      <td>blue</td>\n",
       "      <td>True</td>\n",
       "    </tr>\n",
       "    <tr>\n",
       "      <th>1</th>\n",
       "      <td>Simon</td>\n",
       "      <td>13</td>\n",
       "      <td>Male</td>\n",
       "      <td>120.0</td>\n",
       "      <td>blue</td>\n",
       "      <td>False</td>\n",
       "    </tr>\n",
       "    <tr>\n",
       "      <th>10</th>\n",
       "      <td>Claire</td>\n",
       "      <td>16</td>\n",
       "      <td>Female</td>\n",
       "      <td>158.0</td>\n",
       "      <td>blue</td>\n",
       "      <td>False</td>\n",
       "    </tr>\n",
       "  </tbody>\n",
       "</table>\n",
       "</div>"
      ],
      "text/plain": [
       "      Name  Age     Sex  Height Eye colour  Wears glasses\n",
       "0      Bob   12    Male   130.0       blue           True\n",
       "1    Simon   13    Male   120.0       blue          False\n",
       "10  Claire   16  Female   158.0       blue          False"
      ]
     },
     "execution_count": 262,
     "metadata": {},
     "output_type": "execute_result"
    }
   ],
   "source": [
    "df.loc[(df[\"Age\"] > 9) & (df[\"Eye colour\"] == \"blue\")]"
   ]
  },
  {
   "cell_type": "code",
   "execution_count": 263,
   "id": "c5442a88-88d8-40bc-9eb1-87ef19660987",
   "metadata": {
    "tags": []
   },
   "outputs": [
    {
     "data": {
      "text/html": [
       "<div>\n",
       "<style scoped>\n",
       "    .dataframe tbody tr th:only-of-type {\n",
       "        vertical-align: middle;\n",
       "    }\n",
       "\n",
       "    .dataframe tbody tr th {\n",
       "        vertical-align: top;\n",
       "    }\n",
       "\n",
       "    .dataframe thead th {\n",
       "        text-align: right;\n",
       "    }\n",
       "</style>\n",
       "<table border=\"1\" class=\"dataframe\">\n",
       "  <thead>\n",
       "    <tr style=\"text-align: right;\">\n",
       "      <th></th>\n",
       "      <th>Name</th>\n",
       "      <th>Age</th>\n",
       "      <th>Sex</th>\n",
       "      <th>Height</th>\n",
       "      <th>Eye colour</th>\n",
       "      <th>Wears glasses</th>\n",
       "    </tr>\n",
       "  </thead>\n",
       "  <tbody>\n",
       "    <tr>\n",
       "      <th>11</th>\n",
       "      <td>John</td>\n",
       "      <td>5</td>\n",
       "      <td>Male</td>\n",
       "      <td>97.0</td>\n",
       "      <td>grey</td>\n",
       "      <td>False</td>\n",
       "    </tr>\n",
       "    <tr>\n",
       "      <th>12</th>\n",
       "      <td>Agnes</td>\n",
       "      <td>6</td>\n",
       "      <td>Female</td>\n",
       "      <td>98.0</td>\n",
       "      <td>blue</td>\n",
       "      <td>True</td>\n",
       "    </tr>\n",
       "    <tr>\n",
       "      <th>14</th>\n",
       "      <td>Julia</td>\n",
       "      <td>3</td>\n",
       "      <td>Female</td>\n",
       "      <td>63.0</td>\n",
       "      <td>blue</td>\n",
       "      <td>False</td>\n",
       "    </tr>\n",
       "    <tr>\n",
       "      <th>15</th>\n",
       "      <td>Fabian</td>\n",
       "      <td>5</td>\n",
       "      <td>Male</td>\n",
       "      <td>101.0</td>\n",
       "      <td>blue</td>\n",
       "      <td>False</td>\n",
       "    </tr>\n",
       "    <tr>\n",
       "      <th>19</th>\n",
       "      <td>Lucas</td>\n",
       "      <td>2</td>\n",
       "      <td>Male</td>\n",
       "      <td>59.0</td>\n",
       "      <td>blue</td>\n",
       "      <td>False</td>\n",
       "    </tr>\n",
       "  </tbody>\n",
       "</table>\n",
       "</div>"
      ],
      "text/plain": [
       "      Name  Age     Sex  Height Eye colour  Wears glasses\n",
       "11    John    5    Male    97.0       grey          False\n",
       "12   Agnes    6  Female    98.0       blue           True\n",
       "14   Julia    3  Female    63.0       blue          False\n",
       "15  Fabian    5    Male   101.0       blue          False\n",
       "19   Lucas    2    Male    59.0       blue          False"
      ]
     },
     "execution_count": 263,
     "metadata": {},
     "output_type": "execute_result"
    }
   ],
   "source": [
    "df.loc[(df[\"Age\"] < 7) | (df[\"Wears glasses\"] == \"yes\")]"
   ]
  },
  {
   "cell_type": "code",
   "execution_count": 264,
   "id": "d9363559-48e6-4f1a-bd92-94ceb9e8b1f8",
   "metadata": {
    "tags": []
   },
   "outputs": [
    {
     "data": {
      "text/plain": [
       "<pandas.core.groupby.generic.DataFrameGroupBy object at 0x7f5f7b798dc0>"
      ]
     },
     "execution_count": 264,
     "metadata": {},
     "output_type": "execute_result"
    }
   ],
   "source": [
    "df.groupby([\"Sex\"])"
   ]
  },
  {
   "cell_type": "markdown",
   "id": "b32d71a8-280e-489d-9aa0-de6e6bdb5be2",
   "metadata": {
    "tags": []
   },
   "source": [
    "### Visualisation"
   ]
  },
  {
   "cell_type": "code",
   "execution_count": 265,
   "id": "36e974b4-0853-4db6-85a7-65b093fac6bb",
   "metadata": {
    "tags": []
   },
   "outputs": [
    {
     "data": {
      "text/plain": [
       "<Axes: >"
      ]
     },
     "execution_count": 265,
     "metadata": {},
     "output_type": "execute_result"
    },
    {
     "data": {
      "image/png": "[encoded data removed]",
      "text/plain": [
       "<Figure size 640x480 with 1 Axes>"
      ]
     },
     "metadata": {},
     "output_type": "display_data"
    }
   ],
   "source": [
    "df['Height'].hist() # Try with other columns"
   ]
  },
  {
   "cell_type": "code",
   "execution_count": 266,
   "id": "ae82850c-4a58-4f24-b979-aa16beba670c",
   "metadata": {
    "tags": []
   },
   "outputs": [
    {
     "data": {
      "text/plain": [
       "<Axes: >"
      ]
     },
     "execution_count": 266,
     "metadata": {},
     "output_type": "execute_result"
    },
    {
     "data": {
      "image/png": "[encoded data removed]",
      "text/plain": [
       "<Figure size 640x480 with 1 Axes>"
      ]
     },
     "metadata": {},
     "output_type": "display_data"
    }
   ],
   "source": [
    "df['Eye colour'].hist() # same as df['Eye colour'].value_counts().plot.bar()"
   ]
  },
  {
   "cell_type": "code",
   "execution_count": 267,
   "id": "a47556f0-b8cc-4884-bb18-3f923f85dd47",
   "metadata": {
    "tags": []
   },
   "outputs": [
    {
     "data": {
      "text/plain": [
       "<Axes: xlabel='Age', ylabel='Height'>"
      ]
     },
     "execution_count": 267,
     "metadata": {},
     "output_type": "execute_result"
    },
    {
     "data": {
      "image/png": "[encoded data removed]",
      "text/plain": [
       "<Figure size 640x480 with 1 Axes>"
      ]
     },
     "metadata": {},
     "output_type": "display_data"
    }
   ],
   "source": [
    "df.plot.scatter(x=\"Age\", y=\"Height\")"
   ]
  },
  {
   "cell_type": "code",
   "execution_count": 268,
   "id": "28aa0146-1363-4152-9a13-adcf56c90d5c",
   "metadata": {
    "tags": []
   },
   "outputs": [
    {
     "data": {
      "image/png": "[encoded data removed]",
      "text/plain": [
       "<Figure size 1200x400 with 1 Axes>"
      ]
     },
     "metadata": {},
     "output_type": "display_data"
    }
   ],
   "source": [
    "import matplotlib.pyplot as plt\n",
    "# do the same thing, but use matplotlib to customise the plot\n",
    "# make a larger figure\n",
    "fig, axs = plt.subplots(figsize=(12, 4))\n",
    "# pass our axis to pandas plot\n",
    "df.plot.scatter(x=\"Age\", y=\"Height\", ax=axs)\n",
    "# set a title\n",
    "plt.title(\"Height vs Age\")\n",
    "# display the plot\n",
    "plt.show()"
   ]
  },
  {
   "cell_type": "code",
   "execution_count": 269,
   "id": "60ac801d-04cb-412e-a8f6-993023b0e3f0",
   "metadata": {
    "tags": []
   },
   "outputs": [
    {
     "data": {
      "image/png": "[encoded data removed]",
      "text/plain": [
       "<Figure size 1200x400 with 1 Axes>"
      ]
     },
     "metadata": {},
     "output_type": "display_data"
    }
   ],
   "source": [
    "# filter the data before plotting, and plot multiple labelled datapoints\n",
    "fig, axs = plt.subplots(figsize=(12, 4))\n",
    "df.loc[df[\"Sex\"] == \"Male\"].plot.scatter(\n",
    "    x=\"Age\", y=\"Height\", ax=axs, label=\"Male\", marker=\"x\", color=\"green\"\n",
    ")\n",
    "df.loc[df[\"Sex\"] == \"Female\"].plot.scatter(\n",
    "    x=\"Age\", y=\"Height\", ax=axs, label=\"Female\", marker=\"o\", color=\"blue\"\n",
    ")\n",
    "plt.legend()\n",
    "plt.title(\"Height vs Age\")\n",
    "plt.show()"
   ]
  },
  {
   "cell_type": "code",
   "execution_count": 270,
   "id": "14945787-5123-472f-b20e-455d00488b00",
   "metadata": {
    "tags": []
   },
   "outputs": [
    {
     "data": {
      "text/plain": [
       "[]"
      ]
     },
     "execution_count": 270,
     "metadata": {},
     "output_type": "execute_result"
    },
    {
     "data": {
      "image/png": "[encoded data removed]",
      "text/plain": [
       "<Figure size 1600x600 with 3 Axes>"
      ]
     },
     "metadata": {},
     "output_type": "display_data"
    }
   ],
   "source": [
    "fig, axs = plt.subplots(nrows=1, ncols=3, figsize=(16, 6))\n",
    "df[\"Sex\"].value_counts().plot.pie(ax=axs[0])\n",
    "df[\"Wears glasses\"].value_counts().plot.pie(ax=axs[1])\n",
    "df[\"Eye colour\"].value_counts().plot.pie(ax=axs[2])\n",
    "plt.plot()"
   ]
  },
  {
   "cell_type": "code",
   "execution_count": 271,
   "id": "d9d1207f-49cf-4e29-8cea-9c257821e6e8",
   "metadata": {
    "tags": []
   },
   "outputs": [
    {
     "data": {
      "text/plain": [
       "[]"
      ]
     },
     "execution_count": 271,
     "metadata": {},
     "output_type": "execute_result"
    },
    {
     "data": {
      "image/png": "[encoded data removed]",
      "text/plain": [
       "<Figure size 1600x600 with 3 Axes>"
      ]
     },
     "metadata": {},
     "output_type": "display_data"
    }
   ],
   "source": [
    "fig, axs = plt.subplots(nrows=1, ncols=3, figsize=(16, 6))\n",
    "for ax, column in zip(axs, [\"Sex\", \"Wears glasses\", \"Eye colour\"]):\n",
    "    df[column].value_counts().plot.pie(ax=ax)\n",
    "plt.plot()"
   ]
  },
  {
   "cell_type": "code",
   "execution_count": null,
   "id": "a8ad949c-80f5-47fc-8d46-f021da1b52df",
   "metadata": {},
   "outputs": [],
   "source": []
  },
  {
   "cell_type": "markdown",
   "id": "23ea2940-6f7c-4df1-84fd-9b7e728fa87d",
   "metadata": {
    "tags": []
   },
   "source": [
    "### Grouping"
   ]
  },
  {
   "cell_type": "code",
   "execution_count": 272,
   "id": "ffec00a2-beeb-4cf8-b6d2-7a74e868ef5c",
   "metadata": {
    "tags": []
   },
   "outputs": [
    {
     "data": {
      "text/plain": [
       "{'Female': [2, 4, 7, 9, 10, 12, 14, 17], 'Male': [0, 1, 3, 5, 6, 8, 11, 13, 15, 16, 18, 19]}"
      ]
     },
     "execution_count": 272,
     "metadata": {},
     "output_type": "execute_result"
    }
   ],
   "source": [
    "df.groupby([\"Sex\"]).groups"
   ]
  },
  {
   "cell_type": "code",
   "execution_count": 273,
   "id": "e361f484-ad05-4df7-83e2-86f3fecebe0a",
   "metadata": {
    "tags": []
   },
   "outputs": [
    {
     "name": "stdout",
     "output_type": "stream",
     "text": [
      "('Female',)\n",
      "      Name  Age     Sex  Height Eye colour  Wears glasses\n",
      "2    Clare   15  Female   142.5      green          False\n",
      "4   Hannah    9  Female   111.0       blue           True\n",
      "7     Suzy   14  Female   137.0       grey           True\n",
      "9    Josie    8  Female   107.0      brown          False\n",
      "10  Claire   16  Female   158.0       blue          False\n",
      "('Male',)\n",
      "    Name  Age   Sex  Height Eye colour  Wears glasses\n",
      "0    Bob   12  Male   130.0       blue           True\n",
      "1  Simon   13  Male   120.0       blue          False\n",
      "3   Jose   11  Male   117.0      brown          False\n",
      "5   Ryan   11  Male   124.0      brown          False\n",
      "6  Craig   12  Male   124.0      brown          False\n"
     ]
    }
   ],
   "source": [
    "for group, data in df.groupby([\"Sex\"]):\n",
    "    print(group)\n",
    "    print(data.head())"
   ]
  },
  {
   "cell_type": "code",
   "execution_count": 274,
   "id": "3920f252-e883-48b9-a25b-224665b44554",
   "metadata": {
    "tags": []
   },
   "outputs": [
    {
     "data": {
      "text/plain": [
       "Sex\n",
       "Female     8\n",
       "Male      12\n",
       "Name: Name, dtype: int64"
      ]
     },
     "execution_count": 274,
     "metadata": {},
     "output_type": "execute_result"
    }
   ],
   "source": [
    "df.groupby([\"Sex\"])[\"Name\"].count()"
   ]
  },
  {
   "cell_type": "code",
   "execution_count": 275,
   "id": "aa5c8475-b219-470a-a6b0-fcdebef15fef",
   "metadata": {
    "tags": []
   },
   "outputs": [
    {
     "data": {
      "text/plain": [
       "<Axes: ylabel='Name'>"
      ]
     },
     "execution_count": 275,
     "metadata": {},
     "output_type": "execute_result"
    },
    {
     "data": {
      "image/png": "[encoded data removed]",
      "text/plain": [
       "<Figure size 640x480 with 1 Axes>"
      ]
     },
     "metadata": {},
     "output_type": "display_data"
    }
   ],
   "source": [
    "df.groupby([\"Sex\"])[\"Name\"].count().plot.pie()"
   ]
  },
  {
   "cell_type": "code",
   "execution_count": 276,
   "id": "1a51aad2-363d-4b8e-9ada-c3ac783c8399",
   "metadata": {
    "tags": []
   },
   "outputs": [
    {
     "data": {
      "text/plain": [
       "Eye colour  Sex   \n",
       "blue        Female    4\n",
       "            Male      4\n",
       "brown       Female    1\n",
       "            Male      7\n",
       "green       Female    1\n",
       "            Male      0\n",
       "grey        Female    2\n",
       "            Male      1\n",
       "Name: Name, dtype: int64"
      ]
     },
     "execution_count": 276,
     "metadata": {},
     "output_type": "execute_result"
    }
   ],
   "source": [
    "df.groupby([\"Eye colour\", \"Sex\"]).Name.count() # add .reset_index() to get back a DataFrame"
   ]
  },
  {
   "cell_type": "code",
   "execution_count": 277,
   "id": "43997889-425f-4972-b0a7-77d045b40315",
   "metadata": {
    "tags": []
   },
   "outputs": [
    {
     "data": {
      "text/html": [
       "<div>\n",
       "<style scoped>\n",
       "    .dataframe tbody tr th:only-of-type {\n",
       "        vertical-align: middle;\n",
       "    }\n",
       "\n",
       "    .dataframe tbody tr th {\n",
       "        vertical-align: top;\n",
       "    }\n",
       "\n",
       "    .dataframe thead th {\n",
       "        text-align: right;\n",
       "    }\n",
       "</style>\n",
       "<table border=\"1\" class=\"dataframe\">\n",
       "  <thead>\n",
       "    <tr style=\"text-align: right;\">\n",
       "      <th>Sex</th>\n",
       "      <th>Female</th>\n",
       "      <th>Male</th>\n",
       "    </tr>\n",
       "    <tr>\n",
       "      <th>Eye colour</th>\n",
       "      <th></th>\n",
       "      <th></th>\n",
       "    </tr>\n",
       "  </thead>\n",
       "  <tbody>\n",
       "    <tr>\n",
       "      <th>blue</th>\n",
       "      <td>4</td>\n",
       "      <td>4</td>\n",
       "    </tr>\n",
       "    <tr>\n",
       "      <th>brown</th>\n",
       "      <td>1</td>\n",
       "      <td>7</td>\n",
       "    </tr>\n",
       "    <tr>\n",
       "      <th>green</th>\n",
       "      <td>1</td>\n",
       "      <td>0</td>\n",
       "    </tr>\n",
       "    <tr>\n",
       "      <th>grey</th>\n",
       "      <td>2</td>\n",
       "      <td>1</td>\n",
       "    </tr>\n",
       "  </tbody>\n",
       "</table>\n",
       "</div>"
      ],
      "text/plain": [
       "Sex         Female  Male\n",
       "Eye colour              \n",
       "blue             4     4\n",
       "brown            1     7\n",
       "green            1     0\n",
       "grey             2     1"
      ]
     },
     "execution_count": 277,
     "metadata": {},
     "output_type": "execute_result"
    }
   ],
   "source": [
    "df.groupby([\"Eye colour\", \"Sex\"]).Name.count().unstack()"
   ]
  },
  {
   "cell_type": "code",
   "execution_count": 278,
   "id": "a389db3a-5918-46d2-89e9-64c20e5df76a",
   "metadata": {
    "tags": []
   },
   "outputs": [
    {
     "data": {
      "text/plain": [
       "array([<Axes: ylabel='Female'>, <Axes: ylabel='Male'>], dtype=object)"
      ]
     },
     "execution_count": 278,
     "metadata": {},
     "output_type": "execute_result"
    },
    {
     "data": {
      "image/png": "[encoded data removed]",
      "text/plain": [
       "<Figure size 1800x800 with 2 Axes>"
      ]
     },
     "metadata": {},
     "output_type": "display_data"
    }
   ],
   "source": [
    "df.groupby([\"Eye colour\", \"Sex\"]).Name.count().unstack().plot.pie(subplots=True, figsize=(18, 8))"
   ]
  },
  {
   "cell_type": "code",
   "execution_count": null,
   "id": "5de2b3a2-71d6-4cea-b2dc-e94cd45bc005",
   "metadata": {},
   "outputs": [],
   "source": []
  },
  {
   "cell_type": "code",
   "execution_count": null,
   "id": "3a680f3a-8405-44e4-9df8-aedc70b9102a",
   "metadata": {},
   "outputs": [],
   "source": []
  },
  {
   "cell_type": "code",
   "execution_count": null,
   "id": "0b3e3874-38f9-4feb-8cd4-7cb3e4c350fd",
   "metadata": {},
   "outputs": [],
   "source": []
  },
  {
   "cell_type": "code",
   "execution_count": null,
   "id": "1ed3feae-e67b-4c62-a19f-6523b36423dc",
   "metadata": {},
   "outputs": [],
   "source": []
  },
  {
   "cell_type": "code",
   "execution_count": null,
   "id": "65ae37cf-2056-4d2c-856f-c6eaf059eeee",
   "metadata": {},
   "outputs": [],
   "source": []
  },
  {
   "cell_type": "code",
   "execution_count": null,
   "id": "e62f8008-95b3-4f64-9410-513720e345e0",
   "metadata": {},
   "outputs": [],
   "source": []
  },
  {
   "cell_type": "code",
   "execution_count": null,
   "id": "a9f4ac44-3be0-4678-9b97-80718894be39",
   "metadata": {},
   "outputs": [],
   "source": []
  }
 ],
 "metadata": {
  "kernelspec": {
   "display_name": "Python 3 (ipykernel)",
   "language": "python",
   "name": "python3"
  },
  "language_info": {
   "codemirror_mode": {
    "name": "ipython",
    "version": 3
   },
   "file_extension": ".py",
   "mimetype": "text/x-python",
   "name": "python",
   "nbconvert_exporter": "python",
   "pygments_lexer": "ipython3",
   "version": "3.10.10"
  }
 },
 "nbformat": 4,
 "nbformat_minor": 5
}
