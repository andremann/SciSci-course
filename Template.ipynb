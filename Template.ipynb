{
 "cells": [
  {
   "cell_type": "markdown",
   "id": "462506b3-9b7b-44ce-98d9-ffeb877031b3",
   "metadata": {},
   "source": [
    "# Day X - "
   ]
  },
  {
   "cell_type": "markdown",
   "id": "a126f8b2-8ef3-4a2b-b37c-fa6f1d0125f9",
   "metadata": {},
   "source": [
    "## Download the datasets"
   ]
  },
  {
   "cell_type": "code",
   "execution_count": null,
   "id": "33b67e6a-93ec-47e1-8651-1ac01533af1b",
   "metadata": {},
   "outputs": [],
   "source": []
  },
  {
   "cell_type": "markdown",
   "id": "487c4469-9c3f-432d-be0e-227596770495",
   "metadata": {},
   "source": [
    "## Import libraries"
   ]
  },
  {
   "cell_type": "code",
   "execution_count": null,
   "id": "4d28c290-eec8-430e-93b8-9a5c3b07ea7a",
   "metadata": {},
   "outputs": [],
   "source": []
  },
  {
   "cell_type": "markdown",
   "id": "b0d14705-9def-48c1-9a03-4869c324d321",
   "metadata": {
    "tags": []
   },
   "source": [
    "## Load datasets"
   ]
  },
  {
   "cell_type": "code",
   "execution_count": null,
   "id": "702a387c-e5aa-4838-a41d-1d7eb9199781",
   "metadata": {},
   "outputs": [],
   "source": []
  }
 ],
 "metadata": {
  "kernelspec": {
   "display_name": "Python 3 (ipykernel)",
   "language": "python",
   "name": "python3"
  },
  "language_info": {
   "codemirror_mode": {
    "name": "ipython",
    "version": 3
   },
   "file_extension": ".py",
   "mimetype": "text/x-python",
   "name": "python",
   "nbconvert_exporter": "python",
   "pygments_lexer": "ipython3",
   "version": "3.10.10"
  }
 },
 "nbformat": 4,
 "nbformat_minor": 5
}
