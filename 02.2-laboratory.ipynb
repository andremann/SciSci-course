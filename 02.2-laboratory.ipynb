{
 "cells": [
  {
   "cell_type": "markdown",
   "id": "ed3fec33-c995-43ec-bd6c-855615b88d47",
   "metadata": {},
   "source": [
    "# Day 2 - Familiarise with scholarly data"
   ]
  },
  {
   "cell_type": "markdown",
   "id": "9353fcb0-1155-41f7-8025-bef59a17e72b",
   "metadata": {},
   "source": [
    "## Download the datasets"
   ]
  },
  {
   "cell_type": "code",
   "execution_count": null,
   "id": "c12d9fdb-dc5b-48e8-ac9d-0d92a54b3677",
   "metadata": {},
   "outputs": [],
   "source": [
    "!wget -N -P data/ https://github.com/andremann/SAVE-SD-2018ext/raw/master/data/raw_data.tar.gz"
   ]
  },
  {
   "cell_type": "code",
   "execution_count": null,
   "id": "8f830548-5f40-44ba-90a2-f7e52531a380",
   "metadata": {},
   "outputs": [],
   "source": [
    "!tar -xf data/raw_data.tar.gz -C data/"
   ]
  },
  {
   "cell_type": "code",
   "execution_count": null,
   "id": "3d3ad4c1-c0b0-4628-8cd4-9f91d2102443",
   "metadata": {},
   "outputs": [],
   "source": [
    "!rm data/raw_data.tar.gz"
   ]
  },
  {
   "cell_type": "code",
   "execution_count": null,
   "id": "390f308b-5bd3-48c2-b579-52f96e1e0cd1",
   "metadata": {},
   "outputs": [],
   "source": [
    "!ls -lh data"
   ]
  },
  {
   "cell_type": "code",
   "execution_count": null,
   "id": "ce121988-d986-4cb1-a7b7-1cb32b528735",
   "metadata": {},
   "outputs": [],
   "source": []
  }
 ],
 "metadata": {
  "kernelspec": {
   "display_name": "Python 3 (ipykernel)",
   "language": "python",
   "name": "python3"
  },
  "language_info": {
   "codemirror_mode": {
    "name": "ipython",
    "version": 3
   },
   "file_extension": ".py",
   "mimetype": "text/x-python",
   "name": "python",
   "nbconvert_exporter": "python",
   "pygments_lexer": "ipython3",
   "version": "3.10.10"
  }
 },
 "nbformat": 4,
 "nbformat_minor": 5
}
